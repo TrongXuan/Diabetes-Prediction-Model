{
  "nbformat": 4,
  "nbformat_minor": 0,
  "metadata": {
    "colab": {
      "provenance": []
    },
    "kernelspec": {
      "name": "python3",
      "display_name": "Python 3"
    },
    "language_info": {
      "name": "python"
    }
  },
  "cells": [
    {
      "cell_type": "markdown",
      "source": [
        "Mô hình dự đoán về tình trạng tiểu đường\n"
      ],
      "metadata": {
        "id": "_F0X6TbfY_QB"
      }
    },
    {
      "cell_type": "code",
      "execution_count": null,
      "metadata": {
        "id": "jxxEJvc2Y356"
      },
      "outputs": [],
      "source": [
        "import pandas as pd\n",
        "import numpy as np\n",
        "import matplotlib.pyplot as plt\n",
        "import seaborn as sns\n",
        "%matplotlib inline"
      ]
    },
    {
      "cell_type": "code",
      "source": [
        "# import data handling libs\n",
        "\n",
        "import pandas as pd\n",
        "import numpy as np\n",
        "import matplotlib.pyplot as plt\n",
        "import seaborn as sns\n",
        "\n",
        "# import models\n",
        "\n",
        "from sklearn.linear_model import LinearRegression, LogisticRegression\n",
        "from sklearn.svm  import SVC\n",
        "from sklearn.neighbors import KNeighborsClassifier\n",
        "from sklearn.metrics import confusion_matrix, classification_report, accuracy_score\n",
        "from sklearn.model_selection import train_test_split\n",
        "from sklearn.tree import DecisionTreeClassifier\n",
        "from sklearn.ensemble import RandomForestClassifier\n",
        "\n",
        "import warnings\n",
        "warnings.filterwarnings('ignore')"
      ],
      "metadata": {
        "id": "hIAyQEigZE9X"
      },
      "execution_count": null,
      "outputs": []
    },
    {
      "cell_type": "code",
      "source": [
        "from google.colab import files\n",
        "upload = files.upload()"
      ],
      "metadata": {
        "colab": {
          "base_uri": "https://localhost:8080/",
          "height": 71
        },
        "id": "bVFl6cLRZMMQ",
        "outputId": "dffa8e23-d5d8-4f7b-a0c0-2578f9a695d7"
      },
      "execution_count": null,
      "outputs": [
        {
          "output_type": "display_data",
          "data": {
            "text/plain": [
              "<IPython.core.display.HTML object>"
            ],
            "text/html": [
              "\n",
              "     <input type=\"file\" id=\"files-5e0a0214-9420-4970-905d-d7f65ee79285\" name=\"files[]\" multiple disabled\n",
              "        style=\"border:none\" />\n",
              "     <output id=\"result-5e0a0214-9420-4970-905d-d7f65ee79285\">\n",
              "      Upload widget is only available when the cell has been executed in the\n",
              "      current browser session. Please rerun this cell to enable.\n",
              "      </output>\n",
              "      <script>// Copyright 2017 Google LLC\n",
              "//\n",
              "// Licensed under the Apache License, Version 2.0 (the \"License\");\n",
              "// you may not use this file except in compliance with the License.\n",
              "// You may obtain a copy of the License at\n",
              "//\n",
              "//      http://www.apache.org/licenses/LICENSE-2.0\n",
              "//\n",
              "// Unless required by applicable law or agreed to in writing, software\n",
              "// distributed under the License is distributed on an \"AS IS\" BASIS,\n",
              "// WITHOUT WARRANTIES OR CONDITIONS OF ANY KIND, either express or implied.\n",
              "// See the License for the specific language governing permissions and\n",
              "// limitations under the License.\n",
              "\n",
              "/**\n",
              " * @fileoverview Helpers for google.colab Python module.\n",
              " */\n",
              "(function(scope) {\n",
              "function span(text, styleAttributes = {}) {\n",
              "  const element = document.createElement('span');\n",
              "  element.textContent = text;\n",
              "  for (const key of Object.keys(styleAttributes)) {\n",
              "    element.style[key] = styleAttributes[key];\n",
              "  }\n",
              "  return element;\n",
              "}\n",
              "\n",
              "// Max number of bytes which will be uploaded at a time.\n",
              "const MAX_PAYLOAD_SIZE = 100 * 1024;\n",
              "\n",
              "function _uploadFiles(inputId, outputId) {\n",
              "  const steps = uploadFilesStep(inputId, outputId);\n",
              "  const outputElement = document.getElementById(outputId);\n",
              "  // Cache steps on the outputElement to make it available for the next call\n",
              "  // to uploadFilesContinue from Python.\n",
              "  outputElement.steps = steps;\n",
              "\n",
              "  return _uploadFilesContinue(outputId);\n",
              "}\n",
              "\n",
              "// This is roughly an async generator (not supported in the browser yet),\n",
              "// where there are multiple asynchronous steps and the Python side is going\n",
              "// to poll for completion of each step.\n",
              "// This uses a Promise to block the python side on completion of each step,\n",
              "// then passes the result of the previous step as the input to the next step.\n",
              "function _uploadFilesContinue(outputId) {\n",
              "  const outputElement = document.getElementById(outputId);\n",
              "  const steps = outputElement.steps;\n",
              "\n",
              "  const next = steps.next(outputElement.lastPromiseValue);\n",
              "  return Promise.resolve(next.value.promise).then((value) => {\n",
              "    // Cache the last promise value to make it available to the next\n",
              "    // step of the generator.\n",
              "    outputElement.lastPromiseValue = value;\n",
              "    return next.value.response;\n",
              "  });\n",
              "}\n",
              "\n",
              "/**\n",
              " * Generator function which is called between each async step of the upload\n",
              " * process.\n",
              " * @param {string} inputId Element ID of the input file picker element.\n",
              " * @param {string} outputId Element ID of the output display.\n",
              " * @return {!Iterable<!Object>} Iterable of next steps.\n",
              " */\n",
              "function* uploadFilesStep(inputId, outputId) {\n",
              "  const inputElement = document.getElementById(inputId);\n",
              "  inputElement.disabled = false;\n",
              "\n",
              "  const outputElement = document.getElementById(outputId);\n",
              "  outputElement.innerHTML = '';\n",
              "\n",
              "  const pickedPromise = new Promise((resolve) => {\n",
              "    inputElement.addEventListener('change', (e) => {\n",
              "      resolve(e.target.files);\n",
              "    });\n",
              "  });\n",
              "\n",
              "  const cancel = document.createElement('button');\n",
              "  inputElement.parentElement.appendChild(cancel);\n",
              "  cancel.textContent = 'Cancel upload';\n",
              "  const cancelPromise = new Promise((resolve) => {\n",
              "    cancel.onclick = () => {\n",
              "      resolve(null);\n",
              "    };\n",
              "  });\n",
              "\n",
              "  // Wait for the user to pick the files.\n",
              "  const files = yield {\n",
              "    promise: Promise.race([pickedPromise, cancelPromise]),\n",
              "    response: {\n",
              "      action: 'starting',\n",
              "    }\n",
              "  };\n",
              "\n",
              "  cancel.remove();\n",
              "\n",
              "  // Disable the input element since further picks are not allowed.\n",
              "  inputElement.disabled = true;\n",
              "\n",
              "  if (!files) {\n",
              "    return {\n",
              "      response: {\n",
              "        action: 'complete',\n",
              "      }\n",
              "    };\n",
              "  }\n",
              "\n",
              "  for (const file of files) {\n",
              "    const li = document.createElement('li');\n",
              "    li.append(span(file.name, {fontWeight: 'bold'}));\n",
              "    li.append(span(\n",
              "        `(${file.type || 'n/a'}) - ${file.size} bytes, ` +\n",
              "        `last modified: ${\n",
              "            file.lastModifiedDate ? file.lastModifiedDate.toLocaleDateString() :\n",
              "                                    'n/a'} - `));\n",
              "    const percent = span('0% done');\n",
              "    li.appendChild(percent);\n",
              "\n",
              "    outputElement.appendChild(li);\n",
              "\n",
              "    const fileDataPromise = new Promise((resolve) => {\n",
              "      const reader = new FileReader();\n",
              "      reader.onload = (e) => {\n",
              "        resolve(e.target.result);\n",
              "      };\n",
              "      reader.readAsArrayBuffer(file);\n",
              "    });\n",
              "    // Wait for the data to be ready.\n",
              "    let fileData = yield {\n",
              "      promise: fileDataPromise,\n",
              "      response: {\n",
              "        action: 'continue',\n",
              "      }\n",
              "    };\n",
              "\n",
              "    // Use a chunked sending to avoid message size limits. See b/62115660.\n",
              "    let position = 0;\n",
              "    do {\n",
              "      const length = Math.min(fileData.byteLength - position, MAX_PAYLOAD_SIZE);\n",
              "      const chunk = new Uint8Array(fileData, position, length);\n",
              "      position += length;\n",
              "\n",
              "      const base64 = btoa(String.fromCharCode.apply(null, chunk));\n",
              "      yield {\n",
              "        response: {\n",
              "          action: 'append',\n",
              "          file: file.name,\n",
              "          data: base64,\n",
              "        },\n",
              "      };\n",
              "\n",
              "      let percentDone = fileData.byteLength === 0 ?\n",
              "          100 :\n",
              "          Math.round((position / fileData.byteLength) * 100);\n",
              "      percent.textContent = `${percentDone}% done`;\n",
              "\n",
              "    } while (position < fileData.byteLength);\n",
              "  }\n",
              "\n",
              "  // All done.\n",
              "  yield {\n",
              "    response: {\n",
              "      action: 'complete',\n",
              "    }\n",
              "  };\n",
              "}\n",
              "\n",
              "scope.google = scope.google || {};\n",
              "scope.google.colab = scope.google.colab || {};\n",
              "scope.google.colab._files = {\n",
              "  _uploadFiles,\n",
              "  _uploadFilesContinue,\n",
              "};\n",
              "})(self);\n",
              "</script> "
            ]
          },
          "metadata": {}
        },
        {
          "output_type": "stream",
          "name": "stdout",
          "text": [
            "Saving Diabetes_data.csv to Diabetes_data.csv\n"
          ]
        }
      ]
    },
    {
      "cell_type": "code",
      "source": [
        "df = pd.read_csv('Diabetes_data.csv', sep=';')\n",
        "df"
      ],
      "metadata": {
        "colab": {
          "base_uri": "https://localhost:8080/",
          "height": 424
        },
        "id": "ESDQMh4EZVkm",
        "outputId": "195f370e-431d-4e03-ee39-b1026e391aeb"
      },
      "execution_count": null,
      "outputs": [
        {
          "output_type": "execute_result",
          "data": {
            "text/plain": [
              "     Pregnancies  Glucose  BloodPressure  SkinThickness  Insulin   BMI  \\\n",
              "0              6      147             72             36        0  33.0   \n",
              "1              0       84             66             29        1  24.9   \n",
              "2             10      182             64              0        0  23.6   \n",
              "3              2       89             64             22       95  26.4   \n",
              "4              0      137             39             35      168  45.6   \n",
              "..           ...      ...            ...            ...      ...   ...   \n",
              "763            9      102             77             51      181  33.2   \n",
              "764            1      121             69             25        0  37.8   \n",
              "765            5      121             72             23      113  26.3   \n",
              "766            0      126             60              0        2  31.2   \n",
              "767            1       93             70             32        0  30.8   \n",
              "\n",
              "     DiabetesPedigreeFunction  Age  Outcome  \n",
              "0                        1.11   52        1  \n",
              "1                        1.49   32        0  \n",
              "2                        0.41   31        1  \n",
              "3                       -0.19   21        0  \n",
              "4                        2.49   30        1  \n",
              "..                        ...  ...      ...  \n",
              "763                      1.11   60        0  \n",
              "764                      0.53   25        0  \n",
              "765                     -0.14   30        0  \n",
              "766                     -0.22   47        1  \n",
              "767                      1.80   24        0  \n",
              "\n",
              "[768 rows x 9 columns]"
            ],
            "text/html": [
              "\n",
              "  <div id=\"df-706664ca-cd98-4f14-87f5-5fcfa1b06b82\" class=\"colab-df-container\">\n",
              "    <div>\n",
              "<style scoped>\n",
              "    .dataframe tbody tr th:only-of-type {\n",
              "        vertical-align: middle;\n",
              "    }\n",
              "\n",
              "    .dataframe tbody tr th {\n",
              "        vertical-align: top;\n",
              "    }\n",
              "\n",
              "    .dataframe thead th {\n",
              "        text-align: right;\n",
              "    }\n",
              "</style>\n",
              "<table border=\"1\" class=\"dataframe\">\n",
              "  <thead>\n",
              "    <tr style=\"text-align: right;\">\n",
              "      <th></th>\n",
              "      <th>Pregnancies</th>\n",
              "      <th>Glucose</th>\n",
              "      <th>BloodPressure</th>\n",
              "      <th>SkinThickness</th>\n",
              "      <th>Insulin</th>\n",
              "      <th>BMI</th>\n",
              "      <th>DiabetesPedigreeFunction</th>\n",
              "      <th>Age</th>\n",
              "      <th>Outcome</th>\n",
              "    </tr>\n",
              "  </thead>\n",
              "  <tbody>\n",
              "    <tr>\n",
              "      <th>0</th>\n",
              "      <td>6</td>\n",
              "      <td>147</td>\n",
              "      <td>72</td>\n",
              "      <td>36</td>\n",
              "      <td>0</td>\n",
              "      <td>33.0</td>\n",
              "      <td>1.11</td>\n",
              "      <td>52</td>\n",
              "      <td>1</td>\n",
              "    </tr>\n",
              "    <tr>\n",
              "      <th>1</th>\n",
              "      <td>0</td>\n",
              "      <td>84</td>\n",
              "      <td>66</td>\n",
              "      <td>29</td>\n",
              "      <td>1</td>\n",
              "      <td>24.9</td>\n",
              "      <td>1.49</td>\n",
              "      <td>32</td>\n",
              "      <td>0</td>\n",
              "    </tr>\n",
              "    <tr>\n",
              "      <th>2</th>\n",
              "      <td>10</td>\n",
              "      <td>182</td>\n",
              "      <td>64</td>\n",
              "      <td>0</td>\n",
              "      <td>0</td>\n",
              "      <td>23.6</td>\n",
              "      <td>0.41</td>\n",
              "      <td>31</td>\n",
              "      <td>1</td>\n",
              "    </tr>\n",
              "    <tr>\n",
              "      <th>3</th>\n",
              "      <td>2</td>\n",
              "      <td>89</td>\n",
              "      <td>64</td>\n",
              "      <td>22</td>\n",
              "      <td>95</td>\n",
              "      <td>26.4</td>\n",
              "      <td>-0.19</td>\n",
              "      <td>21</td>\n",
              "      <td>0</td>\n",
              "    </tr>\n",
              "    <tr>\n",
              "      <th>4</th>\n",
              "      <td>0</td>\n",
              "      <td>137</td>\n",
              "      <td>39</td>\n",
              "      <td>35</td>\n",
              "      <td>168</td>\n",
              "      <td>45.6</td>\n",
              "      <td>2.49</td>\n",
              "      <td>30</td>\n",
              "      <td>1</td>\n",
              "    </tr>\n",
              "    <tr>\n",
              "      <th>...</th>\n",
              "      <td>...</td>\n",
              "      <td>...</td>\n",
              "      <td>...</td>\n",
              "      <td>...</td>\n",
              "      <td>...</td>\n",
              "      <td>...</td>\n",
              "      <td>...</td>\n",
              "      <td>...</td>\n",
              "      <td>...</td>\n",
              "    </tr>\n",
              "    <tr>\n",
              "      <th>763</th>\n",
              "      <td>9</td>\n",
              "      <td>102</td>\n",
              "      <td>77</td>\n",
              "      <td>51</td>\n",
              "      <td>181</td>\n",
              "      <td>33.2</td>\n",
              "      <td>1.11</td>\n",
              "      <td>60</td>\n",
              "      <td>0</td>\n",
              "    </tr>\n",
              "    <tr>\n",
              "      <th>764</th>\n",
              "      <td>1</td>\n",
              "      <td>121</td>\n",
              "      <td>69</td>\n",
              "      <td>25</td>\n",
              "      <td>0</td>\n",
              "      <td>37.8</td>\n",
              "      <td>0.53</td>\n",
              "      <td>25</td>\n",
              "      <td>0</td>\n",
              "    </tr>\n",
              "    <tr>\n",
              "      <th>765</th>\n",
              "      <td>5</td>\n",
              "      <td>121</td>\n",
              "      <td>72</td>\n",
              "      <td>23</td>\n",
              "      <td>113</td>\n",
              "      <td>26.3</td>\n",
              "      <td>-0.14</td>\n",
              "      <td>30</td>\n",
              "      <td>0</td>\n",
              "    </tr>\n",
              "    <tr>\n",
              "      <th>766</th>\n",
              "      <td>0</td>\n",
              "      <td>126</td>\n",
              "      <td>60</td>\n",
              "      <td>0</td>\n",
              "      <td>2</td>\n",
              "      <td>31.2</td>\n",
              "      <td>-0.22</td>\n",
              "      <td>47</td>\n",
              "      <td>1</td>\n",
              "    </tr>\n",
              "    <tr>\n",
              "      <th>767</th>\n",
              "      <td>1</td>\n",
              "      <td>93</td>\n",
              "      <td>70</td>\n",
              "      <td>32</td>\n",
              "      <td>0</td>\n",
              "      <td>30.8</td>\n",
              "      <td>1.80</td>\n",
              "      <td>24</td>\n",
              "      <td>0</td>\n",
              "    </tr>\n",
              "  </tbody>\n",
              "</table>\n",
              "<p>768 rows × 9 columns</p>\n",
              "</div>\n",
              "    <div class=\"colab-df-buttons\">\n",
              "\n",
              "  <div class=\"colab-df-container\">\n",
              "    <button class=\"colab-df-convert\" onclick=\"convertToInteractive('df-706664ca-cd98-4f14-87f5-5fcfa1b06b82')\"\n",
              "            title=\"Convert this dataframe to an interactive table.\"\n",
              "            style=\"display:none;\">\n",
              "\n",
              "  <svg xmlns=\"http://www.w3.org/2000/svg\" height=\"24px\" viewBox=\"0 -960 960 960\">\n",
              "    <path d=\"M120-120v-720h720v720H120Zm60-500h600v-160H180v160Zm220 220h160v-160H400v160Zm0 220h160v-160H400v160ZM180-400h160v-160H180v160Zm440 0h160v-160H620v160ZM180-180h160v-160H180v160Zm440 0h160v-160H620v160Z\"/>\n",
              "  </svg>\n",
              "    </button>\n",
              "\n",
              "  <style>\n",
              "    .colab-df-container {\n",
              "      display:flex;\n",
              "      gap: 12px;\n",
              "    }\n",
              "\n",
              "    .colab-df-convert {\n",
              "      background-color: #E8F0FE;\n",
              "      border: none;\n",
              "      border-radius: 50%;\n",
              "      cursor: pointer;\n",
              "      display: none;\n",
              "      fill: #1967D2;\n",
              "      height: 32px;\n",
              "      padding: 0 0 0 0;\n",
              "      width: 32px;\n",
              "    }\n",
              "\n",
              "    .colab-df-convert:hover {\n",
              "      background-color: #E2EBFA;\n",
              "      box-shadow: 0px 1px 2px rgba(60, 64, 67, 0.3), 0px 1px 3px 1px rgba(60, 64, 67, 0.15);\n",
              "      fill: #174EA6;\n",
              "    }\n",
              "\n",
              "    .colab-df-buttons div {\n",
              "      margin-bottom: 4px;\n",
              "    }\n",
              "\n",
              "    [theme=dark] .colab-df-convert {\n",
              "      background-color: #3B4455;\n",
              "      fill: #D2E3FC;\n",
              "    }\n",
              "\n",
              "    [theme=dark] .colab-df-convert:hover {\n",
              "      background-color: #434B5C;\n",
              "      box-shadow: 0px 1px 3px 1px rgba(0, 0, 0, 0.15);\n",
              "      filter: drop-shadow(0px 1px 2px rgba(0, 0, 0, 0.3));\n",
              "      fill: #FFFFFF;\n",
              "    }\n",
              "  </style>\n",
              "\n",
              "    <script>\n",
              "      const buttonEl =\n",
              "        document.querySelector('#df-706664ca-cd98-4f14-87f5-5fcfa1b06b82 button.colab-df-convert');\n",
              "      buttonEl.style.display =\n",
              "        google.colab.kernel.accessAllowed ? 'block' : 'none';\n",
              "\n",
              "      async function convertToInteractive(key) {\n",
              "        const element = document.querySelector('#df-706664ca-cd98-4f14-87f5-5fcfa1b06b82');\n",
              "        const dataTable =\n",
              "          await google.colab.kernel.invokeFunction('convertToInteractive',\n",
              "                                                    [key], {});\n",
              "        if (!dataTable) return;\n",
              "\n",
              "        const docLinkHtml = 'Like what you see? Visit the ' +\n",
              "          '<a target=\"_blank\" href=https://colab.research.google.com/notebooks/data_table.ipynb>data table notebook</a>'\n",
              "          + ' to learn more about interactive tables.';\n",
              "        element.innerHTML = '';\n",
              "        dataTable['output_type'] = 'display_data';\n",
              "        await google.colab.output.renderOutput(dataTable, element);\n",
              "        const docLink = document.createElement('div');\n",
              "        docLink.innerHTML = docLinkHtml;\n",
              "        element.appendChild(docLink);\n",
              "      }\n",
              "    </script>\n",
              "  </div>\n",
              "\n",
              "\n",
              "<div id=\"df-5c8fcffc-dca6-4938-9e24-e59c30dad947\">\n",
              "  <button class=\"colab-df-quickchart\" onclick=\"quickchart('df-5c8fcffc-dca6-4938-9e24-e59c30dad947')\"\n",
              "            title=\"Suggest charts\"\n",
              "            style=\"display:none;\">\n",
              "\n",
              "<svg xmlns=\"http://www.w3.org/2000/svg\" height=\"24px\"viewBox=\"0 0 24 24\"\n",
              "     width=\"24px\">\n",
              "    <g>\n",
              "        <path d=\"M19 3H5c-1.1 0-2 .9-2 2v14c0 1.1.9 2 2 2h14c1.1 0 2-.9 2-2V5c0-1.1-.9-2-2-2zM9 17H7v-7h2v7zm4 0h-2V7h2v10zm4 0h-2v-4h2v4z\"/>\n",
              "    </g>\n",
              "</svg>\n",
              "  </button>\n",
              "\n",
              "<style>\n",
              "  .colab-df-quickchart {\n",
              "      --bg-color: #E8F0FE;\n",
              "      --fill-color: #1967D2;\n",
              "      --hover-bg-color: #E2EBFA;\n",
              "      --hover-fill-color: #174EA6;\n",
              "      --disabled-fill-color: #AAA;\n",
              "      --disabled-bg-color: #DDD;\n",
              "  }\n",
              "\n",
              "  [theme=dark] .colab-df-quickchart {\n",
              "      --bg-color: #3B4455;\n",
              "      --fill-color: #D2E3FC;\n",
              "      --hover-bg-color: #434B5C;\n",
              "      --hover-fill-color: #FFFFFF;\n",
              "      --disabled-bg-color: #3B4455;\n",
              "      --disabled-fill-color: #666;\n",
              "  }\n",
              "\n",
              "  .colab-df-quickchart {\n",
              "    background-color: var(--bg-color);\n",
              "    border: none;\n",
              "    border-radius: 50%;\n",
              "    cursor: pointer;\n",
              "    display: none;\n",
              "    fill: var(--fill-color);\n",
              "    height: 32px;\n",
              "    padding: 0;\n",
              "    width: 32px;\n",
              "  }\n",
              "\n",
              "  .colab-df-quickchart:hover {\n",
              "    background-color: var(--hover-bg-color);\n",
              "    box-shadow: 0 1px 2px rgba(60, 64, 67, 0.3), 0 1px 3px 1px rgba(60, 64, 67, 0.15);\n",
              "    fill: var(--button-hover-fill-color);\n",
              "  }\n",
              "\n",
              "  .colab-df-quickchart-complete:disabled,\n",
              "  .colab-df-quickchart-complete:disabled:hover {\n",
              "    background-color: var(--disabled-bg-color);\n",
              "    fill: var(--disabled-fill-color);\n",
              "    box-shadow: none;\n",
              "  }\n",
              "\n",
              "  .colab-df-spinner {\n",
              "    border: 2px solid var(--fill-color);\n",
              "    border-color: transparent;\n",
              "    border-bottom-color: var(--fill-color);\n",
              "    animation:\n",
              "      spin 1s steps(1) infinite;\n",
              "  }\n",
              "\n",
              "  @keyframes spin {\n",
              "    0% {\n",
              "      border-color: transparent;\n",
              "      border-bottom-color: var(--fill-color);\n",
              "      border-left-color: var(--fill-color);\n",
              "    }\n",
              "    20% {\n",
              "      border-color: transparent;\n",
              "      border-left-color: var(--fill-color);\n",
              "      border-top-color: var(--fill-color);\n",
              "    }\n",
              "    30% {\n",
              "      border-color: transparent;\n",
              "      border-left-color: var(--fill-color);\n",
              "      border-top-color: var(--fill-color);\n",
              "      border-right-color: var(--fill-color);\n",
              "    }\n",
              "    40% {\n",
              "      border-color: transparent;\n",
              "      border-right-color: var(--fill-color);\n",
              "      border-top-color: var(--fill-color);\n",
              "    }\n",
              "    60% {\n",
              "      border-color: transparent;\n",
              "      border-right-color: var(--fill-color);\n",
              "    }\n",
              "    80% {\n",
              "      border-color: transparent;\n",
              "      border-right-color: var(--fill-color);\n",
              "      border-bottom-color: var(--fill-color);\n",
              "    }\n",
              "    90% {\n",
              "      border-color: transparent;\n",
              "      border-bottom-color: var(--fill-color);\n",
              "    }\n",
              "  }\n",
              "</style>\n",
              "\n",
              "  <script>\n",
              "    async function quickchart(key) {\n",
              "      const quickchartButtonEl =\n",
              "        document.querySelector('#' + key + ' button');\n",
              "      quickchartButtonEl.disabled = true;  // To prevent multiple clicks.\n",
              "      quickchartButtonEl.classList.add('colab-df-spinner');\n",
              "      try {\n",
              "        const charts = await google.colab.kernel.invokeFunction(\n",
              "            'suggestCharts', [key], {});\n",
              "      } catch (error) {\n",
              "        console.error('Error during call to suggestCharts:', error);\n",
              "      }\n",
              "      quickchartButtonEl.classList.remove('colab-df-spinner');\n",
              "      quickchartButtonEl.classList.add('colab-df-quickchart-complete');\n",
              "    }\n",
              "    (() => {\n",
              "      let quickchartButtonEl =\n",
              "        document.querySelector('#df-5c8fcffc-dca6-4938-9e24-e59c30dad947 button');\n",
              "      quickchartButtonEl.style.display =\n",
              "        google.colab.kernel.accessAllowed ? 'block' : 'none';\n",
              "    })();\n",
              "  </script>\n",
              "</div>\n",
              "\n",
              "  <div id=\"id_a042b475-ac36-4398-8366-5201a61a9d50\">\n",
              "    <style>\n",
              "      .colab-df-generate {\n",
              "        background-color: #E8F0FE;\n",
              "        border: none;\n",
              "        border-radius: 50%;\n",
              "        cursor: pointer;\n",
              "        display: none;\n",
              "        fill: #1967D2;\n",
              "        height: 32px;\n",
              "        padding: 0 0 0 0;\n",
              "        width: 32px;\n",
              "      }\n",
              "\n",
              "      .colab-df-generate:hover {\n",
              "        background-color: #E2EBFA;\n",
              "        box-shadow: 0px 1px 2px rgba(60, 64, 67, 0.3), 0px 1px 3px 1px rgba(60, 64, 67, 0.15);\n",
              "        fill: #174EA6;\n",
              "      }\n",
              "\n",
              "      [theme=dark] .colab-df-generate {\n",
              "        background-color: #3B4455;\n",
              "        fill: #D2E3FC;\n",
              "      }\n",
              "\n",
              "      [theme=dark] .colab-df-generate:hover {\n",
              "        background-color: #434B5C;\n",
              "        box-shadow: 0px 1px 3px 1px rgba(0, 0, 0, 0.15);\n",
              "        filter: drop-shadow(0px 1px 2px rgba(0, 0, 0, 0.3));\n",
              "        fill: #FFFFFF;\n",
              "      }\n",
              "    </style>\n",
              "    <button class=\"colab-df-generate\" onclick=\"generateWithVariable('df')\"\n",
              "            title=\"Generate code using this dataframe.\"\n",
              "            style=\"display:none;\">\n",
              "\n",
              "  <svg xmlns=\"http://www.w3.org/2000/svg\" height=\"24px\"viewBox=\"0 0 24 24\"\n",
              "       width=\"24px\">\n",
              "    <path d=\"M7,19H8.4L18.45,9,17,7.55,7,17.6ZM5,21V16.75L18.45,3.32a2,2,0,0,1,2.83,0l1.4,1.43a1.91,1.91,0,0,1,.58,1.4,1.91,1.91,0,0,1-.58,1.4L9.25,21ZM18.45,9,17,7.55Zm-12,3A5.31,5.31,0,0,0,4.9,8.1,5.31,5.31,0,0,0,1,6.5,5.31,5.31,0,0,0,4.9,4.9,5.31,5.31,0,0,0,6.5,1,5.31,5.31,0,0,0,8.1,4.9,5.31,5.31,0,0,0,12,6.5,5.46,5.46,0,0,0,6.5,12Z\"/>\n",
              "  </svg>\n",
              "    </button>\n",
              "    <script>\n",
              "      (() => {\n",
              "      const buttonEl =\n",
              "        document.querySelector('#id_a042b475-ac36-4398-8366-5201a61a9d50 button.colab-df-generate');\n",
              "      buttonEl.style.display =\n",
              "        google.colab.kernel.accessAllowed ? 'block' : 'none';\n",
              "\n",
              "      buttonEl.onclick = () => {\n",
              "        google.colab.notebook.generateWithVariable('df');\n",
              "      }\n",
              "      })();\n",
              "    </script>\n",
              "  </div>\n",
              "\n",
              "    </div>\n",
              "  </div>\n"
            ],
            "application/vnd.google.colaboratory.intrinsic+json": {
              "type": "dataframe",
              "variable_name": "df",
              "summary": "{\n  \"name\": \"df\",\n  \"rows\": 768,\n  \"fields\": [\n    {\n      \"column\": \"Pregnancies\",\n      \"properties\": {\n        \"dtype\": \"number\",\n        \"std\": 3,\n        \"min\": 0,\n        \"max\": 18,\n        \"num_unique_values\": 17,\n        \"samples\": [\n          6,\n          0,\n          9\n        ],\n        \"semantic_type\": \"\",\n        \"description\": \"\"\n      }\n    },\n    {\n      \"column\": \"Glucose\",\n      \"properties\": {\n        \"dtype\": \"number\",\n        \"std\": 32,\n        \"min\": 0,\n        \"max\": 199,\n        \"num_unique_values\": 138,\n        \"samples\": [\n          153,\n          177,\n          138\n        ],\n        \"semantic_type\": \"\",\n        \"description\": \"\"\n      }\n    },\n    {\n      \"column\": \"BloodPressure\",\n      \"properties\": {\n        \"dtype\": \"number\",\n        \"std\": 19,\n        \"min\": 0,\n        \"max\": 120,\n        \"num_unique_values\": 73,\n        \"samples\": [\n          74,\n          99,\n          90\n        ],\n        \"semantic_type\": \"\",\n        \"description\": \"\"\n      }\n    },\n    {\n      \"column\": \"SkinThickness\",\n      \"properties\": {\n        \"dtype\": \"number\",\n        \"std\": 15,\n        \"min\": 0,\n        \"max\": 99,\n        \"num_unique_values\": 55,\n        \"samples\": [\n          38,\n          33,\n          61\n        ],\n        \"semantic_type\": \"\",\n        \"description\": \"\"\n      }\n    },\n    {\n      \"column\": \"Insulin\",\n      \"properties\": {\n        \"dtype\": \"number\",\n        \"std\": 115,\n        \"min\": 0,\n        \"max\": 846,\n        \"num_unique_values\": 207,\n        \"samples\": [\n          327,\n          110,\n          156\n        ],\n        \"semantic_type\": \"\",\n        \"description\": \"\"\n      }\n    },\n    {\n      \"column\": \"BMI\",\n      \"properties\": {\n        \"dtype\": \"number\",\n        \"std\": 7.919497968700037,\n        \"min\": 0.0,\n        \"max\": 66.4,\n        \"num_unique_values\": 273,\n        \"samples\": [\n          36.5,\n          47.8,\n          19.7\n        ],\n        \"semantic_type\": \"\",\n        \"description\": \"\"\n      }\n    },\n    {\n      \"column\": \"DiabetesPedigreeFunction\",\n      \"properties\": {\n        \"dtype\": \"number\",\n        \"std\": 1.0453463217324543,\n        \"min\": -2.63,\n        \"max\": 3.68,\n        \"num_unique_values\": 352,\n        \"samples\": [\n          -1.24,\n          -0.86,\n          -0.78\n        ],\n        \"semantic_type\": \"\",\n        \"description\": \"\"\n      }\n    },\n    {\n      \"column\": \"Age\",\n      \"properties\": {\n        \"dtype\": \"number\",\n        \"std\": 11,\n        \"min\": 19,\n        \"max\": 81,\n        \"num_unique_values\": 54,\n        \"samples\": [\n          61,\n          62,\n          81\n        ],\n        \"semantic_type\": \"\",\n        \"description\": \"\"\n      }\n    },\n    {\n      \"column\": \"Outcome\",\n      \"properties\": {\n        \"dtype\": \"number\",\n        \"std\": 0,\n        \"min\": 0,\n        \"max\": 1,\n        \"num_unique_values\": 2,\n        \"samples\": [\n          0,\n          1\n        ],\n        \"semantic_type\": \"\",\n        \"description\": \"\"\n      }\n    }\n  ]\n}"
            }
          },
          "metadata": {},
          "execution_count": 4
        }
      ]
    },
    {
      "cell_type": "code",
      "source": [
        "# hiển thị số dòng và số cột của dữ liệu\n",
        "\n",
        "rows, columns = df.shape\n",
        "\n",
        "print(f\"Number Of Rows : {rows}\")\n",
        "print(f\"Number Of Columns : {columns}\")"
      ],
      "metadata": {
        "colab": {
          "base_uri": "https://localhost:8080/"
        },
        "id": "TtEDB-dBZ31b",
        "outputId": "bfbc995a-a2b1-4633-bd63-8323f1d43a66"
      },
      "execution_count": null,
      "outputs": [
        {
          "output_type": "stream",
          "name": "stdout",
          "text": [
            "Number Of Rows : 768\n",
            "Number Of Columns : 9\n"
          ]
        }
      ]
    },
    {
      "cell_type": "code",
      "source": [
        "# Hiển thị mẫu dữ liệu\n",
        "\n",
        "df.sample(1).iloc[0]"
      ],
      "metadata": {
        "colab": {
          "base_uri": "https://localhost:8080/",
          "height": 367
        },
        "id": "d3Ast6oqZ4mo",
        "outputId": "b83d02bb-6828-408f-e856-b67b08e52e25"
      },
      "execution_count": null,
      "outputs": [
        {
          "output_type": "execute_result",
          "data": {
            "text/plain": [
              "Pregnancies                   6.00\n",
              "Glucose                     136.00\n",
              "BloodPressure                61.00\n",
              "SkinThickness                 0.00\n",
              "Insulin                       0.00\n",
              "BMI                          22.10\n",
              "DiabetesPedigreeFunction     -0.23\n",
              "Age                          54.00\n",
              "Outcome                       0.00\n",
              "Name: 401, dtype: float64"
            ],
            "text/html": [
              "<div>\n",
              "<style scoped>\n",
              "    .dataframe tbody tr th:only-of-type {\n",
              "        vertical-align: middle;\n",
              "    }\n",
              "\n",
              "    .dataframe tbody tr th {\n",
              "        vertical-align: top;\n",
              "    }\n",
              "\n",
              "    .dataframe thead th {\n",
              "        text-align: right;\n",
              "    }\n",
              "</style>\n",
              "<table border=\"1\" class=\"dataframe\">\n",
              "  <thead>\n",
              "    <tr style=\"text-align: right;\">\n",
              "      <th></th>\n",
              "      <th>401</th>\n",
              "    </tr>\n",
              "  </thead>\n",
              "  <tbody>\n",
              "    <tr>\n",
              "      <th>Pregnancies</th>\n",
              "      <td>6.00</td>\n",
              "    </tr>\n",
              "    <tr>\n",
              "      <th>Glucose</th>\n",
              "      <td>136.00</td>\n",
              "    </tr>\n",
              "    <tr>\n",
              "      <th>BloodPressure</th>\n",
              "      <td>61.00</td>\n",
              "    </tr>\n",
              "    <tr>\n",
              "      <th>SkinThickness</th>\n",
              "      <td>0.00</td>\n",
              "    </tr>\n",
              "    <tr>\n",
              "      <th>Insulin</th>\n",
              "      <td>0.00</td>\n",
              "    </tr>\n",
              "    <tr>\n",
              "      <th>BMI</th>\n",
              "      <td>22.10</td>\n",
              "    </tr>\n",
              "    <tr>\n",
              "      <th>DiabetesPedigreeFunction</th>\n",
              "      <td>-0.23</td>\n",
              "    </tr>\n",
              "    <tr>\n",
              "      <th>Age</th>\n",
              "      <td>54.00</td>\n",
              "    </tr>\n",
              "    <tr>\n",
              "      <th>Outcome</th>\n",
              "      <td>0.00</td>\n",
              "    </tr>\n",
              "  </tbody>\n",
              "</table>\n",
              "</div><br><label><b>dtype:</b> float64</label>"
            ]
          },
          "metadata": {},
          "execution_count": 6
        }
      ]
    },
    {
      "cell_type": "code",
      "source": [
        "# Xuất ra dữ liệu\n",
        "df.info()"
      ],
      "metadata": {
        "colab": {
          "base_uri": "https://localhost:8080/"
        },
        "id": "n21xkNiBZ7lZ",
        "outputId": "b23adb8e-5147-44bd-84be-b7f289760e0e"
      },
      "execution_count": null,
      "outputs": [
        {
          "output_type": "stream",
          "name": "stdout",
          "text": [
            "<class 'pandas.core.frame.DataFrame'>\n",
            "RangeIndex: 768 entries, 0 to 767\n",
            "Data columns (total 9 columns):\n",
            " #   Column                    Non-Null Count  Dtype  \n",
            "---  ------                    --------------  -----  \n",
            " 0   Pregnancies               768 non-null    int64  \n",
            " 1   Glucose                   768 non-null    int64  \n",
            " 2   BloodPressure             768 non-null    int64  \n",
            " 3   SkinThickness             768 non-null    int64  \n",
            " 4   Insulin                   768 non-null    int64  \n",
            " 5   BMI                       768 non-null    float64\n",
            " 6   DiabetesPedigreeFunction  768 non-null    float64\n",
            " 7   Age                       768 non-null    int64  \n",
            " 8   Outcome                   768 non-null    int64  \n",
            "dtypes: float64(2), int64(7)\n",
            "memory usage: 54.1 KB\n"
          ]
        }
      ]
    },
    {
      "cell_type": "code",
      "source": [
        "# Xuất ra bản kê\n",
        "df.describe()"
      ],
      "metadata": {
        "colab": {
          "base_uri": "https://localhost:8080/",
          "height": 301
        },
        "id": "-mhW8MOEZ-o2",
        "outputId": "21771195-4382-49ca-ef92-2fd056d48803"
      },
      "execution_count": null,
      "outputs": [
        {
          "output_type": "execute_result",
          "data": {
            "text/plain": [
              "       Pregnancies     Glucose  BloodPressure  SkinThickness     Insulin  \\\n",
              "count   768.000000  768.000000     768.000000     768.000000  768.000000   \n",
              "mean      3.901042  120.955729      69.110677      20.683594   80.023438   \n",
              "std       3.387314   32.046464      19.355711      15.842038  115.074941   \n",
              "min       0.000000    0.000000       0.000000       0.000000    0.000000   \n",
              "25%       1.000000   99.000000      63.000000       1.000000    0.000000   \n",
              "50%       3.000000  117.000000      71.000000      23.000000   30.500000   \n",
              "75%       6.000000  140.250000      80.000000      33.000000  127.250000   \n",
              "max      18.000000  199.000000     120.000000      99.000000  846.000000   \n",
              "\n",
              "              BMI  DiabetesPedigreeFunction         Age     Outcome  \n",
              "count  768.000000                768.000000  768.000000  768.000000  \n",
              "mean    31.900651                  0.503034   33.257812    0.348958  \n",
              "std      7.919498                  1.045346   11.829347    0.476951  \n",
              "min      0.000000                 -2.630000   19.000000    0.000000  \n",
              "25%     26.975000                 -0.202500   24.000000    0.000000  \n",
              "50%     32.000000                  0.490000   29.000000    0.000000  \n",
              "75%     36.500000                  1.210000   41.000000    1.000000  \n",
              "max     66.400000                  3.680000   81.000000    1.000000  "
            ],
            "text/html": [
              "\n",
              "  <div id=\"df-1cef9a15-b211-4bd3-b526-037a0f592a47\" class=\"colab-df-container\">\n",
              "    <div>\n",
              "<style scoped>\n",
              "    .dataframe tbody tr th:only-of-type {\n",
              "        vertical-align: middle;\n",
              "    }\n",
              "\n",
              "    .dataframe tbody tr th {\n",
              "        vertical-align: top;\n",
              "    }\n",
              "\n",
              "    .dataframe thead th {\n",
              "        text-align: right;\n",
              "    }\n",
              "</style>\n",
              "<table border=\"1\" class=\"dataframe\">\n",
              "  <thead>\n",
              "    <tr style=\"text-align: right;\">\n",
              "      <th></th>\n",
              "      <th>Pregnancies</th>\n",
              "      <th>Glucose</th>\n",
              "      <th>BloodPressure</th>\n",
              "      <th>SkinThickness</th>\n",
              "      <th>Insulin</th>\n",
              "      <th>BMI</th>\n",
              "      <th>DiabetesPedigreeFunction</th>\n",
              "      <th>Age</th>\n",
              "      <th>Outcome</th>\n",
              "    </tr>\n",
              "  </thead>\n",
              "  <tbody>\n",
              "    <tr>\n",
              "      <th>count</th>\n",
              "      <td>768.000000</td>\n",
              "      <td>768.000000</td>\n",
              "      <td>768.000000</td>\n",
              "      <td>768.000000</td>\n",
              "      <td>768.000000</td>\n",
              "      <td>768.000000</td>\n",
              "      <td>768.000000</td>\n",
              "      <td>768.000000</td>\n",
              "      <td>768.000000</td>\n",
              "    </tr>\n",
              "    <tr>\n",
              "      <th>mean</th>\n",
              "      <td>3.901042</td>\n",
              "      <td>120.955729</td>\n",
              "      <td>69.110677</td>\n",
              "      <td>20.683594</td>\n",
              "      <td>80.023438</td>\n",
              "      <td>31.900651</td>\n",
              "      <td>0.503034</td>\n",
              "      <td>33.257812</td>\n",
              "      <td>0.348958</td>\n",
              "    </tr>\n",
              "    <tr>\n",
              "      <th>std</th>\n",
              "      <td>3.387314</td>\n",
              "      <td>32.046464</td>\n",
              "      <td>19.355711</td>\n",
              "      <td>15.842038</td>\n",
              "      <td>115.074941</td>\n",
              "      <td>7.919498</td>\n",
              "      <td>1.045346</td>\n",
              "      <td>11.829347</td>\n",
              "      <td>0.476951</td>\n",
              "    </tr>\n",
              "    <tr>\n",
              "      <th>min</th>\n",
              "      <td>0.000000</td>\n",
              "      <td>0.000000</td>\n",
              "      <td>0.000000</td>\n",
              "      <td>0.000000</td>\n",
              "      <td>0.000000</td>\n",
              "      <td>0.000000</td>\n",
              "      <td>-2.630000</td>\n",
              "      <td>19.000000</td>\n",
              "      <td>0.000000</td>\n",
              "    </tr>\n",
              "    <tr>\n",
              "      <th>25%</th>\n",
              "      <td>1.000000</td>\n",
              "      <td>99.000000</td>\n",
              "      <td>63.000000</td>\n",
              "      <td>1.000000</td>\n",
              "      <td>0.000000</td>\n",
              "      <td>26.975000</td>\n",
              "      <td>-0.202500</td>\n",
              "      <td>24.000000</td>\n",
              "      <td>0.000000</td>\n",
              "    </tr>\n",
              "    <tr>\n",
              "      <th>50%</th>\n",
              "      <td>3.000000</td>\n",
              "      <td>117.000000</td>\n",
              "      <td>71.000000</td>\n",
              "      <td>23.000000</td>\n",
              "      <td>30.500000</td>\n",
              "      <td>32.000000</td>\n",
              "      <td>0.490000</td>\n",
              "      <td>29.000000</td>\n",
              "      <td>0.000000</td>\n",
              "    </tr>\n",
              "    <tr>\n",
              "      <th>75%</th>\n",
              "      <td>6.000000</td>\n",
              "      <td>140.250000</td>\n",
              "      <td>80.000000</td>\n",
              "      <td>33.000000</td>\n",
              "      <td>127.250000</td>\n",
              "      <td>36.500000</td>\n",
              "      <td>1.210000</td>\n",
              "      <td>41.000000</td>\n",
              "      <td>1.000000</td>\n",
              "    </tr>\n",
              "    <tr>\n",
              "      <th>max</th>\n",
              "      <td>18.000000</td>\n",
              "      <td>199.000000</td>\n",
              "      <td>120.000000</td>\n",
              "      <td>99.000000</td>\n",
              "      <td>846.000000</td>\n",
              "      <td>66.400000</td>\n",
              "      <td>3.680000</td>\n",
              "      <td>81.000000</td>\n",
              "      <td>1.000000</td>\n",
              "    </tr>\n",
              "  </tbody>\n",
              "</table>\n",
              "</div>\n",
              "    <div class=\"colab-df-buttons\">\n",
              "\n",
              "  <div class=\"colab-df-container\">\n",
              "    <button class=\"colab-df-convert\" onclick=\"convertToInteractive('df-1cef9a15-b211-4bd3-b526-037a0f592a47')\"\n",
              "            title=\"Convert this dataframe to an interactive table.\"\n",
              "            style=\"display:none;\">\n",
              "\n",
              "  <svg xmlns=\"http://www.w3.org/2000/svg\" height=\"24px\" viewBox=\"0 -960 960 960\">\n",
              "    <path d=\"M120-120v-720h720v720H120Zm60-500h600v-160H180v160Zm220 220h160v-160H400v160Zm0 220h160v-160H400v160ZM180-400h160v-160H180v160Zm440 0h160v-160H620v160ZM180-180h160v-160H180v160Zm440 0h160v-160H620v160Z\"/>\n",
              "  </svg>\n",
              "    </button>\n",
              "\n",
              "  <style>\n",
              "    .colab-df-container {\n",
              "      display:flex;\n",
              "      gap: 12px;\n",
              "    }\n",
              "\n",
              "    .colab-df-convert {\n",
              "      background-color: #E8F0FE;\n",
              "      border: none;\n",
              "      border-radius: 50%;\n",
              "      cursor: pointer;\n",
              "      display: none;\n",
              "      fill: #1967D2;\n",
              "      height: 32px;\n",
              "      padding: 0 0 0 0;\n",
              "      width: 32px;\n",
              "    }\n",
              "\n",
              "    .colab-df-convert:hover {\n",
              "      background-color: #E2EBFA;\n",
              "      box-shadow: 0px 1px 2px rgba(60, 64, 67, 0.3), 0px 1px 3px 1px rgba(60, 64, 67, 0.15);\n",
              "      fill: #174EA6;\n",
              "    }\n",
              "\n",
              "    .colab-df-buttons div {\n",
              "      margin-bottom: 4px;\n",
              "    }\n",
              "\n",
              "    [theme=dark] .colab-df-convert {\n",
              "      background-color: #3B4455;\n",
              "      fill: #D2E3FC;\n",
              "    }\n",
              "\n",
              "    [theme=dark] .colab-df-convert:hover {\n",
              "      background-color: #434B5C;\n",
              "      box-shadow: 0px 1px 3px 1px rgba(0, 0, 0, 0.15);\n",
              "      filter: drop-shadow(0px 1px 2px rgba(0, 0, 0, 0.3));\n",
              "      fill: #FFFFFF;\n",
              "    }\n",
              "  </style>\n",
              "\n",
              "    <script>\n",
              "      const buttonEl =\n",
              "        document.querySelector('#df-1cef9a15-b211-4bd3-b526-037a0f592a47 button.colab-df-convert');\n",
              "      buttonEl.style.display =\n",
              "        google.colab.kernel.accessAllowed ? 'block' : 'none';\n",
              "\n",
              "      async function convertToInteractive(key) {\n",
              "        const element = document.querySelector('#df-1cef9a15-b211-4bd3-b526-037a0f592a47');\n",
              "        const dataTable =\n",
              "          await google.colab.kernel.invokeFunction('convertToInteractive',\n",
              "                                                    [key], {});\n",
              "        if (!dataTable) return;\n",
              "\n",
              "        const docLinkHtml = 'Like what you see? Visit the ' +\n",
              "          '<a target=\"_blank\" href=https://colab.research.google.com/notebooks/data_table.ipynb>data table notebook</a>'\n",
              "          + ' to learn more about interactive tables.';\n",
              "        element.innerHTML = '';\n",
              "        dataTable['output_type'] = 'display_data';\n",
              "        await google.colab.output.renderOutput(dataTable, element);\n",
              "        const docLink = document.createElement('div');\n",
              "        docLink.innerHTML = docLinkHtml;\n",
              "        element.appendChild(docLink);\n",
              "      }\n",
              "    </script>\n",
              "  </div>\n",
              "\n",
              "\n",
              "<div id=\"df-eff01581-2df5-4540-b834-cc7082a18c34\">\n",
              "  <button class=\"colab-df-quickchart\" onclick=\"quickchart('df-eff01581-2df5-4540-b834-cc7082a18c34')\"\n",
              "            title=\"Suggest charts\"\n",
              "            style=\"display:none;\">\n",
              "\n",
              "<svg xmlns=\"http://www.w3.org/2000/svg\" height=\"24px\"viewBox=\"0 0 24 24\"\n",
              "     width=\"24px\">\n",
              "    <g>\n",
              "        <path d=\"M19 3H5c-1.1 0-2 .9-2 2v14c0 1.1.9 2 2 2h14c1.1 0 2-.9 2-2V5c0-1.1-.9-2-2-2zM9 17H7v-7h2v7zm4 0h-2V7h2v10zm4 0h-2v-4h2v4z\"/>\n",
              "    </g>\n",
              "</svg>\n",
              "  </button>\n",
              "\n",
              "<style>\n",
              "  .colab-df-quickchart {\n",
              "      --bg-color: #E8F0FE;\n",
              "      --fill-color: #1967D2;\n",
              "      --hover-bg-color: #E2EBFA;\n",
              "      --hover-fill-color: #174EA6;\n",
              "      --disabled-fill-color: #AAA;\n",
              "      --disabled-bg-color: #DDD;\n",
              "  }\n",
              "\n",
              "  [theme=dark] .colab-df-quickchart {\n",
              "      --bg-color: #3B4455;\n",
              "      --fill-color: #D2E3FC;\n",
              "      --hover-bg-color: #434B5C;\n",
              "      --hover-fill-color: #FFFFFF;\n",
              "      --disabled-bg-color: #3B4455;\n",
              "      --disabled-fill-color: #666;\n",
              "  }\n",
              "\n",
              "  .colab-df-quickchart {\n",
              "    background-color: var(--bg-color);\n",
              "    border: none;\n",
              "    border-radius: 50%;\n",
              "    cursor: pointer;\n",
              "    display: none;\n",
              "    fill: var(--fill-color);\n",
              "    height: 32px;\n",
              "    padding: 0;\n",
              "    width: 32px;\n",
              "  }\n",
              "\n",
              "  .colab-df-quickchart:hover {\n",
              "    background-color: var(--hover-bg-color);\n",
              "    box-shadow: 0 1px 2px rgba(60, 64, 67, 0.3), 0 1px 3px 1px rgba(60, 64, 67, 0.15);\n",
              "    fill: var(--button-hover-fill-color);\n",
              "  }\n",
              "\n",
              "  .colab-df-quickchart-complete:disabled,\n",
              "  .colab-df-quickchart-complete:disabled:hover {\n",
              "    background-color: var(--disabled-bg-color);\n",
              "    fill: var(--disabled-fill-color);\n",
              "    box-shadow: none;\n",
              "  }\n",
              "\n",
              "  .colab-df-spinner {\n",
              "    border: 2px solid var(--fill-color);\n",
              "    border-color: transparent;\n",
              "    border-bottom-color: var(--fill-color);\n",
              "    animation:\n",
              "      spin 1s steps(1) infinite;\n",
              "  }\n",
              "\n",
              "  @keyframes spin {\n",
              "    0% {\n",
              "      border-color: transparent;\n",
              "      border-bottom-color: var(--fill-color);\n",
              "      border-left-color: var(--fill-color);\n",
              "    }\n",
              "    20% {\n",
              "      border-color: transparent;\n",
              "      border-left-color: var(--fill-color);\n",
              "      border-top-color: var(--fill-color);\n",
              "    }\n",
              "    30% {\n",
              "      border-color: transparent;\n",
              "      border-left-color: var(--fill-color);\n",
              "      border-top-color: var(--fill-color);\n",
              "      border-right-color: var(--fill-color);\n",
              "    }\n",
              "    40% {\n",
              "      border-color: transparent;\n",
              "      border-right-color: var(--fill-color);\n",
              "      border-top-color: var(--fill-color);\n",
              "    }\n",
              "    60% {\n",
              "      border-color: transparent;\n",
              "      border-right-color: var(--fill-color);\n",
              "    }\n",
              "    80% {\n",
              "      border-color: transparent;\n",
              "      border-right-color: var(--fill-color);\n",
              "      border-bottom-color: var(--fill-color);\n",
              "    }\n",
              "    90% {\n",
              "      border-color: transparent;\n",
              "      border-bottom-color: var(--fill-color);\n",
              "    }\n",
              "  }\n",
              "</style>\n",
              "\n",
              "  <script>\n",
              "    async function quickchart(key) {\n",
              "      const quickchartButtonEl =\n",
              "        document.querySelector('#' + key + ' button');\n",
              "      quickchartButtonEl.disabled = true;  // To prevent multiple clicks.\n",
              "      quickchartButtonEl.classList.add('colab-df-spinner');\n",
              "      try {\n",
              "        const charts = await google.colab.kernel.invokeFunction(\n",
              "            'suggestCharts', [key], {});\n",
              "      } catch (error) {\n",
              "        console.error('Error during call to suggestCharts:', error);\n",
              "      }\n",
              "      quickchartButtonEl.classList.remove('colab-df-spinner');\n",
              "      quickchartButtonEl.classList.add('colab-df-quickchart-complete');\n",
              "    }\n",
              "    (() => {\n",
              "      let quickchartButtonEl =\n",
              "        document.querySelector('#df-eff01581-2df5-4540-b834-cc7082a18c34 button');\n",
              "      quickchartButtonEl.style.display =\n",
              "        google.colab.kernel.accessAllowed ? 'block' : 'none';\n",
              "    })();\n",
              "  </script>\n",
              "</div>\n",
              "\n",
              "    </div>\n",
              "  </div>\n"
            ],
            "application/vnd.google.colaboratory.intrinsic+json": {
              "type": "dataframe",
              "summary": "{\n  \"name\": \"df\",\n  \"rows\": 8,\n  \"fields\": [\n    {\n      \"column\": \"Pregnancies\",\n      \"properties\": {\n        \"dtype\": \"number\",\n        \"std\": 269.8046036876802,\n        \"min\": 0.0,\n        \"max\": 768.0,\n        \"num_unique_values\": 8,\n        \"samples\": [\n          3.9010416666666665,\n          3.0,\n          768.0\n        ],\n        \"semantic_type\": \"\",\n        \"description\": \"\"\n      }\n    },\n    {\n      \"column\": \"Glucose\",\n      \"properties\": {\n        \"dtype\": \"number\",\n        \"std\": 243.7291410729529,\n        \"min\": 0.0,\n        \"max\": 768.0,\n        \"num_unique_values\": 8,\n        \"samples\": [\n          120.95572916666667,\n          117.0,\n          768.0\n        ],\n        \"semantic_type\": \"\",\n        \"description\": \"\"\n      }\n    },\n    {\n      \"column\": \"BloodPressure\",\n      \"properties\": {\n        \"dtype\": \"number\",\n        \"std\": 252.87875459260488,\n        \"min\": 0.0,\n        \"max\": 768.0,\n        \"num_unique_values\": 8,\n        \"samples\": [\n          69.11067708333333,\n          71.0,\n          768.0\n        ],\n        \"semantic_type\": \"\",\n        \"description\": \"\"\n      }\n    },\n    {\n      \"column\": \"SkinThickness\",\n      \"properties\": {\n        \"dtype\": \"number\",\n        \"std\": 263.65469709724783,\n        \"min\": 0.0,\n        \"max\": 768.0,\n        \"num_unique_values\": 8,\n        \"samples\": [\n          20.68359375,\n          23.0,\n          768.0\n        ],\n        \"semantic_type\": \"\",\n        \"description\": \"\"\n      }\n    },\n    {\n      \"column\": \"Insulin\",\n      \"properties\": {\n        \"dtype\": \"number\",\n        \"std\": 350.2544457146363,\n        \"min\": 0.0,\n        \"max\": 846.0,\n        \"num_unique_values\": 7,\n        \"samples\": [\n          768.0,\n          80.0234375,\n          127.25\n        ],\n        \"semantic_type\": \"\",\n        \"description\": \"\"\n      }\n    },\n    {\n      \"column\": \"BMI\",\n      \"properties\": {\n        \"dtype\": \"number\",\n        \"std\": 262.0955783564949,\n        \"min\": 0.0,\n        \"max\": 768.0,\n        \"num_unique_values\": 8,\n        \"samples\": [\n          31.900651041666666,\n          32.0,\n          768.0\n        ],\n        \"semantic_type\": \"\",\n        \"description\": \"\"\n      }\n    },\n    {\n      \"column\": \"DiabetesPedigreeFunction\",\n      \"properties\": {\n        \"dtype\": \"number\",\n        \"std\": 271.3276996746518,\n        \"min\": -2.63,\n        \"max\": 768.0,\n        \"num_unique_values\": 8,\n        \"samples\": [\n          0.5030338541666667,\n          0.49,\n          768.0\n        ],\n        \"semantic_type\": \"\",\n        \"description\": \"\"\n      }\n    },\n    {\n      \"column\": \"Age\",\n      \"properties\": {\n        \"dtype\": \"number\",\n        \"std\": 260.30530076138893,\n        \"min\": 11.82934681442989,\n        \"max\": 768.0,\n        \"num_unique_values\": 8,\n        \"samples\": [\n          33.2578125,\n          29.0,\n          768.0\n        ],\n        \"semantic_type\": \"\",\n        \"description\": \"\"\n      }\n    },\n    {\n      \"column\": \"Outcome\",\n      \"properties\": {\n        \"dtype\": \"number\",\n        \"std\": 271.3865920388932,\n        \"min\": 0.0,\n        \"max\": 768.0,\n        \"num_unique_values\": 5,\n        \"samples\": [\n          0.3489583333333333,\n          1.0,\n          0.47695137724279896\n        ],\n        \"semantic_type\": \"\",\n        \"description\": \"\"\n      }\n    }\n  ]\n}"
            }
          },
          "metadata": {},
          "execution_count": 8
        }
      ]
    },
    {
      "cell_type": "code",
      "source": [
        "df.nunique()"
      ],
      "metadata": {
        "colab": {
          "base_uri": "https://localhost:8080/",
          "height": 367
        },
        "id": "FGiz-sTsaDAW",
        "outputId": "e55ba227-ab15-4684-e1c2-189a8ee052d3"
      },
      "execution_count": null,
      "outputs": [
        {
          "output_type": "execute_result",
          "data": {
            "text/plain": [
              "Pregnancies                  17\n",
              "Glucose                     138\n",
              "BloodPressure                73\n",
              "SkinThickness                55\n",
              "Insulin                     207\n",
              "BMI                         273\n",
              "DiabetesPedigreeFunction    352\n",
              "Age                          54\n",
              "Outcome                       2\n",
              "dtype: int64"
            ],
            "text/html": [
              "<div>\n",
              "<style scoped>\n",
              "    .dataframe tbody tr th:only-of-type {\n",
              "        vertical-align: middle;\n",
              "    }\n",
              "\n",
              "    .dataframe tbody tr th {\n",
              "        vertical-align: top;\n",
              "    }\n",
              "\n",
              "    .dataframe thead th {\n",
              "        text-align: right;\n",
              "    }\n",
              "</style>\n",
              "<table border=\"1\" class=\"dataframe\">\n",
              "  <thead>\n",
              "    <tr style=\"text-align: right;\">\n",
              "      <th></th>\n",
              "      <th>0</th>\n",
              "    </tr>\n",
              "  </thead>\n",
              "  <tbody>\n",
              "    <tr>\n",
              "      <th>Pregnancies</th>\n",
              "      <td>17</td>\n",
              "    </tr>\n",
              "    <tr>\n",
              "      <th>Glucose</th>\n",
              "      <td>138</td>\n",
              "    </tr>\n",
              "    <tr>\n",
              "      <th>BloodPressure</th>\n",
              "      <td>73</td>\n",
              "    </tr>\n",
              "    <tr>\n",
              "      <th>SkinThickness</th>\n",
              "      <td>55</td>\n",
              "    </tr>\n",
              "    <tr>\n",
              "      <th>Insulin</th>\n",
              "      <td>207</td>\n",
              "    </tr>\n",
              "    <tr>\n",
              "      <th>BMI</th>\n",
              "      <td>273</td>\n",
              "    </tr>\n",
              "    <tr>\n",
              "      <th>DiabetesPedigreeFunction</th>\n",
              "      <td>352</td>\n",
              "    </tr>\n",
              "    <tr>\n",
              "      <th>Age</th>\n",
              "      <td>54</td>\n",
              "    </tr>\n",
              "    <tr>\n",
              "      <th>Outcome</th>\n",
              "      <td>2</td>\n",
              "    </tr>\n",
              "  </tbody>\n",
              "</table>\n",
              "</div><br><label><b>dtype:</b> int64</label>"
            ]
          },
          "metadata": {},
          "execution_count": 9
        }
      ]
    },
    {
      "cell_type": "code",
      "source": [
        "#Xuất ra dòng trên cùng\n",
        "df.head()"
      ],
      "metadata": {
        "colab": {
          "base_uri": "https://localhost:8080/",
          "height": 206
        },
        "id": "aIK8AnR0aEAG",
        "outputId": "2fd4f77a-d86a-419b-ebd1-e3f32d04cc68"
      },
      "execution_count": null,
      "outputs": [
        {
          "output_type": "execute_result",
          "data": {
            "text/plain": [
              "   Pregnancies  Glucose  BloodPressure  SkinThickness  Insulin   BMI  \\\n",
              "0            6      147             72             36        0  33.0   \n",
              "1            0       84             66             29        1  24.9   \n",
              "2           10      182             64              0        0  23.6   \n",
              "3            2       89             64             22       95  26.4   \n",
              "4            0      137             39             35      168  45.6   \n",
              "\n",
              "   DiabetesPedigreeFunction  Age  Outcome  \n",
              "0                      1.11   52        1  \n",
              "1                      1.49   32        0  \n",
              "2                      0.41   31        1  \n",
              "3                     -0.19   21        0  \n",
              "4                      2.49   30        1  "
            ],
            "text/html": [
              "\n",
              "  <div id=\"df-56a60f6b-57e5-4e8f-9bc9-2f49ab4bc6f4\" class=\"colab-df-container\">\n",
              "    <div>\n",
              "<style scoped>\n",
              "    .dataframe tbody tr th:only-of-type {\n",
              "        vertical-align: middle;\n",
              "    }\n",
              "\n",
              "    .dataframe tbody tr th {\n",
              "        vertical-align: top;\n",
              "    }\n",
              "\n",
              "    .dataframe thead th {\n",
              "        text-align: right;\n",
              "    }\n",
              "</style>\n",
              "<table border=\"1\" class=\"dataframe\">\n",
              "  <thead>\n",
              "    <tr style=\"text-align: right;\">\n",
              "      <th></th>\n",
              "      <th>Pregnancies</th>\n",
              "      <th>Glucose</th>\n",
              "      <th>BloodPressure</th>\n",
              "      <th>SkinThickness</th>\n",
              "      <th>Insulin</th>\n",
              "      <th>BMI</th>\n",
              "      <th>DiabetesPedigreeFunction</th>\n",
              "      <th>Age</th>\n",
              "      <th>Outcome</th>\n",
              "    </tr>\n",
              "  </thead>\n",
              "  <tbody>\n",
              "    <tr>\n",
              "      <th>0</th>\n",
              "      <td>6</td>\n",
              "      <td>147</td>\n",
              "      <td>72</td>\n",
              "      <td>36</td>\n",
              "      <td>0</td>\n",
              "      <td>33.0</td>\n",
              "      <td>1.11</td>\n",
              "      <td>52</td>\n",
              "      <td>1</td>\n",
              "    </tr>\n",
              "    <tr>\n",
              "      <th>1</th>\n",
              "      <td>0</td>\n",
              "      <td>84</td>\n",
              "      <td>66</td>\n",
              "      <td>29</td>\n",
              "      <td>1</td>\n",
              "      <td>24.9</td>\n",
              "      <td>1.49</td>\n",
              "      <td>32</td>\n",
              "      <td>0</td>\n",
              "    </tr>\n",
              "    <tr>\n",
              "      <th>2</th>\n",
              "      <td>10</td>\n",
              "      <td>182</td>\n",
              "      <td>64</td>\n",
              "      <td>0</td>\n",
              "      <td>0</td>\n",
              "      <td>23.6</td>\n",
              "      <td>0.41</td>\n",
              "      <td>31</td>\n",
              "      <td>1</td>\n",
              "    </tr>\n",
              "    <tr>\n",
              "      <th>3</th>\n",
              "      <td>2</td>\n",
              "      <td>89</td>\n",
              "      <td>64</td>\n",
              "      <td>22</td>\n",
              "      <td>95</td>\n",
              "      <td>26.4</td>\n",
              "      <td>-0.19</td>\n",
              "      <td>21</td>\n",
              "      <td>0</td>\n",
              "    </tr>\n",
              "    <tr>\n",
              "      <th>4</th>\n",
              "      <td>0</td>\n",
              "      <td>137</td>\n",
              "      <td>39</td>\n",
              "      <td>35</td>\n",
              "      <td>168</td>\n",
              "      <td>45.6</td>\n",
              "      <td>2.49</td>\n",
              "      <td>30</td>\n",
              "      <td>1</td>\n",
              "    </tr>\n",
              "  </tbody>\n",
              "</table>\n",
              "</div>\n",
              "    <div class=\"colab-df-buttons\">\n",
              "\n",
              "  <div class=\"colab-df-container\">\n",
              "    <button class=\"colab-df-convert\" onclick=\"convertToInteractive('df-56a60f6b-57e5-4e8f-9bc9-2f49ab4bc6f4')\"\n",
              "            title=\"Convert this dataframe to an interactive table.\"\n",
              "            style=\"display:none;\">\n",
              "\n",
              "  <svg xmlns=\"http://www.w3.org/2000/svg\" height=\"24px\" viewBox=\"0 -960 960 960\">\n",
              "    <path d=\"M120-120v-720h720v720H120Zm60-500h600v-160H180v160Zm220 220h160v-160H400v160Zm0 220h160v-160H400v160ZM180-400h160v-160H180v160Zm440 0h160v-160H620v160ZM180-180h160v-160H180v160Zm440 0h160v-160H620v160Z\"/>\n",
              "  </svg>\n",
              "    </button>\n",
              "\n",
              "  <style>\n",
              "    .colab-df-container {\n",
              "      display:flex;\n",
              "      gap: 12px;\n",
              "    }\n",
              "\n",
              "    .colab-df-convert {\n",
              "      background-color: #E8F0FE;\n",
              "      border: none;\n",
              "      border-radius: 50%;\n",
              "      cursor: pointer;\n",
              "      display: none;\n",
              "      fill: #1967D2;\n",
              "      height: 32px;\n",
              "      padding: 0 0 0 0;\n",
              "      width: 32px;\n",
              "    }\n",
              "\n",
              "    .colab-df-convert:hover {\n",
              "      background-color: #E2EBFA;\n",
              "      box-shadow: 0px 1px 2px rgba(60, 64, 67, 0.3), 0px 1px 3px 1px rgba(60, 64, 67, 0.15);\n",
              "      fill: #174EA6;\n",
              "    }\n",
              "\n",
              "    .colab-df-buttons div {\n",
              "      margin-bottom: 4px;\n",
              "    }\n",
              "\n",
              "    [theme=dark] .colab-df-convert {\n",
              "      background-color: #3B4455;\n",
              "      fill: #D2E3FC;\n",
              "    }\n",
              "\n",
              "    [theme=dark] .colab-df-convert:hover {\n",
              "      background-color: #434B5C;\n",
              "      box-shadow: 0px 1px 3px 1px rgba(0, 0, 0, 0.15);\n",
              "      filter: drop-shadow(0px 1px 2px rgba(0, 0, 0, 0.3));\n",
              "      fill: #FFFFFF;\n",
              "    }\n",
              "  </style>\n",
              "\n",
              "    <script>\n",
              "      const buttonEl =\n",
              "        document.querySelector('#df-56a60f6b-57e5-4e8f-9bc9-2f49ab4bc6f4 button.colab-df-convert');\n",
              "      buttonEl.style.display =\n",
              "        google.colab.kernel.accessAllowed ? 'block' : 'none';\n",
              "\n",
              "      async function convertToInteractive(key) {\n",
              "        const element = document.querySelector('#df-56a60f6b-57e5-4e8f-9bc9-2f49ab4bc6f4');\n",
              "        const dataTable =\n",
              "          await google.colab.kernel.invokeFunction('convertToInteractive',\n",
              "                                                    [key], {});\n",
              "        if (!dataTable) return;\n",
              "\n",
              "        const docLinkHtml = 'Like what you see? Visit the ' +\n",
              "          '<a target=\"_blank\" href=https://colab.research.google.com/notebooks/data_table.ipynb>data table notebook</a>'\n",
              "          + ' to learn more about interactive tables.';\n",
              "        element.innerHTML = '';\n",
              "        dataTable['output_type'] = 'display_data';\n",
              "        await google.colab.output.renderOutput(dataTable, element);\n",
              "        const docLink = document.createElement('div');\n",
              "        docLink.innerHTML = docLinkHtml;\n",
              "        element.appendChild(docLink);\n",
              "      }\n",
              "    </script>\n",
              "  </div>\n",
              "\n",
              "\n",
              "<div id=\"df-a0c48d85-64dd-4bba-9611-1c192eeae2f4\">\n",
              "  <button class=\"colab-df-quickchart\" onclick=\"quickchart('df-a0c48d85-64dd-4bba-9611-1c192eeae2f4')\"\n",
              "            title=\"Suggest charts\"\n",
              "            style=\"display:none;\">\n",
              "\n",
              "<svg xmlns=\"http://www.w3.org/2000/svg\" height=\"24px\"viewBox=\"0 0 24 24\"\n",
              "     width=\"24px\">\n",
              "    <g>\n",
              "        <path d=\"M19 3H5c-1.1 0-2 .9-2 2v14c0 1.1.9 2 2 2h14c1.1 0 2-.9 2-2V5c0-1.1-.9-2-2-2zM9 17H7v-7h2v7zm4 0h-2V7h2v10zm4 0h-2v-4h2v4z\"/>\n",
              "    </g>\n",
              "</svg>\n",
              "  </button>\n",
              "\n",
              "<style>\n",
              "  .colab-df-quickchart {\n",
              "      --bg-color: #E8F0FE;\n",
              "      --fill-color: #1967D2;\n",
              "      --hover-bg-color: #E2EBFA;\n",
              "      --hover-fill-color: #174EA6;\n",
              "      --disabled-fill-color: #AAA;\n",
              "      --disabled-bg-color: #DDD;\n",
              "  }\n",
              "\n",
              "  [theme=dark] .colab-df-quickchart {\n",
              "      --bg-color: #3B4455;\n",
              "      --fill-color: #D2E3FC;\n",
              "      --hover-bg-color: #434B5C;\n",
              "      --hover-fill-color: #FFFFFF;\n",
              "      --disabled-bg-color: #3B4455;\n",
              "      --disabled-fill-color: #666;\n",
              "  }\n",
              "\n",
              "  .colab-df-quickchart {\n",
              "    background-color: var(--bg-color);\n",
              "    border: none;\n",
              "    border-radius: 50%;\n",
              "    cursor: pointer;\n",
              "    display: none;\n",
              "    fill: var(--fill-color);\n",
              "    height: 32px;\n",
              "    padding: 0;\n",
              "    width: 32px;\n",
              "  }\n",
              "\n",
              "  .colab-df-quickchart:hover {\n",
              "    background-color: var(--hover-bg-color);\n",
              "    box-shadow: 0 1px 2px rgba(60, 64, 67, 0.3), 0 1px 3px 1px rgba(60, 64, 67, 0.15);\n",
              "    fill: var(--button-hover-fill-color);\n",
              "  }\n",
              "\n",
              "  .colab-df-quickchart-complete:disabled,\n",
              "  .colab-df-quickchart-complete:disabled:hover {\n",
              "    background-color: var(--disabled-bg-color);\n",
              "    fill: var(--disabled-fill-color);\n",
              "    box-shadow: none;\n",
              "  }\n",
              "\n",
              "  .colab-df-spinner {\n",
              "    border: 2px solid var(--fill-color);\n",
              "    border-color: transparent;\n",
              "    border-bottom-color: var(--fill-color);\n",
              "    animation:\n",
              "      spin 1s steps(1) infinite;\n",
              "  }\n",
              "\n",
              "  @keyframes spin {\n",
              "    0% {\n",
              "      border-color: transparent;\n",
              "      border-bottom-color: var(--fill-color);\n",
              "      border-left-color: var(--fill-color);\n",
              "    }\n",
              "    20% {\n",
              "      border-color: transparent;\n",
              "      border-left-color: var(--fill-color);\n",
              "      border-top-color: var(--fill-color);\n",
              "    }\n",
              "    30% {\n",
              "      border-color: transparent;\n",
              "      border-left-color: var(--fill-color);\n",
              "      border-top-color: var(--fill-color);\n",
              "      border-right-color: var(--fill-color);\n",
              "    }\n",
              "    40% {\n",
              "      border-color: transparent;\n",
              "      border-right-color: var(--fill-color);\n",
              "      border-top-color: var(--fill-color);\n",
              "    }\n",
              "    60% {\n",
              "      border-color: transparent;\n",
              "      border-right-color: var(--fill-color);\n",
              "    }\n",
              "    80% {\n",
              "      border-color: transparent;\n",
              "      border-right-color: var(--fill-color);\n",
              "      border-bottom-color: var(--fill-color);\n",
              "    }\n",
              "    90% {\n",
              "      border-color: transparent;\n",
              "      border-bottom-color: var(--fill-color);\n",
              "    }\n",
              "  }\n",
              "</style>\n",
              "\n",
              "  <script>\n",
              "    async function quickchart(key) {\n",
              "      const quickchartButtonEl =\n",
              "        document.querySelector('#' + key + ' button');\n",
              "      quickchartButtonEl.disabled = true;  // To prevent multiple clicks.\n",
              "      quickchartButtonEl.classList.add('colab-df-spinner');\n",
              "      try {\n",
              "        const charts = await google.colab.kernel.invokeFunction(\n",
              "            'suggestCharts', [key], {});\n",
              "      } catch (error) {\n",
              "        console.error('Error during call to suggestCharts:', error);\n",
              "      }\n",
              "      quickchartButtonEl.classList.remove('colab-df-spinner');\n",
              "      quickchartButtonEl.classList.add('colab-df-quickchart-complete');\n",
              "    }\n",
              "    (() => {\n",
              "      let quickchartButtonEl =\n",
              "        document.querySelector('#df-a0c48d85-64dd-4bba-9611-1c192eeae2f4 button');\n",
              "      quickchartButtonEl.style.display =\n",
              "        google.colab.kernel.accessAllowed ? 'block' : 'none';\n",
              "    })();\n",
              "  </script>\n",
              "</div>\n",
              "\n",
              "    </div>\n",
              "  </div>\n"
            ],
            "application/vnd.google.colaboratory.intrinsic+json": {
              "type": "dataframe",
              "variable_name": "df",
              "summary": "{\n  \"name\": \"df\",\n  \"rows\": 768,\n  \"fields\": [\n    {\n      \"column\": \"Pregnancies\",\n      \"properties\": {\n        \"dtype\": \"number\",\n        \"std\": 3,\n        \"min\": 0,\n        \"max\": 18,\n        \"num_unique_values\": 17,\n        \"samples\": [\n          6,\n          0,\n          9\n        ],\n        \"semantic_type\": \"\",\n        \"description\": \"\"\n      }\n    },\n    {\n      \"column\": \"Glucose\",\n      \"properties\": {\n        \"dtype\": \"number\",\n        \"std\": 32,\n        \"min\": 0,\n        \"max\": 199,\n        \"num_unique_values\": 138,\n        \"samples\": [\n          153,\n          177,\n          138\n        ],\n        \"semantic_type\": \"\",\n        \"description\": \"\"\n      }\n    },\n    {\n      \"column\": \"BloodPressure\",\n      \"properties\": {\n        \"dtype\": \"number\",\n        \"std\": 19,\n        \"min\": 0,\n        \"max\": 120,\n        \"num_unique_values\": 73,\n        \"samples\": [\n          74,\n          99,\n          90\n        ],\n        \"semantic_type\": \"\",\n        \"description\": \"\"\n      }\n    },\n    {\n      \"column\": \"SkinThickness\",\n      \"properties\": {\n        \"dtype\": \"number\",\n        \"std\": 15,\n        \"min\": 0,\n        \"max\": 99,\n        \"num_unique_values\": 55,\n        \"samples\": [\n          38,\n          33,\n          61\n        ],\n        \"semantic_type\": \"\",\n        \"description\": \"\"\n      }\n    },\n    {\n      \"column\": \"Insulin\",\n      \"properties\": {\n        \"dtype\": \"number\",\n        \"std\": 115,\n        \"min\": 0,\n        \"max\": 846,\n        \"num_unique_values\": 207,\n        \"samples\": [\n          327,\n          110,\n          156\n        ],\n        \"semantic_type\": \"\",\n        \"description\": \"\"\n      }\n    },\n    {\n      \"column\": \"BMI\",\n      \"properties\": {\n        \"dtype\": \"number\",\n        \"std\": 7.919497968700037,\n        \"min\": 0.0,\n        \"max\": 66.4,\n        \"num_unique_values\": 273,\n        \"samples\": [\n          36.5,\n          47.8,\n          19.7\n        ],\n        \"semantic_type\": \"\",\n        \"description\": \"\"\n      }\n    },\n    {\n      \"column\": \"DiabetesPedigreeFunction\",\n      \"properties\": {\n        \"dtype\": \"number\",\n        \"std\": 1.0453463217324543,\n        \"min\": -2.63,\n        \"max\": 3.68,\n        \"num_unique_values\": 352,\n        \"samples\": [\n          -1.24,\n          -0.86,\n          -0.78\n        ],\n        \"semantic_type\": \"\",\n        \"description\": \"\"\n      }\n    },\n    {\n      \"column\": \"Age\",\n      \"properties\": {\n        \"dtype\": \"number\",\n        \"std\": 11,\n        \"min\": 19,\n        \"max\": 81,\n        \"num_unique_values\": 54,\n        \"samples\": [\n          61,\n          62,\n          81\n        ],\n        \"semantic_type\": \"\",\n        \"description\": \"\"\n      }\n    },\n    {\n      \"column\": \"Outcome\",\n      \"properties\": {\n        \"dtype\": \"number\",\n        \"std\": 0,\n        \"min\": 0,\n        \"max\": 1,\n        \"num_unique_values\": 2,\n        \"samples\": [\n          0,\n          1\n        ],\n        \"semantic_type\": \"\",\n        \"description\": \"\"\n      }\n    }\n  ]\n}"
            }
          },
          "metadata": {},
          "execution_count": 10
        }
      ]
    },
    {
      "cell_type": "code",
      "source": [
        "#Xuất ra dòng duối cùng\n",
        "df.tail()"
      ],
      "metadata": {
        "colab": {
          "base_uri": "https://localhost:8080/",
          "height": 206
        },
        "id": "6r4ypyK2gRww",
        "outputId": "5fd2ab4d-aaf6-4d65-84c5-f44c0b6120f9"
      },
      "execution_count": null,
      "outputs": [
        {
          "output_type": "execute_result",
          "data": {
            "text/plain": [
              "     Pregnancies  Glucose  BloodPressure  SkinThickness  Insulin   BMI  \\\n",
              "763            9      102             77             51      181  33.2   \n",
              "764            1      121             69             25        0  37.8   \n",
              "765            5      121             72             23      113  26.3   \n",
              "766            0      126             60              0        2  31.2   \n",
              "767            1       93             70             32        0  30.8   \n",
              "\n",
              "     DiabetesPedigreeFunction  Age  Outcome  \n",
              "763                      1.11   60        0  \n",
              "764                      0.53   25        0  \n",
              "765                     -0.14   30        0  \n",
              "766                     -0.22   47        1  \n",
              "767                      1.80   24        0  "
            ],
            "text/html": [
              "\n",
              "  <div id=\"df-ca6f539c-f41c-4af5-bae4-df1235e2ee1a\" class=\"colab-df-container\">\n",
              "    <div>\n",
              "<style scoped>\n",
              "    .dataframe tbody tr th:only-of-type {\n",
              "        vertical-align: middle;\n",
              "    }\n",
              "\n",
              "    .dataframe tbody tr th {\n",
              "        vertical-align: top;\n",
              "    }\n",
              "\n",
              "    .dataframe thead th {\n",
              "        text-align: right;\n",
              "    }\n",
              "</style>\n",
              "<table border=\"1\" class=\"dataframe\">\n",
              "  <thead>\n",
              "    <tr style=\"text-align: right;\">\n",
              "      <th></th>\n",
              "      <th>Pregnancies</th>\n",
              "      <th>Glucose</th>\n",
              "      <th>BloodPressure</th>\n",
              "      <th>SkinThickness</th>\n",
              "      <th>Insulin</th>\n",
              "      <th>BMI</th>\n",
              "      <th>DiabetesPedigreeFunction</th>\n",
              "      <th>Age</th>\n",
              "      <th>Outcome</th>\n",
              "    </tr>\n",
              "  </thead>\n",
              "  <tbody>\n",
              "    <tr>\n",
              "      <th>763</th>\n",
              "      <td>9</td>\n",
              "      <td>102</td>\n",
              "      <td>77</td>\n",
              "      <td>51</td>\n",
              "      <td>181</td>\n",
              "      <td>33.2</td>\n",
              "      <td>1.11</td>\n",
              "      <td>60</td>\n",
              "      <td>0</td>\n",
              "    </tr>\n",
              "    <tr>\n",
              "      <th>764</th>\n",
              "      <td>1</td>\n",
              "      <td>121</td>\n",
              "      <td>69</td>\n",
              "      <td>25</td>\n",
              "      <td>0</td>\n",
              "      <td>37.8</td>\n",
              "      <td>0.53</td>\n",
              "      <td>25</td>\n",
              "      <td>0</td>\n",
              "    </tr>\n",
              "    <tr>\n",
              "      <th>765</th>\n",
              "      <td>5</td>\n",
              "      <td>121</td>\n",
              "      <td>72</td>\n",
              "      <td>23</td>\n",
              "      <td>113</td>\n",
              "      <td>26.3</td>\n",
              "      <td>-0.14</td>\n",
              "      <td>30</td>\n",
              "      <td>0</td>\n",
              "    </tr>\n",
              "    <tr>\n",
              "      <th>766</th>\n",
              "      <td>0</td>\n",
              "      <td>126</td>\n",
              "      <td>60</td>\n",
              "      <td>0</td>\n",
              "      <td>2</td>\n",
              "      <td>31.2</td>\n",
              "      <td>-0.22</td>\n",
              "      <td>47</td>\n",
              "      <td>1</td>\n",
              "    </tr>\n",
              "    <tr>\n",
              "      <th>767</th>\n",
              "      <td>1</td>\n",
              "      <td>93</td>\n",
              "      <td>70</td>\n",
              "      <td>32</td>\n",
              "      <td>0</td>\n",
              "      <td>30.8</td>\n",
              "      <td>1.80</td>\n",
              "      <td>24</td>\n",
              "      <td>0</td>\n",
              "    </tr>\n",
              "  </tbody>\n",
              "</table>\n",
              "</div>\n",
              "    <div class=\"colab-df-buttons\">\n",
              "\n",
              "  <div class=\"colab-df-container\">\n",
              "    <button class=\"colab-df-convert\" onclick=\"convertToInteractive('df-ca6f539c-f41c-4af5-bae4-df1235e2ee1a')\"\n",
              "            title=\"Convert this dataframe to an interactive table.\"\n",
              "            style=\"display:none;\">\n",
              "\n",
              "  <svg xmlns=\"http://www.w3.org/2000/svg\" height=\"24px\" viewBox=\"0 -960 960 960\">\n",
              "    <path d=\"M120-120v-720h720v720H120Zm60-500h600v-160H180v160Zm220 220h160v-160H400v160Zm0 220h160v-160H400v160ZM180-400h160v-160H180v160Zm440 0h160v-160H620v160ZM180-180h160v-160H180v160Zm440 0h160v-160H620v160Z\"/>\n",
              "  </svg>\n",
              "    </button>\n",
              "\n",
              "  <style>\n",
              "    .colab-df-container {\n",
              "      display:flex;\n",
              "      gap: 12px;\n",
              "    }\n",
              "\n",
              "    .colab-df-convert {\n",
              "      background-color: #E8F0FE;\n",
              "      border: none;\n",
              "      border-radius: 50%;\n",
              "      cursor: pointer;\n",
              "      display: none;\n",
              "      fill: #1967D2;\n",
              "      height: 32px;\n",
              "      padding: 0 0 0 0;\n",
              "      width: 32px;\n",
              "    }\n",
              "\n",
              "    .colab-df-convert:hover {\n",
              "      background-color: #E2EBFA;\n",
              "      box-shadow: 0px 1px 2px rgba(60, 64, 67, 0.3), 0px 1px 3px 1px rgba(60, 64, 67, 0.15);\n",
              "      fill: #174EA6;\n",
              "    }\n",
              "\n",
              "    .colab-df-buttons div {\n",
              "      margin-bottom: 4px;\n",
              "    }\n",
              "\n",
              "    [theme=dark] .colab-df-convert {\n",
              "      background-color: #3B4455;\n",
              "      fill: #D2E3FC;\n",
              "    }\n",
              "\n",
              "    [theme=dark] .colab-df-convert:hover {\n",
              "      background-color: #434B5C;\n",
              "      box-shadow: 0px 1px 3px 1px rgba(0, 0, 0, 0.15);\n",
              "      filter: drop-shadow(0px 1px 2px rgba(0, 0, 0, 0.3));\n",
              "      fill: #FFFFFF;\n",
              "    }\n",
              "  </style>\n",
              "\n",
              "    <script>\n",
              "      const buttonEl =\n",
              "        document.querySelector('#df-ca6f539c-f41c-4af5-bae4-df1235e2ee1a button.colab-df-convert');\n",
              "      buttonEl.style.display =\n",
              "        google.colab.kernel.accessAllowed ? 'block' : 'none';\n",
              "\n",
              "      async function convertToInteractive(key) {\n",
              "        const element = document.querySelector('#df-ca6f539c-f41c-4af5-bae4-df1235e2ee1a');\n",
              "        const dataTable =\n",
              "          await google.colab.kernel.invokeFunction('convertToInteractive',\n",
              "                                                    [key], {});\n",
              "        if (!dataTable) return;\n",
              "\n",
              "        const docLinkHtml = 'Like what you see? Visit the ' +\n",
              "          '<a target=\"_blank\" href=https://colab.research.google.com/notebooks/data_table.ipynb>data table notebook</a>'\n",
              "          + ' to learn more about interactive tables.';\n",
              "        element.innerHTML = '';\n",
              "        dataTable['output_type'] = 'display_data';\n",
              "        await google.colab.output.renderOutput(dataTable, element);\n",
              "        const docLink = document.createElement('div');\n",
              "        docLink.innerHTML = docLinkHtml;\n",
              "        element.appendChild(docLink);\n",
              "      }\n",
              "    </script>\n",
              "  </div>\n",
              "\n",
              "\n",
              "<div id=\"df-c31ead68-a7a6-46ac-9739-eab552e79f86\">\n",
              "  <button class=\"colab-df-quickchart\" onclick=\"quickchart('df-c31ead68-a7a6-46ac-9739-eab552e79f86')\"\n",
              "            title=\"Suggest charts\"\n",
              "            style=\"display:none;\">\n",
              "\n",
              "<svg xmlns=\"http://www.w3.org/2000/svg\" height=\"24px\"viewBox=\"0 0 24 24\"\n",
              "     width=\"24px\">\n",
              "    <g>\n",
              "        <path d=\"M19 3H5c-1.1 0-2 .9-2 2v14c0 1.1.9 2 2 2h14c1.1 0 2-.9 2-2V5c0-1.1-.9-2-2-2zM9 17H7v-7h2v7zm4 0h-2V7h2v10zm4 0h-2v-4h2v4z\"/>\n",
              "    </g>\n",
              "</svg>\n",
              "  </button>\n",
              "\n",
              "<style>\n",
              "  .colab-df-quickchart {\n",
              "      --bg-color: #E8F0FE;\n",
              "      --fill-color: #1967D2;\n",
              "      --hover-bg-color: #E2EBFA;\n",
              "      --hover-fill-color: #174EA6;\n",
              "      --disabled-fill-color: #AAA;\n",
              "      --disabled-bg-color: #DDD;\n",
              "  }\n",
              "\n",
              "  [theme=dark] .colab-df-quickchart {\n",
              "      --bg-color: #3B4455;\n",
              "      --fill-color: #D2E3FC;\n",
              "      --hover-bg-color: #434B5C;\n",
              "      --hover-fill-color: #FFFFFF;\n",
              "      --disabled-bg-color: #3B4455;\n",
              "      --disabled-fill-color: #666;\n",
              "  }\n",
              "\n",
              "  .colab-df-quickchart {\n",
              "    background-color: var(--bg-color);\n",
              "    border: none;\n",
              "    border-radius: 50%;\n",
              "    cursor: pointer;\n",
              "    display: none;\n",
              "    fill: var(--fill-color);\n",
              "    height: 32px;\n",
              "    padding: 0;\n",
              "    width: 32px;\n",
              "  }\n",
              "\n",
              "  .colab-df-quickchart:hover {\n",
              "    background-color: var(--hover-bg-color);\n",
              "    box-shadow: 0 1px 2px rgba(60, 64, 67, 0.3), 0 1px 3px 1px rgba(60, 64, 67, 0.15);\n",
              "    fill: var(--button-hover-fill-color);\n",
              "  }\n",
              "\n",
              "  .colab-df-quickchart-complete:disabled,\n",
              "  .colab-df-quickchart-complete:disabled:hover {\n",
              "    background-color: var(--disabled-bg-color);\n",
              "    fill: var(--disabled-fill-color);\n",
              "    box-shadow: none;\n",
              "  }\n",
              "\n",
              "  .colab-df-spinner {\n",
              "    border: 2px solid var(--fill-color);\n",
              "    border-color: transparent;\n",
              "    border-bottom-color: var(--fill-color);\n",
              "    animation:\n",
              "      spin 1s steps(1) infinite;\n",
              "  }\n",
              "\n",
              "  @keyframes spin {\n",
              "    0% {\n",
              "      border-color: transparent;\n",
              "      border-bottom-color: var(--fill-color);\n",
              "      border-left-color: var(--fill-color);\n",
              "    }\n",
              "    20% {\n",
              "      border-color: transparent;\n",
              "      border-left-color: var(--fill-color);\n",
              "      border-top-color: var(--fill-color);\n",
              "    }\n",
              "    30% {\n",
              "      border-color: transparent;\n",
              "      border-left-color: var(--fill-color);\n",
              "      border-top-color: var(--fill-color);\n",
              "      border-right-color: var(--fill-color);\n",
              "    }\n",
              "    40% {\n",
              "      border-color: transparent;\n",
              "      border-right-color: var(--fill-color);\n",
              "      border-top-color: var(--fill-color);\n",
              "    }\n",
              "    60% {\n",
              "      border-color: transparent;\n",
              "      border-right-color: var(--fill-color);\n",
              "    }\n",
              "    80% {\n",
              "      border-color: transparent;\n",
              "      border-right-color: var(--fill-color);\n",
              "      border-bottom-color: var(--fill-color);\n",
              "    }\n",
              "    90% {\n",
              "      border-color: transparent;\n",
              "      border-bottom-color: var(--fill-color);\n",
              "    }\n",
              "  }\n",
              "</style>\n",
              "\n",
              "  <script>\n",
              "    async function quickchart(key) {\n",
              "      const quickchartButtonEl =\n",
              "        document.querySelector('#' + key + ' button');\n",
              "      quickchartButtonEl.disabled = true;  // To prevent multiple clicks.\n",
              "      quickchartButtonEl.classList.add('colab-df-spinner');\n",
              "      try {\n",
              "        const charts = await google.colab.kernel.invokeFunction(\n",
              "            'suggestCharts', [key], {});\n",
              "      } catch (error) {\n",
              "        console.error('Error during call to suggestCharts:', error);\n",
              "      }\n",
              "      quickchartButtonEl.classList.remove('colab-df-spinner');\n",
              "      quickchartButtonEl.classList.add('colab-df-quickchart-complete');\n",
              "    }\n",
              "    (() => {\n",
              "      let quickchartButtonEl =\n",
              "        document.querySelector('#df-c31ead68-a7a6-46ac-9739-eab552e79f86 button');\n",
              "      quickchartButtonEl.style.display =\n",
              "        google.colab.kernel.accessAllowed ? 'block' : 'none';\n",
              "    })();\n",
              "  </script>\n",
              "</div>\n",
              "\n",
              "    </div>\n",
              "  </div>\n"
            ],
            "application/vnd.google.colaboratory.intrinsic+json": {
              "type": "dataframe",
              "summary": "{\n  \"name\": \"df\",\n  \"rows\": 5,\n  \"fields\": [\n    {\n      \"column\": \"Pregnancies\",\n      \"properties\": {\n        \"dtype\": \"number\",\n        \"std\": 3,\n        \"min\": 0,\n        \"max\": 9,\n        \"num_unique_values\": 4,\n        \"samples\": [\n          1,\n          0,\n          9\n        ],\n        \"semantic_type\": \"\",\n        \"description\": \"\"\n      }\n    },\n    {\n      \"column\": \"Glucose\",\n      \"properties\": {\n        \"dtype\": \"number\",\n        \"std\": 14,\n        \"min\": 93,\n        \"max\": 126,\n        \"num_unique_values\": 4,\n        \"samples\": [\n          121,\n          93,\n          102\n        ],\n        \"semantic_type\": \"\",\n        \"description\": \"\"\n      }\n    },\n    {\n      \"column\": \"BloodPressure\",\n      \"properties\": {\n        \"dtype\": \"number\",\n        \"std\": 6,\n        \"min\": 60,\n        \"max\": 77,\n        \"num_unique_values\": 5,\n        \"samples\": [\n          69,\n          70,\n          72\n        ],\n        \"semantic_type\": \"\",\n        \"description\": \"\"\n      }\n    },\n    {\n      \"column\": \"SkinThickness\",\n      \"properties\": {\n        \"dtype\": \"number\",\n        \"std\": 18,\n        \"min\": 0,\n        \"max\": 51,\n        \"num_unique_values\": 5,\n        \"samples\": [\n          25,\n          32,\n          23\n        ],\n        \"semantic_type\": \"\",\n        \"description\": \"\"\n      }\n    },\n    {\n      \"column\": \"Insulin\",\n      \"properties\": {\n        \"dtype\": \"number\",\n        \"std\": 83,\n        \"min\": 0,\n        \"max\": 181,\n        \"num_unique_values\": 4,\n        \"samples\": [\n          0,\n          2,\n          181\n        ],\n        \"semantic_type\": \"\",\n        \"description\": \"\"\n      }\n    },\n    {\n      \"column\": \"BMI\",\n      \"properties\": {\n        \"dtype\": \"number\",\n        \"std\": 4.169892084934572,\n        \"min\": 26.3,\n        \"max\": 37.8,\n        \"num_unique_values\": 5,\n        \"samples\": [\n          37.8,\n          30.8,\n          26.3\n        ],\n        \"semantic_type\": \"\",\n        \"description\": \"\"\n      }\n    },\n    {\n      \"column\": \"DiabetesPedigreeFunction\",\n      \"properties\": {\n        \"dtype\": \"number\",\n        \"std\": 0.8549444426394034,\n        \"min\": -0.22,\n        \"max\": 1.8,\n        \"num_unique_values\": 5,\n        \"samples\": [\n          0.53,\n          1.8,\n          -0.14\n        ],\n        \"semantic_type\": \"\",\n        \"description\": \"\"\n      }\n    },\n    {\n      \"column\": \"Age\",\n      \"properties\": {\n        \"dtype\": \"number\",\n        \"std\": 15,\n        \"min\": 24,\n        \"max\": 60,\n        \"num_unique_values\": 5,\n        \"samples\": [\n          25,\n          24,\n          30\n        ],\n        \"semantic_type\": \"\",\n        \"description\": \"\"\n      }\n    },\n    {\n      \"column\": \"Outcome\",\n      \"properties\": {\n        \"dtype\": \"number\",\n        \"std\": 0,\n        \"min\": 0,\n        \"max\": 1,\n        \"num_unique_values\": 2,\n        \"samples\": [\n          1,\n          0\n        ],\n        \"semantic_type\": \"\",\n        \"description\": \"\"\n      }\n    }\n  ]\n}"
            }
          },
          "metadata": {},
          "execution_count": 11
        }
      ]
    },
    {
      "cell_type": "code",
      "source": [
        "# Bảng tương quan giữa các yêu tố trong thành phần\n",
        "df.corr()"
      ],
      "metadata": {
        "colab": {
          "base_uri": "https://localhost:8080/",
          "height": 332
        },
        "id": "FElYS9w2aGp_",
        "outputId": "7018f0ae-4810-4d8c-bc23-7a4b3b959916"
      },
      "execution_count": null,
      "outputs": [
        {
          "output_type": "execute_result",
          "data": {
            "text/plain": [
              "                          Pregnancies   Glucose  BloodPressure  SkinThickness  \\\n",
              "Pregnancies                  1.000000  0.140257       0.144577      -0.069901   \n",
              "Glucose                      0.140257  1.000000       0.148103       0.054704   \n",
              "BloodPressure                0.144577  0.148103       1.000000       0.208879   \n",
              "SkinThickness               -0.069901  0.054704       0.208879       1.000000   \n",
              "Insulin                     -0.055016  0.332175       0.091976       0.437140   \n",
              "BMI                          0.014612  0.209731       0.274552       0.385084   \n",
              "DiabetesPedigreeFunction    -0.053198  0.093549       0.060262       0.064678   \n",
              "Age                          0.527034  0.259989       0.237148      -0.106350   \n",
              "Outcome                      0.211855  0.467093       0.063318       0.070711   \n",
              "\n",
              "                           Insulin       BMI  DiabetesPedigreeFunction  \\\n",
              "Pregnancies              -0.055016  0.014612                 -0.053198   \n",
              "Glucose                   0.332175  0.209731                  0.093549   \n",
              "BloodPressure             0.091976  0.274552                  0.060262   \n",
              "SkinThickness             0.437140  0.385084                  0.064678   \n",
              "Insulin                   1.000000  0.189265                  0.120347   \n",
              "BMI                       0.189265  1.000000                  0.037948   \n",
              "DiabetesPedigreeFunction  0.120347  0.037948                  1.000000   \n",
              "Age                      -0.042942  0.039227                 -0.004290   \n",
              "Outcome                   0.130027  0.290228                  0.112123   \n",
              "\n",
              "                               Age   Outcome  \n",
              "Pregnancies               0.527034  0.211855  \n",
              "Glucose                   0.259989  0.467093  \n",
              "BloodPressure             0.237148  0.063318  \n",
              "SkinThickness            -0.106350  0.070711  \n",
              "Insulin                  -0.042942  0.130027  \n",
              "BMI                       0.039227  0.290228  \n",
              "DiabetesPedigreeFunction -0.004290  0.112123  \n",
              "Age                       1.000000  0.241461  \n",
              "Outcome                   0.241461  1.000000  "
            ],
            "text/html": [
              "\n",
              "  <div id=\"df-18d4c808-9918-4e8c-a3c4-7d86bda81eee\" class=\"colab-df-container\">\n",
              "    <div>\n",
              "<style scoped>\n",
              "    .dataframe tbody tr th:only-of-type {\n",
              "        vertical-align: middle;\n",
              "    }\n",
              "\n",
              "    .dataframe tbody tr th {\n",
              "        vertical-align: top;\n",
              "    }\n",
              "\n",
              "    .dataframe thead th {\n",
              "        text-align: right;\n",
              "    }\n",
              "</style>\n",
              "<table border=\"1\" class=\"dataframe\">\n",
              "  <thead>\n",
              "    <tr style=\"text-align: right;\">\n",
              "      <th></th>\n",
              "      <th>Pregnancies</th>\n",
              "      <th>Glucose</th>\n",
              "      <th>BloodPressure</th>\n",
              "      <th>SkinThickness</th>\n",
              "      <th>Insulin</th>\n",
              "      <th>BMI</th>\n",
              "      <th>DiabetesPedigreeFunction</th>\n",
              "      <th>Age</th>\n",
              "      <th>Outcome</th>\n",
              "    </tr>\n",
              "  </thead>\n",
              "  <tbody>\n",
              "    <tr>\n",
              "      <th>Pregnancies</th>\n",
              "      <td>1.000000</td>\n",
              "      <td>0.140257</td>\n",
              "      <td>0.144577</td>\n",
              "      <td>-0.069901</td>\n",
              "      <td>-0.055016</td>\n",
              "      <td>0.014612</td>\n",
              "      <td>-0.053198</td>\n",
              "      <td>0.527034</td>\n",
              "      <td>0.211855</td>\n",
              "    </tr>\n",
              "    <tr>\n",
              "      <th>Glucose</th>\n",
              "      <td>0.140257</td>\n",
              "      <td>1.000000</td>\n",
              "      <td>0.148103</td>\n",
              "      <td>0.054704</td>\n",
              "      <td>0.332175</td>\n",
              "      <td>0.209731</td>\n",
              "      <td>0.093549</td>\n",
              "      <td>0.259989</td>\n",
              "      <td>0.467093</td>\n",
              "    </tr>\n",
              "    <tr>\n",
              "      <th>BloodPressure</th>\n",
              "      <td>0.144577</td>\n",
              "      <td>0.148103</td>\n",
              "      <td>1.000000</td>\n",
              "      <td>0.208879</td>\n",
              "      <td>0.091976</td>\n",
              "      <td>0.274552</td>\n",
              "      <td>0.060262</td>\n",
              "      <td>0.237148</td>\n",
              "      <td>0.063318</td>\n",
              "    </tr>\n",
              "    <tr>\n",
              "      <th>SkinThickness</th>\n",
              "      <td>-0.069901</td>\n",
              "      <td>0.054704</td>\n",
              "      <td>0.208879</td>\n",
              "      <td>1.000000</td>\n",
              "      <td>0.437140</td>\n",
              "      <td>0.385084</td>\n",
              "      <td>0.064678</td>\n",
              "      <td>-0.106350</td>\n",
              "      <td>0.070711</td>\n",
              "    </tr>\n",
              "    <tr>\n",
              "      <th>Insulin</th>\n",
              "      <td>-0.055016</td>\n",
              "      <td>0.332175</td>\n",
              "      <td>0.091976</td>\n",
              "      <td>0.437140</td>\n",
              "      <td>1.000000</td>\n",
              "      <td>0.189265</td>\n",
              "      <td>0.120347</td>\n",
              "      <td>-0.042942</td>\n",
              "      <td>0.130027</td>\n",
              "    </tr>\n",
              "    <tr>\n",
              "      <th>BMI</th>\n",
              "      <td>0.014612</td>\n",
              "      <td>0.209731</td>\n",
              "      <td>0.274552</td>\n",
              "      <td>0.385084</td>\n",
              "      <td>0.189265</td>\n",
              "      <td>1.000000</td>\n",
              "      <td>0.037948</td>\n",
              "      <td>0.039227</td>\n",
              "      <td>0.290228</td>\n",
              "    </tr>\n",
              "    <tr>\n",
              "      <th>DiabetesPedigreeFunction</th>\n",
              "      <td>-0.053198</td>\n",
              "      <td>0.093549</td>\n",
              "      <td>0.060262</td>\n",
              "      <td>0.064678</td>\n",
              "      <td>0.120347</td>\n",
              "      <td>0.037948</td>\n",
              "      <td>1.000000</td>\n",
              "      <td>-0.004290</td>\n",
              "      <td>0.112123</td>\n",
              "    </tr>\n",
              "    <tr>\n",
              "      <th>Age</th>\n",
              "      <td>0.527034</td>\n",
              "      <td>0.259989</td>\n",
              "      <td>0.237148</td>\n",
              "      <td>-0.106350</td>\n",
              "      <td>-0.042942</td>\n",
              "      <td>0.039227</td>\n",
              "      <td>-0.004290</td>\n",
              "      <td>1.000000</td>\n",
              "      <td>0.241461</td>\n",
              "    </tr>\n",
              "    <tr>\n",
              "      <th>Outcome</th>\n",
              "      <td>0.211855</td>\n",
              "      <td>0.467093</td>\n",
              "      <td>0.063318</td>\n",
              "      <td>0.070711</td>\n",
              "      <td>0.130027</td>\n",
              "      <td>0.290228</td>\n",
              "      <td>0.112123</td>\n",
              "      <td>0.241461</td>\n",
              "      <td>1.000000</td>\n",
              "    </tr>\n",
              "  </tbody>\n",
              "</table>\n",
              "</div>\n",
              "    <div class=\"colab-df-buttons\">\n",
              "\n",
              "  <div class=\"colab-df-container\">\n",
              "    <button class=\"colab-df-convert\" onclick=\"convertToInteractive('df-18d4c808-9918-4e8c-a3c4-7d86bda81eee')\"\n",
              "            title=\"Convert this dataframe to an interactive table.\"\n",
              "            style=\"display:none;\">\n",
              "\n",
              "  <svg xmlns=\"http://www.w3.org/2000/svg\" height=\"24px\" viewBox=\"0 -960 960 960\">\n",
              "    <path d=\"M120-120v-720h720v720H120Zm60-500h600v-160H180v160Zm220 220h160v-160H400v160Zm0 220h160v-160H400v160ZM180-400h160v-160H180v160Zm440 0h160v-160H620v160ZM180-180h160v-160H180v160Zm440 0h160v-160H620v160Z\"/>\n",
              "  </svg>\n",
              "    </button>\n",
              "\n",
              "  <style>\n",
              "    .colab-df-container {\n",
              "      display:flex;\n",
              "      gap: 12px;\n",
              "    }\n",
              "\n",
              "    .colab-df-convert {\n",
              "      background-color: #E8F0FE;\n",
              "      border: none;\n",
              "      border-radius: 50%;\n",
              "      cursor: pointer;\n",
              "      display: none;\n",
              "      fill: #1967D2;\n",
              "      height: 32px;\n",
              "      padding: 0 0 0 0;\n",
              "      width: 32px;\n",
              "    }\n",
              "\n",
              "    .colab-df-convert:hover {\n",
              "      background-color: #E2EBFA;\n",
              "      box-shadow: 0px 1px 2px rgba(60, 64, 67, 0.3), 0px 1px 3px 1px rgba(60, 64, 67, 0.15);\n",
              "      fill: #174EA6;\n",
              "    }\n",
              "\n",
              "    .colab-df-buttons div {\n",
              "      margin-bottom: 4px;\n",
              "    }\n",
              "\n",
              "    [theme=dark] .colab-df-convert {\n",
              "      background-color: #3B4455;\n",
              "      fill: #D2E3FC;\n",
              "    }\n",
              "\n",
              "    [theme=dark] .colab-df-convert:hover {\n",
              "      background-color: #434B5C;\n",
              "      box-shadow: 0px 1px 3px 1px rgba(0, 0, 0, 0.15);\n",
              "      filter: drop-shadow(0px 1px 2px rgba(0, 0, 0, 0.3));\n",
              "      fill: #FFFFFF;\n",
              "    }\n",
              "  </style>\n",
              "\n",
              "    <script>\n",
              "      const buttonEl =\n",
              "        document.querySelector('#df-18d4c808-9918-4e8c-a3c4-7d86bda81eee button.colab-df-convert');\n",
              "      buttonEl.style.display =\n",
              "        google.colab.kernel.accessAllowed ? 'block' : 'none';\n",
              "\n",
              "      async function convertToInteractive(key) {\n",
              "        const element = document.querySelector('#df-18d4c808-9918-4e8c-a3c4-7d86bda81eee');\n",
              "        const dataTable =\n",
              "          await google.colab.kernel.invokeFunction('convertToInteractive',\n",
              "                                                    [key], {});\n",
              "        if (!dataTable) return;\n",
              "\n",
              "        const docLinkHtml = 'Like what you see? Visit the ' +\n",
              "          '<a target=\"_blank\" href=https://colab.research.google.com/notebooks/data_table.ipynb>data table notebook</a>'\n",
              "          + ' to learn more about interactive tables.';\n",
              "        element.innerHTML = '';\n",
              "        dataTable['output_type'] = 'display_data';\n",
              "        await google.colab.output.renderOutput(dataTable, element);\n",
              "        const docLink = document.createElement('div');\n",
              "        docLink.innerHTML = docLinkHtml;\n",
              "        element.appendChild(docLink);\n",
              "      }\n",
              "    </script>\n",
              "  </div>\n",
              "\n",
              "\n",
              "<div id=\"df-b6bb9420-df9e-4311-97d1-5124d15ef38b\">\n",
              "  <button class=\"colab-df-quickchart\" onclick=\"quickchart('df-b6bb9420-df9e-4311-97d1-5124d15ef38b')\"\n",
              "            title=\"Suggest charts\"\n",
              "            style=\"display:none;\">\n",
              "\n",
              "<svg xmlns=\"http://www.w3.org/2000/svg\" height=\"24px\"viewBox=\"0 0 24 24\"\n",
              "     width=\"24px\">\n",
              "    <g>\n",
              "        <path d=\"M19 3H5c-1.1 0-2 .9-2 2v14c0 1.1.9 2 2 2h14c1.1 0 2-.9 2-2V5c0-1.1-.9-2-2-2zM9 17H7v-7h2v7zm4 0h-2V7h2v10zm4 0h-2v-4h2v4z\"/>\n",
              "    </g>\n",
              "</svg>\n",
              "  </button>\n",
              "\n",
              "<style>\n",
              "  .colab-df-quickchart {\n",
              "      --bg-color: #E8F0FE;\n",
              "      --fill-color: #1967D2;\n",
              "      --hover-bg-color: #E2EBFA;\n",
              "      --hover-fill-color: #174EA6;\n",
              "      --disabled-fill-color: #AAA;\n",
              "      --disabled-bg-color: #DDD;\n",
              "  }\n",
              "\n",
              "  [theme=dark] .colab-df-quickchart {\n",
              "      --bg-color: #3B4455;\n",
              "      --fill-color: #D2E3FC;\n",
              "      --hover-bg-color: #434B5C;\n",
              "      --hover-fill-color: #FFFFFF;\n",
              "      --disabled-bg-color: #3B4455;\n",
              "      --disabled-fill-color: #666;\n",
              "  }\n",
              "\n",
              "  .colab-df-quickchart {\n",
              "    background-color: var(--bg-color);\n",
              "    border: none;\n",
              "    border-radius: 50%;\n",
              "    cursor: pointer;\n",
              "    display: none;\n",
              "    fill: var(--fill-color);\n",
              "    height: 32px;\n",
              "    padding: 0;\n",
              "    width: 32px;\n",
              "  }\n",
              "\n",
              "  .colab-df-quickchart:hover {\n",
              "    background-color: var(--hover-bg-color);\n",
              "    box-shadow: 0 1px 2px rgba(60, 64, 67, 0.3), 0 1px 3px 1px rgba(60, 64, 67, 0.15);\n",
              "    fill: var(--button-hover-fill-color);\n",
              "  }\n",
              "\n",
              "  .colab-df-quickchart-complete:disabled,\n",
              "  .colab-df-quickchart-complete:disabled:hover {\n",
              "    background-color: var(--disabled-bg-color);\n",
              "    fill: var(--disabled-fill-color);\n",
              "    box-shadow: none;\n",
              "  }\n",
              "\n",
              "  .colab-df-spinner {\n",
              "    border: 2px solid var(--fill-color);\n",
              "    border-color: transparent;\n",
              "    border-bottom-color: var(--fill-color);\n",
              "    animation:\n",
              "      spin 1s steps(1) infinite;\n",
              "  }\n",
              "\n",
              "  @keyframes spin {\n",
              "    0% {\n",
              "      border-color: transparent;\n",
              "      border-bottom-color: var(--fill-color);\n",
              "      border-left-color: var(--fill-color);\n",
              "    }\n",
              "    20% {\n",
              "      border-color: transparent;\n",
              "      border-left-color: var(--fill-color);\n",
              "      border-top-color: var(--fill-color);\n",
              "    }\n",
              "    30% {\n",
              "      border-color: transparent;\n",
              "      border-left-color: var(--fill-color);\n",
              "      border-top-color: var(--fill-color);\n",
              "      border-right-color: var(--fill-color);\n",
              "    }\n",
              "    40% {\n",
              "      border-color: transparent;\n",
              "      border-right-color: var(--fill-color);\n",
              "      border-top-color: var(--fill-color);\n",
              "    }\n",
              "    60% {\n",
              "      border-color: transparent;\n",
              "      border-right-color: var(--fill-color);\n",
              "    }\n",
              "    80% {\n",
              "      border-color: transparent;\n",
              "      border-right-color: var(--fill-color);\n",
              "      border-bottom-color: var(--fill-color);\n",
              "    }\n",
              "    90% {\n",
              "      border-color: transparent;\n",
              "      border-bottom-color: var(--fill-color);\n",
              "    }\n",
              "  }\n",
              "</style>\n",
              "\n",
              "  <script>\n",
              "    async function quickchart(key) {\n",
              "      const quickchartButtonEl =\n",
              "        document.querySelector('#' + key + ' button');\n",
              "      quickchartButtonEl.disabled = true;  // To prevent multiple clicks.\n",
              "      quickchartButtonEl.classList.add('colab-df-spinner');\n",
              "      try {\n",
              "        const charts = await google.colab.kernel.invokeFunction(\n",
              "            'suggestCharts', [key], {});\n",
              "      } catch (error) {\n",
              "        console.error('Error during call to suggestCharts:', error);\n",
              "      }\n",
              "      quickchartButtonEl.classList.remove('colab-df-spinner');\n",
              "      quickchartButtonEl.classList.add('colab-df-quickchart-complete');\n",
              "    }\n",
              "    (() => {\n",
              "      let quickchartButtonEl =\n",
              "        document.querySelector('#df-b6bb9420-df9e-4311-97d1-5124d15ef38b button');\n",
              "      quickchartButtonEl.style.display =\n",
              "        google.colab.kernel.accessAllowed ? 'block' : 'none';\n",
              "    })();\n",
              "  </script>\n",
              "</div>\n",
              "\n",
              "    </div>\n",
              "  </div>\n"
            ],
            "application/vnd.google.colaboratory.intrinsic+json": {
              "type": "dataframe",
              "summary": "{\n  \"name\": \"df\",\n  \"rows\": 9,\n  \"fields\": [\n    {\n      \"column\": \"Pregnancies\",\n      \"properties\": {\n        \"dtype\": \"number\",\n        \"std\": 0.35172568183722236,\n        \"min\": -0.06990126767325543,\n        \"max\": 1.0,\n        \"num_unique_values\": 9,\n        \"samples\": [\n          0.5270343188261656,\n          0.1402568077745128,\n          0.014612077350204426\n        ],\n        \"semantic_type\": \"\",\n        \"description\": \"\"\n      }\n    },\n    {\n      \"column\": \"Glucose\",\n      \"properties\": {\n        \"dtype\": \"number\",\n        \"std\": 0.2915655914233127,\n        \"min\": 0.054703914088139724,\n        \"max\": 1.0,\n        \"num_unique_values\": 9,\n        \"samples\": [\n          0.25998930066590276,\n          1.0,\n          0.2097306018138034\n        ],\n        \"semantic_type\": \"\",\n        \"description\": \"\"\n      }\n    },\n    {\n      \"column\": \"BloodPressure\",\n      \"properties\": {\n        \"dtype\": \"number\",\n        \"std\": 0.2920249047925876,\n        \"min\": 0.060261619958698505,\n        \"max\": 1.0,\n        \"num_unique_values\": 9,\n        \"samples\": [\n          0.23714794643772824,\n          0.14810261791432733,\n          0.27455156057570174\n        ],\n        \"semantic_type\": \"\",\n        \"description\": \"\"\n      }\n    },\n    {\n      \"column\": \"SkinThickness\",\n      \"properties\": {\n        \"dtype\": \"number\",\n        \"std\": 0.344009288596993,\n        \"min\": -0.1063497982650864,\n        \"max\": 1.0,\n        \"num_unique_values\": 9,\n        \"samples\": [\n          -0.1063497982650864,\n          0.054703914088139724,\n          0.38508372105791594\n        ],\n        \"semantic_type\": \"\",\n        \"description\": \"\"\n      }\n    },\n    {\n      \"column\": \"Insulin\",\n      \"properties\": {\n        \"dtype\": \"number\",\n        \"std\": 0.3245654097229277,\n        \"min\": -0.05501577969330524,\n        \"max\": 1.0,\n        \"num_unique_values\": 9,\n        \"samples\": [\n          -0.04294241764730651,\n          0.33217453265909586,\n          0.1892646984257237\n        ],\n        \"semantic_type\": \"\",\n        \"description\": \"\"\n      }\n    },\n    {\n      \"column\": \"BMI\",\n      \"properties\": {\n        \"dtype\": \"number\",\n        \"std\": 0.30187724682632644,\n        \"min\": 0.014612077350204426,\n        \"max\": 1.0,\n        \"num_unique_values\": 9,\n        \"samples\": [\n          0.039227499118008054,\n          0.2097306018138034,\n          1.0\n        ],\n        \"semantic_type\": \"\",\n        \"description\": \"\"\n      }\n    },\n    {\n      \"column\": \"DiabetesPedigreeFunction\",\n      \"properties\": {\n        \"dtype\": \"number\",\n        \"std\": 0.32020449934737305,\n        \"min\": -0.05319795942020775,\n        \"max\": 1.0,\n        \"num_unique_values\": 9,\n        \"samples\": [\n          -0.004290213156441715,\n          0.09354912562652826,\n          0.0379484827255946\n        ],\n        \"semantic_type\": \"\",\n        \"description\": \"\"\n      }\n    },\n    {\n      \"column\": \"Age\",\n      \"properties\": {\n        \"dtype\": \"number\",\n        \"std\": 0.3464808775097732,\n        \"min\": -0.1063497982650864,\n        \"max\": 1.0,\n        \"num_unique_values\": 9,\n        \"samples\": [\n          1.0,\n          0.25998930066590276,\n          0.039227499118008054\n        ],\n        \"semantic_type\": \"\",\n        \"description\": \"\"\n      }\n    },\n    {\n      \"column\": \"Outcome\",\n      \"properties\": {\n        \"dtype\": \"number\",\n        \"std\": 0.29592416558538126,\n        \"min\": 0.06331804272019813,\n        \"max\": 1.0,\n        \"num_unique_values\": 9,\n        \"samples\": [\n          0.2414610534501106,\n          0.46709273024026354,\n          0.29022763446953925\n        ],\n        \"semantic_type\": \"\",\n        \"description\": \"\"\n      }\n    }\n  ]\n}"
            }
          },
          "metadata": {},
          "execution_count": 12
        }
      ]
    },
    {
      "cell_type": "code",
      "source": [
        "#Trực quan hóa về bảng tương quan\n",
        "plt.figure(figsize=(10, 8))\n",
        "corr = df.corr()\n",
        "sns.heatmap(corr, annot=True, cmap='Blues')"
      ],
      "metadata": {
        "colab": {
          "base_uri": "https://localhost:8080/",
          "height": 866
        },
        "id": "Pu4gLo1WdcBN",
        "outputId": "9e745a60-72d2-4427-e2c0-8f8eba9e0feb"
      },
      "execution_count": null,
      "outputs": [
        {
          "output_type": "execute_result",
          "data": {
            "text/plain": [
              "<Axes: >"
            ]
          },
          "metadata": {},
          "execution_count": 13
        },
        {
          "output_type": "display_data",
          "data": {
            "text/plain": [
              "<Figure size 1000x800 with 2 Axes>"
            ],
            "image/png": "[encoded data removed]"
          },
          "metadata": {}
        }
      ]
    },
    {
      "cell_type": "code",
      "source": [
        "# Kiểm tra các giá trị Null trong bộ dữ liệu\n",
        "df.isnull().sum()"
      ],
      "metadata": {
        "colab": {
          "base_uri": "https://localhost:8080/",
          "height": 367
        },
        "id": "Kr4bTl9QdeQl",
        "outputId": "de05ab3f-913c-415f-ce13-0de9b6fe6d84"
      },
      "execution_count": null,
      "outputs": [
        {
          "output_type": "execute_result",
          "data": {
            "text/plain": [
              "Pregnancies                 0\n",
              "Glucose                     0\n",
              "BloodPressure               0\n",
              "SkinThickness               0\n",
              "Insulin                     0\n",
              "BMI                         0\n",
              "DiabetesPedigreeFunction    0\n",
              "Age                         0\n",
              "Outcome                     0\n",
              "dtype: int64"
            ],
            "text/html": [
              "<div>\n",
              "<style scoped>\n",
              "    .dataframe tbody tr th:only-of-type {\n",
              "        vertical-align: middle;\n",
              "    }\n",
              "\n",
              "    .dataframe tbody tr th {\n",
              "        vertical-align: top;\n",
              "    }\n",
              "\n",
              "    .dataframe thead th {\n",
              "        text-align: right;\n",
              "    }\n",
              "</style>\n",
              "<table border=\"1\" class=\"dataframe\">\n",
              "  <thead>\n",
              "    <tr style=\"text-align: right;\">\n",
              "      <th></th>\n",
              "      <th>0</th>\n",
              "    </tr>\n",
              "  </thead>\n",
              "  <tbody>\n",
              "    <tr>\n",
              "      <th>Pregnancies</th>\n",
              "      <td>0</td>\n",
              "    </tr>\n",
              "    <tr>\n",
              "      <th>Glucose</th>\n",
              "      <td>0</td>\n",
              "    </tr>\n",
              "    <tr>\n",
              "      <th>BloodPressure</th>\n",
              "      <td>0</td>\n",
              "    </tr>\n",
              "    <tr>\n",
              "      <th>SkinThickness</th>\n",
              "      <td>0</td>\n",
              "    </tr>\n",
              "    <tr>\n",
              "      <th>Insulin</th>\n",
              "      <td>0</td>\n",
              "    </tr>\n",
              "    <tr>\n",
              "      <th>BMI</th>\n",
              "      <td>0</td>\n",
              "    </tr>\n",
              "    <tr>\n",
              "      <th>DiabetesPedigreeFunction</th>\n",
              "      <td>0</td>\n",
              "    </tr>\n",
              "    <tr>\n",
              "      <th>Age</th>\n",
              "      <td>0</td>\n",
              "    </tr>\n",
              "    <tr>\n",
              "      <th>Outcome</th>\n",
              "      <td>0</td>\n",
              "    </tr>\n",
              "  </tbody>\n",
              "</table>\n",
              "</div><br><label><b>dtype:</b> int64</label>"
            ]
          },
          "metadata": {},
          "execution_count": 14
        }
      ]
    },
    {
      "cell_type": "code",
      "source": [
        "#Kiểm tra các dòng có bị trùng hay không\n",
        "df.duplicated().sum()"
      ],
      "metadata": {
        "colab": {
          "base_uri": "https://localhost:8080/"
        },
        "id": "m7Wp7-OQdhGR",
        "outputId": "eb875f27-7ed6-41ce-f576-30168e32f949"
      },
      "execution_count": null,
      "outputs": [
        {
          "output_type": "execute_result",
          "data": {
            "text/plain": [
              "0"
            ]
          },
          "metadata": {},
          "execution_count": 15
        }
      ]
    },
    {
      "cell_type": "code",
      "source": [
        "df.hist(bins=50, figsize=(20,15))\n",
        "plt.show()"
      ],
      "metadata": {
        "colab": {
          "base_uri": "https://localhost:8080/",
          "height": 1000
        },
        "id": "T2LlDncVgnmG",
        "outputId": "afc433c4-2d67-4d7b-b31c-262ff55f5d59"
      },
      "execution_count": null,
      "outputs": [
        {
          "output_type": "display_data",
          "data": {
            "text/plain": [
              "<Figure size 2000x1500 with 9 Axes>"
            ],
            "image/png": "[encoded data removed]"
          },
          "metadata": {}
        }
      ]
    },
    {
      "cell_type": "code",
      "source": [
        "plt.rcParams['figure.figsize']=15,6\n",
        "sns.set_style(\"whitegrid\")\n",
        "\n",
        "x = df.iloc[:, :-1]\n",
        "y = df.iloc[:,-1]\n",
        "\n",
        "#Đào tạo mô hình ExtraTreesClassifier\n",
        "from sklearn.ensemble import ExtraTreesClassifier\n",
        "import matplotlib.pyplot as plt\n",
        "model = ExtraTreesClassifier()\n",
        "model.fit(x,y)\n",
        "\n",
        "#In ra tầm quan trọng của các đặc trưng\n",
        "print(model.feature_importances_)\n",
        "feat_importances = pd.Series(model.feature_importances_, index=x.columns)\n",
        "feat_importances.nlargest(12).plot(kind='barh', color='skyblue')\n",
        "plt.show()"
      ],
      "metadata": {
        "colab": {
          "base_uri": "https://localhost:8080/",
          "height": 557
        },
        "id": "zCsAx71ndjpV",
        "outputId": "c77d4cdf-ce58-42a0-811f-4eef05926cdb"
      },
      "execution_count": null,
      "outputs": [
        {
          "output_type": "stream",
          "name": "stdout",
          "text": [
            "[0.10750129 0.23646491 0.09310944 0.08844884 0.09333539 0.1363148\n",
            " 0.10945693 0.1353684 ]\n"
          ]
        },
        {
          "output_type": "display_data",
          "data": {
            "text/plain": [
              "<Figure size 1500x600 with 1 Axes>"
            ],
            "image/png": "[encoded data removed]"
          },
          "metadata": {}
        }
      ]
    },
    {
      "cell_type": "code",
      "source": [
        "x = df.drop(\"Outcome\", axis=1)\n",
        "y = df['Outcome']"
      ],
      "metadata": {
        "id": "1cioRZJ-n5Yv"
      },
      "execution_count": null,
      "outputs": []
    },
    {
      "cell_type": "code",
      "source": [
        "print(x.shape)\n",
        "from sklearn.preprocessing import MinMaxScaler\n",
        "\n",
        "scaler = MinMaxScaler()\n",
        "\n",
        "x = scaler.fit_transform(x)\n",
        "y = scaler.fit_transform(y.values.reshape(-1,1))"
      ],
      "metadata": {
        "colab": {
          "base_uri": "https://localhost:8080/"
        },
        "id": "PQC19BOSoA2Z",
        "outputId": "435965cf-79fb-4db5-9477-52af293b2cbf"
      },
      "execution_count": null,
      "outputs": [
        {
          "output_type": "stream",
          "name": "stdout",
          "text": [
            "(768, 8)\n"
          ]
        }
      ]
    },
    {
      "cell_type": "code",
      "source": [
        "x_train, x_test, y_train, y_test = train_test_split(x, y, test_size = 0.2, shuffle = True, random_state = 42, stratify = y)\n",
        "\n",
        "print(f\"The Shape of x_train : {x_train.shape}\")\n",
        "print(f\"The Shape of x_test : {x_test.shape}\")\n",
        "print(f\"The Shape of y_train : {y_train.shape}\")\n",
        "print(f\"The Shape of y_test : {y_test.shape}\")"
      ],
      "metadata": {
        "colab": {
          "base_uri": "https://localhost:8080/"
        },
        "id": "pSOZkn1koBzR",
        "outputId": "b30bf33b-c627-44f5-b3b6-897180513135"
      },
      "execution_count": null,
      "outputs": [
        {
          "output_type": "stream",
          "name": "stdout",
          "text": [
            "The Shape of x_train : (614, 8)\n",
            "The Shape of x_test : (154, 8)\n",
            "The Shape of y_train : (614, 1)\n",
            "The Shape of y_test : (154, 1)\n"
          ]
        }
      ]
    },
    {
      "cell_type": "markdown",
      "source": [
        "Logestic Regression"
      ],
      "metadata": {
        "id": "O74di6Nzq0sp"
      }
    },
    {
      "cell_type": "code",
      "source": [
        "model = LogisticRegression()\n",
        "model.fit(x_train, y_train)"
      ],
      "metadata": {
        "colab": {
          "base_uri": "https://localhost:8080/",
          "height": 75
        },
        "id": "i3MucGnPoGSK",
        "outputId": "4f0a2bd9-be5c-4275-a89b-d8d3d79fd281"
      },
      "execution_count": null,
      "outputs": [
        {
          "output_type": "execute_result",
          "data": {
            "text/plain": [
              "LogisticRegression()"
            ],
            "text/html": [
              "<style>#sk-container-id-6 {color: black;background-color: white;}#sk-container-id-6 pre{padding: 0;}#sk-container-id-6 div.sk-toggleable {background-color: white;}#sk-container-id-6 label.sk-toggleable__label {cursor: pointer;display: block;width: 100%;margin-bottom: 0;padding: 0.3em;box-sizing: border-box;text-align: center;}#sk-container-id-6 label.sk-toggleable__label-arrow:before {content: \"▸\";float: left;margin-right: 0.25em;color: #696969;}#sk-container-id-6 label.sk-toggleable__label-arrow:hover:before {color: black;}#sk-container-id-6 div.sk-estimator:hover label.sk-toggleable__label-arrow:before {color: black;}#sk-container-id-6 div.sk-toggleable__content {max-height: 0;max-width: 0;overflow: hidden;text-align: left;background-color: #f0f8ff;}#sk-container-id-6 div.sk-toggleable__content pre {margin: 0.2em;color: black;border-radius: 0.25em;background-color: #f0f8ff;}#sk-container-id-6 input.sk-toggleable__control:checked~div.sk-toggleable__content {max-height: 200px;max-width: 100%;overflow: auto;}#sk-container-id-6 input.sk-toggleable__control:checked~label.sk-toggleable__label-arrow:before {content: \"▾\";}#sk-container-id-6 div.sk-estimator input.sk-toggleable__control:checked~label.sk-toggleable__label {background-color: #d4ebff;}#sk-container-id-6 div.sk-label input.sk-toggleable__control:checked~label.sk-toggleable__label {background-color: #d4ebff;}#sk-container-id-6 input.sk-hidden--visually {border: 0;clip: rect(1px 1px 1px 1px);clip: rect(1px, 1px, 1px, 1px);height: 1px;margin: -1px;overflow: hidden;padding: 0;position: absolute;width: 1px;}#sk-container-id-6 div.sk-estimator {font-family: monospace;background-color: #f0f8ff;border: 1px dotted black;border-radius: 0.25em;box-sizing: border-box;margin-bottom: 0.5em;}#sk-container-id-6 div.sk-estimator:hover {background-color: #d4ebff;}#sk-container-id-6 div.sk-parallel-item::after {content: \"\";width: 100%;border-bottom: 1px solid gray;flex-grow: 1;}#sk-container-id-6 div.sk-label:hover label.sk-toggleable__label {background-color: #d4ebff;}#sk-container-id-6 div.sk-serial::before {content: \"\";position: absolute;border-left: 1px solid gray;box-sizing: border-box;top: 0;bottom: 0;left: 50%;z-index: 0;}#sk-container-id-6 div.sk-serial {display: flex;flex-direction: column;align-items: center;background-color: white;padding-right: 0.2em;padding-left: 0.2em;position: relative;}#sk-container-id-6 div.sk-item {position: relative;z-index: 1;}#sk-container-id-6 div.sk-parallel {display: flex;align-items: stretch;justify-content: center;background-color: white;position: relative;}#sk-container-id-6 div.sk-item::before, #sk-container-id-6 div.sk-parallel-item::before {content: \"\";position: absolute;border-left: 1px solid gray;box-sizing: border-box;top: 0;bottom: 0;left: 50%;z-index: -1;}#sk-container-id-6 div.sk-parallel-item {display: flex;flex-direction: column;z-index: 1;position: relative;background-color: white;}#sk-container-id-6 div.sk-parallel-item:first-child::after {align-self: flex-end;width: 50%;}#sk-container-id-6 div.sk-parallel-item:last-child::after {align-self: flex-start;width: 50%;}#sk-container-id-6 div.sk-parallel-item:only-child::after {width: 0;}#sk-container-id-6 div.sk-dashed-wrapped {border: 1px dashed gray;margin: 0 0.4em 0.5em 0.4em;box-sizing: border-box;padding-bottom: 0.4em;background-color: white;}#sk-container-id-6 div.sk-label label {font-family: monospace;font-weight: bold;display: inline-block;line-height: 1.2em;}#sk-container-id-6 div.sk-label-container {text-align: center;}#sk-container-id-6 div.sk-container {/* jupyter's `normalize.less` sets `[hidden] { display: none; }` but bootstrap.min.css set `[hidden] { display: none !important; }` so we also need the `!important` here to be able to override the default hidden behavior on the sphinx rendered scikit-learn.org. See: https://github.com/scikit-learn/scikit-learn/issues/21755 */display: inline-block !important;position: relative;}#sk-container-id-6 div.sk-text-repr-fallback {display: none;}</style><div id=\"sk-container-id-6\" class=\"sk-top-container\"><div class=\"sk-text-repr-fallback\"><pre>LogisticRegression()</pre><b>In a Jupyter environment, please rerun this cell to show the HTML representation or trust the notebook. <br />On GitHub, the HTML representation is unable to render, please try loading this page with nbviewer.org.</b></div><div class=\"sk-container\" hidden><div class=\"sk-item\"><div class=\"sk-estimator sk-toggleable\"><input class=\"sk-toggleable__control sk-hidden--visually\" id=\"sk-estimator-id-6\" type=\"checkbox\" checked><label for=\"sk-estimator-id-6\" class=\"sk-toggleable__label sk-toggleable__label-arrow\">LogisticRegression</label><div class=\"sk-toggleable__content\"><pre>LogisticRegression()</pre></div></div></div></div></div>"
            ]
          },
          "metadata": {},
          "execution_count": 100
        }
      ]
    },
    {
      "cell_type": "code",
      "source": [
        "y_pred = model.predict(x_test)"
      ],
      "metadata": {
        "id": "OG8OrDGvoHT_"
      },
      "execution_count": null,
      "outputs": []
    },
    {
      "cell_type": "code",
      "source": [
        "print(classification_report(y_test,y_pred))"
      ],
      "metadata": {
        "colab": {
          "base_uri": "https://localhost:8080/"
        },
        "id": "-afnRtvAoJvU",
        "outputId": "f4354a7b-31af-45c2-f181-9b78502b2457"
      },
      "execution_count": null,
      "outputs": [
        {
          "output_type": "stream",
          "name": "stdout",
          "text": [
            "              precision    recall  f1-score   support\n",
            "\n",
            "         0.0       0.73      0.83      0.78       100\n",
            "         1.0       0.59      0.44      0.51        54\n",
            "\n",
            "    accuracy                           0.69       154\n",
            "   macro avg       0.66      0.64      0.64       154\n",
            "weighted avg       0.68      0.69      0.68       154\n",
            "\n"
          ]
        }
      ]
    },
    {
      "cell_type": "code",
      "source": [
        "mylist = []\n",
        "\n",
        "cm = confusion_matrix(y_test, y_pred)\n",
        "ac = accuracy_score(y_test, y_pred)\n",
        "mylist.append(ac)\n",
        "print(cm)\n",
        "print(ac)"
      ],
      "metadata": {
        "colab": {
          "base_uri": "https://localhost:8080/"
        },
        "id": "S6r40A68oMnl",
        "outputId": "15903215-1604-4da1-fe76-d11727208129"
      },
      "execution_count": null,
      "outputs": [
        {
          "output_type": "stream",
          "name": "stdout",
          "text": [
            "[[83 17]\n",
            " [30 24]]\n",
            "0.6948051948051948\n"
          ]
        }
      ]
    },
    {
      "cell_type": "code",
      "source": [
        "print(classification_report(y_test,y_pred))"
      ],
      "metadata": {
        "colab": {
          "base_uri": "https://localhost:8080/"
        },
        "id": "IM2TTbe0oOmJ",
        "outputId": "ecd60fb4-57f1-4622-9da3-4fa7f18b3711"
      },
      "execution_count": null,
      "outputs": [
        {
          "output_type": "stream",
          "name": "stdout",
          "text": [
            "              precision    recall  f1-score   support\n",
            "\n",
            "         0.0       0.73      0.83      0.78       100\n",
            "         1.0       0.59      0.44      0.51        54\n",
            "\n",
            "    accuracy                           0.69       154\n",
            "   macro avg       0.66      0.64      0.64       154\n",
            "weighted avg       0.68      0.69      0.68       154\n",
            "\n"
          ]
        }
      ]
    },
    {
      "cell_type": "markdown",
      "source": [
        "K Nearest Neighbor"
      ],
      "metadata": {
        "id": "3fgTgSX8p_Ml"
      }
    },
    {
      "cell_type": "code",
      "source": [
        "kn = KNeighborsClassifier(n_neighbors=6)\n",
        "kn.fit(x_train, y_train)"
      ],
      "metadata": {
        "colab": {
          "base_uri": "https://localhost:8080/",
          "height": 75
        },
        "id": "-N6yKRJOoPiv",
        "outputId": "31eae6c6-7425-4757-d200-096d6bcd5545"
      },
      "execution_count": null,
      "outputs": [
        {
          "output_type": "execute_result",
          "data": {
            "text/plain": [
              "KNeighborsClassifier(n_neighbors=6)"
            ],
            "text/html": [
              "<style>#sk-container-id-7 {color: black;background-color: white;}#sk-container-id-7 pre{padding: 0;}#sk-container-id-7 div.sk-toggleable {background-color: white;}#sk-container-id-7 label.sk-toggleable__label {cursor: pointer;display: block;width: 100%;margin-bottom: 0;padding: 0.3em;box-sizing: border-box;text-align: center;}#sk-container-id-7 label.sk-toggleable__label-arrow:before {content: \"▸\";float: left;margin-right: 0.25em;color: #696969;}#sk-container-id-7 label.sk-toggleable__label-arrow:hover:before {color: black;}#sk-container-id-7 div.sk-estimator:hover label.sk-toggleable__label-arrow:before {color: black;}#sk-container-id-7 div.sk-toggleable__content {max-height: 0;max-width: 0;overflow: hidden;text-align: left;background-color: #f0f8ff;}#sk-container-id-7 div.sk-toggleable__content pre {margin: 0.2em;color: black;border-radius: 0.25em;background-color: #f0f8ff;}#sk-container-id-7 input.sk-toggleable__control:checked~div.sk-toggleable__content {max-height: 200px;max-width: 100%;overflow: auto;}#sk-container-id-7 input.sk-toggleable__control:checked~label.sk-toggleable__label-arrow:before {content: \"▾\";}#sk-container-id-7 div.sk-estimator input.sk-toggleable__control:checked~label.sk-toggleable__label {background-color: #d4ebff;}#sk-container-id-7 div.sk-label input.sk-toggleable__control:checked~label.sk-toggleable__label {background-color: #d4ebff;}#sk-container-id-7 input.sk-hidden--visually {border: 0;clip: rect(1px 1px 1px 1px);clip: rect(1px, 1px, 1px, 1px);height: 1px;margin: -1px;overflow: hidden;padding: 0;position: absolute;width: 1px;}#sk-container-id-7 div.sk-estimator {font-family: monospace;background-color: #f0f8ff;border: 1px dotted black;border-radius: 0.25em;box-sizing: border-box;margin-bottom: 0.5em;}#sk-container-id-7 div.sk-estimator:hover {background-color: #d4ebff;}#sk-container-id-7 div.sk-parallel-item::after {content: \"\";width: 100%;border-bottom: 1px solid gray;flex-grow: 1;}#sk-container-id-7 div.sk-label:hover label.sk-toggleable__label {background-color: #d4ebff;}#sk-container-id-7 div.sk-serial::before {content: \"\";position: absolute;border-left: 1px solid gray;box-sizing: border-box;top: 0;bottom: 0;left: 50%;z-index: 0;}#sk-container-id-7 div.sk-serial {display: flex;flex-direction: column;align-items: center;background-color: white;padding-right: 0.2em;padding-left: 0.2em;position: relative;}#sk-container-id-7 div.sk-item {position: relative;z-index: 1;}#sk-container-id-7 div.sk-parallel {display: flex;align-items: stretch;justify-content: center;background-color: white;position: relative;}#sk-container-id-7 div.sk-item::before, #sk-container-id-7 div.sk-parallel-item::before {content: \"\";position: absolute;border-left: 1px solid gray;box-sizing: border-box;top: 0;bottom: 0;left: 50%;z-index: -1;}#sk-container-id-7 div.sk-parallel-item {display: flex;flex-direction: column;z-index: 1;position: relative;background-color: white;}#sk-container-id-7 div.sk-parallel-item:first-child::after {align-self: flex-end;width: 50%;}#sk-container-id-7 div.sk-parallel-item:last-child::after {align-self: flex-start;width: 50%;}#sk-container-id-7 div.sk-parallel-item:only-child::after {width: 0;}#sk-container-id-7 div.sk-dashed-wrapped {border: 1px dashed gray;margin: 0 0.4em 0.5em 0.4em;box-sizing: border-box;padding-bottom: 0.4em;background-color: white;}#sk-container-id-7 div.sk-label label {font-family: monospace;font-weight: bold;display: inline-block;line-height: 1.2em;}#sk-container-id-7 div.sk-label-container {text-align: center;}#sk-container-id-7 div.sk-container {/* jupyter's `normalize.less` sets `[hidden] { display: none; }` but bootstrap.min.css set `[hidden] { display: none !important; }` so we also need the `!important` here to be able to override the default hidden behavior on the sphinx rendered scikit-learn.org. See: https://github.com/scikit-learn/scikit-learn/issues/21755 */display: inline-block !important;position: relative;}#sk-container-id-7 div.sk-text-repr-fallback {display: none;}</style><div id=\"sk-container-id-7\" class=\"sk-top-container\"><div class=\"sk-text-repr-fallback\"><pre>KNeighborsClassifier(n_neighbors=6)</pre><b>In a Jupyter environment, please rerun this cell to show the HTML representation or trust the notebook. <br />On GitHub, the HTML representation is unable to render, please try loading this page with nbviewer.org.</b></div><div class=\"sk-container\" hidden><div class=\"sk-item\"><div class=\"sk-estimator sk-toggleable\"><input class=\"sk-toggleable__control sk-hidden--visually\" id=\"sk-estimator-id-7\" type=\"checkbox\" checked><label for=\"sk-estimator-id-7\" class=\"sk-toggleable__label sk-toggleable__label-arrow\">KNeighborsClassifier</label><div class=\"sk-toggleable__content\"><pre>KNeighborsClassifier(n_neighbors=6)</pre></div></div></div></div></div>"
            ]
          },
          "metadata": {},
          "execution_count": 105
        }
      ]
    },
    {
      "cell_type": "code",
      "source": [
        "y_pred = kn.predict(x_test)\n",
        "print(y_pred)"
      ],
      "metadata": {
        "colab": {
          "base_uri": "https://localhost:8080/"
        },
        "id": "4yb_nlgGqB0D",
        "outputId": "15facde9-43a8-4991-8303-c37e9a00fff5"
      },
      "execution_count": null,
      "outputs": [
        {
          "output_type": "stream",
          "name": "stdout",
          "text": [
            "[1. 0. 0. 0. 0. 0. 0. 1. 0. 1. 0. 1. 0. 0. 0. 0. 0. 0. 1. 0. 0. 1. 0. 1.\n",
            " 0. 0. 0. 0. 1. 0. 0. 0. 1. 0. 0. 0. 0. 0. 1. 1. 1. 0. 0. 0. 0. 1. 0. 0.\n",
            " 1. 1. 0. 1. 0. 0. 0. 0. 1. 0. 1. 0. 0. 0. 0. 1. 0. 0. 1. 0. 0. 0. 0. 0.\n",
            " 0. 1. 0. 0. 0. 1. 0. 0. 0. 0. 0. 0. 0. 0. 0. 1. 0. 0. 1. 0. 0. 0. 0. 1.\n",
            " 0. 0. 1. 0. 0. 0. 0. 0. 1. 0. 1. 0. 1. 1. 1. 1. 1. 0. 0. 0. 1. 0. 1. 0.\n",
            " 0. 0. 0. 0. 0. 1. 0. 0. 0. 0. 0. 1. 0. 0. 1. 0. 0. 0. 0. 0. 0. 0. 0. 0.\n",
            " 0. 0. 1. 1. 1. 0. 0. 0. 1. 0.]\n"
          ]
        }
      ]
    },
    {
      "cell_type": "code",
      "source": [
        "from sklearn.metrics import confusion_matrix, accuracy_score\n",
        "cm = confusion_matrix(y_test, y_pred)\n",
        "ac = accuracy_score(y_test, y_pred)\n",
        "mylist.append(ac)\n",
        "print(cm)\n",
        "print(ac)"
      ],
      "metadata": {
        "colab": {
          "base_uri": "https://localhost:8080/"
        },
        "id": "XfgAufuBqEuO",
        "outputId": "e16b2ffb-0792-4737-b3b1-a14dc25d4035"
      },
      "execution_count": null,
      "outputs": [
        {
          "output_type": "stream",
          "name": "stdout",
          "text": [
            "[[87 13]\n",
            " [25 29]]\n",
            "0.7532467532467533\n"
          ]
        }
      ]
    },
    {
      "cell_type": "code",
      "source": [
        "print(classification_report(y_test,y_pred))"
      ],
      "metadata": {
        "colab": {
          "base_uri": "https://localhost:8080/"
        },
        "id": "5fjNEVtXqGzS",
        "outputId": "fc71eb33-cb18-4e9b-b1c9-ed4e8579b3bc"
      },
      "execution_count": null,
      "outputs": [
        {
          "output_type": "stream",
          "name": "stdout",
          "text": [
            "              precision    recall  f1-score   support\n",
            "\n",
            "         0.0       0.78      0.87      0.82       100\n",
            "         1.0       0.69      0.54      0.60        54\n",
            "\n",
            "    accuracy                           0.75       154\n",
            "   macro avg       0.73      0.70      0.71       154\n",
            "weighted avg       0.75      0.75      0.74       154\n",
            "\n"
          ]
        }
      ]
    },
    {
      "cell_type": "markdown",
      "source": [
        "Random Forest Classifcation"
      ],
      "metadata": {
        "id": "d1YXvyNEqLGS"
      }
    },
    {
      "cell_type": "code",
      "source": [
        "classifier = RandomForestClassifier(n_estimators=11, criterion='entropy', random_state=42)\n",
        "classifier.fit(x_train, y_train)"
      ],
      "metadata": {
        "colab": {
          "base_uri": "https://localhost:8080/",
          "height": 75
        },
        "id": "QYBMpd9_qJoF",
        "outputId": "a9c6c04d-3b55-477f-d547-210525c99818"
      },
      "execution_count": null,
      "outputs": [
        {
          "output_type": "execute_result",
          "data": {
            "text/plain": [
              "RandomForestClassifier(criterion='entropy', n_estimators=11, random_state=42)"
            ],
            "text/html": [
              "<style>#sk-container-id-8 {color: black;background-color: white;}#sk-container-id-8 pre{padding: 0;}#sk-container-id-8 div.sk-toggleable {background-color: white;}#sk-container-id-8 label.sk-toggleable__label {cursor: pointer;display: block;width: 100%;margin-bottom: 0;padding: 0.3em;box-sizing: border-box;text-align: center;}#sk-container-id-8 label.sk-toggleable__label-arrow:before {content: \"▸\";float: left;margin-right: 0.25em;color: #696969;}#sk-container-id-8 label.sk-toggleable__label-arrow:hover:before {color: black;}#sk-container-id-8 div.sk-estimator:hover label.sk-toggleable__label-arrow:before {color: black;}#sk-container-id-8 div.sk-toggleable__content {max-height: 0;max-width: 0;overflow: hidden;text-align: left;background-color: #f0f8ff;}#sk-container-id-8 div.sk-toggleable__content pre {margin: 0.2em;color: black;border-radius: 0.25em;background-color: #f0f8ff;}#sk-container-id-8 input.sk-toggleable__control:checked~div.sk-toggleable__content {max-height: 200px;max-width: 100%;overflow: auto;}#sk-container-id-8 input.sk-toggleable__control:checked~label.sk-toggleable__label-arrow:before {content: \"▾\";}#sk-container-id-8 div.sk-estimator input.sk-toggleable__control:checked~label.sk-toggleable__label {background-color: #d4ebff;}#sk-container-id-8 div.sk-label input.sk-toggleable__control:checked~label.sk-toggleable__label {background-color: #d4ebff;}#sk-container-id-8 input.sk-hidden--visually {border: 0;clip: rect(1px 1px 1px 1px);clip: rect(1px, 1px, 1px, 1px);height: 1px;margin: -1px;overflow: hidden;padding: 0;position: absolute;width: 1px;}#sk-container-id-8 div.sk-estimator {font-family: monospace;background-color: #f0f8ff;border: 1px dotted black;border-radius: 0.25em;box-sizing: border-box;margin-bottom: 0.5em;}#sk-container-id-8 div.sk-estimator:hover {background-color: #d4ebff;}#sk-container-id-8 div.sk-parallel-item::after {content: \"\";width: 100%;border-bottom: 1px solid gray;flex-grow: 1;}#sk-container-id-8 div.sk-label:hover label.sk-toggleable__label {background-color: #d4ebff;}#sk-container-id-8 div.sk-serial::before {content: \"\";position: absolute;border-left: 1px solid gray;box-sizing: border-box;top: 0;bottom: 0;left: 50%;z-index: 0;}#sk-container-id-8 div.sk-serial {display: flex;flex-direction: column;align-items: center;background-color: white;padding-right: 0.2em;padding-left: 0.2em;position: relative;}#sk-container-id-8 div.sk-item {position: relative;z-index: 1;}#sk-container-id-8 div.sk-parallel {display: flex;align-items: stretch;justify-content: center;background-color: white;position: relative;}#sk-container-id-8 div.sk-item::before, #sk-container-id-8 div.sk-parallel-item::before {content: \"\";position: absolute;border-left: 1px solid gray;box-sizing: border-box;top: 0;bottom: 0;left: 50%;z-index: -1;}#sk-container-id-8 div.sk-parallel-item {display: flex;flex-direction: column;z-index: 1;position: relative;background-color: white;}#sk-container-id-8 div.sk-parallel-item:first-child::after {align-self: flex-end;width: 50%;}#sk-container-id-8 div.sk-parallel-item:last-child::after {align-self: flex-start;width: 50%;}#sk-container-id-8 div.sk-parallel-item:only-child::after {width: 0;}#sk-container-id-8 div.sk-dashed-wrapped {border: 1px dashed gray;margin: 0 0.4em 0.5em 0.4em;box-sizing: border-box;padding-bottom: 0.4em;background-color: white;}#sk-container-id-8 div.sk-label label {font-family: monospace;font-weight: bold;display: inline-block;line-height: 1.2em;}#sk-container-id-8 div.sk-label-container {text-align: center;}#sk-container-id-8 div.sk-container {/* jupyter's `normalize.less` sets `[hidden] { display: none; }` but bootstrap.min.css set `[hidden] { display: none !important; }` so we also need the `!important` here to be able to override the default hidden behavior on the sphinx rendered scikit-learn.org. See: https://github.com/scikit-learn/scikit-learn/issues/21755 */display: inline-block !important;position: relative;}#sk-container-id-8 div.sk-text-repr-fallback {display: none;}</style><div id=\"sk-container-id-8\" class=\"sk-top-container\"><div class=\"sk-text-repr-fallback\"><pre>RandomForestClassifier(criterion=&#x27;entropy&#x27;, n_estimators=11, random_state=42)</pre><b>In a Jupyter environment, please rerun this cell to show the HTML representation or trust the notebook. <br />On GitHub, the HTML representation is unable to render, please try loading this page with nbviewer.org.</b></div><div class=\"sk-container\" hidden><div class=\"sk-item\"><div class=\"sk-estimator sk-toggleable\"><input class=\"sk-toggleable__control sk-hidden--visually\" id=\"sk-estimator-id-8\" type=\"checkbox\" checked><label for=\"sk-estimator-id-8\" class=\"sk-toggleable__label sk-toggleable__label-arrow\">RandomForestClassifier</label><div class=\"sk-toggleable__content\"><pre>RandomForestClassifier(criterion=&#x27;entropy&#x27;, n_estimators=11, random_state=42)</pre></div></div></div></div></div>"
            ]
          },
          "metadata": {},
          "execution_count": 109
        }
      ]
    },
    {
      "cell_type": "code",
      "source": [
        "y_pred = classifier.predict(x_test)\n",
        "print(y_pred)"
      ],
      "metadata": {
        "colab": {
          "base_uri": "https://localhost:8080/"
        },
        "id": "RLVW630_qNg3",
        "outputId": "15730510-25c0-4fa0-f215-36b966b4e1a5"
      },
      "execution_count": null,
      "outputs": [
        {
          "output_type": "stream",
          "name": "stdout",
          "text": [
            "[1. 0. 0. 0. 0. 0. 1. 1. 0. 1. 0. 1. 0. 0. 0. 1. 1. 0. 1. 0. 0. 1. 0. 1.\n",
            " 0. 0. 0. 0. 0. 0. 0. 0. 1. 1. 1. 0. 0. 0. 1. 1. 1. 0. 0. 1. 0. 0. 0. 0.\n",
            " 1. 1. 1. 1. 1. 0. 1. 0. 1. 0. 1. 0. 1. 1. 0. 1. 0. 0. 1. 0. 0. 0. 0. 0.\n",
            " 1. 1. 0. 0. 0. 1. 0. 0. 0. 1. 0. 0. 0. 0. 1. 1. 0. 0. 1. 1. 0. 0. 1. 1.\n",
            " 1. 1. 1. 0. 0. 0. 0. 0. 1. 0. 1. 0. 1. 0. 1. 1. 1. 1. 1. 0. 0. 0. 1. 0.\n",
            " 1. 0. 0. 0. 0. 1. 1. 0. 0. 0. 0. 1. 0. 0. 1. 0. 0. 0. 0. 0. 0. 1. 0. 0.\n",
            " 0. 0. 1. 1. 0. 0. 0. 0. 1. 0.]\n"
          ]
        }
      ]
    },
    {
      "cell_type": "code",
      "source": [
        "from sklearn.metrics import confusion_matrix, accuracy_score\n",
        "cm = confusion_matrix(y_test, y_pred)\n",
        "ac = accuracy_score(y_test, y_pred)\n",
        "mylist.append(ac)\n",
        "print(cm)\n",
        "print(ac)"
      ],
      "metadata": {
        "colab": {
          "base_uri": "https://localhost:8080/"
        },
        "id": "1HqoIJzNqPTc",
        "outputId": "af727e0d-d98f-44f3-b0ba-5c65568adfaa"
      },
      "execution_count": null,
      "outputs": [
        {
          "output_type": "stream",
          "name": "stdout",
          "text": [
            "[[78 22]\n",
            " [16 38]]\n",
            "0.7532467532467533\n"
          ]
        }
      ]
    },
    {
      "cell_type": "code",
      "source": [
        "print(classification_report(y_test,y_pred))"
      ],
      "metadata": {
        "colab": {
          "base_uri": "https://localhost:8080/"
        },
        "id": "wb7mgOWKqTes",
        "outputId": "bc2a7b69-c257-4b21-a50c-c468c597732b"
      },
      "execution_count": null,
      "outputs": [
        {
          "output_type": "stream",
          "name": "stdout",
          "text": [
            "              precision    recall  f1-score   support\n",
            "\n",
            "         0.0       0.83      0.78      0.80       100\n",
            "         1.0       0.63      0.70      0.67        54\n",
            "\n",
            "    accuracy                           0.75       154\n",
            "   macro avg       0.73      0.74      0.74       154\n",
            "weighted avg       0.76      0.75      0.76       154\n",
            "\n"
          ]
        }
      ]
    },
    {
      "cell_type": "markdown",
      "source": [
        "Support Vector Classifier (SVM)"
      ],
      "metadata": {
        "id": "cRTAgzUnq-2h"
      }
    },
    {
      "cell_type": "code",
      "source": [
        "svm = SVC(C = 0.6, random_state = 42, kernel='rbf')\n",
        "svm.fit(x_train, y_train)"
      ],
      "metadata": {
        "colab": {
          "base_uri": "https://localhost:8080/",
          "height": 75
        },
        "id": "XVdycLVBq_c8",
        "outputId": "cf2ff426-2721-416d-a671-413e0c2fbe75"
      },
      "execution_count": null,
      "outputs": [
        {
          "output_type": "execute_result",
          "data": {
            "text/plain": [
              "SVC(C=0.6, random_state=42)"
            ],
            "text/html": [
              "<style>#sk-container-id-9 {color: black;background-color: white;}#sk-container-id-9 pre{padding: 0;}#sk-container-id-9 div.sk-toggleable {background-color: white;}#sk-container-id-9 label.sk-toggleable__label {cursor: pointer;display: block;width: 100%;margin-bottom: 0;padding: 0.3em;box-sizing: border-box;text-align: center;}#sk-container-id-9 label.sk-toggleable__label-arrow:before {content: \"▸\";float: left;margin-right: 0.25em;color: #696969;}#sk-container-id-9 label.sk-toggleable__label-arrow:hover:before {color: black;}#sk-container-id-9 div.sk-estimator:hover label.sk-toggleable__label-arrow:before {color: black;}#sk-container-id-9 div.sk-toggleable__content {max-height: 0;max-width: 0;overflow: hidden;text-align: left;background-color: #f0f8ff;}#sk-container-id-9 div.sk-toggleable__content pre {margin: 0.2em;color: black;border-radius: 0.25em;background-color: #f0f8ff;}#sk-container-id-9 input.sk-toggleable__control:checked~div.sk-toggleable__content {max-height: 200px;max-width: 100%;overflow: auto;}#sk-container-id-9 input.sk-toggleable__control:checked~label.sk-toggleable__label-arrow:before {content: \"▾\";}#sk-container-id-9 div.sk-estimator input.sk-toggleable__control:checked~label.sk-toggleable__label {background-color: #d4ebff;}#sk-container-id-9 div.sk-label input.sk-toggleable__control:checked~label.sk-toggleable__label {background-color: #d4ebff;}#sk-container-id-9 input.sk-hidden--visually {border: 0;clip: rect(1px 1px 1px 1px);clip: rect(1px, 1px, 1px, 1px);height: 1px;margin: -1px;overflow: hidden;padding: 0;position: absolute;width: 1px;}#sk-container-id-9 div.sk-estimator {font-family: monospace;background-color: #f0f8ff;border: 1px dotted black;border-radius: 0.25em;box-sizing: border-box;margin-bottom: 0.5em;}#sk-container-id-9 div.sk-estimator:hover {background-color: #d4ebff;}#sk-container-id-9 div.sk-parallel-item::after {content: \"\";width: 100%;border-bottom: 1px solid gray;flex-grow: 1;}#sk-container-id-9 div.sk-label:hover label.sk-toggleable__label {background-color: #d4ebff;}#sk-container-id-9 div.sk-serial::before {content: \"\";position: absolute;border-left: 1px solid gray;box-sizing: border-box;top: 0;bottom: 0;left: 50%;z-index: 0;}#sk-container-id-9 div.sk-serial {display: flex;flex-direction: column;align-items: center;background-color: white;padding-right: 0.2em;padding-left: 0.2em;position: relative;}#sk-container-id-9 div.sk-item {position: relative;z-index: 1;}#sk-container-id-9 div.sk-parallel {display: flex;align-items: stretch;justify-content: center;background-color: white;position: relative;}#sk-container-id-9 div.sk-item::before, #sk-container-id-9 div.sk-parallel-item::before {content: \"\";position: absolute;border-left: 1px solid gray;box-sizing: border-box;top: 0;bottom: 0;left: 50%;z-index: -1;}#sk-container-id-9 div.sk-parallel-item {display: flex;flex-direction: column;z-index: 1;position: relative;background-color: white;}#sk-container-id-9 div.sk-parallel-item:first-child::after {align-self: flex-end;width: 50%;}#sk-container-id-9 div.sk-parallel-item:last-child::after {align-self: flex-start;width: 50%;}#sk-container-id-9 div.sk-parallel-item:only-child::after {width: 0;}#sk-container-id-9 div.sk-dashed-wrapped {border: 1px dashed gray;margin: 0 0.4em 0.5em 0.4em;box-sizing: border-box;padding-bottom: 0.4em;background-color: white;}#sk-container-id-9 div.sk-label label {font-family: monospace;font-weight: bold;display: inline-block;line-height: 1.2em;}#sk-container-id-9 div.sk-label-container {text-align: center;}#sk-container-id-9 div.sk-container {/* jupyter's `normalize.less` sets `[hidden] { display: none; }` but bootstrap.min.css set `[hidden] { display: none !important; }` so we also need the `!important` here to be able to override the default hidden behavior on the sphinx rendered scikit-learn.org. See: https://github.com/scikit-learn/scikit-learn/issues/21755 */display: inline-block !important;position: relative;}#sk-container-id-9 div.sk-text-repr-fallback {display: none;}</style><div id=\"sk-container-id-9\" class=\"sk-top-container\"><div class=\"sk-text-repr-fallback\"><pre>SVC(C=0.6, random_state=42)</pre><b>In a Jupyter environment, please rerun this cell to show the HTML representation or trust the notebook. <br />On GitHub, the HTML representation is unable to render, please try loading this page with nbviewer.org.</b></div><div class=\"sk-container\" hidden><div class=\"sk-item\"><div class=\"sk-estimator sk-toggleable\"><input class=\"sk-toggleable__control sk-hidden--visually\" id=\"sk-estimator-id-9\" type=\"checkbox\" checked><label for=\"sk-estimator-id-9\" class=\"sk-toggleable__label sk-toggleable__label-arrow\">SVC</label><div class=\"sk-toggleable__content\"><pre>SVC(C=0.6, random_state=42)</pre></div></div></div></div></div>"
            ]
          },
          "metadata": {},
          "execution_count": 113
        }
      ]
    },
    {
      "cell_type": "code",
      "source": [
        "y_pred = svm.predict(x_test)\n",
        "print(y_pred)"
      ],
      "metadata": {
        "colab": {
          "base_uri": "https://localhost:8080/"
        },
        "id": "L387LhLrrBU0",
        "outputId": "e19c8442-1667-4f69-88fb-9799ac8b9730"
      },
      "execution_count": null,
      "outputs": [
        {
          "output_type": "stream",
          "name": "stdout",
          "text": [
            "[1. 0. 0. 0. 0. 0. 0. 1. 0. 1. 0. 1. 0. 0. 0. 0. 1. 0. 1. 0. 0. 1. 0. 1.\n",
            " 0. 0. 0. 0. 0. 0. 0. 0. 0. 1. 1. 0. 0. 0. 1. 1. 0. 0. 0. 0. 0. 0. 0. 0.\n",
            " 1. 0. 1. 1. 0. 0. 1. 0. 1. 0. 1. 0. 1. 0. 0. 1. 0. 0. 1. 0. 0. 0. 0. 0.\n",
            " 0. 0. 0. 0. 0. 0. 0. 0. 0. 0. 0. 0. 0. 0. 1. 1. 0. 0. 1. 1. 0. 0. 0. 1.\n",
            " 0. 1. 1. 0. 0. 0. 0. 0. 1. 0. 1. 0. 1. 0. 0. 1. 1. 0. 0. 0. 1. 0. 1. 0.\n",
            " 1. 0. 0. 1. 0. 1. 1. 0. 0. 0. 0. 1. 0. 1. 1. 0. 0. 0. 0. 0. 0. 0. 0. 0.\n",
            " 0. 0. 1. 0. 1. 0. 0. 0. 1. 0.]\n"
          ]
        }
      ]
    },
    {
      "cell_type": "code",
      "source": [
        "from sklearn.metrics import confusion_matrix, accuracy_score\n",
        "cm = confusion_matrix(y_test, y_pred)\n",
        "ac = accuracy_score(y_test, y_pred)\n",
        "mylist.append(ac)\n",
        "print(cm)\n",
        "print(ac)"
      ],
      "metadata": {
        "colab": {
          "base_uri": "https://localhost:8080/"
        },
        "id": "Zw7BybvrrEXt",
        "outputId": "eb0bdc45-b047-4ed7-a6a6-ac44306de8ae"
      },
      "execution_count": null,
      "outputs": [
        {
          "output_type": "stream",
          "name": "stdout",
          "text": [
            "[[83 17]\n",
            " [26 28]]\n",
            "0.7207792207792207\n"
          ]
        }
      ]
    },
    {
      "cell_type": "code",
      "source": [
        "print(classification_report(y_test,y_pred))"
      ],
      "metadata": {
        "colab": {
          "base_uri": "https://localhost:8080/"
        },
        "id": "1izRu7VqrGHK",
        "outputId": "bf734b3f-713b-4370-e078-3fb6ebe7105f"
      },
      "execution_count": null,
      "outputs": [
        {
          "output_type": "stream",
          "name": "stdout",
          "text": [
            "              precision    recall  f1-score   support\n",
            "\n",
            "         0.0       0.76      0.83      0.79       100\n",
            "         1.0       0.62      0.52      0.57        54\n",
            "\n",
            "    accuracy                           0.72       154\n",
            "   macro avg       0.69      0.67      0.68       154\n",
            "weighted avg       0.71      0.72      0.71       154\n",
            "\n"
          ]
        }
      ]
    },
    {
      "cell_type": "markdown",
      "source": [
        "DECISION TREE CLASSIFIER"
      ],
      "metadata": {
        "id": "0VZEheXpr_uf"
      }
    },
    {
      "cell_type": "code",
      "source": [
        "classifier = DecisionTreeClassifier(max_leaf_nodes = 3, random_state=0, criterion='entropy')\n",
        "classifier.fit(x_train, y_train)"
      ],
      "metadata": {
        "colab": {
          "base_uri": "https://localhost:8080/",
          "height": 75
        },
        "id": "bKwDJTNYsAR0",
        "outputId": "66c840c5-75d1-4774-bc9e-42bcdf65ccaf"
      },
      "execution_count": null,
      "outputs": [
        {
          "output_type": "execute_result",
          "data": {
            "text/plain": [
              "DecisionTreeClassifier(criterion='entropy', max_leaf_nodes=3, random_state=0)"
            ],
            "text/html": [
              "<style>#sk-container-id-10 {color: black;background-color: white;}#sk-container-id-10 pre{padding: 0;}#sk-container-id-10 div.sk-toggleable {background-color: white;}#sk-container-id-10 label.sk-toggleable__label {cursor: pointer;display: block;width: 100%;margin-bottom: 0;padding: 0.3em;box-sizing: border-box;text-align: center;}#sk-container-id-10 label.sk-toggleable__label-arrow:before {content: \"▸\";float: left;margin-right: 0.25em;color: #696969;}#sk-container-id-10 label.sk-toggleable__label-arrow:hover:before {color: black;}#sk-container-id-10 div.sk-estimator:hover label.sk-toggleable__label-arrow:before {color: black;}#sk-container-id-10 div.sk-toggleable__content {max-height: 0;max-width: 0;overflow: hidden;text-align: left;background-color: #f0f8ff;}#sk-container-id-10 div.sk-toggleable__content pre {margin: 0.2em;color: black;border-radius: 0.25em;background-color: #f0f8ff;}#sk-container-id-10 input.sk-toggleable__control:checked~div.sk-toggleable__content {max-height: 200px;max-width: 100%;overflow: auto;}#sk-container-id-10 input.sk-toggleable__control:checked~label.sk-toggleable__label-arrow:before {content: \"▾\";}#sk-container-id-10 div.sk-estimator input.sk-toggleable__control:checked~label.sk-toggleable__label {background-color: #d4ebff;}#sk-container-id-10 div.sk-label input.sk-toggleable__control:checked~label.sk-toggleable__label {background-color: #d4ebff;}#sk-container-id-10 input.sk-hidden--visually {border: 0;clip: rect(1px 1px 1px 1px);clip: rect(1px, 1px, 1px, 1px);height: 1px;margin: -1px;overflow: hidden;padding: 0;position: absolute;width: 1px;}#sk-container-id-10 div.sk-estimator {font-family: monospace;background-color: #f0f8ff;border: 1px dotted black;border-radius: 0.25em;box-sizing: border-box;margin-bottom: 0.5em;}#sk-container-id-10 div.sk-estimator:hover {background-color: #d4ebff;}#sk-container-id-10 div.sk-parallel-item::after {content: \"\";width: 100%;border-bottom: 1px solid gray;flex-grow: 1;}#sk-container-id-10 div.sk-label:hover label.sk-toggleable__label {background-color: #d4ebff;}#sk-container-id-10 div.sk-serial::before {content: \"\";position: absolute;border-left: 1px solid gray;box-sizing: border-box;top: 0;bottom: 0;left: 50%;z-index: 0;}#sk-container-id-10 div.sk-serial {display: flex;flex-direction: column;align-items: center;background-color: white;padding-right: 0.2em;padding-left: 0.2em;position: relative;}#sk-container-id-10 div.sk-item {position: relative;z-index: 1;}#sk-container-id-10 div.sk-parallel {display: flex;align-items: stretch;justify-content: center;background-color: white;position: relative;}#sk-container-id-10 div.sk-item::before, #sk-container-id-10 div.sk-parallel-item::before {content: \"\";position: absolute;border-left: 1px solid gray;box-sizing: border-box;top: 0;bottom: 0;left: 50%;z-index: -1;}#sk-container-id-10 div.sk-parallel-item {display: flex;flex-direction: column;z-index: 1;position: relative;background-color: white;}#sk-container-id-10 div.sk-parallel-item:first-child::after {align-self: flex-end;width: 50%;}#sk-container-id-10 div.sk-parallel-item:last-child::after {align-self: flex-start;width: 50%;}#sk-container-id-10 div.sk-parallel-item:only-child::after {width: 0;}#sk-container-id-10 div.sk-dashed-wrapped {border: 1px dashed gray;margin: 0 0.4em 0.5em 0.4em;box-sizing: border-box;padding-bottom: 0.4em;background-color: white;}#sk-container-id-10 div.sk-label label {font-family: monospace;font-weight: bold;display: inline-block;line-height: 1.2em;}#sk-container-id-10 div.sk-label-container {text-align: center;}#sk-container-id-10 div.sk-container {/* jupyter's `normalize.less` sets `[hidden] { display: none; }` but bootstrap.min.css set `[hidden] { display: none !important; }` so we also need the `!important` here to be able to override the default hidden behavior on the sphinx rendered scikit-learn.org. See: https://github.com/scikit-learn/scikit-learn/issues/21755 */display: inline-block !important;position: relative;}#sk-container-id-10 div.sk-text-repr-fallback {display: none;}</style><div id=\"sk-container-id-10\" class=\"sk-top-container\"><div class=\"sk-text-repr-fallback\"><pre>DecisionTreeClassifier(criterion=&#x27;entropy&#x27;, max_leaf_nodes=3, random_state=0)</pre><b>In a Jupyter environment, please rerun this cell to show the HTML representation or trust the notebook. <br />On GitHub, the HTML representation is unable to render, please try loading this page with nbviewer.org.</b></div><div class=\"sk-container\" hidden><div class=\"sk-item\"><div class=\"sk-estimator sk-toggleable\"><input class=\"sk-toggleable__control sk-hidden--visually\" id=\"sk-estimator-id-10\" type=\"checkbox\" checked><label for=\"sk-estimator-id-10\" class=\"sk-toggleable__label sk-toggleable__label-arrow\">DecisionTreeClassifier</label><div class=\"sk-toggleable__content\"><pre>DecisionTreeClassifier(criterion=&#x27;entropy&#x27;, max_leaf_nodes=3, random_state=0)</pre></div></div></div></div></div>"
            ]
          },
          "metadata": {},
          "execution_count": 117
        }
      ]
    },
    {
      "cell_type": "code",
      "source": [
        "y_predd = classifier.predict(x_test)\n",
        "y_predd"
      ],
      "metadata": {
        "colab": {
          "base_uri": "https://localhost:8080/"
        },
        "id": "C3a8Ct5-sB9K",
        "outputId": "7e2a10d4-eac5-450e-fd10-0e9937792f6a"
      },
      "execution_count": null,
      "outputs": [
        {
          "output_type": "execute_result",
          "data": {
            "text/plain": [
              "array([1., 0., 0., 0., 0., 0., 0., 1., 0., 1., 1., 0., 1., 0., 0., 0., 1.,\n",
              "       0., 1., 0., 0., 1., 0., 1., 0., 0., 1., 0., 0., 0., 0., 0., 1., 1.,\n",
              "       1., 0., 0., 0., 1., 0., 0., 0., 0., 0., 0., 0., 0., 0., 1., 0., 0.,\n",
              "       1., 1., 0., 1., 0., 0., 0., 1., 1., 1., 0., 0., 1., 0., 0., 1., 0.,\n",
              "       0., 1., 0., 0., 1., 0., 0., 0., 0., 0., 0., 0., 0., 0., 0., 1., 0.,\n",
              "       0., 1., 1., 0., 0., 1., 1., 0., 0., 1., 1., 1., 1., 1., 0., 0., 0.,\n",
              "       0., 0., 1., 0., 1., 0., 1., 0., 1., 1., 0., 0., 0., 0., 0., 0., 0.,\n",
              "       0., 1., 0., 0., 1., 0., 1., 1., 0., 0., 0., 0., 1., 1., 1., 1., 0.,\n",
              "       0., 0., 0., 0., 0., 0., 0., 0., 0., 0., 0., 1., 0., 0., 0., 0., 1.,\n",
              "       0.])"
            ]
          },
          "metadata": {},
          "execution_count": 118
        }
      ]
    },
    {
      "cell_type": "code",
      "source": [
        "from sklearn.metrics import confusion_matrix, accuracy_score\n",
        "cm = confusion_matrix(y_test, y_pred)\n",
        "ac = accuracy_score(y_test, y_pred)\n",
        "mylist.append(ac)\n",
        "print(cm)\n",
        "print(ac)"
      ],
      "metadata": {
        "colab": {
          "base_uri": "https://localhost:8080/"
        },
        "id": "Zh5AGN4jsELU",
        "outputId": "cf8059d8-87d0-4f16-b224-f07f32cdfe80"
      },
      "execution_count": null,
      "outputs": [
        {
          "output_type": "stream",
          "name": "stdout",
          "text": [
            "[[83 17]\n",
            " [26 28]]\n",
            "0.7207792207792207\n"
          ]
        }
      ]
    },
    {
      "cell_type": "code",
      "source": [
        "print(classification_report(y_test,y_pred))"
      ],
      "metadata": {
        "colab": {
          "base_uri": "https://localhost:8080/"
        },
        "id": "1sN5Mar1sGd-",
        "outputId": "3f8c7259-2ba9-4edc-f19b-d52a7af8c500"
      },
      "execution_count": null,
      "outputs": [
        {
          "output_type": "stream",
          "name": "stdout",
          "text": [
            "              precision    recall  f1-score   support\n",
            "\n",
            "         0.0       0.76      0.83      0.79       100\n",
            "         1.0       0.62      0.52      0.57        54\n",
            "\n",
            "    accuracy                           0.72       154\n",
            "   macro avg       0.69      0.67      0.68       154\n",
            "weighted avg       0.71      0.72      0.71       154\n",
            "\n"
          ]
        }
      ]
    },
    {
      "cell_type": "markdown",
      "source": [
        "Model Evaluation"
      ],
      "metadata": {
        "id": "7_xDiTRgswB_"
      }
    },
    {
      "cell_type": "code",
      "source": [
        "# Plotting accuracy score of different models\n",
        "mylist"
      ],
      "metadata": {
        "colab": {
          "base_uri": "https://localhost:8080/"
        },
        "id": "k1RhAS4hrNp0",
        "outputId": "d017bebc-3696-4061-d268-b14a69ed132c"
      },
      "execution_count": null,
      "outputs": [
        {
          "output_type": "execute_result",
          "data": {
            "text/plain": [
              "[0.6948051948051948,\n",
              " 0.7532467532467533,\n",
              " 0.7532467532467533,\n",
              " 0.7207792207792207,\n",
              " 0.7207792207792207]"
            ]
          },
          "metadata": {},
          "execution_count": 121
        }
      ]
    },
    {
      "cell_type": "markdown",
      "source": [
        "Từ năm phương pháp dự đoán bao gồm: Logistic Regression, K-Nearest Neighbors, Random Forest, Support Vector Classifier, Decision Tree Classifier. Ta có thể thấy được rằng mô hình Logistic Regression là mô hình có độ dự báo sai lệch thấp nhất"
      ],
      "metadata": {
        "id": "RfmNx2ME2LOr"
      }
    },
    {
      "cell_type": "code",
      "source": [
        "mylist2 = [\"Logestic Regression\", \"KNearestNeighbours\", \"RandomForest\", \"SVM\",\"DecisionTreeT\"]"
      ],
      "metadata": {
        "id": "HqDRrrF2szuu"
      },
      "execution_count": null,
      "outputs": []
    },
    {
      "cell_type": "code",
      "source": [
        "plt.rcParams['figure.figsize']=15,6\n",
        "sns.set_style(\"darkgrid\")\n",
        "ax = sns.barplot(x=mylist2, y=mylist, palette = \"rocket\", saturation =1.5)\n",
        "plt.xlabel(\"Classifier Models\", fontsize = 20 )\n",
        "plt.ylabel(\"% of Accuracy\", fontsize = 20)\n",
        "plt.title(\"Accuracy of different Classifier Models\", fontsize = 20)\n",
        "plt.xticks(fontsize = 12, horizontalalignment = 'center', rotation = 8)\n",
        "plt.yticks(fontsize = 13)\n",
        "for p in ax.patches:\n",
        "    width, height = p.get_width(), p.get_height()\n",
        "    x, y = p.get_xy()\n",
        "    ax.annotate(f'{height:.2%}', (x + width/2, y + height*1.02), ha='center', fontsize = 'x-large')\n",
        "plt.show()"
      ],
      "metadata": {
        "colab": {
          "base_uri": "https://localhost:8080/",
          "height": 614
        },
        "id": "zn2im_Emtn0Y",
        "outputId": "9349a7af-e0cb-460f-b91e-c78b428bdd08"
      },
      "execution_count": null,
      "outputs": [
        {
          "output_type": "display_data",
          "data": {
            "text/plain": [
              "<Figure size 1500x600 with 1 Axes>"
            ],
            "image/png": "[encoded data removed]"
          },
          "metadata": {}
        }
      ]
    },
    {
      "cell_type": "markdown",
      "source": [
        "TRỰC QUAN HOÁ DỮ LIỆU"
      ],
      "metadata": {
        "id": "hLR_xIkJ_3yj"
      }
    },
    {
      "cell_type": "markdown",
      "source": [
        "Trực quan hóa về tuổi"
      ],
      "metadata": {
        "id": "CcZG_SKOAid-"
      }
    },
    {
      "cell_type": "code",
      "source": [
        "import plotly.graph_objects as go\n",
        "# Create the histogram\n",
        "fig = go.Figure()\n",
        "fig.add_trace(go.Histogram(\n",
        "    x=df['Age'],\n",
        "    xbins=dict(\n",
        "        start=21,\n",
        "        end=81,\n",
        "        size=2\n",
        "    ),\n",
        "    marker_color='#1f77b4',  # Column color\n",
        "    opacity=1\n",
        "))\n",
        "\n",
        "# Update the layout\n",
        "fig.update_layout(\n",
        "    title_text='AGE DISTRIBUTION',\n",
        "    xaxis_title_text='AGE',\n",
        "    yaxis_title_text='COUNT',\n",
        "    bargap=0.05,\n",
        "    xaxis={'showgrid': False},\n",
        "    yaxis={'showgrid': False},\n",
        "    template='plotly_dark',\n",
        "    plot_bgcolor='black',  # Background color\n",
        "    paper_bgcolor='black'  # Paper background color\n",
        ")\n",
        "\n",
        "fig.show()\n"
      ],
      "metadata": {
        "colab": {
          "base_uri": "https://localhost:8080/",
          "height": 542
        },
        "id": "vJwd_96xwvUc",
        "outputId": "3d6d69d4-0f3b-4b82-ae03-9016cfa964b0"
      },
      "execution_count": null,
      "outputs": [
        {
          "output_type": "display_data",
          "data": {
            "text/html": [
              "<html>\n",
              "<head><meta charset=\"utf-8\" /></head>\n",
              "<body>\n",
              "    <div>            <script src=\"https://cdnjs.cloudflare.com/ajax/libs/mathjax/2.7.5/MathJax.js?config=TeX-AMS-MML_SVG\"></script><script type=\"text/javascript\">if (window.MathJax && window.MathJax.Hub && window.MathJax.Hub.Config) {window.MathJax.Hub.Config({SVG: {font: \"STIX-Web\"}});}</script>                <script type=\"text/javascript\">window.PlotlyConfig = {MathJaxConfig: 'local'};</script>\n",
              "        <script charset=\"utf-8\" src=\"https://cdn.plot.ly/plotly-2.24.1.min.js\"></script>                <div id=\"05342cea-8e96-4f23-b75e-707b5d7b49e4\" class=\"plotly-graph-div\" style=\"height:525px; width:100%;\"></div>            <script type=\"text/javascript\">                                    window.PLOTLYENV=window.PLOTLYENV || {};                                    if (document.getElementById(\"05342cea-8e96-4f23-b75e-707b5d7b49e4\")) {                    Plotly.newPlot(                        \"05342cea-8e96-4f23-b75e-707b5d7b49e4\",                        [{\"marker\":{\"color\":\"#1f77b4\"},\"opacity\":1,\"x\":[52,32,31,21,30,31,26,28,51,52,28,33,58,59,49,33,30,32,33,31,27,49,41,29,51,40,44,22,58,36,61,29,21,26,44,34,34,46,28,56,26,37,49,55,41,26,29,21,31,23,22,24,29,59,42,21,43,31,43,22,19,39,35,26,42,33,40,53,24,27,30,26,42,23,22,22,41,27,24,22,22,24,37,22,36,26,45,26,44,24,23,33,41,59,21,39,23,21,24,31,35,22,21,23,27,19,27,38,25,23,23,46,24,25,39,61,39,26,22,22,25,25,24,69,23,25,29,24,41,61,32,33,27,40,26,31,22,22,29,28,56,39,23,41,23,22,41,34,67,22,24,38,43,23,42,34,22,22,22,47,34,45,28,21,32,39,22,32,29,30,36,29,24,23,34,36,43,27,48,39,32,24,22,28,38,42,61,33,32,27,20,41,34,41,42,29,20,22,25,31,21,28,33,27,54,27,56,54,22,43,24,23,61,25,38,39,25,31,32,43,22,66,39,61,25,21,25,24,31,24,20,47,22,30,23,26,52,21,31,27,21,21,23,35,29,50,42,22,33,23,42,26,24,25,44,20,29,25,25,51,34,27,23,64,34,44,25,24,20,29,36,21,39,19,52,26,31,23,56,21,28,40,35,46,53,51,33,29,25,34,20,25,31,24,66,30,29,23,47,59,29,26,36,29,38,28,48,21,25,31,40,22,26,23,42,26,30,28,28,60,31,25,35,44,22,23,31,38,23,38,46,25,42,43,23,27,44,44,34,42,22,36,24,33,58,47,22,23,27,38,30,31,46,26,20,48,30,44,49,30,29,64,66,66,30,30,29,20,23,45,27,22,21,26,27,58,23,23,33,34,24,23,22,25,26,26,35,46,56,27,42,27,20,37,32,26,39,22,25,25,31,54,35,39,41,26,46,26,39,28,27,24,22,20,21,23,22,37,28,27,27,21,21,22,34,32,25,40,26,42,23,38,22,28,36,31,41,29,20,30,41,22,25,31,31,24,28,25,23,27,22,24,26,74,25,39,63,25,49,81,50,25,41,36,34,19,21,26,37,28,28,24,22,50,23,59,28,32,38,62,34,28,26,24,31,24,21,57,27,66,25,43,32,45,22,65,27,24,55,39,22,28,40,40,39,38,36,19,20,63,46,20,58,22,23,30,54,51,41,59,25,26,27,46,24,21,21,22,23,32,22,23,29,32,25,23,45,68,24,33,43,26,56,24,29,36,54,28,51,36,20,25,66,22,28,37,30,57,43,36,56,27,24,33,26,22,20,44,38,31,40,22,22,20,23,24,35,20,36,63,21,27,62,41,52,22,41,31,51,24,46,24,44,25,33,21,47,21,37,26,24,27,31,54,36,21,22,26,26,23,23,36,42,27,50,28,30,26,51,25,29,28,46,21,20,30,22,20,45,20,34,24,23,22,31,38,48,23,34,27,27,24,48,30,27,29,33,22,44,23,23,28,28,26,23,24,22,42,50,28,54,22,43,39,39,24,69,42,43,45,47,21,49,23,67,32,54,25,25,23,24,27,23,26,70,25,22,30,22,46,34,45,24,42,27,43,30,22,28,26,26,50,53,41,27,27,30,22,44,22,23,39,37,20,33,34,31,55,23,53,34,21,42,42,44,39,24,22,22,21,35,21,22,23,53,28,20,44,20,41,48,26,23,46,39,45,27,32,37,50,22,29,24,28,45,38,38,52,26,64,20,44,32,60,25,30,47,24],\"xbins\":{\"end\":81,\"size\":2,\"start\":21},\"type\":\"histogram\"}],                        {\"template\":{\"data\":{\"barpolar\":[{\"marker\":{\"line\":{\"color\":\"rgb(17,17,17)\",\"width\":0.5},\"pattern\":{\"fillmode\":\"overlay\",\"size\":10,\"solidity\":0.2}},\"type\":\"barpolar\"}],\"bar\":[{\"error_x\":{\"color\":\"#f2f5fa\"},\"error_y\":{\"color\":\"#f2f5fa\"},\"marker\":{\"line\":{\"color\":\"rgb(17,17,17)\",\"width\":0.5},\"pattern\":{\"fillmode\":\"overlay\",\"size\":10,\"solidity\":0.2}},\"type\":\"bar\"}],\"carpet\":[{\"aaxis\":{\"endlinecolor\":\"#A2B1C6\",\"gridcolor\":\"#506784\",\"linecolor\":\"#506784\",\"minorgridcolor\":\"#506784\",\"startlinecolor\":\"#A2B1C6\"},\"baxis\":{\"endlinecolor\":\"#A2B1C6\",\"gridcolor\":\"#506784\",\"linecolor\":\"#506784\",\"minorgridcolor\":\"#506784\",\"startlinecolor\":\"#A2B1C6\"},\"type\":\"carpet\"}],\"choropleth\":[{\"colorbar\":{\"outlinewidth\":0,\"ticks\":\"\"},\"type\":\"choropleth\"}],\"contourcarpet\":[{\"colorbar\":{\"outlinewidth\":0,\"ticks\":\"\"},\"type\":\"contourcarpet\"}],\"contour\":[{\"colorbar\":{\"outlinewidth\":0,\"ticks\":\"\"},\"colorscale\":[[0.0,\"#0d0887\"],[0.1111111111111111,\"#46039f\"],[0.2222222222222222,\"#7201a8\"],[0.3333333333333333,\"#9c179e\"],[0.4444444444444444,\"#bd3786\"],[0.5555555555555556,\"#d8576b\"],[0.6666666666666666,\"#ed7953\"],[0.7777777777777778,\"#fb9f3a\"],[0.8888888888888888,\"#fdca26\"],[1.0,\"#f0f921\"]],\"type\":\"contour\"}],\"heatmapgl\":[{\"colorbar\":{\"outlinewidth\":0,\"ticks\":\"\"},\"colorscale\":[[0.0,\"#0d0887\"],[0.1111111111111111,\"#46039f\"],[0.2222222222222222,\"#7201a8\"],[0.3333333333333333,\"#9c179e\"],[0.4444444444444444,\"#bd3786\"],[0.5555555555555556,\"#d8576b\"],[0.6666666666666666,\"#ed7953\"],[0.7777777777777778,\"#fb9f3a\"],[0.8888888888888888,\"#fdca26\"],[1.0,\"#f0f921\"]],\"type\":\"heatmapgl\"}],\"heatmap\":[{\"colorbar\":{\"outlinewidth\":0,\"ticks\":\"\"},\"colorscale\":[[0.0,\"#0d0887\"],[0.1111111111111111,\"#46039f\"],[0.2222222222222222,\"#7201a8\"],[0.3333333333333333,\"#9c179e\"],[0.4444444444444444,\"#bd3786\"],[0.5555555555555556,\"#d8576b\"],[0.6666666666666666,\"#ed7953\"],[0.7777777777777778,\"#fb9f3a\"],[0.8888888888888888,\"#fdca26\"],[1.0,\"#f0f921\"]],\"type\":\"heatmap\"}],\"histogram2dcontour\":[{\"colorbar\":{\"outlinewidth\":0,\"ticks\":\"\"},\"colorscale\":[[0.0,\"#0d0887\"],[0.1111111111111111,\"#46039f\"],[0.2222222222222222,\"#7201a8\"],[0.3333333333333333,\"#9c179e\"],[0.4444444444444444,\"#bd3786\"],[0.5555555555555556,\"#d8576b\"],[0.6666666666666666,\"#ed7953\"],[0.7777777777777778,\"#fb9f3a\"],[0.8888888888888888,\"#fdca26\"],[1.0,\"#f0f921\"]],\"type\":\"histogram2dcontour\"}],\"histogram2d\":[{\"colorbar\":{\"outlinewidth\":0,\"ticks\":\"\"},\"colorscale\":[[0.0,\"#0d0887\"],[0.1111111111111111,\"#46039f\"],[0.2222222222222222,\"#7201a8\"],[0.3333333333333333,\"#9c179e\"],[0.4444444444444444,\"#bd3786\"],[0.5555555555555556,\"#d8576b\"],[0.6666666666666666,\"#ed7953\"],[0.7777777777777778,\"#fb9f3a\"],[0.8888888888888888,\"#fdca26\"],[1.0,\"#f0f921\"]],\"type\":\"histogram2d\"}],\"histogram\":[{\"marker\":{\"pattern\":{\"fillmode\":\"overlay\",\"size\":10,\"solidity\":0.2}},\"type\":\"histogram\"}],\"mesh3d\":[{\"colorbar\":{\"outlinewidth\":0,\"ticks\":\"\"},\"type\":\"mesh3d\"}],\"parcoords\":[{\"line\":{\"colorbar\":{\"outlinewidth\":0,\"ticks\":\"\"}},\"type\":\"parcoords\"}],\"pie\":[{\"automargin\":true,\"type\":\"pie\"}],\"scatter3d\":[{\"line\":{\"colorbar\":{\"outlinewidth\":0,\"ticks\":\"\"}},\"marker\":{\"colorbar\":{\"outlinewidth\":0,\"ticks\":\"\"}},\"type\":\"scatter3d\"}],\"scattercarpet\":[{\"marker\":{\"colorbar\":{\"outlinewidth\":0,\"ticks\":\"\"}},\"type\":\"scattercarpet\"}],\"scattergeo\":[{\"marker\":{\"colorbar\":{\"outlinewidth\":0,\"ticks\":\"\"}},\"type\":\"scattergeo\"}],\"scattergl\":[{\"marker\":{\"line\":{\"color\":\"#283442\"}},\"type\":\"scattergl\"}],\"scattermapbox\":[{\"marker\":{\"colorbar\":{\"outlinewidth\":0,\"ticks\":\"\"}},\"type\":\"scattermapbox\"}],\"scatterpolargl\":[{\"marker\":{\"colorbar\":{\"outlinewidth\":0,\"ticks\":\"\"}},\"type\":\"scatterpolargl\"}],\"scatterpolar\":[{\"marker\":{\"colorbar\":{\"outlinewidth\":0,\"ticks\":\"\"}},\"type\":\"scatterpolar\"}],\"scatter\":[{\"marker\":{\"line\":{\"color\":\"#283442\"}},\"type\":\"scatter\"}],\"scatterternary\":[{\"marker\":{\"colorbar\":{\"outlinewidth\":0,\"ticks\":\"\"}},\"type\":\"scatterternary\"}],\"surface\":[{\"colorbar\":{\"outlinewidth\":0,\"ticks\":\"\"},\"colorscale\":[[0.0,\"#0d0887\"],[0.1111111111111111,\"#46039f\"],[0.2222222222222222,\"#7201a8\"],[0.3333333333333333,\"#9c179e\"],[0.4444444444444444,\"#bd3786\"],[0.5555555555555556,\"#d8576b\"],[0.6666666666666666,\"#ed7953\"],[0.7777777777777778,\"#fb9f3a\"],[0.8888888888888888,\"#fdca26\"],[1.0,\"#f0f921\"]],\"type\":\"surface\"}],\"table\":[{\"cells\":{\"fill\":{\"color\":\"#506784\"},\"line\":{\"color\":\"rgb(17,17,17)\"}},\"header\":{\"fill\":{\"color\":\"#2a3f5f\"},\"line\":{\"color\":\"rgb(17,17,17)\"}},\"type\":\"table\"}]},\"layout\":{\"annotationdefaults\":{\"arrowcolor\":\"#f2f5fa\",\"arrowhead\":0,\"arrowwidth\":1},\"autotypenumbers\":\"strict\",\"coloraxis\":{\"colorbar\":{\"outlinewidth\":0,\"ticks\":\"\"}},\"colorscale\":{\"diverging\":[[0,\"#8e0152\"],[0.1,\"#c51b7d\"],[0.2,\"#de77ae\"],[0.3,\"#f1b6da\"],[0.4,\"#fde0ef\"],[0.5,\"#f7f7f7\"],[0.6,\"#e6f5d0\"],[0.7,\"#b8e186\"],[0.8,\"#7fbc41\"],[0.9,\"#4d9221\"],[1,\"#276419\"]],\"sequential\":[[0.0,\"#0d0887\"],[0.1111111111111111,\"#46039f\"],[0.2222222222222222,\"#7201a8\"],[0.3333333333333333,\"#9c179e\"],[0.4444444444444444,\"#bd3786\"],[0.5555555555555556,\"#d8576b\"],[0.6666666666666666,\"#ed7953\"],[0.7777777777777778,\"#fb9f3a\"],[0.8888888888888888,\"#fdca26\"],[1.0,\"#f0f921\"]],\"sequentialminus\":[[0.0,\"#0d0887\"],[0.1111111111111111,\"#46039f\"],[0.2222222222222222,\"#7201a8\"],[0.3333333333333333,\"#9c179e\"],[0.4444444444444444,\"#bd3786\"],[0.5555555555555556,\"#d8576b\"],[0.6666666666666666,\"#ed7953\"],[0.7777777777777778,\"#fb9f3a\"],[0.8888888888888888,\"#fdca26\"],[1.0,\"#f0f921\"]]},\"colorway\":[\"#636efa\",\"#EF553B\",\"#00cc96\",\"#ab63fa\",\"#FFA15A\",\"#19d3f3\",\"#FF6692\",\"#B6E880\",\"#FF97FF\",\"#FECB52\"],\"font\":{\"color\":\"#f2f5fa\"},\"geo\":{\"bgcolor\":\"rgb(17,17,17)\",\"lakecolor\":\"rgb(17,17,17)\",\"landcolor\":\"rgb(17,17,17)\",\"showlakes\":true,\"showland\":true,\"subunitcolor\":\"#506784\"},\"hoverlabel\":{\"align\":\"left\"},\"hovermode\":\"closest\",\"mapbox\":{\"style\":\"dark\"},\"paper_bgcolor\":\"rgb(17,17,17)\",\"plot_bgcolor\":\"rgb(17,17,17)\",\"polar\":{\"angularaxis\":{\"gridcolor\":\"#506784\",\"linecolor\":\"#506784\",\"ticks\":\"\"},\"bgcolor\":\"rgb(17,17,17)\",\"radialaxis\":{\"gridcolor\":\"#506784\",\"linecolor\":\"#506784\",\"ticks\":\"\"}},\"scene\":{\"xaxis\":{\"backgroundcolor\":\"rgb(17,17,17)\",\"gridcolor\":\"#506784\",\"gridwidth\":2,\"linecolor\":\"#506784\",\"showbackground\":true,\"ticks\":\"\",\"zerolinecolor\":\"#C8D4E3\"},\"yaxis\":{\"backgroundcolor\":\"rgb(17,17,17)\",\"gridcolor\":\"#506784\",\"gridwidth\":2,\"linecolor\":\"#506784\",\"showbackground\":true,\"ticks\":\"\",\"zerolinecolor\":\"#C8D4E3\"},\"zaxis\":{\"backgroundcolor\":\"rgb(17,17,17)\",\"gridcolor\":\"#506784\",\"gridwidth\":2,\"linecolor\":\"#506784\",\"showbackground\":true,\"ticks\":\"\",\"zerolinecolor\":\"#C8D4E3\"}},\"shapedefaults\":{\"line\":{\"color\":\"#f2f5fa\"}},\"sliderdefaults\":{\"bgcolor\":\"#C8D4E3\",\"bordercolor\":\"rgb(17,17,17)\",\"borderwidth\":1,\"tickwidth\":0},\"ternary\":{\"aaxis\":{\"gridcolor\":\"#506784\",\"linecolor\":\"#506784\",\"ticks\":\"\"},\"baxis\":{\"gridcolor\":\"#506784\",\"linecolor\":\"#506784\",\"ticks\":\"\"},\"bgcolor\":\"rgb(17,17,17)\",\"caxis\":{\"gridcolor\":\"#506784\",\"linecolor\":\"#506784\",\"ticks\":\"\"}},\"title\":{\"x\":0.05},\"updatemenudefaults\":{\"bgcolor\":\"#506784\",\"borderwidth\":0},\"xaxis\":{\"automargin\":true,\"gridcolor\":\"#283442\",\"linecolor\":\"#506784\",\"ticks\":\"\",\"title\":{\"standoff\":15},\"zerolinecolor\":\"#283442\",\"zerolinewidth\":2},\"yaxis\":{\"automargin\":true,\"gridcolor\":\"#283442\",\"linecolor\":\"#506784\",\"ticks\":\"\",\"title\":{\"standoff\":15},\"zerolinecolor\":\"#283442\",\"zerolinewidth\":2}}},\"title\":{\"text\":\"AGE DISTRIBUTION\"},\"xaxis\":{\"title\":{\"text\":\"AGE\"},\"showgrid\":false},\"yaxis\":{\"title\":{\"text\":\"COUNT\"},\"showgrid\":false},\"bargap\":0.05,\"plot_bgcolor\":\"black\",\"paper_bgcolor\":\"black\"},                        {\"responsive\": true}                    ).then(function(){\n",
              "                            \n",
              "var gd = document.getElementById('05342cea-8e96-4f23-b75e-707b5d7b49e4');\n",
              "var x = new MutationObserver(function (mutations, observer) {{\n",
              "        var display = window.getComputedStyle(gd).display;\n",
              "        if (!display || display === 'none') {{\n",
              "            console.log([gd, 'removed!']);\n",
              "            Plotly.purge(gd);\n",
              "            observer.disconnect();\n",
              "        }}\n",
              "}});\n",
              "\n",
              "// Listen for the removal of the full notebook cells\n",
              "var notebookContainer = gd.closest('#notebook-container');\n",
              "if (notebookContainer) {{\n",
              "    x.observe(notebookContainer, {childList: true});\n",
              "}}\n",
              "\n",
              "// Listen for the clearing of the current output cell\n",
              "var outputEl = gd.closest('.output');\n",
              "if (outputEl) {{\n",
              "    x.observe(outputEl, {childList: true});\n",
              "}}\n",
              "\n",
              "                        })                };                            </script>        </div>\n",
              "</body>\n",
              "</html>"
            ]
          },
          "metadata": {}
        }
      ]
    },
    {
      "cell_type": "markdown",
      "source": [
        "Trực quan hóa về tuổi ảnh hưởng tới bệnh tiểu đường"
      ],
      "metadata": {
        "id": "FS93Uh5bA8Nj"
      }
    },
    {
      "cell_type": "code",
      "source": [
        "# Now lets categorize the above histogram byOutcome\n",
        "\n",
        "import plotly.express as px\n",
        "fig = px.histogram(df, x=\"Age\", color=\"Outcome\", marginal=\"violin\", hover_data=df.columns,\n",
        "                   title =\"Distribution of AGE Vs Outcome\",\n",
        "                   labels={\"Age\": \"AGE\"},\n",
        "                   template=\"plotly_dark\",\n",
        "                   color_discrete_map={\"0\": \"RebeccaPurple\", \"1\": \"MediumPurple\"}\n",
        "                  )\n",
        "fig.show()"
      ],
      "metadata": {
        "colab": {
          "base_uri": "https://localhost:8080/",
          "height": 542
        },
        "id": "I0-OXx0-xXV-",
        "outputId": "8b7e202c-5bed-42e8-ac87-705d9850ef55"
      },
      "execution_count": null,
      "outputs": [
        {
          "output_type": "display_data",
          "data": {
            "text/html": [
              "<html>\n",
              "<head><meta charset=\"utf-8\" /></head>\n",
              "<body>\n",
              "    <div>            <script src=\"https://cdnjs.cloudflare.com/ajax/libs/mathjax/2.7.5/MathJax.js?config=TeX-AMS-MML_SVG\"></script><script type=\"text/javascript\">if (window.MathJax && window.MathJax.Hub && window.MathJax.Hub.Config) {window.MathJax.Hub.Config({SVG: {font: \"STIX-Web\"}});}</script>                <script type=\"text/javascript\">window.PlotlyConfig = {MathJaxConfig: 'local'};</script>\n",
              "        <script charset=\"utf-8\" src=\"https://cdn.plot.ly/plotly-2.24.1.min.js\"></script>                <div id=\"220f3d26-a9af-4935-b5ef-42ea80529871\" class=\"plotly-graph-div\" style=\"height:525px; width:100%;\"></div>            <script type=\"text/javascript\">                                    window.PLOTLYENV=window.PLOTLYENV || {};                                    if (document.getElementById(\"220f3d26-a9af-4935-b5ef-42ea80529871\")) {                    Plotly.newPlot(                        \"220f3d26-a9af-4935-b5ef-42ea80529871\",                        [{\"alignmentgroup\":\"True\",\"bingroup\":\"x\",\"hovertemplate\":\"Outcome=1\\u003cbr\\u003eAGE=%{x}\\u003cbr\\u003ecount=%{y}\\u003cextra\\u003e\\u003c\\u002fextra\\u003e\",\"legendgroup\":\"1\",\"marker\":{\"color\":\"#00cc96\",\"pattern\":{\"shape\":\"\"}},\"name\":\"1\",\"offsetgroup\":\"1\",\"orientation\":\"v\",\"showlegend\":true,\"x\":[52,31,30,26,51,52,33,59,49,33,30,32,31,41,29,51,40,44,29,46,28,56,55,26,31,59,43,39,42,40,30,42,24,36,44,59,31,35,23,23,46,39,61,39,25,23,25,41,61,32,33,27,41,43,42,34,47,32,39,36,29,36,27,39,42,61,33,32,27,34,41,29,22,25,31,56,54,43,25,38,39,25,32,43,22,66,24,20,47,26,52,21,31,23,35,50,44,20,51,27,34,25,29,36,31,28,46,53,29,25,31,24,29,47,29,26,29,48,25,31,26,42,28,60,25,35,44,31,23,42,44,34,42,38,48,30,44,30,29,66,29,45,27,58,33,35,46,56,27,32,22,25,31,35,41,46,39,28,21,23,37,27,34,32,40,42,31,41,31,31,24,23,24,39,49,37,28,34,31,24,45,55,40,36,46,30,54,46,23,33,43,26,56,36,54,56,27,31,20,63,21,52,41,51,46,44,21,37,54,36,22,36,42,50,51,25,34,38,34,48,33,22,44,24,28,22,43,39,39,69,42,32,54,25,27,26,46,45,42,43,30,50,53,30,44,22,37,34,31,53,42,35,21,22,41,48,46,27,37,50,22,28,45,38,52,64,44,47],\"xaxis\":\"x\",\"yaxis\":\"y\",\"type\":\"histogram\"},{\"alignmentgroup\":\"True\",\"customdata\":[[6.0,147.0,72.0,36.0,0.0,33.0,1.11,1.0],[10.0,182.0,64.0,0.0,0.0,23.6,0.41,1.0],[0.0,137.0,39.0,35.0,168.0,45.6,2.49,1.0],[2.0,79.0,50.0,33.0,88.0,30.4,0.23,1.0],[2.0,196.0,72.0,45.0,543.0,29.7,1.8,1.0],[9.0,124.0,97.0,2.0,0.0,0.1,-1.39,1.0],[9.0,170.0,74.0,0.0,0.0,38.4,-0.91,1.0],[1.0,189.0,60.0,24.0,846.0,29.0,0.07,1.0],[5.0,167.0,72.0,20.0,174.0,23.7,-0.29,1.0],[7.0,100.0,0.0,2.0,0.0,31.6,0.56,1.0],[0.0,119.0,84.0,47.0,231.0,46.1,-0.29,1.0],[6.0,107.0,73.0,0.0,0.0,30.7,1.21,1.0],[2.0,115.0,71.0,31.0,97.0,34.8,1.08,1.0],[7.0,196.0,90.0,0.0,0.0,40.4,0.34,1.0],[8.0,120.0,79.0,34.0,0.0,28.8,-1.42,1.0],[11.0,144.0,92.0,32.0,145.0,36.1,1.01,1.0],[10.0,127.0,69.0,25.0,115.0,30.9,1.01,1.0],[7.0,148.0,76.0,0.0,0.0,39.0,0.38,1.0],[2.0,158.0,74.0,37.0,245.0,31.6,1.69,1.0],[8.0,102.0,76.0,35.0,0.0,32.7,0.67,1.0],[1.0,90.0,69.0,43.0,1.0,38.8,1.49,1.0],[5.0,111.0,71.0,46.0,208.0,36.0,1.22,1.0],[10.0,172.0,110.0,23.0,241.0,44.0,1.75,1.0],[0.0,179.0,66.0,39.0,1.0,41.6,0.79,1.0],[8.0,102.0,67.0,32.0,0.0,38.6,-0.12,1.0],[8.0,175.0,90.0,34.0,302.0,33.5,-0.5,1.0],[10.0,187.0,69.0,38.0,304.0,37.9,0.15,1.0],[6.0,134.0,71.0,0.0,0.0,34.0,-0.78,1.0],[7.0,114.0,67.0,0.0,0.0,33.8,1.85,1.0],[1.0,107.0,90.0,29.0,0.0,33.6,0.8,1.0],[2.0,100.0,66.0,21.0,91.0,33.8,0.66,1.0],[13.0,129.0,90.0,0.0,0.0,42.5,0.3,1.0],[1.0,131.0,1.0,0.0,0.0,41.9,-0.49,1.0],[4.0,136.0,108.0,0.0,0.0,50.1,-0.67,1.0],[14.0,136.0,69.0,32.0,112.0,37.9,0.47,1.0],[4.0,134.0,71.0,0.0,0.0,23.9,-0.48,1.0],[0.0,125.0,90.0,51.0,221.0,50.5,0.99,1.0],[1.0,163.0,71.0,0.0,0.0,37.0,1.58,1.0],[0.0,95.0,84.0,25.0,36.0,36.9,2.14,1.0],[3.0,172.0,71.0,32.0,135.0,32.1,-1.38,1.0],[7.0,154.0,62.0,27.0,496.0,31.7,2.65,1.0],[7.0,160.0,55.0,30.0,174.0,30.5,0.64,1.0],[3.0,147.0,91.0,0.0,1.0,30.7,-0.25,1.0],[7.0,124.0,75.0,0.0,0.0,33.5,1.97,1.0],[1.0,161.0,77.0,58.0,99.0,51.9,1.03,1.0],[0.0,112.0,76.0,0.0,0.0,32.2,1.83,1.0],[1.0,88.0,31.0,41.0,98.0,53.7,-1.4,1.0],[1.0,119.0,88.0,23.0,144.0,36.0,-0.44,1.0],[1.0,105.0,83.0,1.0,0.0,27.7,-1.08,1.0],[3.0,172.0,70.0,15.0,169.0,31.1,2.09,1.0],[10.0,123.0,57.0,0.0,0.0,32.5,-0.86,1.0],[4.0,173.0,62.0,39.0,225.0,33.4,-0.16,1.0],[10.0,108.0,65.0,1.0,0.0,32.0,-0.23,1.0],[9.0,155.0,86.0,29.0,155.0,36.0,3.08,1.0],[7.0,188.0,79.0,1.0,0.0,47.8,1.98,1.0],[7.0,153.0,90.0,44.0,0.0,48.8,-0.19,1.0],[18.0,162.0,71.0,40.0,115.0,39.9,-0.73,1.0],[2.0,132.0,89.0,0.0,0.0,31.4,2.49,1.0],[6.0,103.0,72.0,16.0,156.0,31.8,1.47,1.0],[5.0,102.0,83.0,0.0,0.0,31.6,-1.12,1.0],[6.0,134.0,70.0,22.0,130.0,34.9,1.59,1.0],[8.0,179.0,72.0,42.0,130.0,32.9,0.9,1.0],[0.0,130.0,110.0,45.0,130.0,66.4,0.71,1.0],[4.0,131.0,82.0,1.0,0.0,37.2,-0.92,1.0],[7.0,195.0,67.0,27.0,0.0,35.7,0.46,1.0],[9.0,180.0,69.0,36.0,494.0,30.5,0.43,1.0],[1.0,127.0,98.0,41.0,57.0,31.1,2.76,1.0],[8.0,110.0,76.0,40.0,114.0,29.4,0.18,1.0],[3.0,140.0,81.0,35.0,161.0,33.4,0.9,1.0],[6.0,159.0,66.0,2.0,0.0,31.5,0.11,1.0],[11.0,137.0,0.0,1.0,0.0,50.8,-0.72,1.0],[6.0,157.0,83.0,40.0,210.0,39.3,0.14,1.0],[3.0,108.0,63.0,15.0,46.0,22.9,-0.51,1.0],[5.0,109.0,65.0,44.0,98.0,35.2,-0.94,1.0],[3.0,150.0,61.0,28.0,319.0,29.2,1.82,1.0],[8.0,195.0,77.0,29.0,279.0,37.3,2.22,1.0],[4.0,161.0,105.0,1.0,0.0,38.0,0.52,1.0],[8.0,183.0,83.0,34.0,0.0,33.7,-0.5,1.0],[0.0,139.0,63.0,26.0,128.0,43.6,1.36,1.0],[8.0,111.0,82.0,32.0,176.0,33.5,1.46,1.0],[12.0,151.0,71.0,40.0,270.0,41.1,0.34,1.0],[7.0,111.0,63.0,40.0,129.0,36.8,0.27,1.0],[4.0,85.0,73.0,23.0,0.0,27.9,0.25,1.0],[5.0,112.0,64.0,0.0,1.0,38.2,-0.64,1.0],[1.0,177.0,60.0,30.0,477.0,34.3,2.14,1.0],[0.0,156.0,91.0,1.0,1.0,31.5,0.52,1.0],[3.0,162.0,52.0,37.0,0.0,38.1,0.27,1.0],[4.0,143.0,86.0,1.0,1.0,41.4,0.01,1.0],[6.0,134.0,79.0,36.0,370.0,47.2,1.47,1.0],[4.0,172.0,73.0,0.0,0.0,43.6,0.8,1.0],[8.0,181.0,83.0,22.0,190.0,35.0,1.19,1.0],[0.0,180.0,90.0,27.0,1.0,43.7,2.02,1.0],[9.0,164.0,85.0,21.0,0.0,31.0,0.64,1.0],[3.0,138.0,54.0,0.0,2.0,25.7,-0.92,1.0],[7.0,120.0,50.0,23.0,176.0,27.1,1.8,1.0],[9.0,185.0,84.0,14.0,0.0,32.1,0.72,1.0],[12.0,93.0,62.0,8.0,256.0,26.7,1.74,1.0],[3.0,113.0,64.0,35.0,0.0,32.8,0.57,1.0],[9.0,154.0,76.0,27.0,148.0,33.0,3.09,1.0],[3.0,140.0,2.0,0.0,1.0,30.2,2.25,1.0],[3.0,123.0,62.0,0.0,2.0,31.5,0.72,1.0],[2.0,138.0,0.0,1.0,0.0,36.8,-0.15,1.0],[1.0,149.0,0.0,0.0,0.0,27.7,-0.17,1.0],[10.0,100.0,88.0,37.0,1.0,45.6,1.03,1.0],[9.0,105.0,60.0,23.0,0.0,27.5,0.07,1.0],[0.0,146.0,69.0,1.0,0.0,36.4,0.11,1.0],[6.0,161.0,86.0,0.0,0.0,31.2,0.59,1.0],[1.0,106.0,80.0,2.0,0.0,27.0,-0.4,1.0],[0.0,118.0,85.0,37.0,220.0,47.7,2.22,1.0],[0.0,107.0,64.0,29.0,73.0,35.3,1.56,1.0],[2.0,128.0,78.0,38.0,183.0,43.5,2.41,1.0],[0.0,129.0,49.0,46.0,192.0,41.3,0.82,1.0],[3.0,146.0,71.0,36.0,360.0,27.9,1.98,1.0],[14.0,100.0,79.0,25.0,185.0,37.4,1.26,1.0],[0.0,168.0,0.0,0.0,0.0,34.5,0.15,1.0],[1.0,146.0,58.0,33.0,135.0,31.4,0.19,1.0],[5.0,115.0,97.0,0.0,0.0,51.2,0.63,1.0],[11.0,161.0,67.0,24.0,129.0,23.5,0.44,1.0],[0.0,128.0,68.0,20.0,179.0,30.8,2.21,1.0],[4.0,124.0,69.0,29.0,206.0,33.9,3.26,1.0],[2.0,155.0,73.0,16.0,96.0,25.3,-0.47,1.0],[9.0,110.0,79.0,31.0,0.0,37.0,1.77,1.0],[3.0,182.0,74.0,0.0,0.0,30.2,-0.16,1.0],[5.0,194.0,76.0,0.0,1.0,21.5,2.74,1.0],[3.0,111.0,75.0,31.0,0.0,30.8,-0.11,1.0],[0.0,123.0,71.0,20.0,0.0,28.4,0.96,1.0],[13.0,152.0,90.0,33.0,30.0,27.5,1.16,1.0],[2.0,124.0,64.0,33.0,156.0,36.5,1.35,1.0],[1.0,103.0,87.0,36.0,119.0,46.0,0.03,1.0],[2.0,182.0,0.0,0.0,0.0,43.7,-0.51,1.0],[7.0,114.0,76.0,0.0,1.0,29.9,-0.88,1.0],[8.0,152.0,78.0,34.0,170.0,35.9,2.27,1.0],[6.0,178.0,83.0,0.0,0.0,39.7,0.55,1.0],[4.0,0.0,80.0,31.0,0.0,40.4,0.06,1.0],[7.0,165.0,86.0,0.0,2.0,30.5,1.86,1.0],[0.0,126.0,50.0,41.0,166.0,32.3,3.48,1.0],[12.0,130.0,0.0,29.0,0.0,41.1,-0.1,1.0],[2.0,195.0,76.0,36.0,249.0,36.5,2.56,1.0],[5.0,191.0,63.0,31.0,323.0,31.1,1.3,1.0],[3.0,146.0,79.0,0.0,0.0,39.7,-0.86,1.0],[6.0,125.0,73.0,0.0,0.0,24.9,-0.1,1.0],[3.0,134.0,103.0,27.0,140.0,33.7,-0.55,1.0],[2.0,173.0,84.0,49.0,465.0,36.4,2.17,1.0],[11.0,140.0,82.0,43.0,325.0,40.3,-0.49,1.0],[2.0,156.0,75.0,0.0,0.0,48.3,0.35,1.0],[6.0,115.0,76.0,29.0,0.0,32.4,0.72,1.0],[8.0,105.0,99.0,35.0,2.0,43.3,-0.04,1.0],[7.0,144.0,83.0,26.0,285.0,33.0,1.05,1.0],[5.0,163.0,77.0,0.0,1.0,44.7,0.94,1.0],[4.0,157.0,77.0,1.0,0.0,32.1,1.13,1.0],[0.0,131.0,65.0,40.0,0.0,35.0,0.86,1.0],[3.0,194.0,70.0,29.0,0.0,36.2,0.67,1.0],[5.0,93.0,64.0,1.0,1.0,35.5,1.21,1.0],[5.0,136.0,85.0,41.0,86.0,35.7,-1.4,1.0],[4.0,168.0,63.0,0.0,0.0,34.0,-0.58,1.0],[3.0,114.0,72.0,0.0,1.0,28.5,-1.76,1.0],[8.0,198.0,74.0,0.0,0.0,26.3,1.61,1.0],[1.0,171.0,70.0,48.0,577.0,42.2,0.67,1.0],[0.0,138.0,60.0,33.0,169.0,35.3,1.31,1.0],[2.0,174.0,84.0,32.0,474.0,36.3,1.68,1.0],[4.0,147.0,81.0,31.0,0.0,39.3,-0.28,1.0],[3.0,129.0,63.0,29.0,115.0,25.8,0.72,1.0],[8.0,151.0,77.0,33.0,210.0,44.2,-1.46,1.0],[5.0,183.0,78.0,40.0,277.0,34.9,0.56,1.0],[1.0,182.0,65.0,31.0,181.0,34.0,1.44,1.0],[2.0,95.0,82.0,25.0,180.0,35.2,0.02,1.0],[0.0,143.0,0.0,0.0,1.0,43.4,0.54,1.0],[0.0,189.0,104.0,25.0,0.0,35.1,0.83,1.0],[9.0,109.0,70.0,0.0,0.0,31.2,1.42,1.0],[4.0,119.0,62.0,12.0,1.0,31.2,0.23,1.0],[0.0,181.0,78.0,63.0,12.0,59.4,3.68,1.0],[0.0,104.0,62.0,37.0,65.0,33.2,1.17,1.0],[0.0,133.0,69.0,0.0,0.0,28.0,0.63,1.0],[13.0,175.0,60.0,33.0,0.0,33.7,0.47,1.0],[10.0,149.0,85.0,46.0,237.0,37.4,1.45,1.0],[8.0,121.0,0.0,0.0,1.0,29.4,0.88,1.0],[2.0,104.0,80.0,46.0,191.0,32.0,2.24,1.0],[1.0,158.0,71.0,30.0,327.0,36.3,-2.63,1.0],[0.0,145.0,0.0,0.0,0.0,42.9,0.92,1.0],[0.0,134.0,69.0,41.0,249.0,43.4,0.21,1.0],[4.0,124.0,70.0,18.0,124.0,31.1,0.17,1.0],[8.0,196.0,69.0,34.0,146.0,25.3,0.07,1.0],[5.0,0.0,68.0,40.0,0.0,40.1,0.04,1.0],[0.0,180.0,91.0,23.0,89.0,35.0,0.49,1.0],[12.0,84.0,72.0,32.0,0.0,29.3,-0.44,1.0],[5.0,163.0,70.0,17.0,104.0,31.6,0.31,1.0],[11.0,145.0,88.0,35.0,165.0,28.2,2.3,1.0],[10.0,131.0,69.0,0.0,0.0,32.4,1.05,1.0],[4.0,132.0,1.0,0.0,1.0,32.2,2.09,1.0],[2.0,131.0,92.0,49.0,155.0,36.9,1.55,1.0],[6.0,100.0,74.0,41.0,214.0,36.6,1.6,1.0],[3.0,128.0,71.0,26.0,188.0,31.4,0.63,1.0],[10.0,90.0,84.0,31.0,0.0,34.1,2.12,1.0],[8.0,186.0,90.0,35.0,226.0,33.3,-0.48,1.0],[5.0,188.0,76.0,26.0,206.0,43.5,-0.93,1.0],[5.0,125.0,76.0,0.0,1.0,35.2,-2.46,1.0],[0.0,199.0,66.0,31.0,274.0,40.2,-0.1,1.0],[1.0,121.0,66.0,30.0,166.0,32.9,-0.69,1.0],[2.0,118.0,80.0,0.0,0.0,42.9,0.85,1.0],[2.0,197.0,70.0,99.0,0.0,35.1,1.66,1.0],[1.0,151.0,90.0,46.0,0.0,41.7,1.43,1.0],[7.0,124.0,76.0,24.0,598.0,28.8,1.49,1.0],[8.0,142.0,65.0,0.0,0.0,34.9,1.25,1.0],[4.0,176.0,87.0,29.0,157.0,32.3,-0.11,1.0],[12.0,110.0,84.0,39.0,0.0,46.1,1.79,1.0],[2.0,132.0,80.0,0.0,2.0,34.6,0.25,1.0],[0.0,189.0,82.0,13.0,185.0,30.5,2.35,1.0],[3.0,172.0,73.0,0.0,1.0,36.4,0.4,1.0],[7.0,149.0,77.0,29.0,127.0,34.8,0.04,1.0],[3.0,183.0,1.0,0.0,0.0,27.8,-0.52,1.0],[0.0,179.0,78.0,42.0,293.0,39.7,1.83,1.0],[0.0,174.0,59.0,22.0,192.0,33.0,1.83,1.0],[5.0,166.0,89.0,41.0,323.0,35.0,-0.61,1.0],[11.0,138.0,73.0,26.0,143.0,36.7,1.52,1.0],[11.0,112.0,84.0,25.0,0.0,28.9,1.84,1.0],[0.0,119.0,0.0,0.0,0.0,32.5,-2.2,1.0],[6.0,113.0,62.0,0.0,0.0,27.6,1.35,1.0],[13.0,104.0,73.0,0.0,2.0,31.0,1.95,1.0],[7.0,97.0,76.0,31.0,92.0,42.1,0.04,1.0],[6.0,147.0,80.0,0.0,0.0,29.0,-0.03,1.0],[1.0,167.0,73.0,16.0,146.0,24.0,1.7,1.0],[0.0,179.0,48.0,35.0,159.0,37.8,0.85,1.0],[9.0,136.0,83.0,36.0,130.0,26.4,-0.68,1.0],[4.0,156.0,51.0,28.0,538.0,39.2,-1.43,1.0],[3.0,80.0,82.0,31.0,70.0,32.7,0.96,1.0],[1.0,199.0,75.0,42.0,0.0,40.5,0.82,1.0],[9.0,168.0,107.0,46.0,231.0,36.5,1.28,1.0],[9.0,145.0,80.0,47.0,130.0,37.1,-0.29,1.0],[6.0,115.0,59.0,40.0,2.0,33.6,-0.02,1.0],[5.0,145.0,82.0,17.0,0.0,33.3,1.99,1.0],[9.0,112.0,71.0,28.0,0.0,26.7,-0.2,1.0],[7.0,194.0,70.0,0.0,1.0,30.6,1.4,1.0],[10.0,158.0,84.0,0.0,0.0,24.9,1.68,1.0],[2.0,121.0,52.0,0.0,0.0,35.7,0.9,1.0],[0.0,163.0,76.0,35.0,0.0,48.5,-0.13,1.0],[5.0,124.0,82.0,0.0,2.0,31.1,0.97,1.0],[1.0,145.0,81.0,45.0,181.0,45.5,0.36,1.0],[15.0,159.0,113.0,0.0,0.0,41.8,0.28,1.0],[5.0,130.0,69.0,49.0,126.0,39.1,0.51,1.0],[7.0,141.0,91.0,25.0,479.0,30.2,0.63,1.0],[3.0,168.0,74.0,19.0,124.0,29.4,2.01,1.0],[7.0,126.0,78.0,29.0,1.0,28.3,-0.3,1.0],[2.0,169.0,89.0,29.0,2.0,36.0,1.63,1.0],[10.0,116.0,0.0,0.0,0.0,0.2,-1.11,1.0],[10.0,163.0,77.0,1.0,1.0,31.4,-0.04,1.0],[2.0,93.0,65.0,32.0,159.0,37.9,0.61,1.0],[11.0,128.0,61.0,36.0,1.0,41.4,1.39,1.0],[8.0,187.0,49.0,33.0,394.0,33.1,1.5,1.0],[5.0,173.0,74.0,39.0,185.0,35.3,1.27,1.0],[6.0,97.0,76.0,27.0,0.0,37.2,0.99,1.0],[1.0,148.0,68.0,28.0,127.0,29.5,0.37,1.0],[4.0,132.0,78.0,23.0,81.0,26.7,0.23,1.0],[7.0,121.0,86.0,1.0,2.0,29.0,-1.67,1.0],[2.0,174.0,88.0,36.0,119.0,44.0,1.28,1.0],[0.0,102.0,74.0,0.0,0.0,40.7,0.92,1.0],[11.0,120.0,82.0,38.0,149.0,43.3,-0.03,1.0],[7.0,141.0,94.0,0.0,2.0,31.1,0.97,1.0],[2.0,148.0,94.0,41.0,0.0,49.1,0.54,1.0],[5.0,186.0,69.0,24.0,200.0,36.1,0.09,1.0],[5.0,163.0,61.0,1.0,0.0,24.2,0.79,1.0],[3.0,135.0,68.0,0.0,1.0,29.5,0.61,1.0],[1.0,182.0,88.0,46.0,509.0,42.0,1.51,1.0],[7.0,154.0,77.0,31.0,2.0,32.8,1.35,1.0],[0.0,128.0,87.0,39.0,108.0,37.0,2.09,1.0],[0.0,123.0,72.0,0.0,0.0,36.7,1.64,1.0],[6.0,189.0,92.0,2.0,0.0,34.3,-0.11,1.0],[9.0,171.0,74.0,31.0,0.0,44.0,0.86,1.0],[0.0,126.0,60.0,0.0,2.0,31.2,-0.22,1.0]],\"hovertemplate\":\"Outcome=%{customdata[7]}\\u003cbr\\u003eAGE=%{x}\\u003cbr\\u003ePregnancies=%{customdata[0]}\\u003cbr\\u003eGlucose=%{customdata[1]}\\u003cbr\\u003eBloodPressure=%{customdata[2]}\\u003cbr\\u003eSkinThickness=%{customdata[3]}\\u003cbr\\u003eInsulin=%{customdata[4]}\\u003cbr\\u003eBMI=%{customdata[5]}\\u003cbr\\u003eDiabetesPedigreeFunction=%{customdata[6]}\\u003cextra\\u003e\\u003c\\u002fextra\\u003e\",\"legendgroup\":\"1\",\"marker\":{\"color\":\"#00cc96\"},\"name\":\"1\",\"offsetgroup\":\"1\",\"scalegroup\":\"x\",\"showlegend\":false,\"x\":[52,31,30,26,51,52,33,59,49,33,30,32,31,41,29,51,40,44,29,46,28,56,55,26,31,59,43,39,42,40,30,42,24,36,44,59,31,35,23,23,46,39,61,39,25,23,25,41,61,32,33,27,41,43,42,34,47,32,39,36,29,36,27,39,42,61,33,32,27,34,41,29,22,25,31,56,54,43,25,38,39,25,32,43,22,66,24,20,47,26,52,21,31,23,35,50,44,20,51,27,34,25,29,36,31,28,46,53,29,25,31,24,29,47,29,26,29,48,25,31,26,42,28,60,25,35,44,31,23,42,44,34,42,38,48,30,44,30,29,66,29,45,27,58,33,35,46,56,27,32,22,25,31,35,41,46,39,28,21,23,37,27,34,32,40,42,31,41,31,31,24,23,24,39,49,37,28,34,31,24,45,55,40,36,46,30,54,46,23,33,43,26,56,36,54,56,27,31,20,63,21,52,41,51,46,44,21,37,54,36,22,36,42,50,51,25,34,38,34,48,33,22,44,24,28,22,43,39,39,69,42,32,54,25,27,26,46,45,42,43,30,50,53,30,44,22,37,34,31,53,42,35,21,22,41,48,46,27,37,50,22,28,45,38,52,64,44,47],\"xaxis\":\"x2\",\"yaxis\":\"y2\",\"type\":\"violin\"},{\"alignmentgroup\":\"True\",\"bingroup\":\"x\",\"hovertemplate\":\"Outcome=0\\u003cbr\\u003eAGE=%{x}\\u003cbr\\u003ecount=%{y}\\u003cextra\\u003e\\u003c\\u002fextra\\u003e\",\"legendgroup\":\"0\",\"marker\":{\"color\":\"#ab63fa\",\"pattern\":{\"shape\":\"\"}},\"name\":\"0\",\"offsetgroup\":\"0\",\"orientation\":\"v\",\"showlegend\":true,\"x\":[32,21,31,28,28,58,33,27,49,22,58,36,61,21,26,44,34,34,26,37,49,41,29,21,23,22,24,29,42,21,31,43,22,19,35,26,33,53,24,27,26,23,22,22,41,27,22,22,24,37,22,26,45,26,24,23,33,41,21,39,23,21,24,22,21,23,27,19,27,38,25,24,25,26,22,22,25,24,69,29,24,40,26,31,22,22,29,28,56,39,23,23,22,41,34,67,22,24,38,23,22,22,22,34,45,28,21,22,32,29,30,24,23,34,43,48,32,24,22,28,38,20,41,42,20,21,28,33,27,54,27,22,24,23,61,31,39,61,25,21,25,31,24,22,30,23,27,21,21,29,42,22,33,23,42,26,24,25,29,25,25,34,23,64,44,24,20,21,39,19,52,26,23,56,21,40,35,51,33,25,34,20,66,30,23,59,36,38,28,21,40,22,23,26,30,28,31,22,23,38,38,46,25,43,23,27,44,22,36,24,33,58,47,22,23,27,30,31,46,26,20,49,64,66,30,30,20,23,22,21,26,27,23,23,34,24,23,22,25,26,26,27,42,20,37,26,39,25,54,39,26,26,27,24,22,20,22,28,27,21,21,22,25,26,23,38,22,28,36,41,29,20,30,22,25,28,25,27,22,26,74,25,63,25,81,50,25,41,36,34,19,21,26,28,28,24,22,50,23,59,32,38,62,28,26,24,21,57,27,66,25,43,32,22,65,27,24,39,22,28,40,39,38,19,20,63,20,58,22,23,51,41,59,25,26,27,24,21,21,22,23,32,22,23,29,32,25,45,68,24,24,29,28,51,36,20,25,66,22,28,37,30,57,43,36,24,33,26,22,20,44,38,40,22,22,20,23,24,35,36,27,62,41,22,31,24,24,25,33,47,21,26,24,27,31,21,26,26,23,23,27,28,30,26,29,28,46,21,20,30,22,20,45,20,24,23,22,31,48,23,27,27,24,30,27,29,23,23,28,28,26,23,22,42,50,54,24,43,45,47,21,49,23,67,25,23,24,23,70,25,22,30,22,34,24,27,22,28,26,26,41,27,27,22,23,39,20,33,55,23,34,21,42,44,39,24,22,22,21,23,53,28,20,44,20,26,23,39,45,32,29,24,38,26,20,32,60,25,30,24],\"xaxis\":\"x\",\"yaxis\":\"y\",\"type\":\"histogram\"},{\"alignmentgroup\":\"True\",\"customdata\":[[0.0,84.0,66.0,29.0,1.0,24.9,1.49,0.0],[2.0,89.0,64.0,22.0,95.0,26.4,-0.19,0.0],[5.0,115.0,74.0,0.0,0.0,25.6,-1.06,0.0],[10.0,116.0,2.0,0.0,1.0,35.6,0.33,0.0],[4.0,111.0,93.0,1.0,0.0,36.9,1.07,0.0],[9.0,138.0,79.0,1.0,0.0,26.0,0.01,0.0],[1.0,101.0,30.0,37.0,83.0,43.1,0.98,0.0],[3.0,127.0,88.0,39.0,235.0,38.9,0.66,0.0],[10.0,99.0,83.0,0.0,0.0,37.2,0.49,0.0],[2.0,98.0,67.0,14.0,140.0,22.3,0.91,0.0],[13.0,146.0,81.0,19.0,110.0,21.1,0.17,0.0],[5.0,118.0,92.0,0.0,1.0,35.2,1.37,0.0],[5.0,108.0,77.0,28.0,0.0,36.5,0.57,0.0],[4.0,88.0,57.0,11.0,55.0,24.5,-0.73,0.0],[7.0,91.0,91.0,0.0,0.0,18.7,0.62,0.0],[9.0,122.0,76.0,32.0,0.0,28.1,0.78,0.0],[5.0,103.0,61.0,35.0,192.0,24.1,2.84,0.0],[11.0,136.0,76.0,0.0,0.0,33.3,-1.21,0.0],[2.0,180.0,63.0,26.0,71.0,35.6,-0.73,0.0],[7.0,133.0,85.0,0.0,1.0,41.8,2.95,0.0],[6.0,105.0,93.0,19.0,1.0,22.7,1.45,0.0],[8.0,159.0,64.0,0.0,0.0,27.0,3.01,0.0],[1.0,147.0,55.0,0.0,0.0,30.2,1.61,0.0],[3.0,69.0,69.0,27.0,1.0,26.5,-1.18,0.0],[5.0,106.0,0.0,1.0,1.0,0.0,1.13,0.0],[0.0,103.0,79.0,11.0,84.0,18.5,2.51,0.0],[1.0,103.0,48.0,15.0,37.0,24.4,1.04,0.0],[5.0,87.0,66.0,21.0,24.0,24.5,1.06,0.0],[7.0,150.0,65.0,41.0,340.0,34.1,1.25,0.0],[0.0,73.0,49.0,10.0,0.0,23.1,-0.19,0.0],[0.0,100.0,88.0,61.0,109.0,47.3,-0.22,0.0],[1.0,146.0,82.0,0.0,0.0,43.4,1.18,0.0],[1.0,104.0,63.0,41.0,141.0,40.4,0.91,0.0],[2.0,84.0,0.0,0.0,1.0,0.0,-0.34,0.0],[4.0,42.0,63.0,0.0,0.0,24.9,-0.85,0.0],[1.0,140.0,57.0,32.0,128.0,25.9,1.42,0.0],[5.0,97.0,75.0,26.0,0.0,29.4,-0.8,0.0],[2.0,109.0,93.0,0.0,0.0,44.1,-0.04,0.0],[1.0,95.0,68.0,14.0,38.0,20.3,-0.89,0.0],[5.0,147.0,86.0,26.0,98.0,29.9,-0.73,0.0],[5.0,140.0,66.0,35.0,140.0,27.8,1.64,0.0],[4.0,130.0,87.0,21.0,270.0,35.4,1.53,0.0],[0.0,79.0,74.0,31.0,0.0,32.9,-0.53,0.0],[0.0,1.0,48.0,21.0,0.0,24.9,0.36,0.0],[6.0,62.0,78.0,0.0,0.0,32.1,1.25,0.0],[5.0,94.0,72.0,33.0,0.0,36.2,1.4,0.0],[2.0,111.0,66.0,21.0,0.0,23.9,0.44,0.0],[2.0,112.0,43.0,14.0,0.0,20.7,0.31,0.0],[1.0,73.0,0.0,0.0,0.0,0.9,0.48,0.0],[6.0,84.0,78.0,26.0,71.0,29.5,1.06,0.0],[1.0,100.0,64.0,28.0,2.0,25.9,-0.11,0.0],[3.0,111.0,75.0,30.0,126.0,31.3,-0.71,0.0],[14.0,103.0,71.0,53.0,1.0,35.9,0.68,0.0],[1.0,100.0,67.0,25.0,72.0,37.8,1.14,0.0],[1.0,106.0,68.0,22.0,0.0,26.4,-0.43,0.0],[0.0,77.0,55.0,2.0,0.0,19.7,0.56,0.0],[3.0,122.0,80.0,16.0,175.0,30.9,1.74,0.0],[8.0,80.0,78.0,40.0,48.0,46.3,-0.32,0.0],[3.0,142.0,83.0,18.0,62.0,24.2,2.29,0.0],[7.0,144.0,72.0,27.0,228.0,33.6,0.42,0.0],[4.0,94.0,60.0,28.0,0.0,31.5,1.01,0.0],[0.0,72.0,49.0,19.0,75.0,21.6,1.34,0.0],[6.0,93.0,49.0,29.0,64.0,28.9,0.73,0.0],[2.0,150.0,62.0,1.0,0.0,26.0,-0.03,0.0],[0.0,127.0,96.0,0.0,0.0,22.7,0.34,0.0],[2.0,80.0,71.0,18.0,40.0,28.1,0.43,0.0],[2.0,83.0,67.0,1.0,0.0,38.7,-0.6,0.0],[1.0,127.0,55.0,28.0,152.0,28.7,1.68,0.0],[1.0,96.0,120.0,0.0,0.0,21.9,0.25,0.0],[4.0,145.0,58.0,26.0,140.0,29.7,0.76,0.0],[4.0,83.0,58.0,31.0,18.0,34.9,-0.27,0.0],[0.0,90.0,77.0,34.0,36.0,30.9,0.03,0.0],[4.0,76.0,62.0,1.0,0.0,33.7,0.44,0.0],[4.0,78.0,49.0,0.0,1.0,33.4,0.6,0.0],[4.0,95.0,61.0,23.0,1.0,27.1,1.28,0.0],[4.0,98.0,77.0,14.0,51.0,21.2,0.78,0.0],[6.0,110.0,65.0,40.0,0.0,33.7,-1.46,0.0],[2.0,106.0,76.0,30.0,100.0,34.2,1.62,0.0],[6.0,133.0,82.0,0.0,1.0,27.7,-0.87,0.0],[4.0,120.0,70.0,31.0,135.0,41.1,-1.16,0.0],[3.0,119.0,59.0,35.0,96.0,33.5,0.04,0.0],[8.0,85.0,76.0,31.0,0.0,39.0,-0.21,0.0],[2.0,96.0,70.0,13.0,50.0,22.8,0.67,0.0],[5.0,125.0,59.0,20.0,140.0,34.4,1.13,0.0],[0.0,102.0,71.0,25.0,52.0,30.7,-1.79,0.0],[0.0,92.0,61.0,26.0,92.0,28.6,2.8,0.0],[0.0,130.0,79.0,2.0,0.0,29.2,2.13,0.0],[4.0,107.0,72.0,31.0,325.0,36.5,-0.08,0.0],[4.0,128.0,77.0,0.0,2.0,21.6,0.84,0.0],[4.0,106.0,84.0,31.0,0.0,39.5,-0.09,0.0],[2.0,108.0,50.0,26.0,63.0,33.0,1.06,0.0],[5.0,154.0,61.0,32.0,285.0,32.2,0.55,0.0],[2.0,103.0,74.0,24.0,0.0,0.0,0.81,0.0],[9.0,58.0,79.0,38.0,0.0,33.4,-0.82,0.0],[1.0,106.0,64.0,35.0,120.0,30.1,0.52,0.0],[5.0,148.0,77.0,0.0,1.0,32.3,-0.69,0.0],[0.0,90.0,71.0,16.0,0.0,25.5,-1.53,0.0],[2.0,135.0,72.0,52.0,205.0,36.6,0.32,0.0],[5.0,115.0,64.0,0.0,0.0,21.7,2.08,0.0],[3.0,154.0,82.0,42.0,485.0,40.8,0.45,0.0],[2.0,99.0,52.0,15.0,94.0,24.1,-0.51,0.0],[1.0,110.0,56.0,21.0,134.0,23.9,0.74,0.0],[2.0,88.0,73.0,18.0,53.0,28.7,-0.43,0.0],[3.0,151.0,89.0,38.0,1.0,29.8,-1.16,0.0],[5.0,102.0,73.0,43.0,106.0,37.9,-0.64,0.0],[1.0,114.0,80.0,34.0,285.0,43.6,-0.13,0.0],[3.0,101.0,64.0,23.0,0.0,30.6,1.0,0.0],[4.0,148.0,66.0,25.0,0.0,33.5,-0.12,0.0],[3.0,119.0,68.0,2.0,1.0,30.0,1.45,0.0],[2.0,111.0,66.0,0.0,1.0,31.8,0.66,0.0],[3.0,111.0,89.0,13.0,78.0,28.5,0.35,0.0],[2.0,86.0,0.0,23.0,0.0,29.6,0.25,0.0],[1.0,79.0,60.0,40.0,49.0,44.9,0.19,0.0],[3.0,74.0,63.0,25.0,56.0,30.2,0.45,0.0],[7.0,85.0,78.0,0.0,0.0,30.8,0.58,0.0],[4.0,143.0,78.0,1.0,1.0,43.9,0.15,0.0],[5.0,86.0,81.0,0.0,0.0,25.1,0.33,0.0],[1.0,117.0,64.0,18.0,91.0,32.7,-0.53,0.0],[2.0,0.0,74.0,21.0,23.0,27.8,0.14,0.0],[5.0,75.0,59.0,0.0,0.0,27.1,1.01,0.0],[4.0,141.0,74.0,0.0,0.0,26.7,1.0,0.0],[3.0,111.0,61.0,1.0,0.0,22.0,-0.39,0.0],[9.0,124.0,69.0,44.0,96.0,32.3,1.74,0.0],[8.0,85.0,54.0,20.0,0.0,24.0,-0.2,0.0],[2.0,103.0,58.0,0.0,0.0,25.1,0.72,0.0],[0.0,112.0,81.0,16.0,0.0,32.1,0.19,0.0],[2.0,139.0,81.0,0.0,0.0,40.6,0.82,0.0],[1.0,107.0,69.0,19.0,0.0,26.7,1.33,0.0],[2.0,98.0,68.0,16.0,43.0,19.0,-0.63,0.0],[5.0,103.0,73.0,34.0,190.0,36.7,-0.37,0.0],[6.0,111.0,70.0,27.0,1.0,23.2,0.9,0.0],[3.0,97.0,64.0,28.0,86.0,33.7,-1.45,0.0],[1.0,79.0,61.0,21.0,0.0,27.6,1.41,0.0],[0.0,147.0,83.0,54.0,0.0,40.5,-0.04,0.0],[6.0,178.0,96.0,32.0,0.0,34.2,-1.02,0.0],[7.0,125.0,67.0,30.0,121.0,30.4,0.81,0.0],[7.0,118.0,0.0,0.0,0.0,25.6,0.03,0.0],[9.0,141.0,60.0,34.0,190.0,30.0,0.62,0.0],[1.0,99.0,65.0,16.0,57.0,22.3,0.62,0.0],[0.0,87.0,79.0,26.0,31.0,34.8,-0.27,0.0],[1.0,101.0,76.0,1.0,0.0,36.3,0.01,0.0],[5.0,198.0,70.0,40.0,743.0,35.1,1.66,0.0],[2.0,117.0,80.0,33.0,54.0,45.6,-1.36,0.0],[1.0,78.0,80.0,25.0,37.0,23.7,1.62,0.0],[6.0,123.0,69.0,0.0,1.0,35.1,1.57,0.0],[2.0,75.0,68.0,27.0,45.0,29.5,1.35,0.0],[0.0,105.0,76.0,0.0,1.0,16.9,0.95,0.0],[0.0,92.0,65.0,23.0,1.0,29.6,0.37,0.0],[2.0,90.0,70.0,31.0,88.0,32.3,1.46,0.0],[3.0,147.0,76.0,34.0,194.0,36.1,1.06,0.0],[10.0,123.0,67.0,0.0,0.0,31.7,0.59,0.0],[0.0,167.0,89.0,34.0,679.0,51.8,0.29,0.0],[10.0,125.0,72.0,34.0,402.0,34.5,1.02,0.0],[0.0,112.0,87.0,18.0,0.0,30.8,0.29,0.0],[8.0,108.0,51.0,1.0,0.0,31.0,-0.24,0.0],[1.0,129.0,85.0,0.0,0.0,28.4,0.26,0.0],[1.0,91.0,80.0,15.0,55.0,23.1,1.25,0.0],[0.0,86.0,67.0,33.0,0.0,35.1,-0.66,0.0],[3.0,110.0,55.0,41.0,0.0,28.9,2.31,0.0],[1.0,112.0,65.0,22.0,0.0,28.1,1.34,0.0],[2.0,193.0,49.0,16.0,375.0,25.3,-1.25,0.0],[4.0,192.0,70.0,16.0,130.0,30.6,-1.02,0.0],[4.0,95.0,70.0,30.0,1.0,33.6,-0.5,0.0],[2.0,142.0,80.0,16.0,1.0,29.7,-0.17,0.0],[5.0,95.0,75.0,18.0,67.0,33.5,0.52,0.0],[2.0,129.0,64.0,42.0,0.0,40.3,-0.35,0.0],[0.0,101.0,51.0,1.0,0.0,23.9,1.65,0.0],[3.0,108.0,61.0,30.0,55.0,24.7,1.0,0.0],[4.0,124.0,77.0,0.0,0.0,23.0,0.56,0.0],[1.0,70.0,78.0,50.0,45.0,34.9,0.86,0.0],[12.0,106.0,70.0,0.0,1.0,32.8,-0.25,0.0],[4.0,99.0,70.0,53.0,57.0,39.1,0.81,0.0],[0.0,104.0,62.0,24.0,116.0,27.3,0.78,0.0],[5.0,115.0,74.0,0.0,1.0,25.0,-0.29,0.0],[1.0,107.0,62.0,10.0,278.0,26.4,2.24,0.0],[12.0,129.0,76.0,25.0,121.0,35.2,-1.77,0.0],[8.0,133.0,87.0,14.0,155.0,33.0,0.47,0.0],[5.0,135.0,74.0,25.0,134.0,27.4,2.07,0.0],[3.0,154.0,84.0,44.0,547.0,37.5,0.98,0.0],[3.0,97.0,56.0,18.0,51.0,19.3,-0.89,0.0],[6.0,109.0,70.0,43.0,75.0,35.1,-1.49,0.0],[0.0,78.0,89.0,29.0,41.0,35.7,-1.04,0.0],[0.0,161.0,50.0,1.0,1.0,22.2,0.97,0.0],[5.0,153.0,60.0,32.0,120.0,34.5,2.33,0.0],[2.0,126.0,85.0,30.0,218.0,32.2,-0.23,0.0],[8.0,112.0,73.0,0.0,0.0,24.2,1.26,0.0],[6.0,77.0,83.0,43.0,42.0,36.0,-0.82,0.0],[5.0,150.0,76.0,0.0,0.0,23.4,-1.59,0.0],[2.0,119.0,78.0,37.0,105.0,40.5,0.7,0.0],[1.0,138.0,69.0,14.0,147.0,23.9,-1.15,0.0],[6.0,83.0,65.0,29.0,1.0,26.5,0.52,0.0],[0.0,105.0,69.0,36.0,148.0,40.7,0.24,0.0],[2.0,113.0,51.0,10.0,85.0,28.9,0.75,0.0],[1.0,113.0,66.0,21.0,94.0,34.5,0.2,0.0],[3.0,99.0,79.0,11.0,63.0,19.4,-0.13,0.0],[4.0,115.0,68.0,40.0,140.0,37.5,0.19,0.0],[6.0,129.0,58.0,12.0,232.0,27.5,2.08,0.0],[3.0,113.0,77.0,30.0,0.0,35.1,0.65,0.0],[2.0,158.0,72.0,22.0,169.0,25.3,-0.61,0.0],[10.0,181.0,70.0,0.0,0.0,34.9,-1.01,0.0],[6.0,106.0,70.0,32.0,66.0,31.1,-0.23,0.0],[7.0,119.0,72.0,20.0,2.0,22.2,-1.02,0.0],[1.0,87.0,57.0,16.0,53.0,31.8,1.14,0.0],[11.0,104.0,80.0,0.0,0.0,22.8,-0.58,0.0],[1.0,97.0,60.0,17.0,58.0,23.8,-0.73,0.0],[0.0,164.0,78.0,43.0,255.0,47.7,0.93,0.0],[1.0,116.0,0.0,0.0,1.0,35.3,0.34,0.0],[1.0,131.0,71.0,14.0,104.0,25.9,-1.24,0.0],[0.0,96.0,73.0,22.0,74.0,27.8,0.11,0.0],[2.0,0.0,68.0,36.0,0.0,31.7,-0.49,0.0],[5.0,123.0,88.0,1.0,1.0,36.1,0.04,0.0],[7.0,96.0,71.0,0.0,1.0,35.8,0.4,0.0],[10.0,126.0,88.0,35.0,106.0,38.1,0.4,0.0],[0.0,140.0,45.0,20.0,83.0,27.5,0.54,0.0],[3.0,115.0,1.0,0.0,1.0,20.8,0.48,0.0],[4.0,98.0,61.0,19.0,76.0,23.0,0.67,0.0],[4.0,91.0,81.0,0.0,2.0,41.1,-0.99,0.0],[5.0,138.0,83.0,0.0,0.0,30.6,0.73,0.0],[3.0,61.0,81.0,27.0,0.0,35.8,0.16,0.0],[1.0,90.0,63.0,12.0,43.0,26.1,1.18,0.0],[2.0,92.0,77.0,0.0,0.0,41.9,1.96,0.0],[12.0,88.0,75.0,40.0,55.0,35.0,-1.78,0.0],[4.0,159.0,70.0,0.0,0.0,28.0,1.26,0.0],[5.0,104.0,108.0,37.0,1.0,39.6,-0.27,0.0],[4.0,147.0,72.0,25.0,292.0,34.8,-1.34,0.0],[4.0,99.0,56.0,28.0,85.0,34.6,0.3,0.0],[1.0,101.0,65.0,18.0,2.0,22.0,0.06,0.0],[4.0,82.0,88.0,15.0,67.0,26.9,-0.01,0.0],[1.0,119.0,64.0,24.0,90.0,0.2,1.9,0.0],[0.0,82.0,64.0,22.0,65.0,37.0,-1.36,0.0],[1.0,105.0,57.0,40.0,96.0,34.7,-0.98,0.0],[1.0,122.0,53.0,43.0,158.0,35.6,-0.04,0.0],[0.0,97.0,82.0,15.0,84.0,25.0,0.83,0.0],[2.0,88.0,60.0,37.0,76.0,38.2,0.6,0.0],[0.0,92.0,101.0,40.0,72.0,43.0,1.76,0.0],[0.0,106.0,72.0,28.0,84.0,32.1,2.94,0.0],[0.0,105.0,66.0,21.0,3.0,19.6,-1.27,0.0],[0.0,107.0,61.0,8.0,183.0,25.3,2.07,0.0],[1.0,91.0,63.0,18.0,59.0,23.4,0.98,0.0],[1.0,126.0,69.0,25.0,109.0,23.0,0.74,0.0],[1.0,120.0,53.0,14.0,48.0,23.2,-0.12,0.0],[2.0,100.0,70.0,24.0,81.0,30.7,0.41,0.0],[1.0,100.0,68.0,29.0,196.0,32.4,-0.2,0.0],[1.0,132.0,66.0,15.0,416.0,24.5,0.2,0.0],[4.0,116.0,71.0,13.0,89.0,20.8,1.96,0.0],[2.0,128.0,58.0,23.0,275.0,27.5,-0.25,0.0],[3.0,95.0,56.0,36.0,113.0,25.2,0.67,0.0],[1.0,81.0,71.0,0.0,0.0,21.3,1.83,0.0],[6.0,136.0,61.0,0.0,0.0,22.1,-0.23,0.0],[8.0,73.0,78.0,24.0,0.0,32.9,0.63,0.0],[1.0,125.0,48.0,32.0,163.0,42.0,1.54,0.0],[0.0,101.0,61.0,0.0,1.0,22.3,1.55,0.0],[5.0,102.0,92.0,39.0,0.0,36.1,1.11,0.0],[2.0,112.0,73.0,30.0,176.0,34.3,0.02,0.0],[1.0,142.0,84.0,21.0,309.0,41.4,0.47,0.0],[2.0,143.0,75.0,20.0,62.0,25.3,0.0,0.0],[1.0,97.0,69.0,21.0,2.0,27.2,0.67,0.0],[1.0,82.0,69.0,1.0,0.0,18.2,2.25,0.0],[0.0,119.0,88.0,41.0,168.0,45.0,-0.7,0.0],[3.0,94.0,67.0,19.0,76.0,27.5,0.73,0.0],[0.0,103.0,65.0,46.0,76.0,41.6,-1.21,0.0],[0.0,115.0,64.0,22.0,1.0,31.7,-0.03,0.0],[0.0,94.0,0.0,0.0,0.0,0.0,0.44,0.0],[2.0,134.0,95.0,45.0,148.0,41.0,0.15,0.0],[3.0,99.0,0.0,2.0,0.0,23.5,0.93,0.0],[3.0,89.0,74.0,17.0,86.0,30.0,0.4,0.0],[3.0,79.0,74.0,10.0,61.0,29.5,-0.34,0.0],[2.0,138.0,73.0,2.0,1.0,27.2,0.79,0.0],[0.0,91.0,68.0,9.0,0.0,23.2,0.79,0.0],[12.0,140.0,87.0,33.0,0.0,36.6,-0.81,0.0],[4.0,147.0,75.0,0.0,0.0,29.6,0.59,0.0],[2.0,97.0,70.0,15.0,1.0,18.3,-0.35,0.0],[6.0,106.0,86.0,0.0,1.0,37.3,-0.01,0.0],[2.0,84.0,66.0,23.0,50.0,33.5,0.95,0.0],[4.0,118.0,64.0,28.0,120.0,34.4,0.03,0.0],[3.0,100.0,73.0,13.0,68.0,25.9,-0.28,0.0],[0.0,95.0,80.0,44.0,92.0,36.2,0.68,0.0],[0.0,118.0,73.0,19.0,65.0,29.6,1.51,0.0],[0.0,84.0,64.0,14.0,95.0,19.0,2.03,0.0],[0.0,92.0,68.0,31.0,211.0,40.6,1.25,0.0],[2.0,121.0,1.0,0.0,2.0,21.1,0.32,0.0],[3.0,100.0,53.0,28.0,104.0,38.3,0.85,0.0],[1.0,135.0,53.0,1.0,0.0,24.9,0.88,0.0],[4.0,87.0,68.0,28.0,72.0,30.5,0.8,0.0],[7.0,133.0,75.0,34.0,61.0,24.6,-0.79,0.0],[10.0,120.0,71.0,22.0,58.0,21.2,0.69,0.0],[1.0,70.0,62.0,1.0,0.0,20.0,0.78,0.0],[6.0,75.0,71.0,41.0,49.0,34.2,1.19,0.0],[6.0,88.0,79.0,31.0,0.0,28.4,-0.36,0.0],[10.0,115.0,97.0,0.0,0.0,22.6,0.26,0.0],[0.0,123.0,55.0,14.0,105.0,22.4,-0.33,0.0],[0.0,74.0,52.0,7.0,36.0,29.2,0.85,0.0],[1.0,98.0,65.0,38.0,100.0,37.6,1.2,0.0],[5.0,155.0,77.0,41.0,141.0,45.6,0.01,0.0],[1.0,143.0,83.0,39.0,0.0,40.5,-1.3,0.0],[0.0,137.0,69.0,36.0,0.0,31.5,-0.77,0.0],[0.0,120.0,65.0,28.0,1.0,38.1,-0.83,0.0],[7.0,136.0,90.0,1.0,0.0,28.4,0.07,0.0],[4.0,113.0,62.0,0.0,0.0,29.7,1.4,0.0],[0.0,137.0,84.0,28.0,1.0,26.9,1.13,0.0],[7.0,114.0,76.0,17.0,112.0,23.7,0.04,0.0],[8.0,127.0,74.0,37.0,75.0,26.1,0.29,0.0],[3.0,130.0,85.0,31.0,1.0,27.1,-0.37,0.0],[1.0,123.0,88.0,36.0,0.0,35.6,0.24,0.0],[4.0,86.0,60.0,23.0,50.0,27.7,0.36,0.0],[1.0,83.0,82.0,29.0,125.0,38.5,-0.61,0.0],[1.0,138.0,63.0,40.0,481.0,38.6,-0.45,0.0],[1.0,173.0,81.0,31.0,265.0,46.5,1.91,0.0],[4.0,100.0,71.0,17.0,1.0,24.7,0.46,0.0],[8.0,192.0,79.0,1.0,1.0,26.5,1.72,0.0],[1.0,82.0,65.0,29.0,66.0,36.5,0.69,0.0],[3.0,90.0,89.0,31.0,0.0,33.7,0.56,0.0],[4.0,98.0,69.0,39.0,0.0,32.2,-0.54,0.0],[4.0,80.0,0.0,1.0,1.0,0.5,-1.62,0.0],[5.0,166.0,74.0,1.0,0.0,26.7,1.67,0.0],[6.0,109.0,68.0,1.0,1.0,26.2,-0.25,0.0],[2.0,81.0,72.0,14.0,76.0,31.0,1.85,0.0],[7.0,154.0,75.0,32.0,192.0,27.8,0.49,0.0],[2.0,117.0,92.0,19.0,70.0,24.4,1.03,0.0],[2.0,83.0,71.0,36.0,0.0,35.4,1.49,0.0],[8.0,93.0,63.0,22.0,81.0,33.5,1.89,0.0],[4.0,94.0,78.0,39.0,1.0,37.8,-1.48,0.0],[9.0,74.0,82.0,1.0,1.0,34.2,1.02,0.0],[0.0,131.0,60.0,22.0,169.0,30.7,0.62,0.0],[3.0,85.0,50.0,23.0,76.0,30.0,2.51,0.0],[8.0,119.0,78.0,0.0,0.0,24.9,1.5,0.0],[1.0,141.0,64.0,18.0,211.0,22.4,0.58,0.0],[8.0,91.0,68.0,1.0,1.0,25.1,1.16,0.0],[3.0,89.0,61.0,0.0,0.0,26.3,1.26,0.0],[1.0,98.0,53.0,19.0,86.0,24.0,-0.24,0.0],[7.0,126.0,86.0,1.0,0.0,37.9,1.23,0.0],[14.0,77.0,60.0,0.0,0.0,32.8,0.2,0.0],[6.0,127.0,91.0,7.0,327.0,20.7,-0.41,0.0],[2.0,68.0,70.0,32.0,67.0,24.0,0.35,0.0],[3.0,123.0,80.0,34.0,130.0,32.3,1.21,0.0],[7.0,112.0,0.0,0.0,1.0,0.0,1.95,0.0],[2.0,126.0,58.0,0.0,1.0,32.7,-0.65,0.0],[4.0,88.0,59.0,19.0,1.0,22.2,1.69,0.0],[1.0,98.0,64.0,19.0,81.0,17.8,0.84,0.0],[2.0,116.0,74.0,14.0,105.0,25.6,-0.7,0.0],[0.0,117.0,66.0,32.0,189.0,32.5,-0.86,0.0],[2.0,111.0,65.0,0.0,0.0,23.8,0.32,0.0],[3.0,122.0,60.0,17.0,105.0,30.1,2.87,0.0],[0.0,106.0,76.0,1.0,1.0,45.7,1.01,0.0],[2.0,86.0,64.0,51.0,65.0,41.9,3.68,0.0],[6.0,91.0,0.0,0.0,0.0,29.3,-0.72,0.0],[1.0,78.0,57.0,30.0,55.0,35.8,0.2,0.0],[0.0,103.0,90.0,0.0,2.0,29.0,2.38,0.0],[1.0,58.0,61.0,2.0,0.0,21.3,0.12,0.0],[2.0,127.0,79.0,37.0,211.0,35.6,0.65,0.0],[4.0,84.0,91.0,24.0,57.0,39.7,0.29,0.0],[3.0,88.0,77.0,29.0,75.0,33.1,1.77,0.0],[3.0,132.0,68.0,19.0,168.0,33.4,-0.75,0.0],[2.0,163.0,83.0,41.0,66.0,32.8,0.07,0.0],[4.0,191.0,110.0,32.0,0.0,28.6,0.95,0.0],[1.0,115.0,70.0,28.0,0.0,26.3,-2.08,0.0],[3.0,84.0,69.0,31.0,105.0,31.6,1.29,0.0],[7.0,114.0,87.0,0.0,1.0,30.2,0.27,0.0],[1.0,88.0,61.0,25.0,43.0,29.4,-0.07,0.0],[1.0,81.0,63.0,22.0,117.0,37.7,1.25,0.0],[7.0,123.0,70.0,34.0,214.0,25.5,3.01,0.0],[2.0,98.0,71.0,40.0,0.0,37.2,0.27,0.0],[9.0,111.0,76.0,0.0,0.0,27.3,1.58,0.0],[12.0,101.0,65.0,39.0,2.0,45.7,-0.35,0.0],[12.0,86.0,74.0,1.0,0.0,30.7,0.58,0.0],[0.0,89.0,68.0,35.0,78.0,38.4,0.79,0.0],[4.0,99.0,62.0,19.0,54.0,25.9,1.73,0.0],[0.0,90.0,79.0,0.0,0.0,32.4,2.19,0.0],[2.0,95.0,54.0,14.0,87.0,26.2,-0.16,0.0],[2.0,99.0,73.0,32.0,17.0,37.9,0.98,0.0],[6.0,91.0,61.0,34.0,126.0,31.9,-0.8,0.0],[2.0,154.0,72.0,31.0,126.0,31.9,0.0,0.0],[4.0,80.0,68.0,0.0,0.0,31.4,1.88,0.0],[2.0,129.0,94.0,0.0,0.0,22.2,-1.35,0.0],[4.0,112.0,59.0,32.0,45.0,28.7,0.14,0.0],[2.0,99.0,61.0,16.0,121.0,34.7,0.29,0.0],[2.0,145.0,85.0,31.0,329.0,28.7,-0.98,0.0],[0.0,120.0,44.0,46.0,63.0,35.2,0.4,0.0],[8.0,109.0,45.0,20.0,129.0,24.0,0.48,0.0],[9.0,133.0,70.0,0.0,0.0,26.4,-2.05,0.0],[6.0,106.0,62.0,27.0,0.0,25.5,-0.55,0.0],[11.0,120.0,78.0,16.0,0.0,27.2,-1.05,0.0],[8.0,100.0,76.0,0.0,2.0,39.4,0.17,0.0],[0.0,93.0,57.0,10.0,0.0,22.6,1.16,0.0],[5.0,102.0,65.0,0.0,0.0,22.1,-0.3,0.0],[0.0,73.0,0.0,1.0,0.0,21.8,0.51,0.0],[3.0,113.0,76.0,52.0,141.0,40.0,-0.55,0.0],[2.0,82.0,51.0,20.0,115.0,28.2,0.98,0.0],[5.0,123.0,73.0,45.0,230.0,32.7,-0.16,0.0],[0.0,67.0,77.0,0.0,0.0,45.2,-0.23,0.0],[1.0,90.0,23.0,21.0,25.0,28.4,0.19,0.0],[1.0,109.0,37.0,18.0,120.0,22.9,0.67,0.0],[3.0,108.0,89.0,18.0,1.0,26.1,-0.61,0.0],[6.0,96.0,1.0,1.0,0.0,22.4,-0.93,0.0],[1.0,123.0,74.0,36.0,0.0,27.9,0.54,0.0],[0.0,123.0,62.0,34.0,0.0,36.7,1.2,0.0],[2.0,93.0,62.0,24.0,38.0,19.6,1.98,0.0],[2.0,152.0,81.0,38.0,271.0,44.0,-0.61,0.0],[3.0,112.0,61.0,11.0,181.0,22.9,0.07,0.0],[3.0,106.0,54.0,20.0,158.0,30.8,0.71,0.0],[6.0,106.0,81.0,29.0,0.0,32.8,0.9,0.0],[4.0,108.0,73.0,2.0,0.0,27.8,2.13,0.0],[9.0,119.0,95.0,0.0,1.0,27.5,-0.27,0.0],[2.0,67.0,61.0,13.0,15.0,20.8,-0.11,0.0],[2.0,113.0,85.0,42.0,160.0,39.8,-0.07,0.0],[1.0,93.0,76.0,20.0,0.0,21.0,3.18,0.0],[5.0,183.0,92.0,0.0,0.0,42.2,3.03,0.0],[0.0,94.0,71.0,27.0,116.0,43.3,-1.35,0.0],[3.0,106.0,62.0,1.0,0.0,30.9,-0.89,0.0],[3.0,89.0,88.0,47.0,55.0,36.7,0.18,0.0],[1.0,124.0,69.0,1.0,0.0,23.8,0.24,0.0],[1.0,132.0,77.0,2.0,1.0,32.3,-0.08,0.0],[5.0,129.0,81.0,0.0,1.0,31.9,-0.14,0.0],[3.0,94.0,67.0,24.0,0.0,24.4,-0.41,0.0],[1.0,102.0,77.0,39.0,90.0,36.1,-0.49,0.0],[3.0,111.0,61.0,0.0,0.0,26.8,-0.14,0.0],[0.0,128.0,82.0,17.0,182.0,28.4,0.17,0.0],[10.0,93.0,63.0,0.0,2.0,26.7,-0.31,0.0],[6.0,104.0,74.0,1.0,0.0,28.0,0.24,0.0],[2.0,92.0,76.0,16.0,65.0,32.1,0.48,0.0],[1.0,100.0,74.0,13.0,46.0,19.8,0.68,0.0],[2.0,103.0,87.0,18.0,105.0,28.0,2.72,0.0],[4.0,129.0,70.0,0.0,0.0,35.8,2.22,0.0],[4.0,91.0,0.0,0.0,3.0,30.2,-0.63,0.0],[5.0,103.0,73.0,30.0,152.0,27.2,-0.98,0.0],[0.0,157.0,74.0,35.0,441.0,38.6,0.85,0.0],[1.0,108.0,60.0,25.0,0.0,26.7,0.84,0.0],[1.0,90.0,54.0,26.0,101.0,25.8,0.35,0.0],[1.0,118.0,60.0,25.0,106.0,34.9,2.06,0.0],[4.0,122.0,74.0,40.0,78.0,33.7,0.87,0.0],[4.0,119.0,54.0,0.0,1.0,26.7,1.23,0.0],[0.0,106.0,70.0,29.0,134.0,33.9,-0.84,0.0],[2.0,100.0,59.0,33.0,90.0,23.9,-0.78,0.0],[2.0,120.0,81.0,48.0,202.0,39.3,1.53,0.0],[12.0,129.0,105.0,0.0,0.0,39.3,0.14,0.0],[10.0,162.0,85.0,0.0,0.0,27.1,-1.23,0.0],[2.0,112.0,81.0,45.0,133.0,35.7,0.07,0.0],[7.0,96.0,58.0,33.0,190.0,34.4,1.06,0.0],[10.0,158.0,78.0,30.0,101.0,31.0,-0.61,0.0],[7.0,165.0,68.0,26.0,168.0,34.5,1.07,0.0],[2.0,99.0,57.0,10.0,0.0,25.3,-0.72,0.0],[10.0,70.0,107.0,22.0,49.0,37.1,0.27,0.0],[4.0,124.0,101.0,34.0,238.0,58.0,1.7,0.0],[7.0,91.0,83.0,0.0,0.0,34.4,-1.05,0.0],[0.0,93.0,62.0,0.0,2.0,32.6,-2.0,0.0],[2.0,102.0,59.0,16.0,265.0,25.2,-0.53,0.0],[1.0,55.0,55.0,29.0,45.0,23.3,-1.48,0.0],[0.0,94.0,63.0,39.0,105.0,45.8,1.29,0.0],[5.0,134.0,82.0,2.0,1.0,0.3,-0.37,0.0],[0.0,130.0,74.0,27.0,204.0,33.9,0.14,0.0],[4.0,131.0,63.0,0.0,1.0,22.5,0.26,0.0],[1.0,106.0,50.0,18.0,1.0,26.8,0.34,0.0],[1.0,139.0,74.0,27.0,182.0,25.1,1.89,0.0],[7.0,107.0,79.0,1.0,0.0,24.3,-1.72,0.0],[2.0,121.0,71.0,33.0,95.0,38.5,0.88,0.0],[1.0,91.0,61.0,1.0,0.0,23.0,1.76,0.0],[1.0,100.0,0.0,1.0,0.0,24.6,-0.37,0.0],[4.0,126.0,88.0,12.0,155.0,34.4,-0.37,0.0],[4.0,118.0,71.0,0.0,0.0,43.2,1.18,0.0],[3.0,121.0,77.0,27.0,200.0,34.6,0.48,0.0],[1.0,129.0,0.0,1.0,1.0,39.3,-0.63,0.0],[5.0,108.0,75.0,20.0,101.0,28.1,-0.38,0.0],[6.0,80.0,78.0,37.0,0.0,40.1,0.39,0.0],[2.0,127.0,46.0,22.0,334.0,34.4,0.91,0.0],[4.0,158.0,63.0,13.0,386.0,30.9,0.49,0.0],[4.0,125.0,77.0,27.0,23.0,31.1,1.38,0.0],[0.0,136.0,57.0,21.0,293.0,26.8,1.32,0.0],[2.0,103.0,75.0,1.0,0.0,28.2,-0.01,0.0],[11.0,91.0,73.0,18.0,0.0,23.1,0.41,0.0],[3.0,108.0,60.0,46.0,179.0,34.1,0.12,0.0],[4.0,82.0,86.0,21.0,0.0,29.1,1.28,0.0],[0.0,113.0,65.0,36.0,200.0,38.0,-0.74,0.0],[5.0,117.0,87.0,31.0,105.0,38.1,1.47,0.0],[2.0,109.0,91.0,1.0,1.0,33.4,-0.07,0.0],[2.0,111.0,78.0,40.0,1.0,39.5,0.85,0.0],[2.0,117.0,79.0,29.0,182.0,35.7,1.6,0.0],[0.0,143.0,85.0,26.0,1.0,31.9,0.82,0.0],[0.0,175.0,88.0,0.0,0.0,20.5,1.01,0.0],[0.0,91.0,52.0,2.0,0.0,31.3,-0.21,0.0],[3.0,106.0,57.0,26.0,167.0,29.6,2.03,0.0],[3.0,106.0,75.0,2.0,0.0,22.8,0.66,0.0],[4.0,96.0,63.0,33.0,0.0,34.7,2.19,0.0],[0.0,126.0,89.0,27.0,120.0,27.3,1.47,0.0],[7.0,65.0,73.0,24.0,2.0,32.7,-0.01,0.0],[2.0,100.0,61.0,17.0,161.0,37.6,1.38,0.0],[2.0,103.0,44.0,20.0,95.0,31.0,-1.91,0.0],[0.0,110.0,58.0,21.0,118.0,27.7,-0.1,0.0],[11.0,152.0,88.0,37.0,141.0,40.3,0.42,0.0],[12.0,101.0,86.0,35.0,104.0,30.4,0.85,0.0],[1.0,82.0,74.0,41.0,59.0,46.0,1.75,0.0],[1.0,122.0,80.0,39.0,76.0,39.1,-0.92,0.0],[0.0,108.0,63.0,23.0,0.0,26.1,-1.43,0.0],[6.0,136.0,90.0,42.0,0.0,31.5,0.79,0.0],[1.0,107.0,76.0,0.0,0.0,37.0,0.87,0.0],[1.0,89.0,58.0,25.0,17.0,26.6,1.47,0.0],[11.0,90.0,62.0,0.0,1.0,22.8,0.14,0.0],[9.0,102.0,77.0,51.0,181.0,33.2,1.11,0.0],[1.0,121.0,69.0,25.0,0.0,37.8,0.53,0.0],[5.0,121.0,72.0,23.0,113.0,26.3,-0.14,0.0],[1.0,93.0,70.0,32.0,0.0,30.8,1.8,0.0]],\"hovertemplate\":\"Outcome=%{customdata[7]}\\u003cbr\\u003eAGE=%{x}\\u003cbr\\u003ePregnancies=%{customdata[0]}\\u003cbr\\u003eGlucose=%{customdata[1]}\\u003cbr\\u003eBloodPressure=%{customdata[2]}\\u003cbr\\u003eSkinThickness=%{customdata[3]}\\u003cbr\\u003eInsulin=%{customdata[4]}\\u003cbr\\u003eBMI=%{customdata[5]}\\u003cbr\\u003eDiabetesPedigreeFunction=%{customdata[6]}\\u003cextra\\u003e\\u003c\\u002fextra\\u003e\",\"legendgroup\":\"0\",\"marker\":{\"color\":\"#ab63fa\"},\"name\":\"0\",\"offsetgroup\":\"0\",\"scalegroup\":\"x\",\"showlegend\":false,\"x\":[32,21,31,28,28,58,33,27,49,22,58,36,61,21,26,44,34,34,26,37,49,41,29,21,23,22,24,29,42,21,31,43,22,19,35,26,33,53,24,27,26,23,22,22,41,27,22,22,24,37,22,26,45,26,24,23,33,41,21,39,23,21,24,22,21,23,27,19,27,38,25,24,25,26,22,22,25,24,69,29,24,40,26,31,22,22,29,28,56,39,23,23,22,41,34,67,22,24,38,23,22,22,22,34,45,28,21,22,32,29,30,24,23,34,43,48,32,24,22,28,38,20,41,42,20,21,28,33,27,54,27,22,24,23,61,31,39,61,25,21,25,31,24,22,30,23,27,21,21,29,42,22,33,23,42,26,24,25,29,25,25,34,23,64,44,24,20,21,39,19,52,26,23,56,21,40,35,51,33,25,34,20,66,30,23,59,36,38,28,21,40,22,23,26,30,28,31,22,23,38,38,46,25,43,23,27,44,22,36,24,33,58,47,22,23,27,30,31,46,26,20,49,64,66,30,30,20,23,22,21,26,27,23,23,34,24,23,22,25,26,26,27,42,20,37,26,39,25,54,39,26,26,27,24,22,20,22,28,27,21,21,22,25,26,23,38,22,28,36,41,29,20,30,22,25,28,25,27,22,26,74,25,63,25,81,50,25,41,36,34,19,21,26,28,28,24,22,50,23,59,32,38,62,28,26,24,21,57,27,66,25,43,32,22,65,27,24,39,22,28,40,39,38,19,20,63,20,58,22,23,51,41,59,25,26,27,24,21,21,22,23,32,22,23,29,32,25,45,68,24,24,29,28,51,36,20,25,66,22,28,37,30,57,43,36,24,33,26,22,20,44,38,40,22,22,20,23,24,35,36,27,62,41,22,31,24,24,25,33,47,21,26,24,27,31,21,26,26,23,23,27,28,30,26,29,28,46,21,20,30,22,20,45,20,24,23,22,31,48,23,27,27,24,30,27,29,23,23,28,28,26,23,22,42,50,54,24,43,45,47,21,49,23,67,25,23,24,23,70,25,22,30,22,34,24,27,22,28,26,26,41,27,27,22,23,39,20,33,55,23,34,21,42,44,39,24,22,22,21,23,53,28,20,44,20,26,23,39,45,32,29,24,38,26,20,32,60,25,30,24],\"xaxis\":\"x2\",\"yaxis\":\"y2\",\"type\":\"violin\"}],                        {\"template\":{\"data\":{\"barpolar\":[{\"marker\":{\"line\":{\"color\":\"rgb(17,17,17)\",\"width\":0.5},\"pattern\":{\"fillmode\":\"overlay\",\"size\":10,\"solidity\":0.2}},\"type\":\"barpolar\"}],\"bar\":[{\"error_x\":{\"color\":\"#f2f5fa\"},\"error_y\":{\"color\":\"#f2f5fa\"},\"marker\":{\"line\":{\"color\":\"rgb(17,17,17)\",\"width\":0.5},\"pattern\":{\"fillmode\":\"overlay\",\"size\":10,\"solidity\":0.2}},\"type\":\"bar\"}],\"carpet\":[{\"aaxis\":{\"endlinecolor\":\"#A2B1C6\",\"gridcolor\":\"#506784\",\"linecolor\":\"#506784\",\"minorgridcolor\":\"#506784\",\"startlinecolor\":\"#A2B1C6\"},\"baxis\":{\"endlinecolor\":\"#A2B1C6\",\"gridcolor\":\"#506784\",\"linecolor\":\"#506784\",\"minorgridcolor\":\"#506784\",\"startlinecolor\":\"#A2B1C6\"},\"type\":\"carpet\"}],\"choropleth\":[{\"colorbar\":{\"outlinewidth\":0,\"ticks\":\"\"},\"type\":\"choropleth\"}],\"contourcarpet\":[{\"colorbar\":{\"outlinewidth\":0,\"ticks\":\"\"},\"type\":\"contourcarpet\"}],\"contour\":[{\"colorbar\":{\"outlinewidth\":0,\"ticks\":\"\"},\"colorscale\":[[0.0,\"#0d0887\"],[0.1111111111111111,\"#46039f\"],[0.2222222222222222,\"#7201a8\"],[0.3333333333333333,\"#9c179e\"],[0.4444444444444444,\"#bd3786\"],[0.5555555555555556,\"#d8576b\"],[0.6666666666666666,\"#ed7953\"],[0.7777777777777778,\"#fb9f3a\"],[0.8888888888888888,\"#fdca26\"],[1.0,\"#f0f921\"]],\"type\":\"contour\"}],\"heatmapgl\":[{\"colorbar\":{\"outlinewidth\":0,\"ticks\":\"\"},\"colorscale\":[[0.0,\"#0d0887\"],[0.1111111111111111,\"#46039f\"],[0.2222222222222222,\"#7201a8\"],[0.3333333333333333,\"#9c179e\"],[0.4444444444444444,\"#bd3786\"],[0.5555555555555556,\"#d8576b\"],[0.6666666666666666,\"#ed7953\"],[0.7777777777777778,\"#fb9f3a\"],[0.8888888888888888,\"#fdca26\"],[1.0,\"#f0f921\"]],\"type\":\"heatmapgl\"}],\"heatmap\":[{\"colorbar\":{\"outlinewidth\":0,\"ticks\":\"\"},\"colorscale\":[[0.0,\"#0d0887\"],[0.1111111111111111,\"#46039f\"],[0.2222222222222222,\"#7201a8\"],[0.3333333333333333,\"#9c179e\"],[0.4444444444444444,\"#bd3786\"],[0.5555555555555556,\"#d8576b\"],[0.6666666666666666,\"#ed7953\"],[0.7777777777777778,\"#fb9f3a\"],[0.8888888888888888,\"#fdca26\"],[1.0,\"#f0f921\"]],\"type\":\"heatmap\"}],\"histogram2dcontour\":[{\"colorbar\":{\"outlinewidth\":0,\"ticks\":\"\"},\"colorscale\":[[0.0,\"#0d0887\"],[0.1111111111111111,\"#46039f\"],[0.2222222222222222,\"#7201a8\"],[0.3333333333333333,\"#9c179e\"],[0.4444444444444444,\"#bd3786\"],[0.5555555555555556,\"#d8576b\"],[0.6666666666666666,\"#ed7953\"],[0.7777777777777778,\"#fb9f3a\"],[0.8888888888888888,\"#fdca26\"],[1.0,\"#f0f921\"]],\"type\":\"histogram2dcontour\"}],\"histogram2d\":[{\"colorbar\":{\"outlinewidth\":0,\"ticks\":\"\"},\"colorscale\":[[0.0,\"#0d0887\"],[0.1111111111111111,\"#46039f\"],[0.2222222222222222,\"#7201a8\"],[0.3333333333333333,\"#9c179e\"],[0.4444444444444444,\"#bd3786\"],[0.5555555555555556,\"#d8576b\"],[0.6666666666666666,\"#ed7953\"],[0.7777777777777778,\"#fb9f3a\"],[0.8888888888888888,\"#fdca26\"],[1.0,\"#f0f921\"]],\"type\":\"histogram2d\"}],\"histogram\":[{\"marker\":{\"pattern\":{\"fillmode\":\"overlay\",\"size\":10,\"solidity\":0.2}},\"type\":\"histogram\"}],\"mesh3d\":[{\"colorbar\":{\"outlinewidth\":0,\"ticks\":\"\"},\"type\":\"mesh3d\"}],\"parcoords\":[{\"line\":{\"colorbar\":{\"outlinewidth\":0,\"ticks\":\"\"}},\"type\":\"parcoords\"}],\"pie\":[{\"automargin\":true,\"type\":\"pie\"}],\"scatter3d\":[{\"line\":{\"colorbar\":{\"outlinewidth\":0,\"ticks\":\"\"}},\"marker\":{\"colorbar\":{\"outlinewidth\":0,\"ticks\":\"\"}},\"type\":\"scatter3d\"}],\"scattercarpet\":[{\"marker\":{\"colorbar\":{\"outlinewidth\":0,\"ticks\":\"\"}},\"type\":\"scattercarpet\"}],\"scattergeo\":[{\"marker\":{\"colorbar\":{\"outlinewidth\":0,\"ticks\":\"\"}},\"type\":\"scattergeo\"}],\"scattergl\":[{\"marker\":{\"line\":{\"color\":\"#283442\"}},\"type\":\"scattergl\"}],\"scattermapbox\":[{\"marker\":{\"colorbar\":{\"outlinewidth\":0,\"ticks\":\"\"}},\"type\":\"scattermapbox\"}],\"scatterpolargl\":[{\"marker\":{\"colorbar\":{\"outlinewidth\":0,\"ticks\":\"\"}},\"type\":\"scatterpolargl\"}],\"scatterpolar\":[{\"marker\":{\"colorbar\":{\"outlinewidth\":0,\"ticks\":\"\"}},\"type\":\"scatterpolar\"}],\"scatter\":[{\"marker\":{\"line\":{\"color\":\"#283442\"}},\"type\":\"scatter\"}],\"scatterternary\":[{\"marker\":{\"colorbar\":{\"outlinewidth\":0,\"ticks\":\"\"}},\"type\":\"scatterternary\"}],\"surface\":[{\"colorbar\":{\"outlinewidth\":0,\"ticks\":\"\"},\"colorscale\":[[0.0,\"#0d0887\"],[0.1111111111111111,\"#46039f\"],[0.2222222222222222,\"#7201a8\"],[0.3333333333333333,\"#9c179e\"],[0.4444444444444444,\"#bd3786\"],[0.5555555555555556,\"#d8576b\"],[0.6666666666666666,\"#ed7953\"],[0.7777777777777778,\"#fb9f3a\"],[0.8888888888888888,\"#fdca26\"],[1.0,\"#f0f921\"]],\"type\":\"surface\"}],\"table\":[{\"cells\":{\"fill\":{\"color\":\"#506784\"},\"line\":{\"color\":\"rgb(17,17,17)\"}},\"header\":{\"fill\":{\"color\":\"#2a3f5f\"},\"line\":{\"color\":\"rgb(17,17,17)\"}},\"type\":\"table\"}]},\"layout\":{\"annotationdefaults\":{\"arrowcolor\":\"#f2f5fa\",\"arrowhead\":0,\"arrowwidth\":1},\"autotypenumbers\":\"strict\",\"coloraxis\":{\"colorbar\":{\"outlinewidth\":0,\"ticks\":\"\"}},\"colorscale\":{\"diverging\":[[0,\"#8e0152\"],[0.1,\"#c51b7d\"],[0.2,\"#de77ae\"],[0.3,\"#f1b6da\"],[0.4,\"#fde0ef\"],[0.5,\"#f7f7f7\"],[0.6,\"#e6f5d0\"],[0.7,\"#b8e186\"],[0.8,\"#7fbc41\"],[0.9,\"#4d9221\"],[1,\"#276419\"]],\"sequential\":[[0.0,\"#0d0887\"],[0.1111111111111111,\"#46039f\"],[0.2222222222222222,\"#7201a8\"],[0.3333333333333333,\"#9c179e\"],[0.4444444444444444,\"#bd3786\"],[0.5555555555555556,\"#d8576b\"],[0.6666666666666666,\"#ed7953\"],[0.7777777777777778,\"#fb9f3a\"],[0.8888888888888888,\"#fdca26\"],[1.0,\"#f0f921\"]],\"sequentialminus\":[[0.0,\"#0d0887\"],[0.1111111111111111,\"#46039f\"],[0.2222222222222222,\"#7201a8\"],[0.3333333333333333,\"#9c179e\"],[0.4444444444444444,\"#bd3786\"],[0.5555555555555556,\"#d8576b\"],[0.6666666666666666,\"#ed7953\"],[0.7777777777777778,\"#fb9f3a\"],[0.8888888888888888,\"#fdca26\"],[1.0,\"#f0f921\"]]},\"colorway\":[\"#636efa\",\"#EF553B\",\"#00cc96\",\"#ab63fa\",\"#FFA15A\",\"#19d3f3\",\"#FF6692\",\"#B6E880\",\"#FF97FF\",\"#FECB52\"],\"font\":{\"color\":\"#f2f5fa\"},\"geo\":{\"bgcolor\":\"rgb(17,17,17)\",\"lakecolor\":\"rgb(17,17,17)\",\"landcolor\":\"rgb(17,17,17)\",\"showlakes\":true,\"showland\":true,\"subunitcolor\":\"#506784\"},\"hoverlabel\":{\"align\":\"left\"},\"hovermode\":\"closest\",\"mapbox\":{\"style\":\"dark\"},\"paper_bgcolor\":\"rgb(17,17,17)\",\"plot_bgcolor\":\"rgb(17,17,17)\",\"polar\":{\"angularaxis\":{\"gridcolor\":\"#506784\",\"linecolor\":\"#506784\",\"ticks\":\"\"},\"bgcolor\":\"rgb(17,17,17)\",\"radialaxis\":{\"gridcolor\":\"#506784\",\"linecolor\":\"#506784\",\"ticks\":\"\"}},\"scene\":{\"xaxis\":{\"backgroundcolor\":\"rgb(17,17,17)\",\"gridcolor\":\"#506784\",\"gridwidth\":2,\"linecolor\":\"#506784\",\"showbackground\":true,\"ticks\":\"\",\"zerolinecolor\":\"#C8D4E3\"},\"yaxis\":{\"backgroundcolor\":\"rgb(17,17,17)\",\"gridcolor\":\"#506784\",\"gridwidth\":2,\"linecolor\":\"#506784\",\"showbackground\":true,\"ticks\":\"\",\"zerolinecolor\":\"#C8D4E3\"},\"zaxis\":{\"backgroundcolor\":\"rgb(17,17,17)\",\"gridcolor\":\"#506784\",\"gridwidth\":2,\"linecolor\":\"#506784\",\"showbackground\":true,\"ticks\":\"\",\"zerolinecolor\":\"#C8D4E3\"}},\"shapedefaults\":{\"line\":{\"color\":\"#f2f5fa\"}},\"sliderdefaults\":{\"bgcolor\":\"#C8D4E3\",\"bordercolor\":\"rgb(17,17,17)\",\"borderwidth\":1,\"tickwidth\":0},\"ternary\":{\"aaxis\":{\"gridcolor\":\"#506784\",\"linecolor\":\"#506784\",\"ticks\":\"\"},\"baxis\":{\"gridcolor\":\"#506784\",\"linecolor\":\"#506784\",\"ticks\":\"\"},\"bgcolor\":\"rgb(17,17,17)\",\"caxis\":{\"gridcolor\":\"#506784\",\"linecolor\":\"#506784\",\"ticks\":\"\"}},\"title\":{\"x\":0.05},\"updatemenudefaults\":{\"bgcolor\":\"#506784\",\"borderwidth\":0},\"xaxis\":{\"automargin\":true,\"gridcolor\":\"#283442\",\"linecolor\":\"#506784\",\"ticks\":\"\",\"title\":{\"standoff\":15},\"zerolinecolor\":\"#283442\",\"zerolinewidth\":2},\"yaxis\":{\"automargin\":true,\"gridcolor\":\"#283442\",\"linecolor\":\"#506784\",\"ticks\":\"\",\"title\":{\"standoff\":15},\"zerolinecolor\":\"#283442\",\"zerolinewidth\":2}}},\"xaxis\":{\"anchor\":\"y\",\"domain\":[0.0,1.0],\"title\":{\"text\":\"AGE\"}},\"yaxis\":{\"anchor\":\"x\",\"domain\":[0.0,0.7326],\"title\":{\"text\":\"count\"}},\"xaxis2\":{\"anchor\":\"y2\",\"domain\":[0.0,1.0],\"matches\":\"x\",\"showticklabels\":false,\"showgrid\":true},\"yaxis2\":{\"anchor\":\"x2\",\"domain\":[0.7426,1.0],\"matches\":\"y2\",\"showticklabels\":false,\"showline\":false,\"ticks\":\"\",\"showgrid\":false},\"legend\":{\"title\":{\"text\":\"Outcome\"},\"tracegroupgap\":0},\"title\":{\"text\":\"Distribution of AGE Vs Outcome\"},\"barmode\":\"relative\"},                        {\"responsive\": true}                    ).then(function(){\n",
              "                            \n",
              "var gd = document.getElementById('220f3d26-a9af-4935-b5ef-42ea80529871');\n",
              "var x = new MutationObserver(function (mutations, observer) {{\n",
              "        var display = window.getComputedStyle(gd).display;\n",
              "        if (!display || display === 'none') {{\n",
              "            console.log([gd, 'removed!']);\n",
              "            Plotly.purge(gd);\n",
              "            observer.disconnect();\n",
              "        }}\n",
              "}});\n",
              "\n",
              "// Listen for the removal of the full notebook cells\n",
              "var notebookContainer = gd.closest('#notebook-container');\n",
              "if (notebookContainer) {{\n",
              "    x.observe(notebookContainer, {childList: true});\n",
              "}}\n",
              "\n",
              "// Listen for the clearing of the current output cell\n",
              "var outputEl = gd.closest('.output');\n",
              "if (outputEl) {{\n",
              "    x.observe(outputEl, {childList: true});\n",
              "}}\n",
              "\n",
              "                        })                };                            </script>        </div>\n",
              "</body>\n",
              "</html>"
            ]
          },
          "metadata": {}
        }
      ]
    },
    {
      "cell_type": "markdown",
      "source": [
        "Nhìn vào dữ liệu đã được trực quan hóa, khi số người mắc bệnh ở độ tuổi trung niên (khoảng 20-40 tuổi) là phổ biến nhất, nhưng tỷ lệ mắc bệnh dần giảm khi tuổi tác tăng cao."
      ],
      "metadata": {
        "id": "qLa1sUbl2X6l"
      }
    },
    {
      "cell_type": "markdown",
      "source": [
        "Trực quan hóa về Mức đường huyết"
      ],
      "metadata": {
        "id": "kNpd2ImiBTEp"
      }
    },
    {
      "cell_type": "code",
      "source": [
        "import plotly.graph_objects as go\n",
        "\n",
        "\n",
        "fig = go.Figure()\n",
        "fig.add_trace(go.Histogram(\n",
        "    x = df['Glucose'],\n",
        "    xbins=dict( # bins used for histogram\n",
        "        start=0,\n",
        "        end=199,\n",
        "        size=15\n",
        "    ),\n",
        "    marker_color='#1f77b4',  # Column color\n",
        "    opacity=1\n",
        "))\n",
        "\n",
        "fig.update_layout(\n",
        "    title_text='GLUCOSE DISTRIBUTION',\n",
        "    xaxis_title_text='GLUCOSE',\n",
        "    yaxis_title_text='COUNT',\n",
        "    bargap=0.05,\n",
        "    xaxis={'showgrid': False},\n",
        "    yaxis={'showgrid': False},\n",
        "    template='plotly_dark',\n",
        "    plot_bgcolor='black',  # Background color\n",
        "    paper_bgcolor='black'  # Paper background color\n",
        ")\n",
        "\n",
        "fig.show()"
      ],
      "metadata": {
        "colab": {
          "base_uri": "https://localhost:8080/",
          "height": 542
        },
        "id": "tDlidyT3x6gr",
        "outputId": "4836b57c-eefe-4283-9af2-ac4a46811313"
      },
      "execution_count": null,
      "outputs": [
        {
          "output_type": "display_data",
          "data": {
            "text/html": [
              "<html>\n",
              "<head><meta charset=\"utf-8\" /></head>\n",
              "<body>\n",
              "    <div>            <script src=\"https://cdnjs.cloudflare.com/ajax/libs/mathjax/2.7.5/MathJax.js?config=TeX-AMS-MML_SVG\"></script><script type=\"text/javascript\">if (window.MathJax && window.MathJax.Hub && window.MathJax.Hub.Config) {window.MathJax.Hub.Config({SVG: {font: \"STIX-Web\"}});}</script>                <script type=\"text/javascript\">window.PlotlyConfig = {MathJaxConfig: 'local'};</script>\n",
              "        <script charset=\"utf-8\" src=\"https://cdn.plot.ly/plotly-2.24.1.min.js\"></script>                <div id=\"c93e300f-8fa8-456a-8c92-0bed5d3fab8f\" class=\"plotly-graph-div\" style=\"height:525px; width:100%;\"></div>            <script type=\"text/javascript\">                                    window.PLOTLYENV=window.PLOTLYENV || {};                                    if (document.getElementById(\"c93e300f-8fa8-456a-8c92-0bed5d3fab8f\")) {                    Plotly.newPlot(                        \"c93e300f-8fa8-456a-8c92-0bed5d3fab8f\",                        [{\"marker\":{\"color\":\"#1f77b4\"},\"opacity\":1,\"x\":[147,84,182,89,137,115,79,116,196,124,111,170,138,189,167,100,119,107,101,115,127,99,196,120,144,127,148,98,146,118,108,158,88,91,122,103,136,102,90,111,180,133,105,172,159,179,147,69,102,106,103,103,87,175,150,73,187,100,146,104,84,134,42,140,114,97,107,109,95,147,100,140,129,130,79,1,62,94,131,111,112,73,84,100,136,111,103,100,136,106,77,122,80,134,142,144,94,72,93,125,163,150,127,80,83,127,96,145,83,95,172,154,90,76,160,147,124,78,95,98,161,110,106,133,112,88,120,119,119,105,172,123,173,85,96,125,102,92,130,107,128,106,108,108,154,103,58,106,148,90,135,115,155,154,188,153,99,110,88,162,151,102,114,101,132,103,148,119,111,111,102,134,86,79,74,179,85,130,143,131,86,117,0,75,141,195,180,127,110,140,111,124,159,137,85,157,103,108,109,150,112,139,107,98,103,111,195,161,97,183,79,147,178,139,111,151,111,125,85,112,177,156,118,141,99,87,101,162,198,117,143,134,78,123,75,172,181,180,164,105,92,90,138,120,147,185,123,167,125,112,108,129,91,86,93,113,110,112,193,154,192,140,95,142,123,95,138,129,101,149,100,108,124,70,106,99,105,104,115,107,146,129,133,161,106,135,154,118,97,109,78,107,128,129,161,153,146,126,100,112,168,146,77,115,150,119,161,138,128,124,83,105,155,113,110,113,99,182,115,194,129,111,123,152,113,158,124,181,103,106,119,87,182,104,97,164,116,114,152,178,131,96,0,123,96,126,140,115,98,0,91,138,61,90,92,165,126,130,88,195,191,159,104,146,147,99,125,101,82,134,173,119,82,105,122,140,97,88,156,92,106,105,107,91,126,120,115,105,144,100,100,163,132,116,157,128,95,131,81,194,93,136,136,73,168,125,114,101,198,171,102,112,142,143,138,174,97,147,82,129,119,94,103,115,151,183,94,182,134,95,99,89,79,138,91,143,140,147,97,106,189,84,118,109,119,181,100,95,104,118,84,133,92,121,100,175,135,87,149,133,120,70,75,88,115,123,74,98,121,155,143,137,120,136,113,137,104,114,127,130,158,123,86,83,145,134,138,173,100,192,82,90,98,124,80,166,109,81,196,154,117,83,0,93,94,74,180,131,85,119,84,141,91,89,98,163,145,126,77,127,68,123,112,131,126,88,98,116,117,111,122,106,86,91,78,132,103,58,127,131,100,128,90,84,88,186,188,132,163,191,115,84,114,88,81,123,98,111,101,86,125,199,89,99,90,95,99,91,154,121,80,129,112,99,145,120,109,118,133,197,151,106,120,100,124,93,142,102,176,73,110,113,132,82,123,189,67,90,172,109,108,96,123,149,183,123,179,93,152,112,106,174,166,106,138,108,119,67,112,119,113,93,183,94,106,89,124,132,129,94,113,102,111,128,93,104,104,92,97,100,103,129,147,91,103,157,167,179,136,108,90,118,122,119,106,156,100,120,129,80,162,199,168,145,115,112,145,112,96,158,165,99,70,124,91,194,158,93,121,102,55,163,94,124,134,130,131,106,139,145,107,159,121,130,91,141,168,100,126,118,121,126,169,129,108,80,116,127,163,93,158,125,128,136,103,187,173,91,108,97,82,113,148,117,109,111,117,143,175,91,132,121,174,106,106,96,126,65,100,102,120,103,110,141,152,101,148,82,186,163,135,122,108,182,154,128,136,123,107,189,89,171,90,102,121,121,126,93],\"xbins\":{\"end\":199,\"size\":15,\"start\":0},\"type\":\"histogram\"}],                        {\"template\":{\"data\":{\"barpolar\":[{\"marker\":{\"line\":{\"color\":\"rgb(17,17,17)\",\"width\":0.5},\"pattern\":{\"fillmode\":\"overlay\",\"size\":10,\"solidity\":0.2}},\"type\":\"barpolar\"}],\"bar\":[{\"error_x\":{\"color\":\"#f2f5fa\"},\"error_y\":{\"color\":\"#f2f5fa\"},\"marker\":{\"line\":{\"color\":\"rgb(17,17,17)\",\"width\":0.5},\"pattern\":{\"fillmode\":\"overlay\",\"size\":10,\"solidity\":0.2}},\"type\":\"bar\"}],\"carpet\":[{\"aaxis\":{\"endlinecolor\":\"#A2B1C6\",\"gridcolor\":\"#506784\",\"linecolor\":\"#506784\",\"minorgridcolor\":\"#506784\",\"startlinecolor\":\"#A2B1C6\"},\"baxis\":{\"endlinecolor\":\"#A2B1C6\",\"gridcolor\":\"#506784\",\"linecolor\":\"#506784\",\"minorgridcolor\":\"#506784\",\"startlinecolor\":\"#A2B1C6\"},\"type\":\"carpet\"}],\"choropleth\":[{\"colorbar\":{\"outlinewidth\":0,\"ticks\":\"\"},\"type\":\"choropleth\"}],\"contourcarpet\":[{\"colorbar\":{\"outlinewidth\":0,\"ticks\":\"\"},\"type\":\"contourcarpet\"}],\"contour\":[{\"colorbar\":{\"outlinewidth\":0,\"ticks\":\"\"},\"colorscale\":[[0.0,\"#0d0887\"],[0.1111111111111111,\"#46039f\"],[0.2222222222222222,\"#7201a8\"],[0.3333333333333333,\"#9c179e\"],[0.4444444444444444,\"#bd3786\"],[0.5555555555555556,\"#d8576b\"],[0.6666666666666666,\"#ed7953\"],[0.7777777777777778,\"#fb9f3a\"],[0.8888888888888888,\"#fdca26\"],[1.0,\"#f0f921\"]],\"type\":\"contour\"}],\"heatmapgl\":[{\"colorbar\":{\"outlinewidth\":0,\"ticks\":\"\"},\"colorscale\":[[0.0,\"#0d0887\"],[0.1111111111111111,\"#46039f\"],[0.2222222222222222,\"#7201a8\"],[0.3333333333333333,\"#9c179e\"],[0.4444444444444444,\"#bd3786\"],[0.5555555555555556,\"#d8576b\"],[0.6666666666666666,\"#ed7953\"],[0.7777777777777778,\"#fb9f3a\"],[0.8888888888888888,\"#fdca26\"],[1.0,\"#f0f921\"]],\"type\":\"heatmapgl\"}],\"heatmap\":[{\"colorbar\":{\"outlinewidth\":0,\"ticks\":\"\"},\"colorscale\":[[0.0,\"#0d0887\"],[0.1111111111111111,\"#46039f\"],[0.2222222222222222,\"#7201a8\"],[0.3333333333333333,\"#9c179e\"],[0.4444444444444444,\"#bd3786\"],[0.5555555555555556,\"#d8576b\"],[0.6666666666666666,\"#ed7953\"],[0.7777777777777778,\"#fb9f3a\"],[0.8888888888888888,\"#fdca26\"],[1.0,\"#f0f921\"]],\"type\":\"heatmap\"}],\"histogram2dcontour\":[{\"colorbar\":{\"outlinewidth\":0,\"ticks\":\"\"},\"colorscale\":[[0.0,\"#0d0887\"],[0.1111111111111111,\"#46039f\"],[0.2222222222222222,\"#7201a8\"],[0.3333333333333333,\"#9c179e\"],[0.4444444444444444,\"#bd3786\"],[0.5555555555555556,\"#d8576b\"],[0.6666666666666666,\"#ed7953\"],[0.7777777777777778,\"#fb9f3a\"],[0.8888888888888888,\"#fdca26\"],[1.0,\"#f0f921\"]],\"type\":\"histogram2dcontour\"}],\"histogram2d\":[{\"colorbar\":{\"outlinewidth\":0,\"ticks\":\"\"},\"colorscale\":[[0.0,\"#0d0887\"],[0.1111111111111111,\"#46039f\"],[0.2222222222222222,\"#7201a8\"],[0.3333333333333333,\"#9c179e\"],[0.4444444444444444,\"#bd3786\"],[0.5555555555555556,\"#d8576b\"],[0.6666666666666666,\"#ed7953\"],[0.7777777777777778,\"#fb9f3a\"],[0.8888888888888888,\"#fdca26\"],[1.0,\"#f0f921\"]],\"type\":\"histogram2d\"}],\"histogram\":[{\"marker\":{\"pattern\":{\"fillmode\":\"overlay\",\"size\":10,\"solidity\":0.2}},\"type\":\"histogram\"}],\"mesh3d\":[{\"colorbar\":{\"outlinewidth\":0,\"ticks\":\"\"},\"type\":\"mesh3d\"}],\"parcoords\":[{\"line\":{\"colorbar\":{\"outlinewidth\":0,\"ticks\":\"\"}},\"type\":\"parcoords\"}],\"pie\":[{\"automargin\":true,\"type\":\"pie\"}],\"scatter3d\":[{\"line\":{\"colorbar\":{\"outlinewidth\":0,\"ticks\":\"\"}},\"marker\":{\"colorbar\":{\"outlinewidth\":0,\"ticks\":\"\"}},\"type\":\"scatter3d\"}],\"scattercarpet\":[{\"marker\":{\"colorbar\":{\"outlinewidth\":0,\"ticks\":\"\"}},\"type\":\"scattercarpet\"}],\"scattergeo\":[{\"marker\":{\"colorbar\":{\"outlinewidth\":0,\"ticks\":\"\"}},\"type\":\"scattergeo\"}],\"scattergl\":[{\"marker\":{\"line\":{\"color\":\"#283442\"}},\"type\":\"scattergl\"}],\"scattermapbox\":[{\"marker\":{\"colorbar\":{\"outlinewidth\":0,\"ticks\":\"\"}},\"type\":\"scattermapbox\"}],\"scatterpolargl\":[{\"marker\":{\"colorbar\":{\"outlinewidth\":0,\"ticks\":\"\"}},\"type\":\"scatterpolargl\"}],\"scatterpolar\":[{\"marker\":{\"colorbar\":{\"outlinewidth\":0,\"ticks\":\"\"}},\"type\":\"scatterpolar\"}],\"scatter\":[{\"marker\":{\"line\":{\"color\":\"#283442\"}},\"type\":\"scatter\"}],\"scatterternary\":[{\"marker\":{\"colorbar\":{\"outlinewidth\":0,\"ticks\":\"\"}},\"type\":\"scatterternary\"}],\"surface\":[{\"colorbar\":{\"outlinewidth\":0,\"ticks\":\"\"},\"colorscale\":[[0.0,\"#0d0887\"],[0.1111111111111111,\"#46039f\"],[0.2222222222222222,\"#7201a8\"],[0.3333333333333333,\"#9c179e\"],[0.4444444444444444,\"#bd3786\"],[0.5555555555555556,\"#d8576b\"],[0.6666666666666666,\"#ed7953\"],[0.7777777777777778,\"#fb9f3a\"],[0.8888888888888888,\"#fdca26\"],[1.0,\"#f0f921\"]],\"type\":\"surface\"}],\"table\":[{\"cells\":{\"fill\":{\"color\":\"#506784\"},\"line\":{\"color\":\"rgb(17,17,17)\"}},\"header\":{\"fill\":{\"color\":\"#2a3f5f\"},\"line\":{\"color\":\"rgb(17,17,17)\"}},\"type\":\"table\"}]},\"layout\":{\"annotationdefaults\":{\"arrowcolor\":\"#f2f5fa\",\"arrowhead\":0,\"arrowwidth\":1},\"autotypenumbers\":\"strict\",\"coloraxis\":{\"colorbar\":{\"outlinewidth\":0,\"ticks\":\"\"}},\"colorscale\":{\"diverging\":[[0,\"#8e0152\"],[0.1,\"#c51b7d\"],[0.2,\"#de77ae\"],[0.3,\"#f1b6da\"],[0.4,\"#fde0ef\"],[0.5,\"#f7f7f7\"],[0.6,\"#e6f5d0\"],[0.7,\"#b8e186\"],[0.8,\"#7fbc41\"],[0.9,\"#4d9221\"],[1,\"#276419\"]],\"sequential\":[[0.0,\"#0d0887\"],[0.1111111111111111,\"#46039f\"],[0.2222222222222222,\"#7201a8\"],[0.3333333333333333,\"#9c179e\"],[0.4444444444444444,\"#bd3786\"],[0.5555555555555556,\"#d8576b\"],[0.6666666666666666,\"#ed7953\"],[0.7777777777777778,\"#fb9f3a\"],[0.8888888888888888,\"#fdca26\"],[1.0,\"#f0f921\"]],\"sequentialminus\":[[0.0,\"#0d0887\"],[0.1111111111111111,\"#46039f\"],[0.2222222222222222,\"#7201a8\"],[0.3333333333333333,\"#9c179e\"],[0.4444444444444444,\"#bd3786\"],[0.5555555555555556,\"#d8576b\"],[0.6666666666666666,\"#ed7953\"],[0.7777777777777778,\"#fb9f3a\"],[0.8888888888888888,\"#fdca26\"],[1.0,\"#f0f921\"]]},\"colorway\":[\"#636efa\",\"#EF553B\",\"#00cc96\",\"#ab63fa\",\"#FFA15A\",\"#19d3f3\",\"#FF6692\",\"#B6E880\",\"#FF97FF\",\"#FECB52\"],\"font\":{\"color\":\"#f2f5fa\"},\"geo\":{\"bgcolor\":\"rgb(17,17,17)\",\"lakecolor\":\"rgb(17,17,17)\",\"landcolor\":\"rgb(17,17,17)\",\"showlakes\":true,\"showland\":true,\"subunitcolor\":\"#506784\"},\"hoverlabel\":{\"align\":\"left\"},\"hovermode\":\"closest\",\"mapbox\":{\"style\":\"dark\"},\"paper_bgcolor\":\"rgb(17,17,17)\",\"plot_bgcolor\":\"rgb(17,17,17)\",\"polar\":{\"angularaxis\":{\"gridcolor\":\"#506784\",\"linecolor\":\"#506784\",\"ticks\":\"\"},\"bgcolor\":\"rgb(17,17,17)\",\"radialaxis\":{\"gridcolor\":\"#506784\",\"linecolor\":\"#506784\",\"ticks\":\"\"}},\"scene\":{\"xaxis\":{\"backgroundcolor\":\"rgb(17,17,17)\",\"gridcolor\":\"#506784\",\"gridwidth\":2,\"linecolor\":\"#506784\",\"showbackground\":true,\"ticks\":\"\",\"zerolinecolor\":\"#C8D4E3\"},\"yaxis\":{\"backgroundcolor\":\"rgb(17,17,17)\",\"gridcolor\":\"#506784\",\"gridwidth\":2,\"linecolor\":\"#506784\",\"showbackground\":true,\"ticks\":\"\",\"zerolinecolor\":\"#C8D4E3\"},\"zaxis\":{\"backgroundcolor\":\"rgb(17,17,17)\",\"gridcolor\":\"#506784\",\"gridwidth\":2,\"linecolor\":\"#506784\",\"showbackground\":true,\"ticks\":\"\",\"zerolinecolor\":\"#C8D4E3\"}},\"shapedefaults\":{\"line\":{\"color\":\"#f2f5fa\"}},\"sliderdefaults\":{\"bgcolor\":\"#C8D4E3\",\"bordercolor\":\"rgb(17,17,17)\",\"borderwidth\":1,\"tickwidth\":0},\"ternary\":{\"aaxis\":{\"gridcolor\":\"#506784\",\"linecolor\":\"#506784\",\"ticks\":\"\"},\"baxis\":{\"gridcolor\":\"#506784\",\"linecolor\":\"#506784\",\"ticks\":\"\"},\"bgcolor\":\"rgb(17,17,17)\",\"caxis\":{\"gridcolor\":\"#506784\",\"linecolor\":\"#506784\",\"ticks\":\"\"}},\"title\":{\"x\":0.05},\"updatemenudefaults\":{\"bgcolor\":\"#506784\",\"borderwidth\":0},\"xaxis\":{\"automargin\":true,\"gridcolor\":\"#283442\",\"linecolor\":\"#506784\",\"ticks\":\"\",\"title\":{\"standoff\":15},\"zerolinecolor\":\"#283442\",\"zerolinewidth\":2},\"yaxis\":{\"automargin\":true,\"gridcolor\":\"#283442\",\"linecolor\":\"#506784\",\"ticks\":\"\",\"title\":{\"standoff\":15},\"zerolinecolor\":\"#283442\",\"zerolinewidth\":2}}},\"title\":{\"text\":\"GLUCOSE DISTRIBUTION\"},\"xaxis\":{\"title\":{\"text\":\"GLUCOSE\"},\"showgrid\":false},\"yaxis\":{\"title\":{\"text\":\"COUNT\"},\"showgrid\":false},\"bargap\":0.05,\"plot_bgcolor\":\"black\",\"paper_bgcolor\":\"black\"},                        {\"responsive\": true}                    ).then(function(){\n",
              "                            \n",
              "var gd = document.getElementById('c93e300f-8fa8-456a-8c92-0bed5d3fab8f');\n",
              "var x = new MutationObserver(function (mutations, observer) {{\n",
              "        var display = window.getComputedStyle(gd).display;\n",
              "        if (!display || display === 'none') {{\n",
              "            console.log([gd, 'removed!']);\n",
              "            Plotly.purge(gd);\n",
              "            observer.disconnect();\n",
              "        }}\n",
              "}});\n",
              "\n",
              "// Listen for the removal of the full notebook cells\n",
              "var notebookContainer = gd.closest('#notebook-container');\n",
              "if (notebookContainer) {{\n",
              "    x.observe(notebookContainer, {childList: true});\n",
              "}}\n",
              "\n",
              "// Listen for the clearing of the current output cell\n",
              "var outputEl = gd.closest('.output');\n",
              "if (outputEl) {{\n",
              "    x.observe(outputEl, {childList: true});\n",
              "}}\n",
              "\n",
              "                        })                };                            </script>        </div>\n",
              "</body>\n",
              "</html>"
            ]
          },
          "metadata": {}
        }
      ]
    },
    {
      "cell_type": "markdown",
      "source": [
        "Trực quan hóa về Mức đường huyết ảnh hưởng tới bệnh tiểu đường"
      ],
      "metadata": {
        "id": "7UpZGPGfBFp3"
      }
    },
    {
      "cell_type": "code",
      "source": [
        "# Now lets categorize the above histogram by Outcome\n",
        "\n",
        "import plotly.express as px\n",
        "fig = px.histogram(df, x=\"Glucose\", color=\"Outcome\", marginal=\"violin\", hover_data=df.columns,\n",
        "                   title =\"Distribution of CREATININE Glucose Vs Outcome\",\n",
        "                   labels={\"Glucose\": \"Glucose\"},\n",
        "                   template=\"plotly_dark\",\n",
        "                   color_discrete_map={\"0\": \"RebeccaPurple\", \"1\": \"MediumPurple\"})\n",
        "fig.show()"
      ],
      "metadata": {
        "colab": {
          "base_uri": "https://localhost:8080/",
          "height": 542
        },
        "id": "DvfCX99S1uCm",
        "outputId": "c6238e7c-385d-4e22-e837-eea29c41635c"
      },
      "execution_count": null,
      "outputs": [
        {
          "output_type": "display_data",
          "data": {
            "text/html": [
              "<html>\n",
              "<head><meta charset=\"utf-8\" /></head>\n",
              "<body>\n",
              "    <div>            <script src=\"https://cdnjs.cloudflare.com/ajax/libs/mathjax/2.7.5/MathJax.js?config=TeX-AMS-MML_SVG\"></script><script type=\"text/javascript\">if (window.MathJax && window.MathJax.Hub && window.MathJax.Hub.Config) {window.MathJax.Hub.Config({SVG: {font: \"STIX-Web\"}});}</script>                <script type=\"text/javascript\">window.PlotlyConfig = {MathJaxConfig: 'local'};</script>\n",
              "        <script charset=\"utf-8\" src=\"https://cdn.plot.ly/plotly-2.24.1.min.js\"></script>                <div id=\"13c4649b-99e1-4e3e-9677-042c9b80d79a\" class=\"plotly-graph-div\" style=\"height:525px; width:100%;\"></div>            <script type=\"text/javascript\">                                    window.PLOTLYENV=window.PLOTLYENV || {};                                    if (document.getElementById(\"13c4649b-99e1-4e3e-9677-042c9b80d79a\")) {                    Plotly.newPlot(                        \"13c4649b-99e1-4e3e-9677-042c9b80d79a\",                        [{\"alignmentgroup\":\"True\",\"bingroup\":\"x\",\"hovertemplate\":\"Outcome=1\\u003cbr\\u003eGlucose=%{x}\\u003cbr\\u003ecount=%{y}\\u003cextra\\u003e\\u003c\\u002fextra\\u003e\",\"legendgroup\":\"1\",\"marker\":{\"color\":\"#00cc96\",\"pattern\":{\"shape\":\"\"}},\"name\":\"1\",\"offsetgroup\":\"1\",\"orientation\":\"v\",\"showlegend\":true,\"x\":[147,182,137,79,196,124,170,189,167,100,119,107,115,196,120,144,127,148,158,102,90,111,172,179,102,175,187,134,114,107,100,129,131,136,136,134,125,163,95,172,154,160,147,124,161,112,88,119,105,172,123,173,108,155,188,153,162,132,103,102,134,179,130,131,195,180,127,110,140,159,137,157,108,109,150,195,161,183,139,111,151,111,85,112,177,156,162,143,134,172,181,180,164,138,120,185,93,113,154,140,123,138,149,100,105,146,161,106,118,107,128,129,146,100,168,146,115,161,128,124,155,110,182,194,111,123,152,124,103,182,114,152,178,0,165,126,130,195,191,146,125,134,173,140,156,115,105,144,163,157,131,194,93,136,168,114,198,171,138,174,147,129,151,183,182,95,143,189,109,119,181,104,133,175,149,121,104,158,145,134,124,196,0,180,84,163,145,131,132,131,100,128,90,186,188,125,199,121,118,197,151,124,142,176,110,132,189,172,149,183,179,174,166,138,112,119,113,104,97,147,167,179,136,156,80,199,168,145,115,145,112,194,158,121,163,124,145,159,130,141,168,126,169,116,163,93,128,187,173,97,148,132,121,174,102,120,141,148,186,163,135,182,154,128,123,189,171,126],\"xaxis\":\"x\",\"yaxis\":\"y\",\"type\":\"histogram\"},{\"alignmentgroup\":\"True\",\"customdata\":[[6.0,72.0,36.0,0.0,33.0,1.11,52.0,1.0],[10.0,64.0,0.0,0.0,23.6,0.41,31.0,1.0],[0.0,39.0,35.0,168.0,45.6,2.49,30.0,1.0],[2.0,50.0,33.0,88.0,30.4,0.23,26.0,1.0],[2.0,72.0,45.0,543.0,29.7,1.8,51.0,1.0],[9.0,97.0,2.0,0.0,0.1,-1.39,52.0,1.0],[9.0,74.0,0.0,0.0,38.4,-0.91,33.0,1.0],[1.0,60.0,24.0,846.0,29.0,0.07,59.0,1.0],[5.0,72.0,20.0,174.0,23.7,-0.29,49.0,1.0],[7.0,0.0,2.0,0.0,31.6,0.56,33.0,1.0],[0.0,84.0,47.0,231.0,46.1,-0.29,30.0,1.0],[6.0,73.0,0.0,0.0,30.7,1.21,32.0,1.0],[2.0,71.0,31.0,97.0,34.8,1.08,31.0,1.0],[7.0,90.0,0.0,0.0,40.4,0.34,41.0,1.0],[8.0,79.0,34.0,0.0,28.8,-1.42,29.0,1.0],[11.0,92.0,32.0,145.0,36.1,1.01,51.0,1.0],[10.0,69.0,25.0,115.0,30.9,1.01,40.0,1.0],[7.0,76.0,0.0,0.0,39.0,0.38,44.0,1.0],[2.0,74.0,37.0,245.0,31.6,1.69,29.0,1.0],[8.0,76.0,35.0,0.0,32.7,0.67,46.0,1.0],[1.0,69.0,43.0,1.0,38.8,1.49,28.0,1.0],[5.0,71.0,46.0,208.0,36.0,1.22,56.0,1.0],[10.0,110.0,23.0,241.0,44.0,1.75,55.0,1.0],[0.0,66.0,39.0,1.0,41.6,0.79,26.0,1.0],[8.0,67.0,32.0,0.0,38.6,-0.12,31.0,1.0],[8.0,90.0,34.0,302.0,33.5,-0.5,59.0,1.0],[10.0,69.0,38.0,304.0,37.9,0.15,43.0,1.0],[6.0,71.0,0.0,0.0,34.0,-0.78,39.0,1.0],[7.0,67.0,0.0,0.0,33.8,1.85,42.0,1.0],[1.0,90.0,29.0,0.0,33.6,0.8,40.0,1.0],[2.0,66.0,21.0,91.0,33.8,0.66,30.0,1.0],[13.0,90.0,0.0,0.0,42.5,0.3,42.0,1.0],[1.0,1.0,0.0,0.0,41.9,-0.49,24.0,1.0],[4.0,108.0,0.0,0.0,50.1,-0.67,36.0,1.0],[14.0,69.0,32.0,112.0,37.9,0.47,44.0,1.0],[4.0,71.0,0.0,0.0,23.9,-0.48,59.0,1.0],[0.0,90.0,51.0,221.0,50.5,0.99,31.0,1.0],[1.0,71.0,0.0,0.0,37.0,1.58,35.0,1.0],[0.0,84.0,25.0,36.0,36.9,2.14,23.0,1.0],[3.0,71.0,32.0,135.0,32.1,-1.38,23.0,1.0],[7.0,62.0,27.0,496.0,31.7,2.65,46.0,1.0],[7.0,55.0,30.0,174.0,30.5,0.64,39.0,1.0],[3.0,91.0,0.0,1.0,30.7,-0.25,61.0,1.0],[7.0,75.0,0.0,0.0,33.5,1.97,39.0,1.0],[1.0,77.0,58.0,99.0,51.9,1.03,25.0,1.0],[0.0,76.0,0.0,0.0,32.2,1.83,23.0,1.0],[1.0,31.0,41.0,98.0,53.7,-1.4,25.0,1.0],[1.0,88.0,23.0,144.0,36.0,-0.44,41.0,1.0],[1.0,83.0,1.0,0.0,27.7,-1.08,61.0,1.0],[3.0,70.0,15.0,169.0,31.1,2.09,32.0,1.0],[10.0,57.0,0.0,0.0,32.5,-0.86,33.0,1.0],[4.0,62.0,39.0,225.0,33.4,-0.16,27.0,1.0],[10.0,65.0,1.0,0.0,32.0,-0.23,41.0,1.0],[9.0,86.0,29.0,155.0,36.0,3.08,43.0,1.0],[7.0,79.0,1.0,0.0,47.8,1.98,42.0,1.0],[7.0,90.0,44.0,0.0,48.8,-0.19,34.0,1.0],[18.0,71.0,40.0,115.0,39.9,-0.73,47.0,1.0],[2.0,89.0,0.0,0.0,31.4,2.49,32.0,1.0],[6.0,72.0,16.0,156.0,31.8,1.47,39.0,1.0],[5.0,83.0,0.0,0.0,31.6,-1.12,36.0,1.0],[6.0,70.0,22.0,130.0,34.9,1.59,29.0,1.0],[8.0,72.0,42.0,130.0,32.9,0.9,36.0,1.0],[0.0,110.0,45.0,130.0,66.4,0.71,27.0,1.0],[4.0,82.0,1.0,0.0,37.2,-0.92,39.0,1.0],[7.0,67.0,27.0,0.0,35.7,0.46,42.0,1.0],[9.0,69.0,36.0,494.0,30.5,0.43,61.0,1.0],[1.0,98.0,41.0,57.0,31.1,2.76,33.0,1.0],[8.0,76.0,40.0,114.0,29.4,0.18,32.0,1.0],[3.0,81.0,35.0,161.0,33.4,0.9,27.0,1.0],[6.0,66.0,2.0,0.0,31.5,0.11,34.0,1.0],[11.0,0.0,1.0,0.0,50.8,-0.72,41.0,1.0],[6.0,83.0,40.0,210.0,39.3,0.14,29.0,1.0],[3.0,63.0,15.0,46.0,22.9,-0.51,22.0,1.0],[5.0,65.0,44.0,98.0,35.2,-0.94,25.0,1.0],[3.0,61.0,28.0,319.0,29.2,1.82,31.0,1.0],[8.0,77.0,29.0,279.0,37.3,2.22,56.0,1.0],[4.0,105.0,1.0,0.0,38.0,0.52,54.0,1.0],[8.0,83.0,34.0,0.0,33.7,-0.5,43.0,1.0],[0.0,63.0,26.0,128.0,43.6,1.36,25.0,1.0],[8.0,82.0,32.0,176.0,33.5,1.46,38.0,1.0],[12.0,71.0,40.0,270.0,41.1,0.34,39.0,1.0],[7.0,63.0,40.0,129.0,36.8,0.27,25.0,1.0],[4.0,73.0,23.0,0.0,27.9,0.25,32.0,1.0],[5.0,64.0,0.0,1.0,38.2,-0.64,43.0,1.0],[1.0,60.0,30.0,477.0,34.3,2.14,22.0,1.0],[0.0,91.0,1.0,1.0,31.5,0.52,66.0,1.0],[3.0,52.0,37.0,0.0,38.1,0.27,24.0,1.0],[4.0,86.0,1.0,1.0,41.4,0.01,20.0,1.0],[6.0,79.0,36.0,370.0,47.2,1.47,47.0,1.0],[4.0,73.0,0.0,0.0,43.6,0.8,26.0,1.0],[8.0,83.0,22.0,190.0,35.0,1.19,52.0,1.0],[0.0,90.0,27.0,1.0,43.7,2.02,21.0,1.0],[9.0,85.0,21.0,0.0,31.0,0.64,31.0,1.0],[3.0,54.0,0.0,2.0,25.7,-0.92,23.0,1.0],[7.0,50.0,23.0,176.0,27.1,1.8,35.0,1.0],[9.0,84.0,14.0,0.0,32.1,0.72,50.0,1.0],[12.0,62.0,8.0,256.0,26.7,1.74,44.0,1.0],[3.0,64.0,35.0,0.0,32.8,0.57,20.0,1.0],[9.0,76.0,27.0,148.0,33.0,3.09,51.0,1.0],[3.0,2.0,0.0,1.0,30.2,2.25,27.0,1.0],[3.0,62.0,0.0,2.0,31.5,0.72,34.0,1.0],[2.0,0.0,1.0,0.0,36.8,-0.15,25.0,1.0],[1.0,0.0,0.0,0.0,27.7,-0.17,29.0,1.0],[10.0,88.0,37.0,1.0,45.6,1.03,36.0,1.0],[9.0,60.0,23.0,0.0,27.5,0.07,31.0,1.0],[0.0,69.0,1.0,0.0,36.4,0.11,28.0,1.0],[6.0,86.0,0.0,0.0,31.2,0.59,46.0,1.0],[1.0,80.0,2.0,0.0,27.0,-0.4,53.0,1.0],[0.0,85.0,37.0,220.0,47.7,2.22,29.0,1.0],[0.0,64.0,29.0,73.0,35.3,1.56,25.0,1.0],[2.0,78.0,38.0,183.0,43.5,2.41,31.0,1.0],[0.0,49.0,46.0,192.0,41.3,0.82,24.0,1.0],[3.0,71.0,36.0,360.0,27.9,1.98,29.0,1.0],[14.0,79.0,25.0,185.0,37.4,1.26,47.0,1.0],[0.0,0.0,0.0,0.0,34.5,0.15,29.0,1.0],[1.0,58.0,33.0,135.0,31.4,0.19,26.0,1.0],[5.0,97.0,0.0,0.0,51.2,0.63,29.0,1.0],[11.0,67.0,24.0,129.0,23.5,0.44,48.0,1.0],[0.0,68.0,20.0,179.0,30.8,2.21,25.0,1.0],[4.0,69.0,29.0,206.0,33.9,3.26,31.0,1.0],[2.0,73.0,16.0,96.0,25.3,-0.47,26.0,1.0],[9.0,79.0,31.0,0.0,37.0,1.77,42.0,1.0],[3.0,74.0,0.0,0.0,30.2,-0.16,28.0,1.0],[5.0,76.0,0.0,1.0,21.5,2.74,60.0,1.0],[3.0,75.0,31.0,0.0,30.8,-0.11,25.0,1.0],[0.0,71.0,20.0,0.0,28.4,0.96,35.0,1.0],[13.0,90.0,33.0,30.0,27.5,1.16,44.0,1.0],[2.0,64.0,33.0,156.0,36.5,1.35,31.0,1.0],[1.0,87.0,36.0,119.0,46.0,0.03,23.0,1.0],[2.0,0.0,0.0,0.0,43.7,-0.51,42.0,1.0],[7.0,76.0,0.0,1.0,29.9,-0.88,44.0,1.0],[8.0,78.0,34.0,170.0,35.9,2.27,34.0,1.0],[6.0,83.0,0.0,0.0,39.7,0.55,42.0,1.0],[4.0,80.0,31.0,0.0,40.4,0.06,38.0,1.0],[7.0,86.0,0.0,2.0,30.5,1.86,48.0,1.0],[0.0,50.0,41.0,166.0,32.3,3.48,30.0,1.0],[12.0,0.0,29.0,0.0,41.1,-0.1,44.0,1.0],[2.0,76.0,36.0,249.0,36.5,2.56,30.0,1.0],[5.0,63.0,31.0,323.0,31.1,1.3,29.0,1.0],[3.0,79.0,0.0,0.0,39.7,-0.86,66.0,1.0],[6.0,73.0,0.0,0.0,24.9,-0.1,29.0,1.0],[3.0,103.0,27.0,140.0,33.7,-0.55,45.0,1.0],[2.0,84.0,49.0,465.0,36.4,2.17,27.0,1.0],[11.0,82.0,43.0,325.0,40.3,-0.49,58.0,1.0],[2.0,75.0,0.0,0.0,48.3,0.35,33.0,1.0],[6.0,76.0,29.0,0.0,32.4,0.72,35.0,1.0],[8.0,99.0,35.0,2.0,43.3,-0.04,46.0,1.0],[7.0,83.0,26.0,285.0,33.0,1.05,56.0,1.0],[5.0,77.0,0.0,1.0,44.7,0.94,27.0,1.0],[4.0,77.0,1.0,0.0,32.1,1.13,32.0,1.0],[0.0,65.0,40.0,0.0,35.0,0.86,22.0,1.0],[3.0,70.0,29.0,0.0,36.2,0.67,25.0,1.0],[5.0,64.0,1.0,1.0,35.5,1.21,31.0,1.0],[5.0,85.0,41.0,86.0,35.7,-1.4,35.0,1.0],[4.0,63.0,0.0,0.0,34.0,-0.58,41.0,1.0],[3.0,72.0,0.0,1.0,28.5,-1.76,46.0,1.0],[8.0,74.0,0.0,0.0,26.3,1.61,39.0,1.0],[1.0,70.0,48.0,577.0,42.2,0.67,28.0,1.0],[0.0,60.0,33.0,169.0,35.3,1.31,21.0,1.0],[2.0,84.0,32.0,474.0,36.3,1.68,23.0,1.0],[4.0,81.0,31.0,0.0,39.3,-0.28,37.0,1.0],[3.0,63.0,29.0,115.0,25.8,0.72,27.0,1.0],[8.0,77.0,33.0,210.0,44.2,-1.46,34.0,1.0],[5.0,78.0,40.0,277.0,34.9,0.56,32.0,1.0],[1.0,65.0,31.0,181.0,34.0,1.44,40.0,1.0],[2.0,82.0,25.0,180.0,35.2,0.02,42.0,1.0],[0.0,0.0,0.0,1.0,43.4,0.54,31.0,1.0],[0.0,104.0,25.0,0.0,35.1,0.83,41.0,1.0],[9.0,70.0,0.0,0.0,31.2,1.42,31.0,1.0],[4.0,62.0,12.0,1.0,31.2,0.23,31.0,1.0],[0.0,78.0,63.0,12.0,59.4,3.68,24.0,1.0],[0.0,62.0,37.0,65.0,33.2,1.17,23.0,1.0],[0.0,69.0,0.0,0.0,28.0,0.63,24.0,1.0],[13.0,60.0,33.0,0.0,33.7,0.47,39.0,1.0],[10.0,85.0,46.0,237.0,37.4,1.45,49.0,1.0],[8.0,0.0,0.0,1.0,29.4,0.88,37.0,1.0],[2.0,80.0,46.0,191.0,32.0,2.24,28.0,1.0],[1.0,71.0,30.0,327.0,36.3,-2.63,34.0,1.0],[0.0,0.0,0.0,0.0,42.9,0.92,31.0,1.0],[0.0,69.0,41.0,249.0,43.4,0.21,24.0,1.0],[4.0,70.0,18.0,124.0,31.1,0.17,45.0,1.0],[8.0,69.0,34.0,146.0,25.3,0.07,55.0,1.0],[5.0,68.0,40.0,0.0,40.1,0.04,40.0,1.0],[0.0,91.0,23.0,89.0,35.0,0.49,36.0,1.0],[12.0,72.0,32.0,0.0,29.3,-0.44,46.0,1.0],[5.0,70.0,17.0,104.0,31.6,0.31,30.0,1.0],[11.0,88.0,35.0,165.0,28.2,2.3,54.0,1.0],[10.0,69.0,0.0,0.0,32.4,1.05,46.0,1.0],[4.0,1.0,0.0,1.0,32.2,2.09,23.0,1.0],[2.0,92.0,49.0,155.0,36.9,1.55,33.0,1.0],[6.0,74.0,41.0,214.0,36.6,1.6,43.0,1.0],[3.0,71.0,26.0,188.0,31.4,0.63,26.0,1.0],[10.0,84.0,31.0,0.0,34.1,2.12,56.0,1.0],[8.0,90.0,35.0,226.0,33.3,-0.48,36.0,1.0],[5.0,76.0,26.0,206.0,43.5,-0.93,54.0,1.0],[5.0,76.0,0.0,1.0,35.2,-2.46,56.0,1.0],[0.0,66.0,31.0,274.0,40.2,-0.1,27.0,1.0],[1.0,66.0,30.0,166.0,32.9,-0.69,31.0,1.0],[2.0,80.0,0.0,0.0,42.9,0.85,20.0,1.0],[2.0,70.0,99.0,0.0,35.1,1.66,63.0,1.0],[1.0,90.0,46.0,0.0,41.7,1.43,21.0,1.0],[7.0,76.0,24.0,598.0,28.8,1.49,52.0,1.0],[8.0,65.0,0.0,0.0,34.9,1.25,41.0,1.0],[4.0,87.0,29.0,157.0,32.3,-0.11,51.0,1.0],[12.0,84.0,39.0,0.0,46.1,1.79,46.0,1.0],[2.0,80.0,0.0,2.0,34.6,0.25,44.0,1.0],[0.0,82.0,13.0,185.0,30.5,2.35,21.0,1.0],[3.0,73.0,0.0,1.0,36.4,0.4,37.0,1.0],[7.0,77.0,29.0,127.0,34.8,0.04,54.0,1.0],[3.0,1.0,0.0,0.0,27.8,-0.52,36.0,1.0],[0.0,78.0,42.0,293.0,39.7,1.83,22.0,1.0],[0.0,59.0,22.0,192.0,33.0,1.83,36.0,1.0],[5.0,89.0,41.0,323.0,35.0,-0.61,42.0,1.0],[11.0,73.0,26.0,143.0,36.7,1.52,50.0,1.0],[11.0,84.0,25.0,0.0,28.9,1.84,51.0,1.0],[0.0,0.0,0.0,0.0,32.5,-2.2,25.0,1.0],[6.0,62.0,0.0,0.0,27.6,1.35,34.0,1.0],[13.0,73.0,0.0,2.0,31.0,1.95,38.0,1.0],[7.0,76.0,31.0,92.0,42.1,0.04,34.0,1.0],[6.0,80.0,0.0,0.0,29.0,-0.03,48.0,1.0],[1.0,73.0,16.0,146.0,24.0,1.7,33.0,1.0],[0.0,48.0,35.0,159.0,37.8,0.85,22.0,1.0],[9.0,83.0,36.0,130.0,26.4,-0.68,44.0,1.0],[4.0,51.0,28.0,538.0,39.2,-1.43,24.0,1.0],[3.0,82.0,31.0,70.0,32.7,0.96,28.0,1.0],[1.0,75.0,42.0,0.0,40.5,0.82,22.0,1.0],[9.0,107.0,46.0,231.0,36.5,1.28,43.0,1.0],[9.0,80.0,47.0,130.0,37.1,-0.29,39.0,1.0],[6.0,59.0,40.0,2.0,33.6,-0.02,39.0,1.0],[5.0,82.0,17.0,0.0,33.3,1.99,69.0,1.0],[9.0,71.0,28.0,0.0,26.7,-0.2,42.0,1.0],[7.0,70.0,0.0,1.0,30.6,1.4,32.0,1.0],[10.0,84.0,0.0,0.0,24.9,1.68,54.0,1.0],[2.0,52.0,0.0,0.0,35.7,0.9,25.0,1.0],[0.0,76.0,35.0,0.0,48.5,-0.13,27.0,1.0],[5.0,82.0,0.0,2.0,31.1,0.97,26.0,1.0],[1.0,81.0,45.0,181.0,45.5,0.36,46.0,1.0],[15.0,113.0,0.0,0.0,41.8,0.28,45.0,1.0],[5.0,69.0,49.0,126.0,39.1,0.51,42.0,1.0],[7.0,91.0,25.0,479.0,30.2,0.63,43.0,1.0],[3.0,74.0,19.0,124.0,29.4,2.01,30.0,1.0],[7.0,78.0,29.0,1.0,28.3,-0.3,50.0,1.0],[2.0,89.0,29.0,2.0,36.0,1.63,53.0,1.0],[10.0,0.0,0.0,0.0,0.2,-1.11,30.0,1.0],[10.0,77.0,1.0,1.0,31.4,-0.04,44.0,1.0],[2.0,65.0,32.0,159.0,37.9,0.61,22.0,1.0],[11.0,61.0,36.0,1.0,41.4,1.39,37.0,1.0],[8.0,49.0,33.0,394.0,33.1,1.5,34.0,1.0],[5.0,74.0,39.0,185.0,35.3,1.27,31.0,1.0],[6.0,76.0,27.0,0.0,37.2,0.99,53.0,1.0],[1.0,68.0,28.0,127.0,29.5,0.37,42.0,1.0],[4.0,78.0,23.0,81.0,26.7,0.23,35.0,1.0],[7.0,86.0,1.0,2.0,29.0,-1.67,21.0,1.0],[2.0,88.0,36.0,119.0,44.0,1.28,22.0,1.0],[0.0,74.0,0.0,0.0,40.7,0.92,41.0,1.0],[11.0,82.0,38.0,149.0,43.3,-0.03,48.0,1.0],[7.0,94.0,0.0,2.0,31.1,0.97,46.0,1.0],[2.0,94.0,41.0,0.0,49.1,0.54,27.0,1.0],[5.0,69.0,24.0,200.0,36.1,0.09,37.0,1.0],[5.0,61.0,1.0,0.0,24.2,0.79,50.0,1.0],[3.0,68.0,0.0,1.0,29.5,0.61,22.0,1.0],[1.0,88.0,46.0,509.0,42.0,1.51,28.0,1.0],[7.0,77.0,31.0,2.0,32.8,1.35,45.0,1.0],[0.0,87.0,39.0,108.0,37.0,2.09,38.0,1.0],[0.0,72.0,0.0,0.0,36.7,1.64,52.0,1.0],[6.0,92.0,2.0,0.0,34.3,-0.11,64.0,1.0],[9.0,74.0,31.0,0.0,44.0,0.86,44.0,1.0],[0.0,60.0,0.0,2.0,31.2,-0.22,47.0,1.0]],\"hovertemplate\":\"Outcome=%{customdata[7]}\\u003cbr\\u003eGlucose=%{x}\\u003cbr\\u003ePregnancies=%{customdata[0]}\\u003cbr\\u003eBloodPressure=%{customdata[1]}\\u003cbr\\u003eSkinThickness=%{customdata[2]}\\u003cbr\\u003eInsulin=%{customdata[3]}\\u003cbr\\u003eBMI=%{customdata[4]}\\u003cbr\\u003eDiabetesPedigreeFunction=%{customdata[5]}\\u003cbr\\u003eAge=%{customdata[6]}\\u003cextra\\u003e\\u003c\\u002fextra\\u003e\",\"legendgroup\":\"1\",\"marker\":{\"color\":\"#00cc96\"},\"name\":\"1\",\"offsetgroup\":\"1\",\"scalegroup\":\"x\",\"showlegend\":false,\"x\":[147,182,137,79,196,124,170,189,167,100,119,107,115,196,120,144,127,148,158,102,90,111,172,179,102,175,187,134,114,107,100,129,131,136,136,134,125,163,95,172,154,160,147,124,161,112,88,119,105,172,123,173,108,155,188,153,162,132,103,102,134,179,130,131,195,180,127,110,140,159,137,157,108,109,150,195,161,183,139,111,151,111,85,112,177,156,162,143,134,172,181,180,164,138,120,185,93,113,154,140,123,138,149,100,105,146,161,106,118,107,128,129,146,100,168,146,115,161,128,124,155,110,182,194,111,123,152,124,103,182,114,152,178,0,165,126,130,195,191,146,125,134,173,140,156,115,105,144,163,157,131,194,93,136,168,114,198,171,138,174,147,129,151,183,182,95,143,189,109,119,181,104,133,175,149,121,104,158,145,134,124,196,0,180,84,163,145,131,132,131,100,128,90,186,188,125,199,121,118,197,151,124,142,176,110,132,189,172,149,183,179,174,166,138,112,119,113,104,97,147,167,179,136,156,80,199,168,145,115,145,112,194,158,121,163,124,145,159,130,141,168,126,169,116,163,93,128,187,173,97,148,132,121,174,102,120,141,148,186,163,135,182,154,128,123,189,171,126],\"xaxis\":\"x2\",\"yaxis\":\"y2\",\"type\":\"violin\"},{\"alignmentgroup\":\"True\",\"bingroup\":\"x\",\"hovertemplate\":\"Outcome=0\\u003cbr\\u003eGlucose=%{x}\\u003cbr\\u003ecount=%{y}\\u003cextra\\u003e\\u003c\\u002fextra\\u003e\",\"legendgroup\":\"0\",\"marker\":{\"color\":\"#ab63fa\",\"pattern\":{\"shape\":\"\"}},\"name\":\"0\",\"offsetgroup\":\"0\",\"orientation\":\"v\",\"showlegend\":true,\"x\":[84,89,115,116,111,138,101,127,99,98,146,118,108,88,91,122,103,136,180,133,105,159,147,69,106,103,103,87,150,73,100,146,104,84,42,140,97,109,95,147,140,130,79,1,62,94,111,112,73,84,100,111,103,100,106,77,122,80,142,144,94,72,93,150,127,80,83,127,96,145,83,90,76,78,95,98,110,106,133,120,119,85,96,125,102,92,130,107,128,106,108,154,103,58,106,148,90,135,115,154,99,110,88,151,102,114,101,148,119,111,111,86,79,74,85,143,86,117,0,75,141,111,124,85,103,112,139,107,98,103,111,97,79,147,178,125,118,141,99,87,101,198,117,78,123,75,105,92,90,147,123,167,125,112,108,129,91,86,110,112,193,192,95,142,95,129,101,108,124,70,106,99,104,115,107,129,133,135,154,97,109,78,161,153,126,112,77,150,119,138,83,105,113,113,99,115,129,113,158,181,106,119,87,104,97,164,116,131,96,0,123,96,126,140,115,98,91,138,61,90,92,88,159,104,147,99,101,82,119,82,105,122,97,88,92,106,105,107,91,126,120,100,100,132,116,128,95,81,136,73,125,101,102,112,142,143,97,82,119,94,103,115,94,134,99,89,79,138,91,140,147,97,106,84,118,100,95,118,84,92,121,100,135,87,133,120,70,75,88,115,123,74,98,155,143,137,120,136,113,137,114,127,130,123,86,83,138,173,100,192,82,90,98,80,166,109,81,154,117,83,93,94,74,131,85,119,141,91,89,98,126,77,127,68,123,112,126,88,98,116,117,111,122,106,86,91,78,103,58,127,84,88,132,163,191,115,84,114,88,81,123,98,111,101,86,89,99,90,95,99,91,154,80,129,112,99,145,120,109,133,106,120,100,93,102,73,113,82,123,67,90,109,108,96,123,123,93,152,112,106,106,108,119,67,113,93,183,94,106,89,124,132,129,94,102,111,128,93,104,92,100,103,129,91,103,157,108,90,118,122,119,106,100,120,129,162,112,96,158,165,99,70,124,91,93,102,55,94,134,130,131,106,139,107,121,91,100,126,118,121,129,108,80,127,158,125,136,103,91,108,82,113,117,109,111,117,143,175,91,106,106,96,126,65,100,103,110,152,101,82,122,108,136,107,89,90,102,121,121,93],\"xaxis\":\"x\",\"yaxis\":\"y\",\"type\":\"histogram\"},{\"alignmentgroup\":\"True\",\"customdata\":[[0.0,66.0,29.0,1.0,24.9,1.49,32.0,0.0],[2.0,64.0,22.0,95.0,26.4,-0.19,21.0,0.0],[5.0,74.0,0.0,0.0,25.6,-1.06,31.0,0.0],[10.0,2.0,0.0,1.0,35.6,0.33,28.0,0.0],[4.0,93.0,1.0,0.0,36.9,1.07,28.0,0.0],[9.0,79.0,1.0,0.0,26.0,0.01,58.0,0.0],[1.0,30.0,37.0,83.0,43.1,0.98,33.0,0.0],[3.0,88.0,39.0,235.0,38.9,0.66,27.0,0.0],[10.0,83.0,0.0,0.0,37.2,0.49,49.0,0.0],[2.0,67.0,14.0,140.0,22.3,0.91,22.0,0.0],[13.0,81.0,19.0,110.0,21.1,0.17,58.0,0.0],[5.0,92.0,0.0,1.0,35.2,1.37,36.0,0.0],[5.0,77.0,28.0,0.0,36.5,0.57,61.0,0.0],[4.0,57.0,11.0,55.0,24.5,-0.73,21.0,0.0],[7.0,91.0,0.0,0.0,18.7,0.62,26.0,0.0],[9.0,76.0,32.0,0.0,28.1,0.78,44.0,0.0],[5.0,61.0,35.0,192.0,24.1,2.84,34.0,0.0],[11.0,76.0,0.0,0.0,33.3,-1.21,34.0,0.0],[2.0,63.0,26.0,71.0,35.6,-0.73,26.0,0.0],[7.0,85.0,0.0,1.0,41.8,2.95,37.0,0.0],[6.0,93.0,19.0,1.0,22.7,1.45,49.0,0.0],[8.0,64.0,0.0,0.0,27.0,3.01,41.0,0.0],[1.0,55.0,0.0,0.0,30.2,1.61,29.0,0.0],[3.0,69.0,27.0,1.0,26.5,-1.18,21.0,0.0],[5.0,0.0,1.0,1.0,0.0,1.13,23.0,0.0],[0.0,79.0,11.0,84.0,18.5,2.51,22.0,0.0],[1.0,48.0,15.0,37.0,24.4,1.04,24.0,0.0],[5.0,66.0,21.0,24.0,24.5,1.06,29.0,0.0],[7.0,65.0,41.0,340.0,34.1,1.25,42.0,0.0],[0.0,49.0,10.0,0.0,23.1,-0.19,21.0,0.0],[0.0,88.0,61.0,109.0,47.3,-0.22,31.0,0.0],[1.0,82.0,0.0,0.0,43.4,1.18,43.0,0.0],[1.0,63.0,41.0,141.0,40.4,0.91,22.0,0.0],[2.0,0.0,0.0,1.0,0.0,-0.34,19.0,0.0],[4.0,63.0,0.0,0.0,24.9,-0.85,35.0,0.0],[1.0,57.0,32.0,128.0,25.9,1.42,26.0,0.0],[5.0,75.0,26.0,0.0,29.4,-0.8,33.0,0.0],[2.0,93.0,0.0,0.0,44.1,-0.04,53.0,0.0],[1.0,68.0,14.0,38.0,20.3,-0.89,24.0,0.0],[5.0,86.0,26.0,98.0,29.9,-0.73,27.0,0.0],[5.0,66.0,35.0,140.0,27.8,1.64,26.0,0.0],[4.0,87.0,21.0,270.0,35.4,1.53,23.0,0.0],[0.0,74.0,31.0,0.0,32.9,-0.53,22.0,0.0],[0.0,48.0,21.0,0.0,24.9,0.36,22.0,0.0],[6.0,78.0,0.0,0.0,32.1,1.25,41.0,0.0],[5.0,72.0,33.0,0.0,36.2,1.4,27.0,0.0],[2.0,66.0,21.0,0.0,23.9,0.44,22.0,0.0],[2.0,43.0,14.0,0.0,20.7,0.31,22.0,0.0],[1.0,0.0,0.0,0.0,0.9,0.48,24.0,0.0],[6.0,78.0,26.0,71.0,29.5,1.06,37.0,0.0],[1.0,64.0,28.0,2.0,25.9,-0.11,22.0,0.0],[3.0,75.0,30.0,126.0,31.3,-0.71,26.0,0.0],[14.0,71.0,53.0,1.0,35.9,0.68,45.0,0.0],[1.0,67.0,25.0,72.0,37.8,1.14,26.0,0.0],[1.0,68.0,22.0,0.0,26.4,-0.43,24.0,0.0],[0.0,55.0,2.0,0.0,19.7,0.56,23.0,0.0],[3.0,80.0,16.0,175.0,30.9,1.74,33.0,0.0],[8.0,78.0,40.0,48.0,46.3,-0.32,41.0,0.0],[3.0,83.0,18.0,62.0,24.2,2.29,21.0,0.0],[7.0,72.0,27.0,228.0,33.6,0.42,39.0,0.0],[4.0,60.0,28.0,0.0,31.5,1.01,23.0,0.0],[0.0,49.0,19.0,75.0,21.6,1.34,21.0,0.0],[6.0,49.0,29.0,64.0,28.9,0.73,24.0,0.0],[2.0,62.0,1.0,0.0,26.0,-0.03,22.0,0.0],[0.0,96.0,0.0,0.0,22.7,0.34,21.0,0.0],[2.0,71.0,18.0,40.0,28.1,0.43,23.0,0.0],[2.0,67.0,1.0,0.0,38.7,-0.6,27.0,0.0],[1.0,55.0,28.0,152.0,28.7,1.68,19.0,0.0],[1.0,120.0,0.0,0.0,21.9,0.25,27.0,0.0],[4.0,58.0,26.0,140.0,29.7,0.76,38.0,0.0],[4.0,58.0,31.0,18.0,34.9,-0.27,25.0,0.0],[0.0,77.0,34.0,36.0,30.9,0.03,24.0,0.0],[4.0,62.0,1.0,0.0,33.7,0.44,25.0,0.0],[4.0,49.0,0.0,1.0,33.4,0.6,26.0,0.0],[4.0,61.0,23.0,1.0,27.1,1.28,22.0,0.0],[4.0,77.0,14.0,51.0,21.2,0.78,22.0,0.0],[6.0,65.0,40.0,0.0,33.7,-1.46,25.0,0.0],[2.0,76.0,30.0,100.0,34.2,1.62,24.0,0.0],[6.0,82.0,0.0,1.0,27.7,-0.87,69.0,0.0],[4.0,70.0,31.0,135.0,41.1,-1.16,29.0,0.0],[3.0,59.0,35.0,96.0,33.5,0.04,24.0,0.0],[8.0,76.0,31.0,0.0,39.0,-0.21,40.0,0.0],[2.0,70.0,13.0,50.0,22.8,0.67,26.0,0.0],[5.0,59.0,20.0,140.0,34.4,1.13,31.0,0.0],[0.0,71.0,25.0,52.0,30.7,-1.79,22.0,0.0],[0.0,61.0,26.0,92.0,28.6,2.8,22.0,0.0],[0.0,79.0,2.0,0.0,29.2,2.13,29.0,0.0],[4.0,72.0,31.0,325.0,36.5,-0.08,28.0,0.0],[4.0,77.0,0.0,2.0,21.6,0.84,56.0,0.0],[4.0,84.0,31.0,0.0,39.5,-0.09,39.0,0.0],[2.0,50.0,26.0,63.0,33.0,1.06,23.0,0.0],[5.0,61.0,32.0,285.0,32.2,0.55,23.0,0.0],[2.0,74.0,24.0,0.0,0.0,0.81,22.0,0.0],[9.0,79.0,38.0,0.0,33.4,-0.82,41.0,0.0],[1.0,64.0,35.0,120.0,30.1,0.52,34.0,0.0],[5.0,77.0,0.0,1.0,32.3,-0.69,67.0,0.0],[0.0,71.0,16.0,0.0,25.5,-1.53,22.0,0.0],[2.0,72.0,52.0,205.0,36.6,0.32,24.0,0.0],[5.0,64.0,0.0,0.0,21.7,2.08,38.0,0.0],[3.0,82.0,42.0,485.0,40.8,0.45,23.0,0.0],[2.0,52.0,15.0,94.0,24.1,-0.51,22.0,0.0],[1.0,56.0,21.0,134.0,23.9,0.74,22.0,0.0],[2.0,73.0,18.0,53.0,28.7,-0.43,22.0,0.0],[3.0,89.0,38.0,1.0,29.8,-1.16,34.0,0.0],[5.0,73.0,43.0,106.0,37.9,-0.64,45.0,0.0],[1.0,80.0,34.0,285.0,43.6,-0.13,28.0,0.0],[3.0,64.0,23.0,0.0,30.6,1.0,21.0,0.0],[4.0,66.0,25.0,0.0,33.5,-0.12,22.0,0.0],[3.0,68.0,2.0,1.0,30.0,1.45,32.0,0.0],[2.0,66.0,0.0,1.0,31.8,0.66,29.0,0.0],[3.0,89.0,13.0,78.0,28.5,0.35,30.0,0.0],[2.0,0.0,23.0,0.0,29.6,0.25,24.0,0.0],[1.0,60.0,40.0,49.0,44.9,0.19,23.0,0.0],[3.0,63.0,25.0,56.0,30.2,0.45,34.0,0.0],[7.0,78.0,0.0,0.0,30.8,0.58,43.0,0.0],[4.0,78.0,1.0,1.0,43.9,0.15,48.0,0.0],[5.0,81.0,0.0,0.0,25.1,0.33,32.0,0.0],[1.0,64.0,18.0,91.0,32.7,-0.53,24.0,0.0],[2.0,74.0,21.0,23.0,27.8,0.14,22.0,0.0],[5.0,59.0,0.0,0.0,27.1,1.01,28.0,0.0],[4.0,74.0,0.0,0.0,26.7,1.0,38.0,0.0],[3.0,61.0,1.0,0.0,22.0,-0.39,20.0,0.0],[9.0,69.0,44.0,96.0,32.3,1.74,41.0,0.0],[8.0,54.0,20.0,0.0,24.0,-0.2,42.0,0.0],[2.0,58.0,0.0,0.0,25.1,0.72,20.0,0.0],[0.0,81.0,16.0,0.0,32.1,0.19,21.0,0.0],[2.0,81.0,0.0,0.0,40.6,0.82,28.0,0.0],[1.0,69.0,19.0,0.0,26.7,1.33,33.0,0.0],[2.0,68.0,16.0,43.0,19.0,-0.63,27.0,0.0],[5.0,73.0,34.0,190.0,36.7,-0.37,54.0,0.0],[6.0,70.0,27.0,1.0,23.2,0.9,27.0,0.0],[3.0,64.0,28.0,86.0,33.7,-1.45,22.0,0.0],[1.0,61.0,21.0,0.0,27.6,1.41,24.0,0.0],[0.0,83.0,54.0,0.0,40.5,-0.04,23.0,0.0],[6.0,96.0,32.0,0.0,34.2,-1.02,61.0,0.0],[7.0,67.0,30.0,121.0,30.4,0.81,31.0,0.0],[7.0,0.0,0.0,0.0,25.6,0.03,39.0,0.0],[9.0,60.0,34.0,190.0,30.0,0.62,61.0,0.0],[1.0,65.0,16.0,57.0,22.3,0.62,25.0,0.0],[0.0,79.0,26.0,31.0,34.8,-0.27,21.0,0.0],[1.0,76.0,1.0,0.0,36.3,0.01,25.0,0.0],[5.0,70.0,40.0,743.0,35.1,1.66,31.0,0.0],[2.0,80.0,33.0,54.0,45.6,-1.36,24.0,0.0],[1.0,80.0,25.0,37.0,23.7,1.62,22.0,0.0],[6.0,69.0,0.0,1.0,35.1,1.57,30.0,0.0],[2.0,68.0,27.0,45.0,29.5,1.35,23.0,0.0],[0.0,76.0,0.0,1.0,16.9,0.95,27.0,0.0],[0.0,65.0,23.0,1.0,29.6,0.37,21.0,0.0],[2.0,70.0,31.0,88.0,32.3,1.46,21.0,0.0],[3.0,76.0,34.0,194.0,36.1,1.06,29.0,0.0],[10.0,67.0,0.0,0.0,31.7,0.59,42.0,0.0],[0.0,89.0,34.0,679.0,51.8,0.29,22.0,0.0],[10.0,72.0,34.0,402.0,34.5,1.02,33.0,0.0],[0.0,87.0,18.0,0.0,30.8,0.29,23.0,0.0],[8.0,51.0,1.0,0.0,31.0,-0.24,42.0,0.0],[1.0,85.0,0.0,0.0,28.4,0.26,26.0,0.0],[1.0,80.0,15.0,55.0,23.1,1.25,24.0,0.0],[0.0,67.0,33.0,0.0,35.1,-0.66,25.0,0.0],[3.0,55.0,41.0,0.0,28.9,2.31,29.0,0.0],[1.0,65.0,22.0,0.0,28.1,1.34,25.0,0.0],[2.0,49.0,16.0,375.0,25.3,-1.25,25.0,0.0],[4.0,70.0,16.0,130.0,30.6,-1.02,34.0,0.0],[4.0,70.0,30.0,1.0,33.6,-0.5,23.0,0.0],[2.0,80.0,16.0,1.0,29.7,-0.17,64.0,0.0],[5.0,75.0,18.0,67.0,33.5,0.52,44.0,0.0],[2.0,64.0,42.0,0.0,40.3,-0.35,24.0,0.0],[0.0,51.0,1.0,0.0,23.9,1.65,20.0,0.0],[3.0,61.0,30.0,55.0,24.7,1.0,21.0,0.0],[4.0,77.0,0.0,0.0,23.0,0.56,39.0,0.0],[1.0,78.0,50.0,45.0,34.9,0.86,19.0,0.0],[12.0,70.0,0.0,1.0,32.8,-0.25,52.0,0.0],[4.0,70.0,53.0,57.0,39.1,0.81,26.0,0.0],[0.0,62.0,24.0,116.0,27.3,0.78,23.0,0.0],[5.0,74.0,0.0,1.0,25.0,-0.29,56.0,0.0],[1.0,62.0,10.0,278.0,26.4,2.24,21.0,0.0],[12.0,76.0,25.0,121.0,35.2,-1.77,40.0,0.0],[8.0,87.0,14.0,155.0,33.0,0.47,35.0,0.0],[5.0,74.0,25.0,134.0,27.4,2.07,51.0,0.0],[3.0,84.0,44.0,547.0,37.5,0.98,33.0,0.0],[3.0,56.0,18.0,51.0,19.3,-0.89,25.0,0.0],[6.0,70.0,43.0,75.0,35.1,-1.49,34.0,0.0],[0.0,89.0,29.0,41.0,35.7,-1.04,20.0,0.0],[0.0,50.0,1.0,1.0,22.2,0.97,66.0,0.0],[5.0,60.0,32.0,120.0,34.5,2.33,30.0,0.0],[2.0,85.0,30.0,218.0,32.2,-0.23,23.0,0.0],[8.0,73.0,0.0,0.0,24.2,1.26,59.0,0.0],[6.0,83.0,43.0,42.0,36.0,-0.82,36.0,0.0],[5.0,76.0,0.0,0.0,23.4,-1.59,38.0,0.0],[2.0,78.0,37.0,105.0,40.5,0.7,28.0,0.0],[1.0,69.0,14.0,147.0,23.9,-1.15,21.0,0.0],[6.0,65.0,29.0,1.0,26.5,0.52,40.0,0.0],[0.0,69.0,36.0,148.0,40.7,0.24,22.0,0.0],[2.0,51.0,10.0,85.0,28.9,0.75,23.0,0.0],[1.0,66.0,21.0,94.0,34.5,0.2,26.0,0.0],[3.0,79.0,11.0,63.0,19.4,-0.13,30.0,0.0],[4.0,68.0,40.0,140.0,37.5,0.19,28.0,0.0],[6.0,58.0,12.0,232.0,27.5,2.08,31.0,0.0],[3.0,77.0,30.0,0.0,35.1,0.65,22.0,0.0],[2.0,72.0,22.0,169.0,25.3,-0.61,23.0,0.0],[10.0,70.0,0.0,0.0,34.9,-1.01,38.0,0.0],[6.0,70.0,32.0,66.0,31.1,-0.23,38.0,0.0],[7.0,72.0,20.0,2.0,22.2,-1.02,46.0,0.0],[1.0,57.0,16.0,53.0,31.8,1.14,25.0,0.0],[11.0,80.0,0.0,0.0,22.8,-0.58,43.0,0.0],[1.0,60.0,17.0,58.0,23.8,-0.73,23.0,0.0],[0.0,78.0,43.0,255.0,47.7,0.93,27.0,0.0],[1.0,0.0,0.0,1.0,35.3,0.34,44.0,0.0],[1.0,71.0,14.0,104.0,25.9,-1.24,22.0,0.0],[0.0,73.0,22.0,74.0,27.8,0.11,36.0,0.0],[2.0,68.0,36.0,0.0,31.7,-0.49,24.0,0.0],[5.0,88.0,1.0,1.0,36.1,0.04,33.0,0.0],[7.0,71.0,0.0,1.0,35.8,0.4,58.0,0.0],[10.0,88.0,35.0,106.0,38.1,0.4,47.0,0.0],[0.0,45.0,20.0,83.0,27.5,0.54,22.0,0.0],[3.0,1.0,0.0,1.0,20.8,0.48,23.0,0.0],[4.0,61.0,19.0,76.0,23.0,0.67,27.0,0.0],[4.0,81.0,0.0,2.0,41.1,-0.99,30.0,0.0],[5.0,83.0,0.0,0.0,30.6,0.73,31.0,0.0],[3.0,81.0,27.0,0.0,35.8,0.16,46.0,0.0],[1.0,63.0,12.0,43.0,26.1,1.18,26.0,0.0],[2.0,77.0,0.0,0.0,41.9,1.96,20.0,0.0],[12.0,75.0,40.0,55.0,35.0,-1.78,49.0,0.0],[4.0,70.0,0.0,0.0,28.0,1.26,64.0,0.0],[5.0,108.0,37.0,1.0,39.6,-0.27,66.0,0.0],[4.0,72.0,25.0,292.0,34.8,-1.34,30.0,0.0],[4.0,56.0,28.0,85.0,34.6,0.3,30.0,0.0],[1.0,65.0,18.0,2.0,22.0,0.06,20.0,0.0],[4.0,88.0,15.0,67.0,26.9,-0.01,23.0,0.0],[1.0,64.0,24.0,90.0,0.2,1.9,22.0,0.0],[0.0,64.0,22.0,65.0,37.0,-1.36,21.0,0.0],[1.0,57.0,40.0,96.0,34.7,-0.98,26.0,0.0],[1.0,53.0,43.0,158.0,35.6,-0.04,27.0,0.0],[0.0,82.0,15.0,84.0,25.0,0.83,23.0,0.0],[2.0,60.0,37.0,76.0,38.2,0.6,23.0,0.0],[0.0,101.0,40.0,72.0,43.0,1.76,34.0,0.0],[0.0,72.0,28.0,84.0,32.1,2.94,24.0,0.0],[0.0,66.0,21.0,3.0,19.6,-1.27,23.0,0.0],[0.0,61.0,8.0,183.0,25.3,2.07,22.0,0.0],[1.0,63.0,18.0,59.0,23.4,0.98,25.0,0.0],[1.0,69.0,25.0,109.0,23.0,0.74,26.0,0.0],[1.0,53.0,14.0,48.0,23.2,-0.12,26.0,0.0],[2.0,70.0,24.0,81.0,30.7,0.41,27.0,0.0],[1.0,68.0,29.0,196.0,32.4,-0.2,42.0,0.0],[1.0,66.0,15.0,416.0,24.5,0.2,20.0,0.0],[4.0,71.0,13.0,89.0,20.8,1.96,37.0,0.0],[2.0,58.0,23.0,275.0,27.5,-0.25,26.0,0.0],[3.0,56.0,36.0,113.0,25.2,0.67,39.0,0.0],[1.0,71.0,0.0,0.0,21.3,1.83,25.0,0.0],[6.0,61.0,0.0,0.0,22.1,-0.23,54.0,0.0],[8.0,78.0,24.0,0.0,32.9,0.63,39.0,0.0],[1.0,48.0,32.0,163.0,42.0,1.54,26.0,0.0],[0.0,61.0,0.0,1.0,22.3,1.55,26.0,0.0],[5.0,92.0,39.0,0.0,36.1,1.11,27.0,0.0],[2.0,73.0,30.0,176.0,34.3,0.02,24.0,0.0],[1.0,84.0,21.0,309.0,41.4,0.47,22.0,0.0],[2.0,75.0,20.0,62.0,25.3,0.0,20.0,0.0],[1.0,69.0,21.0,2.0,27.2,0.67,22.0,0.0],[1.0,69.0,1.0,0.0,18.2,2.25,28.0,0.0],[0.0,88.0,41.0,168.0,45.0,-0.7,27.0,0.0],[3.0,67.0,19.0,76.0,27.5,0.73,21.0,0.0],[0.0,65.0,46.0,76.0,41.6,-1.21,21.0,0.0],[0.0,64.0,22.0,1.0,31.7,-0.03,22.0,0.0],[0.0,0.0,0.0,0.0,0.0,0.44,25.0,0.0],[2.0,95.0,45.0,148.0,41.0,0.15,26.0,0.0],[3.0,0.0,2.0,0.0,23.5,0.93,23.0,0.0],[3.0,74.0,17.0,86.0,30.0,0.4,38.0,0.0],[3.0,74.0,10.0,61.0,29.5,-0.34,22.0,0.0],[2.0,73.0,2.0,1.0,27.2,0.79,28.0,0.0],[0.0,68.0,9.0,0.0,23.2,0.79,36.0,0.0],[12.0,87.0,33.0,0.0,36.6,-0.81,41.0,0.0],[4.0,75.0,0.0,0.0,29.6,0.59,29.0,0.0],[2.0,70.0,15.0,1.0,18.3,-0.35,20.0,0.0],[6.0,86.0,0.0,1.0,37.3,-0.01,30.0,0.0],[2.0,66.0,23.0,50.0,33.5,0.95,22.0,0.0],[4.0,64.0,28.0,120.0,34.4,0.03,25.0,0.0],[3.0,73.0,13.0,68.0,25.9,-0.28,28.0,0.0],[0.0,80.0,44.0,92.0,36.2,0.68,25.0,0.0],[0.0,73.0,19.0,65.0,29.6,1.51,27.0,0.0],[0.0,64.0,14.0,95.0,19.0,2.03,22.0,0.0],[0.0,68.0,31.0,211.0,40.6,1.25,26.0,0.0],[2.0,1.0,0.0,2.0,21.1,0.32,74.0,0.0],[3.0,53.0,28.0,104.0,38.3,0.85,25.0,0.0],[1.0,53.0,1.0,0.0,24.9,0.88,63.0,0.0],[4.0,68.0,28.0,72.0,30.5,0.8,25.0,0.0],[7.0,75.0,34.0,61.0,24.6,-0.79,81.0,0.0],[10.0,71.0,22.0,58.0,21.2,0.69,50.0,0.0],[1.0,62.0,1.0,0.0,20.0,0.78,25.0,0.0],[6.0,71.0,41.0,49.0,34.2,1.19,41.0,0.0],[6.0,79.0,31.0,0.0,28.4,-0.36,36.0,0.0],[10.0,97.0,0.0,0.0,22.6,0.26,34.0,0.0],[0.0,55.0,14.0,105.0,22.4,-0.33,19.0,0.0],[0.0,52.0,7.0,36.0,29.2,0.85,21.0,0.0],[1.0,65.0,38.0,100.0,37.6,1.2,26.0,0.0],[5.0,77.0,41.0,141.0,45.6,0.01,28.0,0.0],[1.0,83.0,39.0,0.0,40.5,-1.3,28.0,0.0],[0.0,69.0,36.0,0.0,31.5,-0.77,24.0,0.0],[0.0,65.0,28.0,1.0,38.1,-0.83,22.0,0.0],[7.0,90.0,1.0,0.0,28.4,0.07,50.0,0.0],[4.0,62.0,0.0,0.0,29.7,1.4,23.0,0.0],[0.0,84.0,28.0,1.0,26.9,1.13,59.0,0.0],[7.0,76.0,17.0,112.0,23.7,0.04,32.0,0.0],[8.0,74.0,37.0,75.0,26.1,0.29,38.0,0.0],[3.0,85.0,31.0,1.0,27.1,-0.37,62.0,0.0],[1.0,88.0,36.0,0.0,35.6,0.24,28.0,0.0],[4.0,60.0,23.0,50.0,27.7,0.36,26.0,0.0],[1.0,82.0,29.0,125.0,38.5,-0.61,24.0,0.0],[1.0,63.0,40.0,481.0,38.6,-0.45,21.0,0.0],[1.0,81.0,31.0,265.0,46.5,1.91,57.0,0.0],[4.0,71.0,17.0,1.0,24.7,0.46,27.0,0.0],[8.0,79.0,1.0,1.0,26.5,1.72,66.0,0.0],[1.0,65.0,29.0,66.0,36.5,0.69,25.0,0.0],[3.0,89.0,31.0,0.0,33.7,0.56,43.0,0.0],[4.0,69.0,39.0,0.0,32.2,-0.54,32.0,0.0],[4.0,0.0,1.0,1.0,0.5,-1.62,22.0,0.0],[5.0,74.0,1.0,0.0,26.7,1.67,65.0,0.0],[6.0,68.0,1.0,1.0,26.2,-0.25,27.0,0.0],[2.0,72.0,14.0,76.0,31.0,1.85,24.0,0.0],[7.0,75.0,32.0,192.0,27.8,0.49,39.0,0.0],[2.0,92.0,19.0,70.0,24.4,1.03,22.0,0.0],[2.0,71.0,36.0,0.0,35.4,1.49,28.0,0.0],[8.0,63.0,22.0,81.0,33.5,1.89,40.0,0.0],[4.0,78.0,39.0,1.0,37.8,-1.48,39.0,0.0],[9.0,82.0,1.0,1.0,34.2,1.02,38.0,0.0],[0.0,60.0,22.0,169.0,30.7,0.62,19.0,0.0],[3.0,50.0,23.0,76.0,30.0,2.51,20.0,0.0],[8.0,78.0,0.0,0.0,24.9,1.5,63.0,0.0],[1.0,64.0,18.0,211.0,22.4,0.58,20.0,0.0],[8.0,68.0,1.0,1.0,25.1,1.16,58.0,0.0],[3.0,61.0,0.0,0.0,26.3,1.26,22.0,0.0],[1.0,53.0,19.0,86.0,24.0,-0.24,23.0,0.0],[7.0,86.0,1.0,0.0,37.9,1.23,51.0,0.0],[14.0,60.0,0.0,0.0,32.8,0.2,41.0,0.0],[6.0,91.0,7.0,327.0,20.7,-0.41,59.0,0.0],[2.0,70.0,32.0,67.0,24.0,0.35,25.0,0.0],[3.0,80.0,34.0,130.0,32.3,1.21,26.0,0.0],[7.0,0.0,0.0,1.0,0.0,1.95,27.0,0.0],[2.0,58.0,0.0,1.0,32.7,-0.65,24.0,0.0],[4.0,59.0,19.0,1.0,22.2,1.69,21.0,0.0],[1.0,64.0,19.0,81.0,17.8,0.84,21.0,0.0],[2.0,74.0,14.0,105.0,25.6,-0.7,22.0,0.0],[0.0,66.0,32.0,189.0,32.5,-0.86,23.0,0.0],[2.0,65.0,0.0,0.0,23.8,0.32,32.0,0.0],[3.0,60.0,17.0,105.0,30.1,2.87,22.0,0.0],[0.0,76.0,1.0,1.0,45.7,1.01,23.0,0.0],[2.0,64.0,51.0,65.0,41.9,3.68,29.0,0.0],[6.0,0.0,0.0,0.0,29.3,-0.72,32.0,0.0],[1.0,57.0,30.0,55.0,35.8,0.2,25.0,0.0],[0.0,90.0,0.0,2.0,29.0,2.38,45.0,0.0],[1.0,61.0,2.0,0.0,21.3,0.12,68.0,0.0],[2.0,79.0,37.0,211.0,35.6,0.65,24.0,0.0],[4.0,91.0,24.0,57.0,39.7,0.29,24.0,0.0],[3.0,77.0,29.0,75.0,33.1,1.77,29.0,0.0],[3.0,68.0,19.0,168.0,33.4,-0.75,28.0,0.0],[2.0,83.0,41.0,66.0,32.8,0.07,51.0,0.0],[4.0,110.0,32.0,0.0,28.6,0.95,36.0,0.0],[1.0,70.0,28.0,0.0,26.3,-2.08,20.0,0.0],[3.0,69.0,31.0,105.0,31.6,1.29,25.0,0.0],[7.0,87.0,0.0,1.0,30.2,0.27,66.0,0.0],[1.0,61.0,25.0,43.0,29.4,-0.07,22.0,0.0],[1.0,63.0,22.0,117.0,37.7,1.25,28.0,0.0],[7.0,70.0,34.0,214.0,25.5,3.01,37.0,0.0],[2.0,71.0,40.0,0.0,37.2,0.27,30.0,0.0],[9.0,76.0,0.0,0.0,27.3,1.58,57.0,0.0],[12.0,65.0,39.0,2.0,45.7,-0.35,43.0,0.0],[12.0,74.0,1.0,0.0,30.7,0.58,36.0,0.0],[0.0,68.0,35.0,78.0,38.4,0.79,24.0,0.0],[4.0,62.0,19.0,54.0,25.9,1.73,33.0,0.0],[0.0,79.0,0.0,0.0,32.4,2.19,26.0,0.0],[2.0,54.0,14.0,87.0,26.2,-0.16,22.0,0.0],[2.0,73.0,32.0,17.0,37.9,0.98,20.0,0.0],[6.0,61.0,34.0,126.0,31.9,-0.8,44.0,0.0],[2.0,72.0,31.0,126.0,31.9,0.0,38.0,0.0],[4.0,68.0,0.0,0.0,31.4,1.88,40.0,0.0],[2.0,94.0,0.0,0.0,22.2,-1.35,22.0,0.0],[4.0,59.0,32.0,45.0,28.7,0.14,22.0,0.0],[2.0,61.0,16.0,121.0,34.7,0.29,20.0,0.0],[2.0,85.0,31.0,329.0,28.7,-0.98,23.0,0.0],[0.0,44.0,46.0,63.0,35.2,0.4,24.0,0.0],[8.0,45.0,20.0,129.0,24.0,0.48,35.0,0.0],[9.0,70.0,0.0,0.0,26.4,-2.05,36.0,0.0],[6.0,62.0,27.0,0.0,25.5,-0.55,27.0,0.0],[11.0,78.0,16.0,0.0,27.2,-1.05,62.0,0.0],[8.0,76.0,0.0,2.0,39.4,0.17,41.0,0.0],[0.0,57.0,10.0,0.0,22.6,1.16,22.0,0.0],[5.0,65.0,0.0,0.0,22.1,-0.3,31.0,0.0],[0.0,0.0,1.0,0.0,21.8,0.51,24.0,0.0],[3.0,76.0,52.0,141.0,40.0,-0.55,24.0,0.0],[2.0,51.0,20.0,115.0,28.2,0.98,25.0,0.0],[5.0,73.0,45.0,230.0,32.7,-0.16,33.0,0.0],[0.0,77.0,0.0,0.0,45.2,-0.23,47.0,0.0],[1.0,23.0,21.0,25.0,28.4,0.19,21.0,0.0],[1.0,37.0,18.0,120.0,22.9,0.67,26.0,0.0],[3.0,89.0,18.0,1.0,26.1,-0.61,24.0,0.0],[6.0,1.0,1.0,0.0,22.4,-0.93,27.0,0.0],[1.0,74.0,36.0,0.0,27.9,0.54,31.0,0.0],[0.0,62.0,34.0,0.0,36.7,1.2,21.0,0.0],[2.0,62.0,24.0,38.0,19.6,1.98,26.0,0.0],[2.0,81.0,38.0,271.0,44.0,-0.61,26.0,0.0],[3.0,61.0,11.0,181.0,22.9,0.07,23.0,0.0],[3.0,54.0,20.0,158.0,30.8,0.71,23.0,0.0],[6.0,81.0,29.0,0.0,32.8,0.9,27.0,0.0],[4.0,73.0,2.0,0.0,27.8,2.13,28.0,0.0],[9.0,95.0,0.0,1.0,27.5,-0.27,30.0,0.0],[2.0,61.0,13.0,15.0,20.8,-0.11,26.0,0.0],[2.0,85.0,42.0,160.0,39.8,-0.07,29.0,0.0],[1.0,76.0,20.0,0.0,21.0,3.18,28.0,0.0],[5.0,92.0,0.0,0.0,42.2,3.03,46.0,0.0],[0.0,71.0,27.0,116.0,43.3,-1.35,21.0,0.0],[3.0,62.0,1.0,0.0,30.9,-0.89,20.0,0.0],[3.0,88.0,47.0,55.0,36.7,0.18,30.0,0.0],[1.0,69.0,1.0,0.0,23.8,0.24,22.0,0.0],[1.0,77.0,2.0,1.0,32.3,-0.08,20.0,0.0],[5.0,81.0,0.0,1.0,31.9,-0.14,45.0,0.0],[3.0,67.0,24.0,0.0,24.4,-0.41,20.0,0.0],[1.0,77.0,39.0,90.0,36.1,-0.49,24.0,0.0],[3.0,61.0,0.0,0.0,26.8,-0.14,23.0,0.0],[0.0,82.0,17.0,182.0,28.4,0.17,22.0,0.0],[10.0,63.0,0.0,2.0,26.7,-0.31,31.0,0.0],[6.0,74.0,1.0,0.0,28.0,0.24,48.0,0.0],[2.0,76.0,16.0,65.0,32.1,0.48,23.0,0.0],[1.0,74.0,13.0,46.0,19.8,0.68,27.0,0.0],[2.0,87.0,18.0,105.0,28.0,2.72,27.0,0.0],[4.0,70.0,0.0,0.0,35.8,2.22,24.0,0.0],[4.0,0.0,0.0,3.0,30.2,-0.63,30.0,0.0],[5.0,73.0,30.0,152.0,27.2,-0.98,27.0,0.0],[0.0,74.0,35.0,441.0,38.6,0.85,29.0,0.0],[1.0,60.0,25.0,0.0,26.7,0.84,23.0,0.0],[1.0,54.0,26.0,101.0,25.8,0.35,23.0,0.0],[1.0,60.0,25.0,106.0,34.9,2.06,28.0,0.0],[4.0,74.0,40.0,78.0,33.7,0.87,28.0,0.0],[4.0,54.0,0.0,1.0,26.7,1.23,26.0,0.0],[0.0,70.0,29.0,134.0,33.9,-0.84,23.0,0.0],[2.0,59.0,33.0,90.0,23.9,-0.78,22.0,0.0],[2.0,81.0,48.0,202.0,39.3,1.53,42.0,0.0],[12.0,105.0,0.0,0.0,39.3,0.14,50.0,0.0],[10.0,85.0,0.0,0.0,27.1,-1.23,54.0,0.0],[2.0,81.0,45.0,133.0,35.7,0.07,24.0,0.0],[7.0,58.0,33.0,190.0,34.4,1.06,43.0,0.0],[10.0,78.0,30.0,101.0,31.0,-0.61,45.0,0.0],[7.0,68.0,26.0,168.0,34.5,1.07,47.0,0.0],[2.0,57.0,10.0,0.0,25.3,-0.72,21.0,0.0],[10.0,107.0,22.0,49.0,37.1,0.27,49.0,0.0],[4.0,101.0,34.0,238.0,58.0,1.7,23.0,0.0],[7.0,83.0,0.0,0.0,34.4,-1.05,67.0,0.0],[0.0,62.0,0.0,2.0,32.6,-2.0,25.0,0.0],[2.0,59.0,16.0,265.0,25.2,-0.53,23.0,0.0],[1.0,55.0,29.0,45.0,23.3,-1.48,24.0,0.0],[0.0,63.0,39.0,105.0,45.8,1.29,23.0,0.0],[5.0,82.0,2.0,1.0,0.3,-0.37,70.0,0.0],[0.0,74.0,27.0,204.0,33.9,0.14,25.0,0.0],[4.0,63.0,0.0,1.0,22.5,0.26,22.0,0.0],[1.0,50.0,18.0,1.0,26.8,0.34,30.0,0.0],[1.0,74.0,27.0,182.0,25.1,1.89,22.0,0.0],[7.0,79.0,1.0,0.0,24.3,-1.72,34.0,0.0],[2.0,71.0,33.0,95.0,38.5,0.88,24.0,0.0],[1.0,61.0,1.0,0.0,23.0,1.76,27.0,0.0],[1.0,0.0,1.0,0.0,24.6,-0.37,22.0,0.0],[4.0,88.0,12.0,155.0,34.4,-0.37,28.0,0.0],[4.0,71.0,0.0,0.0,43.2,1.18,26.0,0.0],[3.0,77.0,27.0,200.0,34.6,0.48,26.0,0.0],[1.0,0.0,1.0,1.0,39.3,-0.63,41.0,0.0],[5.0,75.0,20.0,101.0,28.1,-0.38,27.0,0.0],[6.0,78.0,37.0,0.0,40.1,0.39,27.0,0.0],[2.0,46.0,22.0,334.0,34.4,0.91,22.0,0.0],[4.0,63.0,13.0,386.0,30.9,0.49,23.0,0.0],[4.0,77.0,27.0,23.0,31.1,1.38,39.0,0.0],[0.0,57.0,21.0,293.0,26.8,1.32,20.0,0.0],[2.0,75.0,1.0,0.0,28.2,-0.01,33.0,0.0],[11.0,73.0,18.0,0.0,23.1,0.41,55.0,0.0],[3.0,60.0,46.0,179.0,34.1,0.12,23.0,0.0],[4.0,86.0,21.0,0.0,29.1,1.28,34.0,0.0],[0.0,65.0,36.0,200.0,38.0,-0.74,21.0,0.0],[5.0,87.0,31.0,105.0,38.1,1.47,42.0,0.0],[2.0,91.0,1.0,1.0,33.4,-0.07,44.0,0.0],[2.0,78.0,40.0,1.0,39.5,0.85,39.0,0.0],[2.0,79.0,29.0,182.0,35.7,1.6,24.0,0.0],[0.0,85.0,26.0,1.0,31.9,0.82,22.0,0.0],[0.0,88.0,0.0,0.0,20.5,1.01,22.0,0.0],[0.0,52.0,2.0,0.0,31.3,-0.21,21.0,0.0],[3.0,57.0,26.0,167.0,29.6,2.03,23.0,0.0],[3.0,75.0,2.0,0.0,22.8,0.66,53.0,0.0],[4.0,63.0,33.0,0.0,34.7,2.19,28.0,0.0],[0.0,89.0,27.0,120.0,27.3,1.47,20.0,0.0],[7.0,73.0,24.0,2.0,32.7,-0.01,44.0,0.0],[2.0,61.0,17.0,161.0,37.6,1.38,20.0,0.0],[2.0,44.0,20.0,95.0,31.0,-1.91,26.0,0.0],[0.0,58.0,21.0,118.0,27.7,-0.1,23.0,0.0],[11.0,88.0,37.0,141.0,40.3,0.42,39.0,0.0],[12.0,86.0,35.0,104.0,30.4,0.85,45.0,0.0],[1.0,74.0,41.0,59.0,46.0,1.75,32.0,0.0],[1.0,80.0,39.0,76.0,39.1,-0.92,29.0,0.0],[0.0,63.0,23.0,0.0,26.1,-1.43,24.0,0.0],[6.0,90.0,42.0,0.0,31.5,0.79,38.0,0.0],[1.0,76.0,0.0,0.0,37.0,0.87,26.0,0.0],[1.0,58.0,25.0,17.0,26.6,1.47,20.0,0.0],[11.0,62.0,0.0,1.0,22.8,0.14,32.0,0.0],[9.0,77.0,51.0,181.0,33.2,1.11,60.0,0.0],[1.0,69.0,25.0,0.0,37.8,0.53,25.0,0.0],[5.0,72.0,23.0,113.0,26.3,-0.14,30.0,0.0],[1.0,70.0,32.0,0.0,30.8,1.8,24.0,0.0]],\"hovertemplate\":\"Outcome=%{customdata[7]}\\u003cbr\\u003eGlucose=%{x}\\u003cbr\\u003ePregnancies=%{customdata[0]}\\u003cbr\\u003eBloodPressure=%{customdata[1]}\\u003cbr\\u003eSkinThickness=%{customdata[2]}\\u003cbr\\u003eInsulin=%{customdata[3]}\\u003cbr\\u003eBMI=%{customdata[4]}\\u003cbr\\u003eDiabetesPedigreeFunction=%{customdata[5]}\\u003cbr\\u003eAge=%{customdata[6]}\\u003cextra\\u003e\\u003c\\u002fextra\\u003e\",\"legendgroup\":\"0\",\"marker\":{\"color\":\"#ab63fa\"},\"name\":\"0\",\"offsetgroup\":\"0\",\"scalegroup\":\"x\",\"showlegend\":false,\"x\":[84,89,115,116,111,138,101,127,99,98,146,118,108,88,91,122,103,136,180,133,105,159,147,69,106,103,103,87,150,73,100,146,104,84,42,140,97,109,95,147,140,130,79,1,62,94,111,112,73,84,100,111,103,100,106,77,122,80,142,144,94,72,93,150,127,80,83,127,96,145,83,90,76,78,95,98,110,106,133,120,119,85,96,125,102,92,130,107,128,106,108,154,103,58,106,148,90,135,115,154,99,110,88,151,102,114,101,148,119,111,111,86,79,74,85,143,86,117,0,75,141,111,124,85,103,112,139,107,98,103,111,97,79,147,178,125,118,141,99,87,101,198,117,78,123,75,105,92,90,147,123,167,125,112,108,129,91,86,110,112,193,192,95,142,95,129,101,108,124,70,106,99,104,115,107,129,133,135,154,97,109,78,161,153,126,112,77,150,119,138,83,105,113,113,99,115,129,113,158,181,106,119,87,104,97,164,116,131,96,0,123,96,126,140,115,98,91,138,61,90,92,88,159,104,147,99,101,82,119,82,105,122,97,88,92,106,105,107,91,126,120,100,100,132,116,128,95,81,136,73,125,101,102,112,142,143,97,82,119,94,103,115,94,134,99,89,79,138,91,140,147,97,106,84,118,100,95,118,84,92,121,100,135,87,133,120,70,75,88,115,123,74,98,155,143,137,120,136,113,137,114,127,130,123,86,83,138,173,100,192,82,90,98,80,166,109,81,154,117,83,93,94,74,131,85,119,141,91,89,98,126,77,127,68,123,112,126,88,98,116,117,111,122,106,86,91,78,103,58,127,84,88,132,163,191,115,84,114,88,81,123,98,111,101,86,89,99,90,95,99,91,154,80,129,112,99,145,120,109,133,106,120,100,93,102,73,113,82,123,67,90,109,108,96,123,123,93,152,112,106,106,108,119,67,113,93,183,94,106,89,124,132,129,94,102,111,128,93,104,92,100,103,129,91,103,157,108,90,118,122,119,106,100,120,129,162,112,96,158,165,99,70,124,91,93,102,55,94,134,130,131,106,139,107,121,91,100,126,118,121,129,108,80,127,158,125,136,103,91,108,82,113,117,109,111,117,143,175,91,106,106,96,126,65,100,103,110,152,101,82,122,108,136,107,89,90,102,121,121,93],\"xaxis\":\"x2\",\"yaxis\":\"y2\",\"type\":\"violin\"}],                        {\"template\":{\"data\":{\"barpolar\":[{\"marker\":{\"line\":{\"color\":\"rgb(17,17,17)\",\"width\":0.5},\"pattern\":{\"fillmode\":\"overlay\",\"size\":10,\"solidity\":0.2}},\"type\":\"barpolar\"}],\"bar\":[{\"error_x\":{\"color\":\"#f2f5fa\"},\"error_y\":{\"color\":\"#f2f5fa\"},\"marker\":{\"line\":{\"color\":\"rgb(17,17,17)\",\"width\":0.5},\"pattern\":{\"fillmode\":\"overlay\",\"size\":10,\"solidity\":0.2}},\"type\":\"bar\"}],\"carpet\":[{\"aaxis\":{\"endlinecolor\":\"#A2B1C6\",\"gridcolor\":\"#506784\",\"linecolor\":\"#506784\",\"minorgridcolor\":\"#506784\",\"startlinecolor\":\"#A2B1C6\"},\"baxis\":{\"endlinecolor\":\"#A2B1C6\",\"gridcolor\":\"#506784\",\"linecolor\":\"#506784\",\"minorgridcolor\":\"#506784\",\"startlinecolor\":\"#A2B1C6\"},\"type\":\"carpet\"}],\"choropleth\":[{\"colorbar\":{\"outlinewidth\":0,\"ticks\":\"\"},\"type\":\"choropleth\"}],\"contourcarpet\":[{\"colorbar\":{\"outlinewidth\":0,\"ticks\":\"\"},\"type\":\"contourcarpet\"}],\"contour\":[{\"colorbar\":{\"outlinewidth\":0,\"ticks\":\"\"},\"colorscale\":[[0.0,\"#0d0887\"],[0.1111111111111111,\"#46039f\"],[0.2222222222222222,\"#7201a8\"],[0.3333333333333333,\"#9c179e\"],[0.4444444444444444,\"#bd3786\"],[0.5555555555555556,\"#d8576b\"],[0.6666666666666666,\"#ed7953\"],[0.7777777777777778,\"#fb9f3a\"],[0.8888888888888888,\"#fdca26\"],[1.0,\"#f0f921\"]],\"type\":\"contour\"}],\"heatmapgl\":[{\"colorbar\":{\"outlinewidth\":0,\"ticks\":\"\"},\"colorscale\":[[0.0,\"#0d0887\"],[0.1111111111111111,\"#46039f\"],[0.2222222222222222,\"#7201a8\"],[0.3333333333333333,\"#9c179e\"],[0.4444444444444444,\"#bd3786\"],[0.5555555555555556,\"#d8576b\"],[0.6666666666666666,\"#ed7953\"],[0.7777777777777778,\"#fb9f3a\"],[0.8888888888888888,\"#fdca26\"],[1.0,\"#f0f921\"]],\"type\":\"heatmapgl\"}],\"heatmap\":[{\"colorbar\":{\"outlinewidth\":0,\"ticks\":\"\"},\"colorscale\":[[0.0,\"#0d0887\"],[0.1111111111111111,\"#46039f\"],[0.2222222222222222,\"#7201a8\"],[0.3333333333333333,\"#9c179e\"],[0.4444444444444444,\"#bd3786\"],[0.5555555555555556,\"#d8576b\"],[0.6666666666666666,\"#ed7953\"],[0.7777777777777778,\"#fb9f3a\"],[0.8888888888888888,\"#fdca26\"],[1.0,\"#f0f921\"]],\"type\":\"heatmap\"}],\"histogram2dcontour\":[{\"colorbar\":{\"outlinewidth\":0,\"ticks\":\"\"},\"colorscale\":[[0.0,\"#0d0887\"],[0.1111111111111111,\"#46039f\"],[0.2222222222222222,\"#7201a8\"],[0.3333333333333333,\"#9c179e\"],[0.4444444444444444,\"#bd3786\"],[0.5555555555555556,\"#d8576b\"],[0.6666666666666666,\"#ed7953\"],[0.7777777777777778,\"#fb9f3a\"],[0.8888888888888888,\"#fdca26\"],[1.0,\"#f0f921\"]],\"type\":\"histogram2dcontour\"}],\"histogram2d\":[{\"colorbar\":{\"outlinewidth\":0,\"ticks\":\"\"},\"colorscale\":[[0.0,\"#0d0887\"],[0.1111111111111111,\"#46039f\"],[0.2222222222222222,\"#7201a8\"],[0.3333333333333333,\"#9c179e\"],[0.4444444444444444,\"#bd3786\"],[0.5555555555555556,\"#d8576b\"],[0.6666666666666666,\"#ed7953\"],[0.7777777777777778,\"#fb9f3a\"],[0.8888888888888888,\"#fdca26\"],[1.0,\"#f0f921\"]],\"type\":\"histogram2d\"}],\"histogram\":[{\"marker\":{\"pattern\":{\"fillmode\":\"overlay\",\"size\":10,\"solidity\":0.2}},\"type\":\"histogram\"}],\"mesh3d\":[{\"colorbar\":{\"outlinewidth\":0,\"ticks\":\"\"},\"type\":\"mesh3d\"}],\"parcoords\":[{\"line\":{\"colorbar\":{\"outlinewidth\":0,\"ticks\":\"\"}},\"type\":\"parcoords\"}],\"pie\":[{\"automargin\":true,\"type\":\"pie\"}],\"scatter3d\":[{\"line\":{\"colorbar\":{\"outlinewidth\":0,\"ticks\":\"\"}},\"marker\":{\"colorbar\":{\"outlinewidth\":0,\"ticks\":\"\"}},\"type\":\"scatter3d\"}],\"scattercarpet\":[{\"marker\":{\"colorbar\":{\"outlinewidth\":0,\"ticks\":\"\"}},\"type\":\"scattercarpet\"}],\"scattergeo\":[{\"marker\":{\"colorbar\":{\"outlinewidth\":0,\"ticks\":\"\"}},\"type\":\"scattergeo\"}],\"scattergl\":[{\"marker\":{\"line\":{\"color\":\"#283442\"}},\"type\":\"scattergl\"}],\"scattermapbox\":[{\"marker\":{\"colorbar\":{\"outlinewidth\":0,\"ticks\":\"\"}},\"type\":\"scattermapbox\"}],\"scatterpolargl\":[{\"marker\":{\"colorbar\":{\"outlinewidth\":0,\"ticks\":\"\"}},\"type\":\"scatterpolargl\"}],\"scatterpolar\":[{\"marker\":{\"colorbar\":{\"outlinewidth\":0,\"ticks\":\"\"}},\"type\":\"scatterpolar\"}],\"scatter\":[{\"marker\":{\"line\":{\"color\":\"#283442\"}},\"type\":\"scatter\"}],\"scatterternary\":[{\"marker\":{\"colorbar\":{\"outlinewidth\":0,\"ticks\":\"\"}},\"type\":\"scatterternary\"}],\"surface\":[{\"colorbar\":{\"outlinewidth\":0,\"ticks\":\"\"},\"colorscale\":[[0.0,\"#0d0887\"],[0.1111111111111111,\"#46039f\"],[0.2222222222222222,\"#7201a8\"],[0.3333333333333333,\"#9c179e\"],[0.4444444444444444,\"#bd3786\"],[0.5555555555555556,\"#d8576b\"],[0.6666666666666666,\"#ed7953\"],[0.7777777777777778,\"#fb9f3a\"],[0.8888888888888888,\"#fdca26\"],[1.0,\"#f0f921\"]],\"type\":\"surface\"}],\"table\":[{\"cells\":{\"fill\":{\"color\":\"#506784\"},\"line\":{\"color\":\"rgb(17,17,17)\"}},\"header\":{\"fill\":{\"color\":\"#2a3f5f\"},\"line\":{\"color\":\"rgb(17,17,17)\"}},\"type\":\"table\"}]},\"layout\":{\"annotationdefaults\":{\"arrowcolor\":\"#f2f5fa\",\"arrowhead\":0,\"arrowwidth\":1},\"autotypenumbers\":\"strict\",\"coloraxis\":{\"colorbar\":{\"outlinewidth\":0,\"ticks\":\"\"}},\"colorscale\":{\"diverging\":[[0,\"#8e0152\"],[0.1,\"#c51b7d\"],[0.2,\"#de77ae\"],[0.3,\"#f1b6da\"],[0.4,\"#fde0ef\"],[0.5,\"#f7f7f7\"],[0.6,\"#e6f5d0\"],[0.7,\"#b8e186\"],[0.8,\"#7fbc41\"],[0.9,\"#4d9221\"],[1,\"#276419\"]],\"sequential\":[[0.0,\"#0d0887\"],[0.1111111111111111,\"#46039f\"],[0.2222222222222222,\"#7201a8\"],[0.3333333333333333,\"#9c179e\"],[0.4444444444444444,\"#bd3786\"],[0.5555555555555556,\"#d8576b\"],[0.6666666666666666,\"#ed7953\"],[0.7777777777777778,\"#fb9f3a\"],[0.8888888888888888,\"#fdca26\"],[1.0,\"#f0f921\"]],\"sequentialminus\":[[0.0,\"#0d0887\"],[0.1111111111111111,\"#46039f\"],[0.2222222222222222,\"#7201a8\"],[0.3333333333333333,\"#9c179e\"],[0.4444444444444444,\"#bd3786\"],[0.5555555555555556,\"#d8576b\"],[0.6666666666666666,\"#ed7953\"],[0.7777777777777778,\"#fb9f3a\"],[0.8888888888888888,\"#fdca26\"],[1.0,\"#f0f921\"]]},\"colorway\":[\"#636efa\",\"#EF553B\",\"#00cc96\",\"#ab63fa\",\"#FFA15A\",\"#19d3f3\",\"#FF6692\",\"#B6E880\",\"#FF97FF\",\"#FECB52\"],\"font\":{\"color\":\"#f2f5fa\"},\"geo\":{\"bgcolor\":\"rgb(17,17,17)\",\"lakecolor\":\"rgb(17,17,17)\",\"landcolor\":\"rgb(17,17,17)\",\"showlakes\":true,\"showland\":true,\"subunitcolor\":\"#506784\"},\"hoverlabel\":{\"align\":\"left\"},\"hovermode\":\"closest\",\"mapbox\":{\"style\":\"dark\"},\"paper_bgcolor\":\"rgb(17,17,17)\",\"plot_bgcolor\":\"rgb(17,17,17)\",\"polar\":{\"angularaxis\":{\"gridcolor\":\"#506784\",\"linecolor\":\"#506784\",\"ticks\":\"\"},\"bgcolor\":\"rgb(17,17,17)\",\"radialaxis\":{\"gridcolor\":\"#506784\",\"linecolor\":\"#506784\",\"ticks\":\"\"}},\"scene\":{\"xaxis\":{\"backgroundcolor\":\"rgb(17,17,17)\",\"gridcolor\":\"#506784\",\"gridwidth\":2,\"linecolor\":\"#506784\",\"showbackground\":true,\"ticks\":\"\",\"zerolinecolor\":\"#C8D4E3\"},\"yaxis\":{\"backgroundcolor\":\"rgb(17,17,17)\",\"gridcolor\":\"#506784\",\"gridwidth\":2,\"linecolor\":\"#506784\",\"showbackground\":true,\"ticks\":\"\",\"zerolinecolor\":\"#C8D4E3\"},\"zaxis\":{\"backgroundcolor\":\"rgb(17,17,17)\",\"gridcolor\":\"#506784\",\"gridwidth\":2,\"linecolor\":\"#506784\",\"showbackground\":true,\"ticks\":\"\",\"zerolinecolor\":\"#C8D4E3\"}},\"shapedefaults\":{\"line\":{\"color\":\"#f2f5fa\"}},\"sliderdefaults\":{\"bgcolor\":\"#C8D4E3\",\"bordercolor\":\"rgb(17,17,17)\",\"borderwidth\":1,\"tickwidth\":0},\"ternary\":{\"aaxis\":{\"gridcolor\":\"#506784\",\"linecolor\":\"#506784\",\"ticks\":\"\"},\"baxis\":{\"gridcolor\":\"#506784\",\"linecolor\":\"#506784\",\"ticks\":\"\"},\"bgcolor\":\"rgb(17,17,17)\",\"caxis\":{\"gridcolor\":\"#506784\",\"linecolor\":\"#506784\",\"ticks\":\"\"}},\"title\":{\"x\":0.05},\"updatemenudefaults\":{\"bgcolor\":\"#506784\",\"borderwidth\":0},\"xaxis\":{\"automargin\":true,\"gridcolor\":\"#283442\",\"linecolor\":\"#506784\",\"ticks\":\"\",\"title\":{\"standoff\":15},\"zerolinecolor\":\"#283442\",\"zerolinewidth\":2},\"yaxis\":{\"automargin\":true,\"gridcolor\":\"#283442\",\"linecolor\":\"#506784\",\"ticks\":\"\",\"title\":{\"standoff\":15},\"zerolinecolor\":\"#283442\",\"zerolinewidth\":2}}},\"xaxis\":{\"anchor\":\"y\",\"domain\":[0.0,1.0],\"title\":{\"text\":\"Glucose\"}},\"yaxis\":{\"anchor\":\"x\",\"domain\":[0.0,0.7326],\"title\":{\"text\":\"count\"}},\"xaxis2\":{\"anchor\":\"y2\",\"domain\":[0.0,1.0],\"matches\":\"x\",\"showticklabels\":false,\"showgrid\":true},\"yaxis2\":{\"anchor\":\"x2\",\"domain\":[0.7426,1.0],\"matches\":\"y2\",\"showticklabels\":false,\"showline\":false,\"ticks\":\"\",\"showgrid\":false},\"legend\":{\"title\":{\"text\":\"Outcome\"},\"tracegroupgap\":0},\"title\":{\"text\":\"Distribution of CREATININE Glucose Vs Outcome\"},\"barmode\":\"relative\"},                        {\"responsive\": true}                    ).then(function(){\n",
              "                            \n",
              "var gd = document.getElementById('13c4649b-99e1-4e3e-9677-042c9b80d79a');\n",
              "var x = new MutationObserver(function (mutations, observer) {{\n",
              "        var display = window.getComputedStyle(gd).display;\n",
              "        if (!display || display === 'none') {{\n",
              "            console.log([gd, 'removed!']);\n",
              "            Plotly.purge(gd);\n",
              "            observer.disconnect();\n",
              "        }}\n",
              "}});\n",
              "\n",
              "// Listen for the removal of the full notebook cells\n",
              "var notebookContainer = gd.closest('#notebook-container');\n",
              "if (notebookContainer) {{\n",
              "    x.observe(notebookContainer, {childList: true});\n",
              "}}\n",
              "\n",
              "// Listen for the clearing of the current output cell\n",
              "var outputEl = gd.closest('.output');\n",
              "if (outputEl) {{\n",
              "    x.observe(outputEl, {childList: true});\n",
              "}}\n",
              "\n",
              "                        })                };                            </script>        </div>\n",
              "</body>\n",
              "</html>"
            ]
          },
          "metadata": {}
        }
      ]
    },
    {
      "cell_type": "markdown",
      "source": [
        "Dựa vào biểu đồ trực quan hóa, ta có thể nhận thấy mối liên hệ rõ ràng giữa nồng độ glucose trong máu và khả năng mắc bệnh tiểu đường. Những người có mức glucose thấp thường ít mắc bệnh, trong khi tỷ lệ mắc bệnh tăng dần ở những người có mức glucose cao. Điều này chứng tỏ rằng lượng glucose trong máu đóng vai trò quan trọng trong việc xác định nguy cơ tiểu đường."
      ],
      "metadata": {
        "id": "MUTI5g7T2tn_"
      }
    },
    {
      "cell_type": "markdown",
      "source": [
        "Trực quan hóa về Huyết áp tâm trương"
      ],
      "metadata": {
        "id": "_iz1HP3ZBW0g"
      }
    },
    {
      "cell_type": "code",
      "source": [
        "import plotly.graph_objects as go\n",
        "\n",
        "\n",
        "fig = go.Figure()\n",
        "fig.add_trace(go.Histogram(\n",
        "    x = df['BloodPressure'],\n",
        "    xbins=dict( # bins used for histogram\n",
        "        start=0,\n",
        "        end=199,\n",
        "        size=15\n",
        "    ),\n",
        "    marker_color='#1f77b4',  # Column color\n",
        "    opacity=1\n",
        "))\n",
        "\n",
        "fig.update_layout(\n",
        "    title_text='BloodPressure DISTRIBUTION',\n",
        "    xaxis_title_text='BloodPressure',\n",
        "    yaxis_title_text='COUNT',\n",
        "    bargap=0.05,\n",
        "    xaxis={'showgrid': False},\n",
        "    yaxis={'showgrid': False},\n",
        "    template='plotly_dark',\n",
        "    plot_bgcolor='black',  # Background color\n",
        "    paper_bgcolor='black'  # Paper background color\n",
        ")\n",
        "\n",
        "fig.show()"
      ],
      "metadata": {
        "colab": {
          "base_uri": "https://localhost:8080/",
          "height": 542
        },
        "id": "8c3SDo4A1VSD",
        "outputId": "18641d3c-45cd-49fe-d90c-436fca097483"
      },
      "execution_count": null,
      "outputs": [
        {
          "output_type": "display_data",
          "data": {
            "text/html": [
              "<html>\n",
              "<head><meta charset=\"utf-8\" /></head>\n",
              "<body>\n",
              "    <div>            <script src=\"https://cdnjs.cloudflare.com/ajax/libs/mathjax/2.7.5/MathJax.js?config=TeX-AMS-MML_SVG\"></script><script type=\"text/javascript\">if (window.MathJax && window.MathJax.Hub && window.MathJax.Hub.Config) {window.MathJax.Hub.Config({SVG: {font: \"STIX-Web\"}});}</script>                <script type=\"text/javascript\">window.PlotlyConfig = {MathJaxConfig: 'local'};</script>\n",
              "        <script charset=\"utf-8\" src=\"https://cdn.plot.ly/plotly-2.24.1.min.js\"></script>                <div id=\"0ecf5426-265f-494e-9f92-003d1e517a7e\" class=\"plotly-graph-div\" style=\"height:525px; width:100%;\"></div>            <script type=\"text/javascript\">                                    window.PLOTLYENV=window.PLOTLYENV || {};                                    if (document.getElementById(\"0ecf5426-265f-494e-9f92-003d1e517a7e\")) {                    Plotly.newPlot(                        \"0ecf5426-265f-494e-9f92-003d1e517a7e\",                        [{\"marker\":{\"color\":\"#1f77b4\"},\"opacity\":1,\"x\":[72,66,64,64,39,74,50,2,72,97,93,74,79,60,72,0,84,73,30,71,88,83,90,79,92,69,76,67,81,92,77,74,57,91,76,61,76,76,69,71,63,85,93,110,64,66,55,69,67,0,79,48,66,90,65,49,69,88,82,63,0,71,63,57,67,75,90,93,68,86,66,66,90,87,74,48,78,72,1,66,43,0,78,64,108,75,71,67,69,68,55,80,78,71,83,72,60,49,49,90,71,62,96,71,67,55,120,58,58,84,71,62,77,62,55,91,75,49,61,77,77,65,76,82,76,31,70,59,88,83,70,57,62,76,70,59,71,61,79,72,77,84,50,65,61,74,79,64,77,71,72,64,86,82,79,90,52,56,73,71,89,73,80,64,89,72,66,68,66,89,83,70,0,60,63,72,78,110,78,82,81,64,74,59,74,67,69,98,76,81,61,69,66,0,54,83,58,63,65,61,81,81,69,68,73,70,77,105,64,83,61,83,96,63,82,71,63,67,73,64,60,91,0,60,65,79,76,52,70,80,86,79,80,69,68,73,83,90,85,76,65,70,54,50,76,84,67,89,72,87,51,85,80,67,62,64,55,65,49,76,70,2,70,80,62,75,0,64,51,0,88,61,77,78,70,70,60,62,74,62,69,76,87,86,80,74,84,85,56,70,89,64,78,49,50,60,71,85,79,73,0,58,83,97,76,78,67,69,68,69,65,69,73,51,79,66,79,74,68,76,58,75,71,90,77,72,64,70,87,70,72,57,0,80,60,78,0,76,78,83,71,73,68,88,71,88,45,1,61,80,81,83,81,63,77,86,50,0,75,76,63,70,108,79,72,56,73,65,88,103,84,64,64,57,53,82,82,60,75,101,72,66,61,63,69,53,76,99,83,70,68,77,66,71,77,58,56,65,71,70,64,61,85,78,63,48,72,61,74,70,92,73,84,75,60,84,69,81,69,63,88,67,65,64,77,78,0,65,95,82,0,74,74,73,68,0,87,75,70,86,104,66,64,70,62,78,73,80,62,73,64,69,68,1,53,60,53,68,85,75,71,62,71,79,97,55,52,65,0,77,83,69,65,90,62,84,80,76,74,85,71,88,60,82,0,69,63,81,71,79,65,89,69,70,0,74,68,72,69,75,92,71,68,63,78,82,91,60,50,78,72,64,68,61,53,70,88,86,60,91,70,80,0,69,58,59,64,74,66,65,60,76,64,0,57,1,90,61,79,92,74,71,84,91,77,90,76,68,83,110,70,69,87,61,63,70,71,76,65,74,76,66,68,62,79,54,73,61,72,66,68,94,59,61,85,44,45,80,70,70,90,62,78,76,76,57,65,65,87,0,84,76,80,51,73,82,77,23,73,37,89,1,74,77,1,62,78,62,81,61,54,59,89,81,73,73,95,61,84,0,85,76,92,71,62,88,69,77,81,67,62,77,61,82,63,73,74,76,76,74,87,70,80,0,73,74,73,48,83,60,54,60,74,54,70,51,59,81,105,82,85,75,107,80,59,81,82,71,58,78,68,57,107,101,83,70,84,62,52,59,55,76,63,82,82,74,63,50,74,81,79,113,71,69,61,91,74,0,88,71,77,78,89,0,75,78,0,46,77,65,63,77,61,57,75,49,74,73,60,76,86,65,68,87,91,78,79,85,88,52,78,86,88,57,75,63,89,73,61,74,82,44,58,94,88,86,94,74,69,61,68,80,63,88,77,87,90,72,76,92,58,74,62,77,69,72,60,70],\"xbins\":{\"end\":199,\"size\":15,\"start\":0},\"type\":\"histogram\"}],                        {\"template\":{\"data\":{\"barpolar\":[{\"marker\":{\"line\":{\"color\":\"rgb(17,17,17)\",\"width\":0.5},\"pattern\":{\"fillmode\":\"overlay\",\"size\":10,\"solidity\":0.2}},\"type\":\"barpolar\"}],\"bar\":[{\"error_x\":{\"color\":\"#f2f5fa\"},\"error_y\":{\"color\":\"#f2f5fa\"},\"marker\":{\"line\":{\"color\":\"rgb(17,17,17)\",\"width\":0.5},\"pattern\":{\"fillmode\":\"overlay\",\"size\":10,\"solidity\":0.2}},\"type\":\"bar\"}],\"carpet\":[{\"aaxis\":{\"endlinecolor\":\"#A2B1C6\",\"gridcolor\":\"#506784\",\"linecolor\":\"#506784\",\"minorgridcolor\":\"#506784\",\"startlinecolor\":\"#A2B1C6\"},\"baxis\":{\"endlinecolor\":\"#A2B1C6\",\"gridcolor\":\"#506784\",\"linecolor\":\"#506784\",\"minorgridcolor\":\"#506784\",\"startlinecolor\":\"#A2B1C6\"},\"type\":\"carpet\"}],\"choropleth\":[{\"colorbar\":{\"outlinewidth\":0,\"ticks\":\"\"},\"type\":\"choropleth\"}],\"contourcarpet\":[{\"colorbar\":{\"outlinewidth\":0,\"ticks\":\"\"},\"type\":\"contourcarpet\"}],\"contour\":[{\"colorbar\":{\"outlinewidth\":0,\"ticks\":\"\"},\"colorscale\":[[0.0,\"#0d0887\"],[0.1111111111111111,\"#46039f\"],[0.2222222222222222,\"#7201a8\"],[0.3333333333333333,\"#9c179e\"],[0.4444444444444444,\"#bd3786\"],[0.5555555555555556,\"#d8576b\"],[0.6666666666666666,\"#ed7953\"],[0.7777777777777778,\"#fb9f3a\"],[0.8888888888888888,\"#fdca26\"],[1.0,\"#f0f921\"]],\"type\":\"contour\"}],\"heatmapgl\":[{\"colorbar\":{\"outlinewidth\":0,\"ticks\":\"\"},\"colorscale\":[[0.0,\"#0d0887\"],[0.1111111111111111,\"#46039f\"],[0.2222222222222222,\"#7201a8\"],[0.3333333333333333,\"#9c179e\"],[0.4444444444444444,\"#bd3786\"],[0.5555555555555556,\"#d8576b\"],[0.6666666666666666,\"#ed7953\"],[0.7777777777777778,\"#fb9f3a\"],[0.8888888888888888,\"#fdca26\"],[1.0,\"#f0f921\"]],\"type\":\"heatmapgl\"}],\"heatmap\":[{\"colorbar\":{\"outlinewidth\":0,\"ticks\":\"\"},\"colorscale\":[[0.0,\"#0d0887\"],[0.1111111111111111,\"#46039f\"],[0.2222222222222222,\"#7201a8\"],[0.3333333333333333,\"#9c179e\"],[0.4444444444444444,\"#bd3786\"],[0.5555555555555556,\"#d8576b\"],[0.6666666666666666,\"#ed7953\"],[0.7777777777777778,\"#fb9f3a\"],[0.8888888888888888,\"#fdca26\"],[1.0,\"#f0f921\"]],\"type\":\"heatmap\"}],\"histogram2dcontour\":[{\"colorbar\":{\"outlinewidth\":0,\"ticks\":\"\"},\"colorscale\":[[0.0,\"#0d0887\"],[0.1111111111111111,\"#46039f\"],[0.2222222222222222,\"#7201a8\"],[0.3333333333333333,\"#9c179e\"],[0.4444444444444444,\"#bd3786\"],[0.5555555555555556,\"#d8576b\"],[0.6666666666666666,\"#ed7953\"],[0.7777777777777778,\"#fb9f3a\"],[0.8888888888888888,\"#fdca26\"],[1.0,\"#f0f921\"]],\"type\":\"histogram2dcontour\"}],\"histogram2d\":[{\"colorbar\":{\"outlinewidth\":0,\"ticks\":\"\"},\"colorscale\":[[0.0,\"#0d0887\"],[0.1111111111111111,\"#46039f\"],[0.2222222222222222,\"#7201a8\"],[0.3333333333333333,\"#9c179e\"],[0.4444444444444444,\"#bd3786\"],[0.5555555555555556,\"#d8576b\"],[0.6666666666666666,\"#ed7953\"],[0.7777777777777778,\"#fb9f3a\"],[0.8888888888888888,\"#fdca26\"],[1.0,\"#f0f921\"]],\"type\":\"histogram2d\"}],\"histogram\":[{\"marker\":{\"pattern\":{\"fillmode\":\"overlay\",\"size\":10,\"solidity\":0.2}},\"type\":\"histogram\"}],\"mesh3d\":[{\"colorbar\":{\"outlinewidth\":0,\"ticks\":\"\"},\"type\":\"mesh3d\"}],\"parcoords\":[{\"line\":{\"colorbar\":{\"outlinewidth\":0,\"ticks\":\"\"}},\"type\":\"parcoords\"}],\"pie\":[{\"automargin\":true,\"type\":\"pie\"}],\"scatter3d\":[{\"line\":{\"colorbar\":{\"outlinewidth\":0,\"ticks\":\"\"}},\"marker\":{\"colorbar\":{\"outlinewidth\":0,\"ticks\":\"\"}},\"type\":\"scatter3d\"}],\"scattercarpet\":[{\"marker\":{\"colorbar\":{\"outlinewidth\":0,\"ticks\":\"\"}},\"type\":\"scattercarpet\"}],\"scattergeo\":[{\"marker\":{\"colorbar\":{\"outlinewidth\":0,\"ticks\":\"\"}},\"type\":\"scattergeo\"}],\"scattergl\":[{\"marker\":{\"line\":{\"color\":\"#283442\"}},\"type\":\"scattergl\"}],\"scattermapbox\":[{\"marker\":{\"colorbar\":{\"outlinewidth\":0,\"ticks\":\"\"}},\"type\":\"scattermapbox\"}],\"scatterpolargl\":[{\"marker\":{\"colorbar\":{\"outlinewidth\":0,\"ticks\":\"\"}},\"type\":\"scatterpolargl\"}],\"scatterpolar\":[{\"marker\":{\"colorbar\":{\"outlinewidth\":0,\"ticks\":\"\"}},\"type\":\"scatterpolar\"}],\"scatter\":[{\"marker\":{\"line\":{\"color\":\"#283442\"}},\"type\":\"scatter\"}],\"scatterternary\":[{\"marker\":{\"colorbar\":{\"outlinewidth\":0,\"ticks\":\"\"}},\"type\":\"scatterternary\"}],\"surface\":[{\"colorbar\":{\"outlinewidth\":0,\"ticks\":\"\"},\"colorscale\":[[0.0,\"#0d0887\"],[0.1111111111111111,\"#46039f\"],[0.2222222222222222,\"#7201a8\"],[0.3333333333333333,\"#9c179e\"],[0.4444444444444444,\"#bd3786\"],[0.5555555555555556,\"#d8576b\"],[0.6666666666666666,\"#ed7953\"],[0.7777777777777778,\"#fb9f3a\"],[0.8888888888888888,\"#fdca26\"],[1.0,\"#f0f921\"]],\"type\":\"surface\"}],\"table\":[{\"cells\":{\"fill\":{\"color\":\"#506784\"},\"line\":{\"color\":\"rgb(17,17,17)\"}},\"header\":{\"fill\":{\"color\":\"#2a3f5f\"},\"line\":{\"color\":\"rgb(17,17,17)\"}},\"type\":\"table\"}]},\"layout\":{\"annotationdefaults\":{\"arrowcolor\":\"#f2f5fa\",\"arrowhead\":0,\"arrowwidth\":1},\"autotypenumbers\":\"strict\",\"coloraxis\":{\"colorbar\":{\"outlinewidth\":0,\"ticks\":\"\"}},\"colorscale\":{\"diverging\":[[0,\"#8e0152\"],[0.1,\"#c51b7d\"],[0.2,\"#de77ae\"],[0.3,\"#f1b6da\"],[0.4,\"#fde0ef\"],[0.5,\"#f7f7f7\"],[0.6,\"#e6f5d0\"],[0.7,\"#b8e186\"],[0.8,\"#7fbc41\"],[0.9,\"#4d9221\"],[1,\"#276419\"]],\"sequential\":[[0.0,\"#0d0887\"],[0.1111111111111111,\"#46039f\"],[0.2222222222222222,\"#7201a8\"],[0.3333333333333333,\"#9c179e\"],[0.4444444444444444,\"#bd3786\"],[0.5555555555555556,\"#d8576b\"],[0.6666666666666666,\"#ed7953\"],[0.7777777777777778,\"#fb9f3a\"],[0.8888888888888888,\"#fdca26\"],[1.0,\"#f0f921\"]],\"sequentialminus\":[[0.0,\"#0d0887\"],[0.1111111111111111,\"#46039f\"],[0.2222222222222222,\"#7201a8\"],[0.3333333333333333,\"#9c179e\"],[0.4444444444444444,\"#bd3786\"],[0.5555555555555556,\"#d8576b\"],[0.6666666666666666,\"#ed7953\"],[0.7777777777777778,\"#fb9f3a\"],[0.8888888888888888,\"#fdca26\"],[1.0,\"#f0f921\"]]},\"colorway\":[\"#636efa\",\"#EF553B\",\"#00cc96\",\"#ab63fa\",\"#FFA15A\",\"#19d3f3\",\"#FF6692\",\"#B6E880\",\"#FF97FF\",\"#FECB52\"],\"font\":{\"color\":\"#f2f5fa\"},\"geo\":{\"bgcolor\":\"rgb(17,17,17)\",\"lakecolor\":\"rgb(17,17,17)\",\"landcolor\":\"rgb(17,17,17)\",\"showlakes\":true,\"showland\":true,\"subunitcolor\":\"#506784\"},\"hoverlabel\":{\"align\":\"left\"},\"hovermode\":\"closest\",\"mapbox\":{\"style\":\"dark\"},\"paper_bgcolor\":\"rgb(17,17,17)\",\"plot_bgcolor\":\"rgb(17,17,17)\",\"polar\":{\"angularaxis\":{\"gridcolor\":\"#506784\",\"linecolor\":\"#506784\",\"ticks\":\"\"},\"bgcolor\":\"rgb(17,17,17)\",\"radialaxis\":{\"gridcolor\":\"#506784\",\"linecolor\":\"#506784\",\"ticks\":\"\"}},\"scene\":{\"xaxis\":{\"backgroundcolor\":\"rgb(17,17,17)\",\"gridcolor\":\"#506784\",\"gridwidth\":2,\"linecolor\":\"#506784\",\"showbackground\":true,\"ticks\":\"\",\"zerolinecolor\":\"#C8D4E3\"},\"yaxis\":{\"backgroundcolor\":\"rgb(17,17,17)\",\"gridcolor\":\"#506784\",\"gridwidth\":2,\"linecolor\":\"#506784\",\"showbackground\":true,\"ticks\":\"\",\"zerolinecolor\":\"#C8D4E3\"},\"zaxis\":{\"backgroundcolor\":\"rgb(17,17,17)\",\"gridcolor\":\"#506784\",\"gridwidth\":2,\"linecolor\":\"#506784\",\"showbackground\":true,\"ticks\":\"\",\"zerolinecolor\":\"#C8D4E3\"}},\"shapedefaults\":{\"line\":{\"color\":\"#f2f5fa\"}},\"sliderdefaults\":{\"bgcolor\":\"#C8D4E3\",\"bordercolor\":\"rgb(17,17,17)\",\"borderwidth\":1,\"tickwidth\":0},\"ternary\":{\"aaxis\":{\"gridcolor\":\"#506784\",\"linecolor\":\"#506784\",\"ticks\":\"\"},\"baxis\":{\"gridcolor\":\"#506784\",\"linecolor\":\"#506784\",\"ticks\":\"\"},\"bgcolor\":\"rgb(17,17,17)\",\"caxis\":{\"gridcolor\":\"#506784\",\"linecolor\":\"#506784\",\"ticks\":\"\"}},\"title\":{\"x\":0.05},\"updatemenudefaults\":{\"bgcolor\":\"#506784\",\"borderwidth\":0},\"xaxis\":{\"automargin\":true,\"gridcolor\":\"#283442\",\"linecolor\":\"#506784\",\"ticks\":\"\",\"title\":{\"standoff\":15},\"zerolinecolor\":\"#283442\",\"zerolinewidth\":2},\"yaxis\":{\"automargin\":true,\"gridcolor\":\"#283442\",\"linecolor\":\"#506784\",\"ticks\":\"\",\"title\":{\"standoff\":15},\"zerolinecolor\":\"#283442\",\"zerolinewidth\":2}}},\"title\":{\"text\":\"BloodPressure DISTRIBUTION\"},\"xaxis\":{\"title\":{\"text\":\"BloodPressure\"},\"showgrid\":false},\"yaxis\":{\"title\":{\"text\":\"COUNT\"},\"showgrid\":false},\"bargap\":0.05,\"plot_bgcolor\":\"black\",\"paper_bgcolor\":\"black\"},                        {\"responsive\": true}                    ).then(function(){\n",
              "                            \n",
              "var gd = document.getElementById('0ecf5426-265f-494e-9f92-003d1e517a7e');\n",
              "var x = new MutationObserver(function (mutations, observer) {{\n",
              "        var display = window.getComputedStyle(gd).display;\n",
              "        if (!display || display === 'none') {{\n",
              "            console.log([gd, 'removed!']);\n",
              "            Plotly.purge(gd);\n",
              "            observer.disconnect();\n",
              "        }}\n",
              "}});\n",
              "\n",
              "// Listen for the removal of the full notebook cells\n",
              "var notebookContainer = gd.closest('#notebook-container');\n",
              "if (notebookContainer) {{\n",
              "    x.observe(notebookContainer, {childList: true});\n",
              "}}\n",
              "\n",
              "// Listen for the clearing of the current output cell\n",
              "var outputEl = gd.closest('.output');\n",
              "if (outputEl) {{\n",
              "    x.observe(outputEl, {childList: true});\n",
              "}}\n",
              "\n",
              "                        })                };                            </script>        </div>\n",
              "</body>\n",
              "</html>"
            ]
          },
          "metadata": {}
        }
      ]
    },
    {
      "cell_type": "markdown",
      "source": [
        "Trực quan hóa về Huyết áp tâm trương ảnh hưởng tới bệnh tiểu đường"
      ],
      "metadata": {
        "id": "27CDpDGbBXlB"
      }
    },
    {
      "cell_type": "code",
      "source": [
        "# Now lets categorize the above histogram by Outcome\n",
        "\n",
        "import plotly.express as px\n",
        "fig = px.histogram(df, x=\"BloodPressure\", color=\"Outcome\", marginal=\"violin\", hover_data=df.columns,\n",
        "                   title =\"Distribution of CREATININE BloodPressure Vs Outcome\",\n",
        "                   labels={\"BloodPressure\": \"BloodPressure\"},\n",
        "                   template=\"plotly_dark\",\n",
        "                   color_discrete_map={\"0\": \"RebeccaPurple\", \"1\": \"MediumPurple\"})\n",
        "fig.show()"
      ],
      "metadata": {
        "colab": {
          "base_uri": "https://localhost:8080/",
          "height": 542
        },
        "id": "mtSqSCZA16Vj",
        "outputId": "2db9fe09-126c-40e6-f364-42d9bb8c3570"
      },
      "execution_count": null,
      "outputs": [
        {
          "output_type": "display_data",
          "data": {
            "text/html": [
              "<html>\n",
              "<head><meta charset=\"utf-8\" /></head>\n",
              "<body>\n",
              "    <div>            <script src=\"https://cdnjs.cloudflare.com/ajax/libs/mathjax/2.7.5/MathJax.js?config=TeX-AMS-MML_SVG\"></script><script type=\"text/javascript\">if (window.MathJax && window.MathJax.Hub && window.MathJax.Hub.Config) {window.MathJax.Hub.Config({SVG: {font: \"STIX-Web\"}});}</script>                <script type=\"text/javascript\">window.PlotlyConfig = {MathJaxConfig: 'local'};</script>\n",
              "        <script charset=\"utf-8\" src=\"https://cdn.plot.ly/plotly-2.24.1.min.js\"></script>                <div id=\"c9f76c49-bdbb-4686-a095-5fb4f98d8a43\" class=\"plotly-graph-div\" style=\"height:525px; width:100%;\"></div>            <script type=\"text/javascript\">                                    window.PLOTLYENV=window.PLOTLYENV || {};                                    if (document.getElementById(\"c9f76c49-bdbb-4686-a095-5fb4f98d8a43\")) {                    Plotly.newPlot(                        \"c9f76c49-bdbb-4686-a095-5fb4f98d8a43\",                        [{\"alignmentgroup\":\"True\",\"bingroup\":\"x\",\"hovertemplate\":\"Outcome=1\\u003cbr\\u003eBloodPressure=%{x}\\u003cbr\\u003ecount=%{y}\\u003cextra\\u003e\\u003c\\u002fextra\\u003e\",\"legendgroup\":\"1\",\"marker\":{\"color\":\"#00cc96\",\"pattern\":{\"shape\":\"\"}},\"name\":\"1\",\"offsetgroup\":\"1\",\"orientation\":\"v\",\"showlegend\":true,\"x\":[72,64,39,50,72,97,74,60,72,0,84,73,71,90,79,92,69,76,74,76,69,71,110,66,67,90,69,71,67,90,66,90,1,108,69,71,90,71,84,71,62,55,91,75,77,76,31,88,83,70,57,62,65,86,79,90,71,89,72,83,70,72,110,82,67,69,98,76,81,66,0,83,63,65,61,77,105,83,63,82,71,63,73,64,60,91,52,86,79,73,83,90,85,54,50,84,62,64,76,2,62,0,0,88,60,69,86,80,85,64,78,49,71,79,0,58,97,67,68,69,73,79,74,76,75,71,90,64,87,0,76,78,83,80,86,50,0,76,63,79,73,103,84,82,75,76,99,83,77,77,65,70,64,85,63,72,74,70,60,84,81,63,77,78,65,82,0,104,70,62,78,62,69,60,85,0,80,71,0,69,70,69,68,91,72,70,88,69,1,92,74,71,84,90,76,76,66,66,80,70,90,76,65,87,84,80,82,73,77,1,78,59,89,73,84,0,62,73,76,80,73,48,83,51,82,75,107,80,59,82,71,70,84,52,76,82,81,113,69,91,74,78,89,0,77,65,61,49,74,76,68,78,86,88,74,82,94,94,69,61,68,88,77,87,72,92,74,60],\"xaxis\":\"x\",\"yaxis\":\"y\",\"type\":\"histogram\"},{\"alignmentgroup\":\"True\",\"customdata\":[[6.0,147.0,36.0,0.0,33.0,1.11,52.0,1.0],[10.0,182.0,0.0,0.0,23.6,0.41,31.0,1.0],[0.0,137.0,35.0,168.0,45.6,2.49,30.0,1.0],[2.0,79.0,33.0,88.0,30.4,0.23,26.0,1.0],[2.0,196.0,45.0,543.0,29.7,1.8,51.0,1.0],[9.0,124.0,2.0,0.0,0.1,-1.39,52.0,1.0],[9.0,170.0,0.0,0.0,38.4,-0.91,33.0,1.0],[1.0,189.0,24.0,846.0,29.0,0.07,59.0,1.0],[5.0,167.0,20.0,174.0,23.7,-0.29,49.0,1.0],[7.0,100.0,2.0,0.0,31.6,0.56,33.0,1.0],[0.0,119.0,47.0,231.0,46.1,-0.29,30.0,1.0],[6.0,107.0,0.0,0.0,30.7,1.21,32.0,1.0],[2.0,115.0,31.0,97.0,34.8,1.08,31.0,1.0],[7.0,196.0,0.0,0.0,40.4,0.34,41.0,1.0],[8.0,120.0,34.0,0.0,28.8,-1.42,29.0,1.0],[11.0,144.0,32.0,145.0,36.1,1.01,51.0,1.0],[10.0,127.0,25.0,115.0,30.9,1.01,40.0,1.0],[7.0,148.0,0.0,0.0,39.0,0.38,44.0,1.0],[2.0,158.0,37.0,245.0,31.6,1.69,29.0,1.0],[8.0,102.0,35.0,0.0,32.7,0.67,46.0,1.0],[1.0,90.0,43.0,1.0,38.8,1.49,28.0,1.0],[5.0,111.0,46.0,208.0,36.0,1.22,56.0,1.0],[10.0,172.0,23.0,241.0,44.0,1.75,55.0,1.0],[0.0,179.0,39.0,1.0,41.6,0.79,26.0,1.0],[8.0,102.0,32.0,0.0,38.6,-0.12,31.0,1.0],[8.0,175.0,34.0,302.0,33.5,-0.5,59.0,1.0],[10.0,187.0,38.0,304.0,37.9,0.15,43.0,1.0],[6.0,134.0,0.0,0.0,34.0,-0.78,39.0,1.0],[7.0,114.0,0.0,0.0,33.8,1.85,42.0,1.0],[1.0,107.0,29.0,0.0,33.6,0.8,40.0,1.0],[2.0,100.0,21.0,91.0,33.8,0.66,30.0,1.0],[13.0,129.0,0.0,0.0,42.5,0.3,42.0,1.0],[1.0,131.0,0.0,0.0,41.9,-0.49,24.0,1.0],[4.0,136.0,0.0,0.0,50.1,-0.67,36.0,1.0],[14.0,136.0,32.0,112.0,37.9,0.47,44.0,1.0],[4.0,134.0,0.0,0.0,23.9,-0.48,59.0,1.0],[0.0,125.0,51.0,221.0,50.5,0.99,31.0,1.0],[1.0,163.0,0.0,0.0,37.0,1.58,35.0,1.0],[0.0,95.0,25.0,36.0,36.9,2.14,23.0,1.0],[3.0,172.0,32.0,135.0,32.1,-1.38,23.0,1.0],[7.0,154.0,27.0,496.0,31.7,2.65,46.0,1.0],[7.0,160.0,30.0,174.0,30.5,0.64,39.0,1.0],[3.0,147.0,0.0,1.0,30.7,-0.25,61.0,1.0],[7.0,124.0,0.0,0.0,33.5,1.97,39.0,1.0],[1.0,161.0,58.0,99.0,51.9,1.03,25.0,1.0],[0.0,112.0,0.0,0.0,32.2,1.83,23.0,1.0],[1.0,88.0,41.0,98.0,53.7,-1.4,25.0,1.0],[1.0,119.0,23.0,144.0,36.0,-0.44,41.0,1.0],[1.0,105.0,1.0,0.0,27.7,-1.08,61.0,1.0],[3.0,172.0,15.0,169.0,31.1,2.09,32.0,1.0],[10.0,123.0,0.0,0.0,32.5,-0.86,33.0,1.0],[4.0,173.0,39.0,225.0,33.4,-0.16,27.0,1.0],[10.0,108.0,1.0,0.0,32.0,-0.23,41.0,1.0],[9.0,155.0,29.0,155.0,36.0,3.08,43.0,1.0],[7.0,188.0,1.0,0.0,47.8,1.98,42.0,1.0],[7.0,153.0,44.0,0.0,48.8,-0.19,34.0,1.0],[18.0,162.0,40.0,115.0,39.9,-0.73,47.0,1.0],[2.0,132.0,0.0,0.0,31.4,2.49,32.0,1.0],[6.0,103.0,16.0,156.0,31.8,1.47,39.0,1.0],[5.0,102.0,0.0,0.0,31.6,-1.12,36.0,1.0],[6.0,134.0,22.0,130.0,34.9,1.59,29.0,1.0],[8.0,179.0,42.0,130.0,32.9,0.9,36.0,1.0],[0.0,130.0,45.0,130.0,66.4,0.71,27.0,1.0],[4.0,131.0,1.0,0.0,37.2,-0.92,39.0,1.0],[7.0,195.0,27.0,0.0,35.7,0.46,42.0,1.0],[9.0,180.0,36.0,494.0,30.5,0.43,61.0,1.0],[1.0,127.0,41.0,57.0,31.1,2.76,33.0,1.0],[8.0,110.0,40.0,114.0,29.4,0.18,32.0,1.0],[3.0,140.0,35.0,161.0,33.4,0.9,27.0,1.0],[6.0,159.0,2.0,0.0,31.5,0.11,34.0,1.0],[11.0,137.0,1.0,0.0,50.8,-0.72,41.0,1.0],[6.0,157.0,40.0,210.0,39.3,0.14,29.0,1.0],[3.0,108.0,15.0,46.0,22.9,-0.51,22.0,1.0],[5.0,109.0,44.0,98.0,35.2,-0.94,25.0,1.0],[3.0,150.0,28.0,319.0,29.2,1.82,31.0,1.0],[8.0,195.0,29.0,279.0,37.3,2.22,56.0,1.0],[4.0,161.0,1.0,0.0,38.0,0.52,54.0,1.0],[8.0,183.0,34.0,0.0,33.7,-0.5,43.0,1.0],[0.0,139.0,26.0,128.0,43.6,1.36,25.0,1.0],[8.0,111.0,32.0,176.0,33.5,1.46,38.0,1.0],[12.0,151.0,40.0,270.0,41.1,0.34,39.0,1.0],[7.0,111.0,40.0,129.0,36.8,0.27,25.0,1.0],[4.0,85.0,23.0,0.0,27.9,0.25,32.0,1.0],[5.0,112.0,0.0,1.0,38.2,-0.64,43.0,1.0],[1.0,177.0,30.0,477.0,34.3,2.14,22.0,1.0],[0.0,156.0,1.0,1.0,31.5,0.52,66.0,1.0],[3.0,162.0,37.0,0.0,38.1,0.27,24.0,1.0],[4.0,143.0,1.0,1.0,41.4,0.01,20.0,1.0],[6.0,134.0,36.0,370.0,47.2,1.47,47.0,1.0],[4.0,172.0,0.0,0.0,43.6,0.8,26.0,1.0],[8.0,181.0,22.0,190.0,35.0,1.19,52.0,1.0],[0.0,180.0,27.0,1.0,43.7,2.02,21.0,1.0],[9.0,164.0,21.0,0.0,31.0,0.64,31.0,1.0],[3.0,138.0,0.0,2.0,25.7,-0.92,23.0,1.0],[7.0,120.0,23.0,176.0,27.1,1.8,35.0,1.0],[9.0,185.0,14.0,0.0,32.1,0.72,50.0,1.0],[12.0,93.0,8.0,256.0,26.7,1.74,44.0,1.0],[3.0,113.0,35.0,0.0,32.8,0.57,20.0,1.0],[9.0,154.0,27.0,148.0,33.0,3.09,51.0,1.0],[3.0,140.0,0.0,1.0,30.2,2.25,27.0,1.0],[3.0,123.0,0.0,2.0,31.5,0.72,34.0,1.0],[2.0,138.0,1.0,0.0,36.8,-0.15,25.0,1.0],[1.0,149.0,0.0,0.0,27.7,-0.17,29.0,1.0],[10.0,100.0,37.0,1.0,45.6,1.03,36.0,1.0],[9.0,105.0,23.0,0.0,27.5,0.07,31.0,1.0],[0.0,146.0,1.0,0.0,36.4,0.11,28.0,1.0],[6.0,161.0,0.0,0.0,31.2,0.59,46.0,1.0],[1.0,106.0,2.0,0.0,27.0,-0.4,53.0,1.0],[0.0,118.0,37.0,220.0,47.7,2.22,29.0,1.0],[0.0,107.0,29.0,73.0,35.3,1.56,25.0,1.0],[2.0,128.0,38.0,183.0,43.5,2.41,31.0,1.0],[0.0,129.0,46.0,192.0,41.3,0.82,24.0,1.0],[3.0,146.0,36.0,360.0,27.9,1.98,29.0,1.0],[14.0,100.0,25.0,185.0,37.4,1.26,47.0,1.0],[0.0,168.0,0.0,0.0,34.5,0.15,29.0,1.0],[1.0,146.0,33.0,135.0,31.4,0.19,26.0,1.0],[5.0,115.0,0.0,0.0,51.2,0.63,29.0,1.0],[11.0,161.0,24.0,129.0,23.5,0.44,48.0,1.0],[0.0,128.0,20.0,179.0,30.8,2.21,25.0,1.0],[4.0,124.0,29.0,206.0,33.9,3.26,31.0,1.0],[2.0,155.0,16.0,96.0,25.3,-0.47,26.0,1.0],[9.0,110.0,31.0,0.0,37.0,1.77,42.0,1.0],[3.0,182.0,0.0,0.0,30.2,-0.16,28.0,1.0],[5.0,194.0,0.0,1.0,21.5,2.74,60.0,1.0],[3.0,111.0,31.0,0.0,30.8,-0.11,25.0,1.0],[0.0,123.0,20.0,0.0,28.4,0.96,35.0,1.0],[13.0,152.0,33.0,30.0,27.5,1.16,44.0,1.0],[2.0,124.0,33.0,156.0,36.5,1.35,31.0,1.0],[1.0,103.0,36.0,119.0,46.0,0.03,23.0,1.0],[2.0,182.0,0.0,0.0,43.7,-0.51,42.0,1.0],[7.0,114.0,0.0,1.0,29.9,-0.88,44.0,1.0],[8.0,152.0,34.0,170.0,35.9,2.27,34.0,1.0],[6.0,178.0,0.0,0.0,39.7,0.55,42.0,1.0],[4.0,0.0,31.0,0.0,40.4,0.06,38.0,1.0],[7.0,165.0,0.0,2.0,30.5,1.86,48.0,1.0],[0.0,126.0,41.0,166.0,32.3,3.48,30.0,1.0],[12.0,130.0,29.0,0.0,41.1,-0.1,44.0,1.0],[2.0,195.0,36.0,249.0,36.5,2.56,30.0,1.0],[5.0,191.0,31.0,323.0,31.1,1.3,29.0,1.0],[3.0,146.0,0.0,0.0,39.7,-0.86,66.0,1.0],[6.0,125.0,0.0,0.0,24.9,-0.1,29.0,1.0],[3.0,134.0,27.0,140.0,33.7,-0.55,45.0,1.0],[2.0,173.0,49.0,465.0,36.4,2.17,27.0,1.0],[11.0,140.0,43.0,325.0,40.3,-0.49,58.0,1.0],[2.0,156.0,0.0,0.0,48.3,0.35,33.0,1.0],[6.0,115.0,29.0,0.0,32.4,0.72,35.0,1.0],[8.0,105.0,35.0,2.0,43.3,-0.04,46.0,1.0],[7.0,144.0,26.0,285.0,33.0,1.05,56.0,1.0],[5.0,163.0,0.0,1.0,44.7,0.94,27.0,1.0],[4.0,157.0,1.0,0.0,32.1,1.13,32.0,1.0],[0.0,131.0,40.0,0.0,35.0,0.86,22.0,1.0],[3.0,194.0,29.0,0.0,36.2,0.67,25.0,1.0],[5.0,93.0,1.0,1.0,35.5,1.21,31.0,1.0],[5.0,136.0,41.0,86.0,35.7,-1.4,35.0,1.0],[4.0,168.0,0.0,0.0,34.0,-0.58,41.0,1.0],[3.0,114.0,0.0,1.0,28.5,-1.76,46.0,1.0],[8.0,198.0,0.0,0.0,26.3,1.61,39.0,1.0],[1.0,171.0,48.0,577.0,42.2,0.67,28.0,1.0],[0.0,138.0,33.0,169.0,35.3,1.31,21.0,1.0],[2.0,174.0,32.0,474.0,36.3,1.68,23.0,1.0],[4.0,147.0,31.0,0.0,39.3,-0.28,37.0,1.0],[3.0,129.0,29.0,115.0,25.8,0.72,27.0,1.0],[8.0,151.0,33.0,210.0,44.2,-1.46,34.0,1.0],[5.0,183.0,40.0,277.0,34.9,0.56,32.0,1.0],[1.0,182.0,31.0,181.0,34.0,1.44,40.0,1.0],[2.0,95.0,25.0,180.0,35.2,0.02,42.0,1.0],[0.0,143.0,0.0,1.0,43.4,0.54,31.0,1.0],[0.0,189.0,25.0,0.0,35.1,0.83,41.0,1.0],[9.0,109.0,0.0,0.0,31.2,1.42,31.0,1.0],[4.0,119.0,12.0,1.0,31.2,0.23,31.0,1.0],[0.0,181.0,63.0,12.0,59.4,3.68,24.0,1.0],[0.0,104.0,37.0,65.0,33.2,1.17,23.0,1.0],[0.0,133.0,0.0,0.0,28.0,0.63,24.0,1.0],[13.0,175.0,33.0,0.0,33.7,0.47,39.0,1.0],[10.0,149.0,46.0,237.0,37.4,1.45,49.0,1.0],[8.0,121.0,0.0,1.0,29.4,0.88,37.0,1.0],[2.0,104.0,46.0,191.0,32.0,2.24,28.0,1.0],[1.0,158.0,30.0,327.0,36.3,-2.63,34.0,1.0],[0.0,145.0,0.0,0.0,42.9,0.92,31.0,1.0],[0.0,134.0,41.0,249.0,43.4,0.21,24.0,1.0],[4.0,124.0,18.0,124.0,31.1,0.17,45.0,1.0],[8.0,196.0,34.0,146.0,25.3,0.07,55.0,1.0],[5.0,0.0,40.0,0.0,40.1,0.04,40.0,1.0],[0.0,180.0,23.0,89.0,35.0,0.49,36.0,1.0],[12.0,84.0,32.0,0.0,29.3,-0.44,46.0,1.0],[5.0,163.0,17.0,104.0,31.6,0.31,30.0,1.0],[11.0,145.0,35.0,165.0,28.2,2.3,54.0,1.0],[10.0,131.0,0.0,0.0,32.4,1.05,46.0,1.0],[4.0,132.0,0.0,1.0,32.2,2.09,23.0,1.0],[2.0,131.0,49.0,155.0,36.9,1.55,33.0,1.0],[6.0,100.0,41.0,214.0,36.6,1.6,43.0,1.0],[3.0,128.0,26.0,188.0,31.4,0.63,26.0,1.0],[10.0,90.0,31.0,0.0,34.1,2.12,56.0,1.0],[8.0,186.0,35.0,226.0,33.3,-0.48,36.0,1.0],[5.0,188.0,26.0,206.0,43.5,-0.93,54.0,1.0],[5.0,125.0,0.0,1.0,35.2,-2.46,56.0,1.0],[0.0,199.0,31.0,274.0,40.2,-0.1,27.0,1.0],[1.0,121.0,30.0,166.0,32.9,-0.69,31.0,1.0],[2.0,118.0,0.0,0.0,42.9,0.85,20.0,1.0],[2.0,197.0,99.0,0.0,35.1,1.66,63.0,1.0],[1.0,151.0,46.0,0.0,41.7,1.43,21.0,1.0],[7.0,124.0,24.0,598.0,28.8,1.49,52.0,1.0],[8.0,142.0,0.0,0.0,34.9,1.25,41.0,1.0],[4.0,176.0,29.0,157.0,32.3,-0.11,51.0,1.0],[12.0,110.0,39.0,0.0,46.1,1.79,46.0,1.0],[2.0,132.0,0.0,2.0,34.6,0.25,44.0,1.0],[0.0,189.0,13.0,185.0,30.5,2.35,21.0,1.0],[3.0,172.0,0.0,1.0,36.4,0.4,37.0,1.0],[7.0,149.0,29.0,127.0,34.8,0.04,54.0,1.0],[3.0,183.0,0.0,0.0,27.8,-0.52,36.0,1.0],[0.0,179.0,42.0,293.0,39.7,1.83,22.0,1.0],[0.0,174.0,22.0,192.0,33.0,1.83,36.0,1.0],[5.0,166.0,41.0,323.0,35.0,-0.61,42.0,1.0],[11.0,138.0,26.0,143.0,36.7,1.52,50.0,1.0],[11.0,112.0,25.0,0.0,28.9,1.84,51.0,1.0],[0.0,119.0,0.0,0.0,32.5,-2.2,25.0,1.0],[6.0,113.0,0.0,0.0,27.6,1.35,34.0,1.0],[13.0,104.0,0.0,2.0,31.0,1.95,38.0,1.0],[7.0,97.0,31.0,92.0,42.1,0.04,34.0,1.0],[6.0,147.0,0.0,0.0,29.0,-0.03,48.0,1.0],[1.0,167.0,16.0,146.0,24.0,1.7,33.0,1.0],[0.0,179.0,35.0,159.0,37.8,0.85,22.0,1.0],[9.0,136.0,36.0,130.0,26.4,-0.68,44.0,1.0],[4.0,156.0,28.0,538.0,39.2,-1.43,24.0,1.0],[3.0,80.0,31.0,70.0,32.7,0.96,28.0,1.0],[1.0,199.0,42.0,0.0,40.5,0.82,22.0,1.0],[9.0,168.0,46.0,231.0,36.5,1.28,43.0,1.0],[9.0,145.0,47.0,130.0,37.1,-0.29,39.0,1.0],[6.0,115.0,40.0,2.0,33.6,-0.02,39.0,1.0],[5.0,145.0,17.0,0.0,33.3,1.99,69.0,1.0],[9.0,112.0,28.0,0.0,26.7,-0.2,42.0,1.0],[7.0,194.0,0.0,1.0,30.6,1.4,32.0,1.0],[10.0,158.0,0.0,0.0,24.9,1.68,54.0,1.0],[2.0,121.0,0.0,0.0,35.7,0.9,25.0,1.0],[0.0,163.0,35.0,0.0,48.5,-0.13,27.0,1.0],[5.0,124.0,0.0,2.0,31.1,0.97,26.0,1.0],[1.0,145.0,45.0,181.0,45.5,0.36,46.0,1.0],[15.0,159.0,0.0,0.0,41.8,0.28,45.0,1.0],[5.0,130.0,49.0,126.0,39.1,0.51,42.0,1.0],[7.0,141.0,25.0,479.0,30.2,0.63,43.0,1.0],[3.0,168.0,19.0,124.0,29.4,2.01,30.0,1.0],[7.0,126.0,29.0,1.0,28.3,-0.3,50.0,1.0],[2.0,169.0,29.0,2.0,36.0,1.63,53.0,1.0],[10.0,116.0,0.0,0.0,0.2,-1.11,30.0,1.0],[10.0,163.0,1.0,1.0,31.4,-0.04,44.0,1.0],[2.0,93.0,32.0,159.0,37.9,0.61,22.0,1.0],[11.0,128.0,36.0,1.0,41.4,1.39,37.0,1.0],[8.0,187.0,33.0,394.0,33.1,1.5,34.0,1.0],[5.0,173.0,39.0,185.0,35.3,1.27,31.0,1.0],[6.0,97.0,27.0,0.0,37.2,0.99,53.0,1.0],[1.0,148.0,28.0,127.0,29.5,0.37,42.0,1.0],[4.0,132.0,23.0,81.0,26.7,0.23,35.0,1.0],[7.0,121.0,1.0,2.0,29.0,-1.67,21.0,1.0],[2.0,174.0,36.0,119.0,44.0,1.28,22.0,1.0],[0.0,102.0,0.0,0.0,40.7,0.92,41.0,1.0],[11.0,120.0,38.0,149.0,43.3,-0.03,48.0,1.0],[7.0,141.0,0.0,2.0,31.1,0.97,46.0,1.0],[2.0,148.0,41.0,0.0,49.1,0.54,27.0,1.0],[5.0,186.0,24.0,200.0,36.1,0.09,37.0,1.0],[5.0,163.0,1.0,0.0,24.2,0.79,50.0,1.0],[3.0,135.0,0.0,1.0,29.5,0.61,22.0,1.0],[1.0,182.0,46.0,509.0,42.0,1.51,28.0,1.0],[7.0,154.0,31.0,2.0,32.8,1.35,45.0,1.0],[0.0,128.0,39.0,108.0,37.0,2.09,38.0,1.0],[0.0,123.0,0.0,0.0,36.7,1.64,52.0,1.0],[6.0,189.0,2.0,0.0,34.3,-0.11,64.0,1.0],[9.0,171.0,31.0,0.0,44.0,0.86,44.0,1.0],[0.0,126.0,0.0,2.0,31.2,-0.22,47.0,1.0]],\"hovertemplate\":\"Outcome=%{customdata[7]}\\u003cbr\\u003eBloodPressure=%{x}\\u003cbr\\u003ePregnancies=%{customdata[0]}\\u003cbr\\u003eGlucose=%{customdata[1]}\\u003cbr\\u003eSkinThickness=%{customdata[2]}\\u003cbr\\u003eInsulin=%{customdata[3]}\\u003cbr\\u003eBMI=%{customdata[4]}\\u003cbr\\u003eDiabetesPedigreeFunction=%{customdata[5]}\\u003cbr\\u003eAge=%{customdata[6]}\\u003cextra\\u003e\\u003c\\u002fextra\\u003e\",\"legendgroup\":\"1\",\"marker\":{\"color\":\"#00cc96\"},\"name\":\"1\",\"offsetgroup\":\"1\",\"scalegroup\":\"x\",\"showlegend\":false,\"x\":[72,64,39,50,72,97,74,60,72,0,84,73,71,90,79,92,69,76,74,76,69,71,110,66,67,90,69,71,67,90,66,90,1,108,69,71,90,71,84,71,62,55,91,75,77,76,31,88,83,70,57,62,65,86,79,90,71,89,72,83,70,72,110,82,67,69,98,76,81,66,0,83,63,65,61,77,105,83,63,82,71,63,73,64,60,91,52,86,79,73,83,90,85,54,50,84,62,64,76,2,62,0,0,88,60,69,86,80,85,64,78,49,71,79,0,58,97,67,68,69,73,79,74,76,75,71,90,64,87,0,76,78,83,80,86,50,0,76,63,79,73,103,84,82,75,76,99,83,77,77,65,70,64,85,63,72,74,70,60,84,81,63,77,78,65,82,0,104,70,62,78,62,69,60,85,0,80,71,0,69,70,69,68,91,72,70,88,69,1,92,74,71,84,90,76,76,66,66,80,70,90,76,65,87,84,80,82,73,77,1,78,59,89,73,84,0,62,73,76,80,73,48,83,51,82,75,107,80,59,82,71,70,84,52,76,82,81,113,69,91,74,78,89,0,77,65,61,49,74,76,68,78,86,88,74,82,94,94,69,61,68,88,77,87,72,92,74,60],\"xaxis\":\"x2\",\"yaxis\":\"y2\",\"type\":\"violin\"},{\"alignmentgroup\":\"True\",\"bingroup\":\"x\",\"hovertemplate\":\"Outcome=0\\u003cbr\\u003eBloodPressure=%{x}\\u003cbr\\u003ecount=%{y}\\u003cextra\\u003e\\u003c\\u002fextra\\u003e\",\"legendgroup\":\"0\",\"marker\":{\"color\":\"#ab63fa\",\"pattern\":{\"shape\":\"\"}},\"name\":\"0\",\"offsetgroup\":\"0\",\"orientation\":\"v\",\"showlegend\":true,\"x\":[66,64,74,2,93,79,30,88,83,67,81,92,77,57,91,76,61,76,63,85,93,64,55,69,0,79,48,66,65,49,88,82,63,0,63,57,75,93,68,86,66,87,74,48,78,72,66,43,0,78,64,75,71,67,68,55,80,78,83,72,60,49,49,62,96,71,67,55,120,58,58,77,62,49,61,77,65,76,82,70,59,76,70,59,71,61,79,72,77,84,50,61,74,79,64,77,71,72,64,82,52,56,73,89,73,80,64,66,68,66,89,0,60,63,78,78,81,64,74,59,74,61,69,54,58,81,81,69,68,73,70,64,61,83,96,67,0,60,65,79,76,70,80,80,69,68,76,65,70,76,67,89,72,87,51,85,80,67,55,65,49,70,70,80,75,64,51,61,77,78,70,70,62,74,62,76,87,74,84,56,70,89,50,60,85,73,83,76,78,69,65,69,51,66,79,68,58,77,72,70,70,72,57,80,60,78,0,71,73,68,88,71,88,45,1,61,81,83,81,63,77,75,70,108,72,56,65,88,64,64,57,53,82,60,101,72,66,61,63,69,53,70,68,66,71,58,56,71,61,78,48,61,92,73,84,75,69,69,88,67,65,64,0,95,0,74,74,73,68,87,75,70,86,66,64,73,80,73,64,68,1,53,53,68,75,71,62,71,79,97,55,52,65,77,83,69,65,90,62,84,76,74,85,88,60,82,63,81,71,79,65,89,69,0,74,68,72,75,92,71,63,78,82,60,50,78,64,68,61,53,86,60,91,70,80,0,58,59,64,74,66,65,60,76,64,0,57,90,61,79,91,77,68,83,110,70,69,87,61,63,70,71,76,65,74,68,62,79,54,73,61,72,68,94,59,61,85,44,45,70,62,78,76,57,65,0,76,51,73,77,23,37,89,1,74,62,62,81,61,54,81,73,95,61,85,76,92,71,62,88,69,77,81,67,77,61,82,63,74,76,74,87,70,0,73,74,60,54,60,74,54,70,59,81,105,85,81,58,78,68,57,107,101,83,62,59,55,63,82,74,63,50,74,79,71,61,0,88,71,77,0,75,78,46,63,77,57,75,73,60,86,65,87,91,78,79,85,88,52,57,75,63,89,73,61,44,58,88,86,74,80,63,90,76,58,62,77,69,72,70],\"xaxis\":\"x\",\"yaxis\":\"y\",\"type\":\"histogram\"},{\"alignmentgroup\":\"True\",\"customdata\":[[0.0,84.0,29.0,1.0,24.9,1.49,32.0,0.0],[2.0,89.0,22.0,95.0,26.4,-0.19,21.0,0.0],[5.0,115.0,0.0,0.0,25.6,-1.06,31.0,0.0],[10.0,116.0,0.0,1.0,35.6,0.33,28.0,0.0],[4.0,111.0,1.0,0.0,36.9,1.07,28.0,0.0],[9.0,138.0,1.0,0.0,26.0,0.01,58.0,0.0],[1.0,101.0,37.0,83.0,43.1,0.98,33.0,0.0],[3.0,127.0,39.0,235.0,38.9,0.66,27.0,0.0],[10.0,99.0,0.0,0.0,37.2,0.49,49.0,0.0],[2.0,98.0,14.0,140.0,22.3,0.91,22.0,0.0],[13.0,146.0,19.0,110.0,21.1,0.17,58.0,0.0],[5.0,118.0,0.0,1.0,35.2,1.37,36.0,0.0],[5.0,108.0,28.0,0.0,36.5,0.57,61.0,0.0],[4.0,88.0,11.0,55.0,24.5,-0.73,21.0,0.0],[7.0,91.0,0.0,0.0,18.7,0.62,26.0,0.0],[9.0,122.0,32.0,0.0,28.1,0.78,44.0,0.0],[5.0,103.0,35.0,192.0,24.1,2.84,34.0,0.0],[11.0,136.0,0.0,0.0,33.3,-1.21,34.0,0.0],[2.0,180.0,26.0,71.0,35.6,-0.73,26.0,0.0],[7.0,133.0,0.0,1.0,41.8,2.95,37.0,0.0],[6.0,105.0,19.0,1.0,22.7,1.45,49.0,0.0],[8.0,159.0,0.0,0.0,27.0,3.01,41.0,0.0],[1.0,147.0,0.0,0.0,30.2,1.61,29.0,0.0],[3.0,69.0,27.0,1.0,26.5,-1.18,21.0,0.0],[5.0,106.0,1.0,1.0,0.0,1.13,23.0,0.0],[0.0,103.0,11.0,84.0,18.5,2.51,22.0,0.0],[1.0,103.0,15.0,37.0,24.4,1.04,24.0,0.0],[5.0,87.0,21.0,24.0,24.5,1.06,29.0,0.0],[7.0,150.0,41.0,340.0,34.1,1.25,42.0,0.0],[0.0,73.0,10.0,0.0,23.1,-0.19,21.0,0.0],[0.0,100.0,61.0,109.0,47.3,-0.22,31.0,0.0],[1.0,146.0,0.0,0.0,43.4,1.18,43.0,0.0],[1.0,104.0,41.0,141.0,40.4,0.91,22.0,0.0],[2.0,84.0,0.0,1.0,0.0,-0.34,19.0,0.0],[4.0,42.0,0.0,0.0,24.9,-0.85,35.0,0.0],[1.0,140.0,32.0,128.0,25.9,1.42,26.0,0.0],[5.0,97.0,26.0,0.0,29.4,-0.8,33.0,0.0],[2.0,109.0,0.0,0.0,44.1,-0.04,53.0,0.0],[1.0,95.0,14.0,38.0,20.3,-0.89,24.0,0.0],[5.0,147.0,26.0,98.0,29.9,-0.73,27.0,0.0],[5.0,140.0,35.0,140.0,27.8,1.64,26.0,0.0],[4.0,130.0,21.0,270.0,35.4,1.53,23.0,0.0],[0.0,79.0,31.0,0.0,32.9,-0.53,22.0,0.0],[0.0,1.0,21.0,0.0,24.9,0.36,22.0,0.0],[6.0,62.0,0.0,0.0,32.1,1.25,41.0,0.0],[5.0,94.0,33.0,0.0,36.2,1.4,27.0,0.0],[2.0,111.0,21.0,0.0,23.9,0.44,22.0,0.0],[2.0,112.0,14.0,0.0,20.7,0.31,22.0,0.0],[1.0,73.0,0.0,0.0,0.9,0.48,24.0,0.0],[6.0,84.0,26.0,71.0,29.5,1.06,37.0,0.0],[1.0,100.0,28.0,2.0,25.9,-0.11,22.0,0.0],[3.0,111.0,30.0,126.0,31.3,-0.71,26.0,0.0],[14.0,103.0,53.0,1.0,35.9,0.68,45.0,0.0],[1.0,100.0,25.0,72.0,37.8,1.14,26.0,0.0],[1.0,106.0,22.0,0.0,26.4,-0.43,24.0,0.0],[0.0,77.0,2.0,0.0,19.7,0.56,23.0,0.0],[3.0,122.0,16.0,175.0,30.9,1.74,33.0,0.0],[8.0,80.0,40.0,48.0,46.3,-0.32,41.0,0.0],[3.0,142.0,18.0,62.0,24.2,2.29,21.0,0.0],[7.0,144.0,27.0,228.0,33.6,0.42,39.0,0.0],[4.0,94.0,28.0,0.0,31.5,1.01,23.0,0.0],[0.0,72.0,19.0,75.0,21.6,1.34,21.0,0.0],[6.0,93.0,29.0,64.0,28.9,0.73,24.0,0.0],[2.0,150.0,1.0,0.0,26.0,-0.03,22.0,0.0],[0.0,127.0,0.0,0.0,22.7,0.34,21.0,0.0],[2.0,80.0,18.0,40.0,28.1,0.43,23.0,0.0],[2.0,83.0,1.0,0.0,38.7,-0.6,27.0,0.0],[1.0,127.0,28.0,152.0,28.7,1.68,19.0,0.0],[1.0,96.0,0.0,0.0,21.9,0.25,27.0,0.0],[4.0,145.0,26.0,140.0,29.7,0.76,38.0,0.0],[4.0,83.0,31.0,18.0,34.9,-0.27,25.0,0.0],[0.0,90.0,34.0,36.0,30.9,0.03,24.0,0.0],[4.0,76.0,1.0,0.0,33.7,0.44,25.0,0.0],[4.0,78.0,0.0,1.0,33.4,0.6,26.0,0.0],[4.0,95.0,23.0,1.0,27.1,1.28,22.0,0.0],[4.0,98.0,14.0,51.0,21.2,0.78,22.0,0.0],[6.0,110.0,40.0,0.0,33.7,-1.46,25.0,0.0],[2.0,106.0,30.0,100.0,34.2,1.62,24.0,0.0],[6.0,133.0,0.0,1.0,27.7,-0.87,69.0,0.0],[4.0,120.0,31.0,135.0,41.1,-1.16,29.0,0.0],[3.0,119.0,35.0,96.0,33.5,0.04,24.0,0.0],[8.0,85.0,31.0,0.0,39.0,-0.21,40.0,0.0],[2.0,96.0,13.0,50.0,22.8,0.67,26.0,0.0],[5.0,125.0,20.0,140.0,34.4,1.13,31.0,0.0],[0.0,102.0,25.0,52.0,30.7,-1.79,22.0,0.0],[0.0,92.0,26.0,92.0,28.6,2.8,22.0,0.0],[0.0,130.0,2.0,0.0,29.2,2.13,29.0,0.0],[4.0,107.0,31.0,325.0,36.5,-0.08,28.0,0.0],[4.0,128.0,0.0,2.0,21.6,0.84,56.0,0.0],[4.0,106.0,31.0,0.0,39.5,-0.09,39.0,0.0],[2.0,108.0,26.0,63.0,33.0,1.06,23.0,0.0],[5.0,154.0,32.0,285.0,32.2,0.55,23.0,0.0],[2.0,103.0,24.0,0.0,0.0,0.81,22.0,0.0],[9.0,58.0,38.0,0.0,33.4,-0.82,41.0,0.0],[1.0,106.0,35.0,120.0,30.1,0.52,34.0,0.0],[5.0,148.0,0.0,1.0,32.3,-0.69,67.0,0.0],[0.0,90.0,16.0,0.0,25.5,-1.53,22.0,0.0],[2.0,135.0,52.0,205.0,36.6,0.32,24.0,0.0],[5.0,115.0,0.0,0.0,21.7,2.08,38.0,0.0],[3.0,154.0,42.0,485.0,40.8,0.45,23.0,0.0],[2.0,99.0,15.0,94.0,24.1,-0.51,22.0,0.0],[1.0,110.0,21.0,134.0,23.9,0.74,22.0,0.0],[2.0,88.0,18.0,53.0,28.7,-0.43,22.0,0.0],[3.0,151.0,38.0,1.0,29.8,-1.16,34.0,0.0],[5.0,102.0,43.0,106.0,37.9,-0.64,45.0,0.0],[1.0,114.0,34.0,285.0,43.6,-0.13,28.0,0.0],[3.0,101.0,23.0,0.0,30.6,1.0,21.0,0.0],[4.0,148.0,25.0,0.0,33.5,-0.12,22.0,0.0],[3.0,119.0,2.0,1.0,30.0,1.45,32.0,0.0],[2.0,111.0,0.0,1.0,31.8,0.66,29.0,0.0],[3.0,111.0,13.0,78.0,28.5,0.35,30.0,0.0],[2.0,86.0,23.0,0.0,29.6,0.25,24.0,0.0],[1.0,79.0,40.0,49.0,44.9,0.19,23.0,0.0],[3.0,74.0,25.0,56.0,30.2,0.45,34.0,0.0],[7.0,85.0,0.0,0.0,30.8,0.58,43.0,0.0],[4.0,143.0,1.0,1.0,43.9,0.15,48.0,0.0],[5.0,86.0,0.0,0.0,25.1,0.33,32.0,0.0],[1.0,117.0,18.0,91.0,32.7,-0.53,24.0,0.0],[2.0,0.0,21.0,23.0,27.8,0.14,22.0,0.0],[5.0,75.0,0.0,0.0,27.1,1.01,28.0,0.0],[4.0,141.0,0.0,0.0,26.7,1.0,38.0,0.0],[3.0,111.0,1.0,0.0,22.0,-0.39,20.0,0.0],[9.0,124.0,44.0,96.0,32.3,1.74,41.0,0.0],[8.0,85.0,20.0,0.0,24.0,-0.2,42.0,0.0],[2.0,103.0,0.0,0.0,25.1,0.72,20.0,0.0],[0.0,112.0,16.0,0.0,32.1,0.19,21.0,0.0],[2.0,139.0,0.0,0.0,40.6,0.82,28.0,0.0],[1.0,107.0,19.0,0.0,26.7,1.33,33.0,0.0],[2.0,98.0,16.0,43.0,19.0,-0.63,27.0,0.0],[5.0,103.0,34.0,190.0,36.7,-0.37,54.0,0.0],[6.0,111.0,27.0,1.0,23.2,0.9,27.0,0.0],[3.0,97.0,28.0,86.0,33.7,-1.45,22.0,0.0],[1.0,79.0,21.0,0.0,27.6,1.41,24.0,0.0],[0.0,147.0,54.0,0.0,40.5,-0.04,23.0,0.0],[6.0,178.0,32.0,0.0,34.2,-1.02,61.0,0.0],[7.0,125.0,30.0,121.0,30.4,0.81,31.0,0.0],[7.0,118.0,0.0,0.0,25.6,0.03,39.0,0.0],[9.0,141.0,34.0,190.0,30.0,0.62,61.0,0.0],[1.0,99.0,16.0,57.0,22.3,0.62,25.0,0.0],[0.0,87.0,26.0,31.0,34.8,-0.27,21.0,0.0],[1.0,101.0,1.0,0.0,36.3,0.01,25.0,0.0],[5.0,198.0,40.0,743.0,35.1,1.66,31.0,0.0],[2.0,117.0,33.0,54.0,45.6,-1.36,24.0,0.0],[1.0,78.0,25.0,37.0,23.7,1.62,22.0,0.0],[6.0,123.0,0.0,1.0,35.1,1.57,30.0,0.0],[2.0,75.0,27.0,45.0,29.5,1.35,23.0,0.0],[0.0,105.0,0.0,1.0,16.9,0.95,27.0,0.0],[0.0,92.0,23.0,1.0,29.6,0.37,21.0,0.0],[2.0,90.0,31.0,88.0,32.3,1.46,21.0,0.0],[3.0,147.0,34.0,194.0,36.1,1.06,29.0,0.0],[10.0,123.0,0.0,0.0,31.7,0.59,42.0,0.0],[0.0,167.0,34.0,679.0,51.8,0.29,22.0,0.0],[10.0,125.0,34.0,402.0,34.5,1.02,33.0,0.0],[0.0,112.0,18.0,0.0,30.8,0.29,23.0,0.0],[8.0,108.0,1.0,0.0,31.0,-0.24,42.0,0.0],[1.0,129.0,0.0,0.0,28.4,0.26,26.0,0.0],[1.0,91.0,15.0,55.0,23.1,1.25,24.0,0.0],[0.0,86.0,33.0,0.0,35.1,-0.66,25.0,0.0],[3.0,110.0,41.0,0.0,28.9,2.31,29.0,0.0],[1.0,112.0,22.0,0.0,28.1,1.34,25.0,0.0],[2.0,193.0,16.0,375.0,25.3,-1.25,25.0,0.0],[4.0,192.0,16.0,130.0,30.6,-1.02,34.0,0.0],[4.0,95.0,30.0,1.0,33.6,-0.5,23.0,0.0],[2.0,142.0,16.0,1.0,29.7,-0.17,64.0,0.0],[5.0,95.0,18.0,67.0,33.5,0.52,44.0,0.0],[2.0,129.0,42.0,0.0,40.3,-0.35,24.0,0.0],[0.0,101.0,1.0,0.0,23.9,1.65,20.0,0.0],[3.0,108.0,30.0,55.0,24.7,1.0,21.0,0.0],[4.0,124.0,0.0,0.0,23.0,0.56,39.0,0.0],[1.0,70.0,50.0,45.0,34.9,0.86,19.0,0.0],[12.0,106.0,0.0,1.0,32.8,-0.25,52.0,0.0],[4.0,99.0,53.0,57.0,39.1,0.81,26.0,0.0],[0.0,104.0,24.0,116.0,27.3,0.78,23.0,0.0],[5.0,115.0,0.0,1.0,25.0,-0.29,56.0,0.0],[1.0,107.0,10.0,278.0,26.4,2.24,21.0,0.0],[12.0,129.0,25.0,121.0,35.2,-1.77,40.0,0.0],[8.0,133.0,14.0,155.0,33.0,0.47,35.0,0.0],[5.0,135.0,25.0,134.0,27.4,2.07,51.0,0.0],[3.0,154.0,44.0,547.0,37.5,0.98,33.0,0.0],[3.0,97.0,18.0,51.0,19.3,-0.89,25.0,0.0],[6.0,109.0,43.0,75.0,35.1,-1.49,34.0,0.0],[0.0,78.0,29.0,41.0,35.7,-1.04,20.0,0.0],[0.0,161.0,1.0,1.0,22.2,0.97,66.0,0.0],[5.0,153.0,32.0,120.0,34.5,2.33,30.0,0.0],[2.0,126.0,30.0,218.0,32.2,-0.23,23.0,0.0],[8.0,112.0,0.0,0.0,24.2,1.26,59.0,0.0],[6.0,77.0,43.0,42.0,36.0,-0.82,36.0,0.0],[5.0,150.0,0.0,0.0,23.4,-1.59,38.0,0.0],[2.0,119.0,37.0,105.0,40.5,0.7,28.0,0.0],[1.0,138.0,14.0,147.0,23.9,-1.15,21.0,0.0],[6.0,83.0,29.0,1.0,26.5,0.52,40.0,0.0],[0.0,105.0,36.0,148.0,40.7,0.24,22.0,0.0],[2.0,113.0,10.0,85.0,28.9,0.75,23.0,0.0],[1.0,113.0,21.0,94.0,34.5,0.2,26.0,0.0],[3.0,99.0,11.0,63.0,19.4,-0.13,30.0,0.0],[4.0,115.0,40.0,140.0,37.5,0.19,28.0,0.0],[6.0,129.0,12.0,232.0,27.5,2.08,31.0,0.0],[3.0,113.0,30.0,0.0,35.1,0.65,22.0,0.0],[2.0,158.0,22.0,169.0,25.3,-0.61,23.0,0.0],[10.0,181.0,0.0,0.0,34.9,-1.01,38.0,0.0],[6.0,106.0,32.0,66.0,31.1,-0.23,38.0,0.0],[7.0,119.0,20.0,2.0,22.2,-1.02,46.0,0.0],[1.0,87.0,16.0,53.0,31.8,1.14,25.0,0.0],[11.0,104.0,0.0,0.0,22.8,-0.58,43.0,0.0],[1.0,97.0,17.0,58.0,23.8,-0.73,23.0,0.0],[0.0,164.0,43.0,255.0,47.7,0.93,27.0,0.0],[1.0,116.0,0.0,1.0,35.3,0.34,44.0,0.0],[1.0,131.0,14.0,104.0,25.9,-1.24,22.0,0.0],[0.0,96.0,22.0,74.0,27.8,0.11,36.0,0.0],[2.0,0.0,36.0,0.0,31.7,-0.49,24.0,0.0],[5.0,123.0,1.0,1.0,36.1,0.04,33.0,0.0],[7.0,96.0,0.0,1.0,35.8,0.4,58.0,0.0],[10.0,126.0,35.0,106.0,38.1,0.4,47.0,0.0],[0.0,140.0,20.0,83.0,27.5,0.54,22.0,0.0],[3.0,115.0,0.0,1.0,20.8,0.48,23.0,0.0],[4.0,98.0,19.0,76.0,23.0,0.67,27.0,0.0],[4.0,91.0,0.0,2.0,41.1,-0.99,30.0,0.0],[5.0,138.0,0.0,0.0,30.6,0.73,31.0,0.0],[3.0,61.0,27.0,0.0,35.8,0.16,46.0,0.0],[1.0,90.0,12.0,43.0,26.1,1.18,26.0,0.0],[2.0,92.0,0.0,0.0,41.9,1.96,20.0,0.0],[12.0,88.0,40.0,55.0,35.0,-1.78,49.0,0.0],[4.0,159.0,0.0,0.0,28.0,1.26,64.0,0.0],[5.0,104.0,37.0,1.0,39.6,-0.27,66.0,0.0],[4.0,147.0,25.0,292.0,34.8,-1.34,30.0,0.0],[4.0,99.0,28.0,85.0,34.6,0.3,30.0,0.0],[1.0,101.0,18.0,2.0,22.0,0.06,20.0,0.0],[4.0,82.0,15.0,67.0,26.9,-0.01,23.0,0.0],[1.0,119.0,24.0,90.0,0.2,1.9,22.0,0.0],[0.0,82.0,22.0,65.0,37.0,-1.36,21.0,0.0],[1.0,105.0,40.0,96.0,34.7,-0.98,26.0,0.0],[1.0,122.0,43.0,158.0,35.6,-0.04,27.0,0.0],[0.0,97.0,15.0,84.0,25.0,0.83,23.0,0.0],[2.0,88.0,37.0,76.0,38.2,0.6,23.0,0.0],[0.0,92.0,40.0,72.0,43.0,1.76,34.0,0.0],[0.0,106.0,28.0,84.0,32.1,2.94,24.0,0.0],[0.0,105.0,21.0,3.0,19.6,-1.27,23.0,0.0],[0.0,107.0,8.0,183.0,25.3,2.07,22.0,0.0],[1.0,91.0,18.0,59.0,23.4,0.98,25.0,0.0],[1.0,126.0,25.0,109.0,23.0,0.74,26.0,0.0],[1.0,120.0,14.0,48.0,23.2,-0.12,26.0,0.0],[2.0,100.0,24.0,81.0,30.7,0.41,27.0,0.0],[1.0,100.0,29.0,196.0,32.4,-0.2,42.0,0.0],[1.0,132.0,15.0,416.0,24.5,0.2,20.0,0.0],[4.0,116.0,13.0,89.0,20.8,1.96,37.0,0.0],[2.0,128.0,23.0,275.0,27.5,-0.25,26.0,0.0],[3.0,95.0,36.0,113.0,25.2,0.67,39.0,0.0],[1.0,81.0,0.0,0.0,21.3,1.83,25.0,0.0],[6.0,136.0,0.0,0.0,22.1,-0.23,54.0,0.0],[8.0,73.0,24.0,0.0,32.9,0.63,39.0,0.0],[1.0,125.0,32.0,163.0,42.0,1.54,26.0,0.0],[0.0,101.0,0.0,1.0,22.3,1.55,26.0,0.0],[5.0,102.0,39.0,0.0,36.1,1.11,27.0,0.0],[2.0,112.0,30.0,176.0,34.3,0.02,24.0,0.0],[1.0,142.0,21.0,309.0,41.4,0.47,22.0,0.0],[2.0,143.0,20.0,62.0,25.3,0.0,20.0,0.0],[1.0,97.0,21.0,2.0,27.2,0.67,22.0,0.0],[1.0,82.0,1.0,0.0,18.2,2.25,28.0,0.0],[0.0,119.0,41.0,168.0,45.0,-0.7,27.0,0.0],[3.0,94.0,19.0,76.0,27.5,0.73,21.0,0.0],[0.0,103.0,46.0,76.0,41.6,-1.21,21.0,0.0],[0.0,115.0,22.0,1.0,31.7,-0.03,22.0,0.0],[0.0,94.0,0.0,0.0,0.0,0.44,25.0,0.0],[2.0,134.0,45.0,148.0,41.0,0.15,26.0,0.0],[3.0,99.0,2.0,0.0,23.5,0.93,23.0,0.0],[3.0,89.0,17.0,86.0,30.0,0.4,38.0,0.0],[3.0,79.0,10.0,61.0,29.5,-0.34,22.0,0.0],[2.0,138.0,2.0,1.0,27.2,0.79,28.0,0.0],[0.0,91.0,9.0,0.0,23.2,0.79,36.0,0.0],[12.0,140.0,33.0,0.0,36.6,-0.81,41.0,0.0],[4.0,147.0,0.0,0.0,29.6,0.59,29.0,0.0],[2.0,97.0,15.0,1.0,18.3,-0.35,20.0,0.0],[6.0,106.0,0.0,1.0,37.3,-0.01,30.0,0.0],[2.0,84.0,23.0,50.0,33.5,0.95,22.0,0.0],[4.0,118.0,28.0,120.0,34.4,0.03,25.0,0.0],[3.0,100.0,13.0,68.0,25.9,-0.28,28.0,0.0],[0.0,95.0,44.0,92.0,36.2,0.68,25.0,0.0],[0.0,118.0,19.0,65.0,29.6,1.51,27.0,0.0],[0.0,84.0,14.0,95.0,19.0,2.03,22.0,0.0],[0.0,92.0,31.0,211.0,40.6,1.25,26.0,0.0],[2.0,121.0,0.0,2.0,21.1,0.32,74.0,0.0],[3.0,100.0,28.0,104.0,38.3,0.85,25.0,0.0],[1.0,135.0,1.0,0.0,24.9,0.88,63.0,0.0],[4.0,87.0,28.0,72.0,30.5,0.8,25.0,0.0],[7.0,133.0,34.0,61.0,24.6,-0.79,81.0,0.0],[10.0,120.0,22.0,58.0,21.2,0.69,50.0,0.0],[1.0,70.0,1.0,0.0,20.0,0.78,25.0,0.0],[6.0,75.0,41.0,49.0,34.2,1.19,41.0,0.0],[6.0,88.0,31.0,0.0,28.4,-0.36,36.0,0.0],[10.0,115.0,0.0,0.0,22.6,0.26,34.0,0.0],[0.0,123.0,14.0,105.0,22.4,-0.33,19.0,0.0],[0.0,74.0,7.0,36.0,29.2,0.85,21.0,0.0],[1.0,98.0,38.0,100.0,37.6,1.2,26.0,0.0],[5.0,155.0,41.0,141.0,45.6,0.01,28.0,0.0],[1.0,143.0,39.0,0.0,40.5,-1.3,28.0,0.0],[0.0,137.0,36.0,0.0,31.5,-0.77,24.0,0.0],[0.0,120.0,28.0,1.0,38.1,-0.83,22.0,0.0],[7.0,136.0,1.0,0.0,28.4,0.07,50.0,0.0],[4.0,113.0,0.0,0.0,29.7,1.4,23.0,0.0],[0.0,137.0,28.0,1.0,26.9,1.13,59.0,0.0],[7.0,114.0,17.0,112.0,23.7,0.04,32.0,0.0],[8.0,127.0,37.0,75.0,26.1,0.29,38.0,0.0],[3.0,130.0,31.0,1.0,27.1,-0.37,62.0,0.0],[1.0,123.0,36.0,0.0,35.6,0.24,28.0,0.0],[4.0,86.0,23.0,50.0,27.7,0.36,26.0,0.0],[1.0,83.0,29.0,125.0,38.5,-0.61,24.0,0.0],[1.0,138.0,40.0,481.0,38.6,-0.45,21.0,0.0],[1.0,173.0,31.0,265.0,46.5,1.91,57.0,0.0],[4.0,100.0,17.0,1.0,24.7,0.46,27.0,0.0],[8.0,192.0,1.0,1.0,26.5,1.72,66.0,0.0],[1.0,82.0,29.0,66.0,36.5,0.69,25.0,0.0],[3.0,90.0,31.0,0.0,33.7,0.56,43.0,0.0],[4.0,98.0,39.0,0.0,32.2,-0.54,32.0,0.0],[4.0,80.0,1.0,1.0,0.5,-1.62,22.0,0.0],[5.0,166.0,1.0,0.0,26.7,1.67,65.0,0.0],[6.0,109.0,1.0,1.0,26.2,-0.25,27.0,0.0],[2.0,81.0,14.0,76.0,31.0,1.85,24.0,0.0],[7.0,154.0,32.0,192.0,27.8,0.49,39.0,0.0],[2.0,117.0,19.0,70.0,24.4,1.03,22.0,0.0],[2.0,83.0,36.0,0.0,35.4,1.49,28.0,0.0],[8.0,93.0,22.0,81.0,33.5,1.89,40.0,0.0],[4.0,94.0,39.0,1.0,37.8,-1.48,39.0,0.0],[9.0,74.0,1.0,1.0,34.2,1.02,38.0,0.0],[0.0,131.0,22.0,169.0,30.7,0.62,19.0,0.0],[3.0,85.0,23.0,76.0,30.0,2.51,20.0,0.0],[8.0,119.0,0.0,0.0,24.9,1.5,63.0,0.0],[1.0,141.0,18.0,211.0,22.4,0.58,20.0,0.0],[8.0,91.0,1.0,1.0,25.1,1.16,58.0,0.0],[3.0,89.0,0.0,0.0,26.3,1.26,22.0,0.0],[1.0,98.0,19.0,86.0,24.0,-0.24,23.0,0.0],[7.0,126.0,1.0,0.0,37.9,1.23,51.0,0.0],[14.0,77.0,0.0,0.0,32.8,0.2,41.0,0.0],[6.0,127.0,7.0,327.0,20.7,-0.41,59.0,0.0],[2.0,68.0,32.0,67.0,24.0,0.35,25.0,0.0],[3.0,123.0,34.0,130.0,32.3,1.21,26.0,0.0],[7.0,112.0,0.0,1.0,0.0,1.95,27.0,0.0],[2.0,126.0,0.0,1.0,32.7,-0.65,24.0,0.0],[4.0,88.0,19.0,1.0,22.2,1.69,21.0,0.0],[1.0,98.0,19.0,81.0,17.8,0.84,21.0,0.0],[2.0,116.0,14.0,105.0,25.6,-0.7,22.0,0.0],[0.0,117.0,32.0,189.0,32.5,-0.86,23.0,0.0],[2.0,111.0,0.0,0.0,23.8,0.32,32.0,0.0],[3.0,122.0,17.0,105.0,30.1,2.87,22.0,0.0],[0.0,106.0,1.0,1.0,45.7,1.01,23.0,0.0],[2.0,86.0,51.0,65.0,41.9,3.68,29.0,0.0],[6.0,91.0,0.0,0.0,29.3,-0.72,32.0,0.0],[1.0,78.0,30.0,55.0,35.8,0.2,25.0,0.0],[0.0,103.0,0.0,2.0,29.0,2.38,45.0,0.0],[1.0,58.0,2.0,0.0,21.3,0.12,68.0,0.0],[2.0,127.0,37.0,211.0,35.6,0.65,24.0,0.0],[4.0,84.0,24.0,57.0,39.7,0.29,24.0,0.0],[3.0,88.0,29.0,75.0,33.1,1.77,29.0,0.0],[3.0,132.0,19.0,168.0,33.4,-0.75,28.0,0.0],[2.0,163.0,41.0,66.0,32.8,0.07,51.0,0.0],[4.0,191.0,32.0,0.0,28.6,0.95,36.0,0.0],[1.0,115.0,28.0,0.0,26.3,-2.08,20.0,0.0],[3.0,84.0,31.0,105.0,31.6,1.29,25.0,0.0],[7.0,114.0,0.0,1.0,30.2,0.27,66.0,0.0],[1.0,88.0,25.0,43.0,29.4,-0.07,22.0,0.0],[1.0,81.0,22.0,117.0,37.7,1.25,28.0,0.0],[7.0,123.0,34.0,214.0,25.5,3.01,37.0,0.0],[2.0,98.0,40.0,0.0,37.2,0.27,30.0,0.0],[9.0,111.0,0.0,0.0,27.3,1.58,57.0,0.0],[12.0,101.0,39.0,2.0,45.7,-0.35,43.0,0.0],[12.0,86.0,1.0,0.0,30.7,0.58,36.0,0.0],[0.0,89.0,35.0,78.0,38.4,0.79,24.0,0.0],[4.0,99.0,19.0,54.0,25.9,1.73,33.0,0.0],[0.0,90.0,0.0,0.0,32.4,2.19,26.0,0.0],[2.0,95.0,14.0,87.0,26.2,-0.16,22.0,0.0],[2.0,99.0,32.0,17.0,37.9,0.98,20.0,0.0],[6.0,91.0,34.0,126.0,31.9,-0.8,44.0,0.0],[2.0,154.0,31.0,126.0,31.9,0.0,38.0,0.0],[4.0,80.0,0.0,0.0,31.4,1.88,40.0,0.0],[2.0,129.0,0.0,0.0,22.2,-1.35,22.0,0.0],[4.0,112.0,32.0,45.0,28.7,0.14,22.0,0.0],[2.0,99.0,16.0,121.0,34.7,0.29,20.0,0.0],[2.0,145.0,31.0,329.0,28.7,-0.98,23.0,0.0],[0.0,120.0,46.0,63.0,35.2,0.4,24.0,0.0],[8.0,109.0,20.0,129.0,24.0,0.48,35.0,0.0],[9.0,133.0,0.0,0.0,26.4,-2.05,36.0,0.0],[6.0,106.0,27.0,0.0,25.5,-0.55,27.0,0.0],[11.0,120.0,16.0,0.0,27.2,-1.05,62.0,0.0],[8.0,100.0,0.0,2.0,39.4,0.17,41.0,0.0],[0.0,93.0,10.0,0.0,22.6,1.16,22.0,0.0],[5.0,102.0,0.0,0.0,22.1,-0.3,31.0,0.0],[0.0,73.0,1.0,0.0,21.8,0.51,24.0,0.0],[3.0,113.0,52.0,141.0,40.0,-0.55,24.0,0.0],[2.0,82.0,20.0,115.0,28.2,0.98,25.0,0.0],[5.0,123.0,45.0,230.0,32.7,-0.16,33.0,0.0],[0.0,67.0,0.0,0.0,45.2,-0.23,47.0,0.0],[1.0,90.0,21.0,25.0,28.4,0.19,21.0,0.0],[1.0,109.0,18.0,120.0,22.9,0.67,26.0,0.0],[3.0,108.0,18.0,1.0,26.1,-0.61,24.0,0.0],[6.0,96.0,1.0,0.0,22.4,-0.93,27.0,0.0],[1.0,123.0,36.0,0.0,27.9,0.54,31.0,0.0],[0.0,123.0,34.0,0.0,36.7,1.2,21.0,0.0],[2.0,93.0,24.0,38.0,19.6,1.98,26.0,0.0],[2.0,152.0,38.0,271.0,44.0,-0.61,26.0,0.0],[3.0,112.0,11.0,181.0,22.9,0.07,23.0,0.0],[3.0,106.0,20.0,158.0,30.8,0.71,23.0,0.0],[6.0,106.0,29.0,0.0,32.8,0.9,27.0,0.0],[4.0,108.0,2.0,0.0,27.8,2.13,28.0,0.0],[9.0,119.0,0.0,1.0,27.5,-0.27,30.0,0.0],[2.0,67.0,13.0,15.0,20.8,-0.11,26.0,0.0],[2.0,113.0,42.0,160.0,39.8,-0.07,29.0,0.0],[1.0,93.0,20.0,0.0,21.0,3.18,28.0,0.0],[5.0,183.0,0.0,0.0,42.2,3.03,46.0,0.0],[0.0,94.0,27.0,116.0,43.3,-1.35,21.0,0.0],[3.0,106.0,1.0,0.0,30.9,-0.89,20.0,0.0],[3.0,89.0,47.0,55.0,36.7,0.18,30.0,0.0],[1.0,124.0,1.0,0.0,23.8,0.24,22.0,0.0],[1.0,132.0,2.0,1.0,32.3,-0.08,20.0,0.0],[5.0,129.0,0.0,1.0,31.9,-0.14,45.0,0.0],[3.0,94.0,24.0,0.0,24.4,-0.41,20.0,0.0],[1.0,102.0,39.0,90.0,36.1,-0.49,24.0,0.0],[3.0,111.0,0.0,0.0,26.8,-0.14,23.0,0.0],[0.0,128.0,17.0,182.0,28.4,0.17,22.0,0.0],[10.0,93.0,0.0,2.0,26.7,-0.31,31.0,0.0],[6.0,104.0,1.0,0.0,28.0,0.24,48.0,0.0],[2.0,92.0,16.0,65.0,32.1,0.48,23.0,0.0],[1.0,100.0,13.0,46.0,19.8,0.68,27.0,0.0],[2.0,103.0,18.0,105.0,28.0,2.72,27.0,0.0],[4.0,129.0,0.0,0.0,35.8,2.22,24.0,0.0],[4.0,91.0,0.0,3.0,30.2,-0.63,30.0,0.0],[5.0,103.0,30.0,152.0,27.2,-0.98,27.0,0.0],[0.0,157.0,35.0,441.0,38.6,0.85,29.0,0.0],[1.0,108.0,25.0,0.0,26.7,0.84,23.0,0.0],[1.0,90.0,26.0,101.0,25.8,0.35,23.0,0.0],[1.0,118.0,25.0,106.0,34.9,2.06,28.0,0.0],[4.0,122.0,40.0,78.0,33.7,0.87,28.0,0.0],[4.0,119.0,0.0,1.0,26.7,1.23,26.0,0.0],[0.0,106.0,29.0,134.0,33.9,-0.84,23.0,0.0],[2.0,100.0,33.0,90.0,23.9,-0.78,22.0,0.0],[2.0,120.0,48.0,202.0,39.3,1.53,42.0,0.0],[12.0,129.0,0.0,0.0,39.3,0.14,50.0,0.0],[10.0,162.0,0.0,0.0,27.1,-1.23,54.0,0.0],[2.0,112.0,45.0,133.0,35.7,0.07,24.0,0.0],[7.0,96.0,33.0,190.0,34.4,1.06,43.0,0.0],[10.0,158.0,30.0,101.0,31.0,-0.61,45.0,0.0],[7.0,165.0,26.0,168.0,34.5,1.07,47.0,0.0],[2.0,99.0,10.0,0.0,25.3,-0.72,21.0,0.0],[10.0,70.0,22.0,49.0,37.1,0.27,49.0,0.0],[4.0,124.0,34.0,238.0,58.0,1.7,23.0,0.0],[7.0,91.0,0.0,0.0,34.4,-1.05,67.0,0.0],[0.0,93.0,0.0,2.0,32.6,-2.0,25.0,0.0],[2.0,102.0,16.0,265.0,25.2,-0.53,23.0,0.0],[1.0,55.0,29.0,45.0,23.3,-1.48,24.0,0.0],[0.0,94.0,39.0,105.0,45.8,1.29,23.0,0.0],[5.0,134.0,2.0,1.0,0.3,-0.37,70.0,0.0],[0.0,130.0,27.0,204.0,33.9,0.14,25.0,0.0],[4.0,131.0,0.0,1.0,22.5,0.26,22.0,0.0],[1.0,106.0,18.0,1.0,26.8,0.34,30.0,0.0],[1.0,139.0,27.0,182.0,25.1,1.89,22.0,0.0],[7.0,107.0,1.0,0.0,24.3,-1.72,34.0,0.0],[2.0,121.0,33.0,95.0,38.5,0.88,24.0,0.0],[1.0,91.0,1.0,0.0,23.0,1.76,27.0,0.0],[1.0,100.0,1.0,0.0,24.6,-0.37,22.0,0.0],[4.0,126.0,12.0,155.0,34.4,-0.37,28.0,0.0],[4.0,118.0,0.0,0.0,43.2,1.18,26.0,0.0],[3.0,121.0,27.0,200.0,34.6,0.48,26.0,0.0],[1.0,129.0,1.0,1.0,39.3,-0.63,41.0,0.0],[5.0,108.0,20.0,101.0,28.1,-0.38,27.0,0.0],[6.0,80.0,37.0,0.0,40.1,0.39,27.0,0.0],[2.0,127.0,22.0,334.0,34.4,0.91,22.0,0.0],[4.0,158.0,13.0,386.0,30.9,0.49,23.0,0.0],[4.0,125.0,27.0,23.0,31.1,1.38,39.0,0.0],[0.0,136.0,21.0,293.0,26.8,1.32,20.0,0.0],[2.0,103.0,1.0,0.0,28.2,-0.01,33.0,0.0],[11.0,91.0,18.0,0.0,23.1,0.41,55.0,0.0],[3.0,108.0,46.0,179.0,34.1,0.12,23.0,0.0],[4.0,82.0,21.0,0.0,29.1,1.28,34.0,0.0],[0.0,113.0,36.0,200.0,38.0,-0.74,21.0,0.0],[5.0,117.0,31.0,105.0,38.1,1.47,42.0,0.0],[2.0,109.0,1.0,1.0,33.4,-0.07,44.0,0.0],[2.0,111.0,40.0,1.0,39.5,0.85,39.0,0.0],[2.0,117.0,29.0,182.0,35.7,1.6,24.0,0.0],[0.0,143.0,26.0,1.0,31.9,0.82,22.0,0.0],[0.0,175.0,0.0,0.0,20.5,1.01,22.0,0.0],[0.0,91.0,2.0,0.0,31.3,-0.21,21.0,0.0],[3.0,106.0,26.0,167.0,29.6,2.03,23.0,0.0],[3.0,106.0,2.0,0.0,22.8,0.66,53.0,0.0],[4.0,96.0,33.0,0.0,34.7,2.19,28.0,0.0],[0.0,126.0,27.0,120.0,27.3,1.47,20.0,0.0],[7.0,65.0,24.0,2.0,32.7,-0.01,44.0,0.0],[2.0,100.0,17.0,161.0,37.6,1.38,20.0,0.0],[2.0,103.0,20.0,95.0,31.0,-1.91,26.0,0.0],[0.0,110.0,21.0,118.0,27.7,-0.1,23.0,0.0],[11.0,152.0,37.0,141.0,40.3,0.42,39.0,0.0],[12.0,101.0,35.0,104.0,30.4,0.85,45.0,0.0],[1.0,82.0,41.0,59.0,46.0,1.75,32.0,0.0],[1.0,122.0,39.0,76.0,39.1,-0.92,29.0,0.0],[0.0,108.0,23.0,0.0,26.1,-1.43,24.0,0.0],[6.0,136.0,42.0,0.0,31.5,0.79,38.0,0.0],[1.0,107.0,0.0,0.0,37.0,0.87,26.0,0.0],[1.0,89.0,25.0,17.0,26.6,1.47,20.0,0.0],[11.0,90.0,0.0,1.0,22.8,0.14,32.0,0.0],[9.0,102.0,51.0,181.0,33.2,1.11,60.0,0.0],[1.0,121.0,25.0,0.0,37.8,0.53,25.0,0.0],[5.0,121.0,23.0,113.0,26.3,-0.14,30.0,0.0],[1.0,93.0,32.0,0.0,30.8,1.8,24.0,0.0]],\"hovertemplate\":\"Outcome=%{customdata[7]}\\u003cbr\\u003eBloodPressure=%{x}\\u003cbr\\u003ePregnancies=%{customdata[0]}\\u003cbr\\u003eGlucose=%{customdata[1]}\\u003cbr\\u003eSkinThickness=%{customdata[2]}\\u003cbr\\u003eInsulin=%{customdata[3]}\\u003cbr\\u003eBMI=%{customdata[4]}\\u003cbr\\u003eDiabetesPedigreeFunction=%{customdata[5]}\\u003cbr\\u003eAge=%{customdata[6]}\\u003cextra\\u003e\\u003c\\u002fextra\\u003e\",\"legendgroup\":\"0\",\"marker\":{\"color\":\"#ab63fa\"},\"name\":\"0\",\"offsetgroup\":\"0\",\"scalegroup\":\"x\",\"showlegend\":false,\"x\":[66,64,74,2,93,79,30,88,83,67,81,92,77,57,91,76,61,76,63,85,93,64,55,69,0,79,48,66,65,49,88,82,63,0,63,57,75,93,68,86,66,87,74,48,78,72,66,43,0,78,64,75,71,67,68,55,80,78,83,72,60,49,49,62,96,71,67,55,120,58,58,77,62,49,61,77,65,76,82,70,59,76,70,59,71,61,79,72,77,84,50,61,74,79,64,77,71,72,64,82,52,56,73,89,73,80,64,66,68,66,89,0,60,63,78,78,81,64,74,59,74,61,69,54,58,81,81,69,68,73,70,64,61,83,96,67,0,60,65,79,76,70,80,80,69,68,76,65,70,76,67,89,72,87,51,85,80,67,55,65,49,70,70,80,75,64,51,61,77,78,70,70,62,74,62,76,87,74,84,56,70,89,50,60,85,73,83,76,78,69,65,69,51,66,79,68,58,77,72,70,70,72,57,80,60,78,0,71,73,68,88,71,88,45,1,61,81,83,81,63,77,75,70,108,72,56,65,88,64,64,57,53,82,60,101,72,66,61,63,69,53,70,68,66,71,58,56,71,61,78,48,61,92,73,84,75,69,69,88,67,65,64,0,95,0,74,74,73,68,87,75,70,86,66,64,73,80,73,64,68,1,53,53,68,75,71,62,71,79,97,55,52,65,77,83,69,65,90,62,84,76,74,85,88,60,82,63,81,71,79,65,89,69,0,74,68,72,75,92,71,63,78,82,60,50,78,64,68,61,53,86,60,91,70,80,0,58,59,64,74,66,65,60,76,64,0,57,90,61,79,91,77,68,83,110,70,69,87,61,63,70,71,76,65,74,68,62,79,54,73,61,72,68,94,59,61,85,44,45,70,62,78,76,57,65,0,76,51,73,77,23,37,89,1,74,62,62,81,61,54,81,73,95,61,85,76,92,71,62,88,69,77,81,67,77,61,82,63,74,76,74,87,70,0,73,74,60,54,60,74,54,70,59,81,105,85,81,58,78,68,57,107,101,83,62,59,55,63,82,74,63,50,74,79,71,61,0,88,71,77,0,75,78,46,63,77,57,75,73,60,86,65,87,91,78,79,85,88,52,57,75,63,89,73,61,44,58,88,86,74,80,63,90,76,58,62,77,69,72,70],\"xaxis\":\"x2\",\"yaxis\":\"y2\",\"type\":\"violin\"}],                        {\"template\":{\"data\":{\"barpolar\":[{\"marker\":{\"line\":{\"color\":\"rgb(17,17,17)\",\"width\":0.5},\"pattern\":{\"fillmode\":\"overlay\",\"size\":10,\"solidity\":0.2}},\"type\":\"barpolar\"}],\"bar\":[{\"error_x\":{\"color\":\"#f2f5fa\"},\"error_y\":{\"color\":\"#f2f5fa\"},\"marker\":{\"line\":{\"color\":\"rgb(17,17,17)\",\"width\":0.5},\"pattern\":{\"fillmode\":\"overlay\",\"size\":10,\"solidity\":0.2}},\"type\":\"bar\"}],\"carpet\":[{\"aaxis\":{\"endlinecolor\":\"#A2B1C6\",\"gridcolor\":\"#506784\",\"linecolor\":\"#506784\",\"minorgridcolor\":\"#506784\",\"startlinecolor\":\"#A2B1C6\"},\"baxis\":{\"endlinecolor\":\"#A2B1C6\",\"gridcolor\":\"#506784\",\"linecolor\":\"#506784\",\"minorgridcolor\":\"#506784\",\"startlinecolor\":\"#A2B1C6\"},\"type\":\"carpet\"}],\"choropleth\":[{\"colorbar\":{\"outlinewidth\":0,\"ticks\":\"\"},\"type\":\"choropleth\"}],\"contourcarpet\":[{\"colorbar\":{\"outlinewidth\":0,\"ticks\":\"\"},\"type\":\"contourcarpet\"}],\"contour\":[{\"colorbar\":{\"outlinewidth\":0,\"ticks\":\"\"},\"colorscale\":[[0.0,\"#0d0887\"],[0.1111111111111111,\"#46039f\"],[0.2222222222222222,\"#7201a8\"],[0.3333333333333333,\"#9c179e\"],[0.4444444444444444,\"#bd3786\"],[0.5555555555555556,\"#d8576b\"],[0.6666666666666666,\"#ed7953\"],[0.7777777777777778,\"#fb9f3a\"],[0.8888888888888888,\"#fdca26\"],[1.0,\"#f0f921\"]],\"type\":\"contour\"}],\"heatmapgl\":[{\"colorbar\":{\"outlinewidth\":0,\"ticks\":\"\"},\"colorscale\":[[0.0,\"#0d0887\"],[0.1111111111111111,\"#46039f\"],[0.2222222222222222,\"#7201a8\"],[0.3333333333333333,\"#9c179e\"],[0.4444444444444444,\"#bd3786\"],[0.5555555555555556,\"#d8576b\"],[0.6666666666666666,\"#ed7953\"],[0.7777777777777778,\"#fb9f3a\"],[0.8888888888888888,\"#fdca26\"],[1.0,\"#f0f921\"]],\"type\":\"heatmapgl\"}],\"heatmap\":[{\"colorbar\":{\"outlinewidth\":0,\"ticks\":\"\"},\"colorscale\":[[0.0,\"#0d0887\"],[0.1111111111111111,\"#46039f\"],[0.2222222222222222,\"#7201a8\"],[0.3333333333333333,\"#9c179e\"],[0.4444444444444444,\"#bd3786\"],[0.5555555555555556,\"#d8576b\"],[0.6666666666666666,\"#ed7953\"],[0.7777777777777778,\"#fb9f3a\"],[0.8888888888888888,\"#fdca26\"],[1.0,\"#f0f921\"]],\"type\":\"heatmap\"}],\"histogram2dcontour\":[{\"colorbar\":{\"outlinewidth\":0,\"ticks\":\"\"},\"colorscale\":[[0.0,\"#0d0887\"],[0.1111111111111111,\"#46039f\"],[0.2222222222222222,\"#7201a8\"],[0.3333333333333333,\"#9c179e\"],[0.4444444444444444,\"#bd3786\"],[0.5555555555555556,\"#d8576b\"],[0.6666666666666666,\"#ed7953\"],[0.7777777777777778,\"#fb9f3a\"],[0.8888888888888888,\"#fdca26\"],[1.0,\"#f0f921\"]],\"type\":\"histogram2dcontour\"}],\"histogram2d\":[{\"colorbar\":{\"outlinewidth\":0,\"ticks\":\"\"},\"colorscale\":[[0.0,\"#0d0887\"],[0.1111111111111111,\"#46039f\"],[0.2222222222222222,\"#7201a8\"],[0.3333333333333333,\"#9c179e\"],[0.4444444444444444,\"#bd3786\"],[0.5555555555555556,\"#d8576b\"],[0.6666666666666666,\"#ed7953\"],[0.7777777777777778,\"#fb9f3a\"],[0.8888888888888888,\"#fdca26\"],[1.0,\"#f0f921\"]],\"type\":\"histogram2d\"}],\"histogram\":[{\"marker\":{\"pattern\":{\"fillmode\":\"overlay\",\"size\":10,\"solidity\":0.2}},\"type\":\"histogram\"}],\"mesh3d\":[{\"colorbar\":{\"outlinewidth\":0,\"ticks\":\"\"},\"type\":\"mesh3d\"}],\"parcoords\":[{\"line\":{\"colorbar\":{\"outlinewidth\":0,\"ticks\":\"\"}},\"type\":\"parcoords\"}],\"pie\":[{\"automargin\":true,\"type\":\"pie\"}],\"scatter3d\":[{\"line\":{\"colorbar\":{\"outlinewidth\":0,\"ticks\":\"\"}},\"marker\":{\"colorbar\":{\"outlinewidth\":0,\"ticks\":\"\"}},\"type\":\"scatter3d\"}],\"scattercarpet\":[{\"marker\":{\"colorbar\":{\"outlinewidth\":0,\"ticks\":\"\"}},\"type\":\"scattercarpet\"}],\"scattergeo\":[{\"marker\":{\"colorbar\":{\"outlinewidth\":0,\"ticks\":\"\"}},\"type\":\"scattergeo\"}],\"scattergl\":[{\"marker\":{\"line\":{\"color\":\"#283442\"}},\"type\":\"scattergl\"}],\"scattermapbox\":[{\"marker\":{\"colorbar\":{\"outlinewidth\":0,\"ticks\":\"\"}},\"type\":\"scattermapbox\"}],\"scatterpolargl\":[{\"marker\":{\"colorbar\":{\"outlinewidth\":0,\"ticks\":\"\"}},\"type\":\"scatterpolargl\"}],\"scatterpolar\":[{\"marker\":{\"colorbar\":{\"outlinewidth\":0,\"ticks\":\"\"}},\"type\":\"scatterpolar\"}],\"scatter\":[{\"marker\":{\"line\":{\"color\":\"#283442\"}},\"type\":\"scatter\"}],\"scatterternary\":[{\"marker\":{\"colorbar\":{\"outlinewidth\":0,\"ticks\":\"\"}},\"type\":\"scatterternary\"}],\"surface\":[{\"colorbar\":{\"outlinewidth\":0,\"ticks\":\"\"},\"colorscale\":[[0.0,\"#0d0887\"],[0.1111111111111111,\"#46039f\"],[0.2222222222222222,\"#7201a8\"],[0.3333333333333333,\"#9c179e\"],[0.4444444444444444,\"#bd3786\"],[0.5555555555555556,\"#d8576b\"],[0.6666666666666666,\"#ed7953\"],[0.7777777777777778,\"#fb9f3a\"],[0.8888888888888888,\"#fdca26\"],[1.0,\"#f0f921\"]],\"type\":\"surface\"}],\"table\":[{\"cells\":{\"fill\":{\"color\":\"#506784\"},\"line\":{\"color\":\"rgb(17,17,17)\"}},\"header\":{\"fill\":{\"color\":\"#2a3f5f\"},\"line\":{\"color\":\"rgb(17,17,17)\"}},\"type\":\"table\"}]},\"layout\":{\"annotationdefaults\":{\"arrowcolor\":\"#f2f5fa\",\"arrowhead\":0,\"arrowwidth\":1},\"autotypenumbers\":\"strict\",\"coloraxis\":{\"colorbar\":{\"outlinewidth\":0,\"ticks\":\"\"}},\"colorscale\":{\"diverging\":[[0,\"#8e0152\"],[0.1,\"#c51b7d\"],[0.2,\"#de77ae\"],[0.3,\"#f1b6da\"],[0.4,\"#fde0ef\"],[0.5,\"#f7f7f7\"],[0.6,\"#e6f5d0\"],[0.7,\"#b8e186\"],[0.8,\"#7fbc41\"],[0.9,\"#4d9221\"],[1,\"#276419\"]],\"sequential\":[[0.0,\"#0d0887\"],[0.1111111111111111,\"#46039f\"],[0.2222222222222222,\"#7201a8\"],[0.3333333333333333,\"#9c179e\"],[0.4444444444444444,\"#bd3786\"],[0.5555555555555556,\"#d8576b\"],[0.6666666666666666,\"#ed7953\"],[0.7777777777777778,\"#fb9f3a\"],[0.8888888888888888,\"#fdca26\"],[1.0,\"#f0f921\"]],\"sequentialminus\":[[0.0,\"#0d0887\"],[0.1111111111111111,\"#46039f\"],[0.2222222222222222,\"#7201a8\"],[0.3333333333333333,\"#9c179e\"],[0.4444444444444444,\"#bd3786\"],[0.5555555555555556,\"#d8576b\"],[0.6666666666666666,\"#ed7953\"],[0.7777777777777778,\"#fb9f3a\"],[0.8888888888888888,\"#fdca26\"],[1.0,\"#f0f921\"]]},\"colorway\":[\"#636efa\",\"#EF553B\",\"#00cc96\",\"#ab63fa\",\"#FFA15A\",\"#19d3f3\",\"#FF6692\",\"#B6E880\",\"#FF97FF\",\"#FECB52\"],\"font\":{\"color\":\"#f2f5fa\"},\"geo\":{\"bgcolor\":\"rgb(17,17,17)\",\"lakecolor\":\"rgb(17,17,17)\",\"landcolor\":\"rgb(17,17,17)\",\"showlakes\":true,\"showland\":true,\"subunitcolor\":\"#506784\"},\"hoverlabel\":{\"align\":\"left\"},\"hovermode\":\"closest\",\"mapbox\":{\"style\":\"dark\"},\"paper_bgcolor\":\"rgb(17,17,17)\",\"plot_bgcolor\":\"rgb(17,17,17)\",\"polar\":{\"angularaxis\":{\"gridcolor\":\"#506784\",\"linecolor\":\"#506784\",\"ticks\":\"\"},\"bgcolor\":\"rgb(17,17,17)\",\"radialaxis\":{\"gridcolor\":\"#506784\",\"linecolor\":\"#506784\",\"ticks\":\"\"}},\"scene\":{\"xaxis\":{\"backgroundcolor\":\"rgb(17,17,17)\",\"gridcolor\":\"#506784\",\"gridwidth\":2,\"linecolor\":\"#506784\",\"showbackground\":true,\"ticks\":\"\",\"zerolinecolor\":\"#C8D4E3\"},\"yaxis\":{\"backgroundcolor\":\"rgb(17,17,17)\",\"gridcolor\":\"#506784\",\"gridwidth\":2,\"linecolor\":\"#506784\",\"showbackground\":true,\"ticks\":\"\",\"zerolinecolor\":\"#C8D4E3\"},\"zaxis\":{\"backgroundcolor\":\"rgb(17,17,17)\",\"gridcolor\":\"#506784\",\"gridwidth\":2,\"linecolor\":\"#506784\",\"showbackground\":true,\"ticks\":\"\",\"zerolinecolor\":\"#C8D4E3\"}},\"shapedefaults\":{\"line\":{\"color\":\"#f2f5fa\"}},\"sliderdefaults\":{\"bgcolor\":\"#C8D4E3\",\"bordercolor\":\"rgb(17,17,17)\",\"borderwidth\":1,\"tickwidth\":0},\"ternary\":{\"aaxis\":{\"gridcolor\":\"#506784\",\"linecolor\":\"#506784\",\"ticks\":\"\"},\"baxis\":{\"gridcolor\":\"#506784\",\"linecolor\":\"#506784\",\"ticks\":\"\"},\"bgcolor\":\"rgb(17,17,17)\",\"caxis\":{\"gridcolor\":\"#506784\",\"linecolor\":\"#506784\",\"ticks\":\"\"}},\"title\":{\"x\":0.05},\"updatemenudefaults\":{\"bgcolor\":\"#506784\",\"borderwidth\":0},\"xaxis\":{\"automargin\":true,\"gridcolor\":\"#283442\",\"linecolor\":\"#506784\",\"ticks\":\"\",\"title\":{\"standoff\":15},\"zerolinecolor\":\"#283442\",\"zerolinewidth\":2},\"yaxis\":{\"automargin\":true,\"gridcolor\":\"#283442\",\"linecolor\":\"#506784\",\"ticks\":\"\",\"title\":{\"standoff\":15},\"zerolinecolor\":\"#283442\",\"zerolinewidth\":2}}},\"xaxis\":{\"anchor\":\"y\",\"domain\":[0.0,1.0],\"title\":{\"text\":\"BloodPressure\"}},\"yaxis\":{\"anchor\":\"x\",\"domain\":[0.0,0.7326],\"title\":{\"text\":\"count\"}},\"xaxis2\":{\"anchor\":\"y2\",\"domain\":[0.0,1.0],\"matches\":\"x\",\"showticklabels\":false,\"showgrid\":true},\"yaxis2\":{\"anchor\":\"x2\",\"domain\":[0.7426,1.0],\"matches\":\"y2\",\"showticklabels\":false,\"showline\":false,\"ticks\":\"\",\"showgrid\":false},\"legend\":{\"title\":{\"text\":\"Outcome\"},\"tracegroupgap\":0},\"title\":{\"text\":\"Distribution of CREATININE BloodPressure Vs Outcome\"},\"barmode\":\"relative\"},                        {\"responsive\": true}                    ).then(function(){\n",
              "                            \n",
              "var gd = document.getElementById('c9f76c49-bdbb-4686-a095-5fb4f98d8a43');\n",
              "var x = new MutationObserver(function (mutations, observer) {{\n",
              "        var display = window.getComputedStyle(gd).display;\n",
              "        if (!display || display === 'none') {{\n",
              "            console.log([gd, 'removed!']);\n",
              "            Plotly.purge(gd);\n",
              "            observer.disconnect();\n",
              "        }}\n",
              "}});\n",
              "\n",
              "// Listen for the removal of the full notebook cells\n",
              "var notebookContainer = gd.closest('#notebook-container');\n",
              "if (notebookContainer) {{\n",
              "    x.observe(notebookContainer, {childList: true});\n",
              "}}\n",
              "\n",
              "// Listen for the clearing of the current output cell\n",
              "var outputEl = gd.closest('.output');\n",
              "if (outputEl) {{\n",
              "    x.observe(outputEl, {childList: true});\n",
              "}}\n",
              "\n",
              "                        })                };                            </script>        </div>\n",
              "</body>\n",
              "</html>"
            ]
          },
          "metadata": {}
        }
      ]
    },
    {
      "cell_type": "markdown",
      "source": [
        "Tương tự, biểu đồ về huyết áp cũng cho thấy sự liên quan với nguy cơ mắc bệnh. Nhóm người có huyết áp nằm trong khoảng 60 đến 80 có tỷ lệ mắc bệnh tiểu đường cao hơn hẳn. Ngược lại, những người có huyết áp rất thấp hoặc rất cao lại có xu hướng ít mắc bệnh hơn. Điều này gợi ý rằng huyết áp cũng là một yếu tố đáng quan tâm trong việc đánh giá rủi ro tiểu đường."
      ],
      "metadata": {
        "id": "ZU-wbqsD23Uc"
      }
    },
    {
      "cell_type": "markdown",
      "source": [
        "Trực quan hóa về Nồng độ insulin huyết thanh"
      ],
      "metadata": {
        "id": "xYmecUE5BleW"
      }
    },
    {
      "cell_type": "code",
      "source": [
        "import plotly.graph_objects as go\n",
        "\n",
        "\n",
        "fig = go.Figure()\n",
        "fig.add_trace(go.Histogram(\n",
        "    x = df['Insulin'],\n",
        "    xbins=dict( # bins used for histogram\n",
        "        start=0,\n",
        "        end=199,\n",
        "        size=15\n",
        "    ),\n",
        "    marker_color='#1f77b4',  # Column color\n",
        "    opacity=1\n",
        "))\n",
        "\n",
        "fig.update_layout(\n",
        "    title_text='Insulin DISTRIBUTION',\n",
        "    xaxis_title_text='Insulin',\n",
        "    yaxis_title_text='COUNT',\n",
        "    bargap=0.05,\n",
        "    xaxis={'showgrid': False},\n",
        "    yaxis={'showgrid': False},\n",
        "    template='plotly_dark',\n",
        "    plot_bgcolor='black',  # Background color\n",
        "    paper_bgcolor='black'  # Paper background color\n",
        ")\n",
        "\n",
        "fig.show()"
      ],
      "metadata": {
        "colab": {
          "base_uri": "https://localhost:8080/",
          "height": 542
        },
        "id": "y5MfjpXA2DgS",
        "outputId": "7a400125-6445-4bce-91cd-ebd7c592ea70"
      },
      "execution_count": null,
      "outputs": [
        {
          "output_type": "display_data",
          "data": {
            "text/html": [
              "<html>\n",
              "<head><meta charset=\"utf-8\" /></head>\n",
              "<body>\n",
              "    <div>            <script src=\"https://cdnjs.cloudflare.com/ajax/libs/mathjax/2.7.5/MathJax.js?config=TeX-AMS-MML_SVG\"></script><script type=\"text/javascript\">if (window.MathJax && window.MathJax.Hub && window.MathJax.Hub.Config) {window.MathJax.Hub.Config({SVG: {font: \"STIX-Web\"}});}</script>                <script type=\"text/javascript\">window.PlotlyConfig = {MathJaxConfig: 'local'};</script>\n",
              "        <script charset=\"utf-8\" src=\"https://cdn.plot.ly/plotly-2.24.1.min.js\"></script>                <div id=\"9e1e67cd-367e-4222-a864-4826ec0948d1\" class=\"plotly-graph-div\" style=\"height:525px; width:100%;\"></div>            <script type=\"text/javascript\">                                    window.PLOTLYENV=window.PLOTLYENV || {};                                    if (document.getElementById(\"9e1e67cd-367e-4222-a864-4826ec0948d1\")) {                    Plotly.newPlot(                        \"9e1e67cd-367e-4222-a864-4826ec0948d1\",                        [{\"marker\":{\"color\":\"#1f77b4\"},\"opacity\":1,\"x\":[0,1,0,95,168,0,88,1,543,0,0,0,0,846,174,0,231,0,83,97,235,0,0,0,145,115,0,140,110,1,0,245,55,0,0,192,0,0,1,208,71,1,1,241,0,1,0,1,0,1,84,37,24,302,340,0,304,109,0,141,1,0,0,128,0,0,0,0,38,98,91,140,0,270,0,0,0,0,0,0,0,0,71,2,0,126,1,72,112,0,0,175,48,0,62,228,0,75,64,221,0,0,0,40,0,152,0,140,18,36,135,496,36,0,174,1,0,1,1,51,99,0,100,1,0,98,135,96,144,0,169,0,225,0,50,140,52,92,0,325,2,0,63,0,285,0,0,120,1,0,205,0,155,485,0,0,94,134,53,115,1,106,285,0,0,156,0,1,1,78,0,130,0,49,56,130,0,130,1,0,0,91,23,0,0,0,494,57,114,161,0,96,0,0,0,210,0,46,98,319,0,0,0,43,190,1,279,0,86,0,0,0,0,128,176,270,129,121,0,1,477,1,0,190,57,31,0,0,743,54,1,370,37,1,45,0,190,1,0,1,1,88,2,176,194,0,0,679,402,0,0,0,55,0,256,0,0,0,375,148,130,1,1,1,2,67,0,0,0,0,1,55,0,45,1,57,0,116,1,278,0,121,155,0,0,134,547,220,51,75,41,73,183,192,1,120,360,218,185,0,0,135,42,0,0,105,129,147,179,206,1,148,96,85,0,94,63,0,140,1,232,0,0,30,0,169,156,0,119,66,2,53,0,0,58,255,1,1,170,0,104,74,0,1,1,106,83,1,76,0,2,0,0,43,0,2,166,0,55,249,323,0,1,0,292,85,0,2,67,140,465,90,65,96,158,325,84,76,0,72,84,3,183,59,109,48,0,2,285,81,196,1,416,89,0,275,113,0,0,0,1,0,86,0,0,163,1,1,0,577,0,176,309,62,169,474,2,0,0,115,168,76,76,1,210,277,0,181,148,180,0,86,61,1,0,1,0,0,1,1,0,50,120,0,1,12,68,92,65,65,95,0,211,2,104,0,0,72,237,61,58,0,49,0,0,105,36,100,1,141,0,0,1,0,0,1,191,112,75,1,327,0,50,125,0,249,481,265,1,1,66,0,0,124,1,0,1,76,146,192,70,0,0,81,1,1,89,169,76,0,0,211,1,0,86,104,165,0,0,327,67,130,1,0,1,1,81,105,189,0,105,1,65,0,55,1,2,0,211,155,214,188,0,57,75,226,206,168,66,0,0,105,1,43,117,214,0,0,2,0,1,274,78,54,0,87,17,126,126,166,0,0,45,121,329,63,129,0,0,0,0,0,0,2,598,0,0,0,157,0,0,141,2,115,230,185,0,25,1,120,1,0,0,127,0,0,293,38,271,181,158,192,323,0,143,0,1,15,0,0,160,0,0,116,0,55,0,1,1,0,0,90,0,182,2,2,0,65,92,46,105,0,0,3,152,441,146,159,130,0,101,106,78,1,134,538,90,202,0,70,0,0,231,130,2,133,0,0,190,101,168,0,49,238,0,1,0,2,0,265,45,0,105,2,1,204,1,1,182,181,0,0,95,126,0,479,124,0,155,0,200,1,2,1,101,0,0,334,1,159,386,23,1,293,0,394,185,0,179,0,0,200,127,105,1,1,182,1,0,0,81,2,119,167,0,0,120,2,161,0,149,95,118,2,141,104,0,59,200,0,1,76,0,509,2,108,0,0,0,0,17,0,1,181,0,113,2,0],\"xbins\":{\"end\":199,\"size\":15,\"start\":0},\"type\":\"histogram\"}],                        {\"template\":{\"data\":{\"barpolar\":[{\"marker\":{\"line\":{\"color\":\"rgb(17,17,17)\",\"width\":0.5},\"pattern\":{\"fillmode\":\"overlay\",\"size\":10,\"solidity\":0.2}},\"type\":\"barpolar\"}],\"bar\":[{\"error_x\":{\"color\":\"#f2f5fa\"},\"error_y\":{\"color\":\"#f2f5fa\"},\"marker\":{\"line\":{\"color\":\"rgb(17,17,17)\",\"width\":0.5},\"pattern\":{\"fillmode\":\"overlay\",\"size\":10,\"solidity\":0.2}},\"type\":\"bar\"}],\"carpet\":[{\"aaxis\":{\"endlinecolor\":\"#A2B1C6\",\"gridcolor\":\"#506784\",\"linecolor\":\"#506784\",\"minorgridcolor\":\"#506784\",\"startlinecolor\":\"#A2B1C6\"},\"baxis\":{\"endlinecolor\":\"#A2B1C6\",\"gridcolor\":\"#506784\",\"linecolor\":\"#506784\",\"minorgridcolor\":\"#506784\",\"startlinecolor\":\"#A2B1C6\"},\"type\":\"carpet\"}],\"choropleth\":[{\"colorbar\":{\"outlinewidth\":0,\"ticks\":\"\"},\"type\":\"choropleth\"}],\"contourcarpet\":[{\"colorbar\":{\"outlinewidth\":0,\"ticks\":\"\"},\"type\":\"contourcarpet\"}],\"contour\":[{\"colorbar\":{\"outlinewidth\":0,\"ticks\":\"\"},\"colorscale\":[[0.0,\"#0d0887\"],[0.1111111111111111,\"#46039f\"],[0.2222222222222222,\"#7201a8\"],[0.3333333333333333,\"#9c179e\"],[0.4444444444444444,\"#bd3786\"],[0.5555555555555556,\"#d8576b\"],[0.6666666666666666,\"#ed7953\"],[0.7777777777777778,\"#fb9f3a\"],[0.8888888888888888,\"#fdca26\"],[1.0,\"#f0f921\"]],\"type\":\"contour\"}],\"heatmapgl\":[{\"colorbar\":{\"outlinewidth\":0,\"ticks\":\"\"},\"colorscale\":[[0.0,\"#0d0887\"],[0.1111111111111111,\"#46039f\"],[0.2222222222222222,\"#7201a8\"],[0.3333333333333333,\"#9c179e\"],[0.4444444444444444,\"#bd3786\"],[0.5555555555555556,\"#d8576b\"],[0.6666666666666666,\"#ed7953\"],[0.7777777777777778,\"#fb9f3a\"],[0.8888888888888888,\"#fdca26\"],[1.0,\"#f0f921\"]],\"type\":\"heatmapgl\"}],\"heatmap\":[{\"colorbar\":{\"outlinewidth\":0,\"ticks\":\"\"},\"colorscale\":[[0.0,\"#0d0887\"],[0.1111111111111111,\"#46039f\"],[0.2222222222222222,\"#7201a8\"],[0.3333333333333333,\"#9c179e\"],[0.4444444444444444,\"#bd3786\"],[0.5555555555555556,\"#d8576b\"],[0.6666666666666666,\"#ed7953\"],[0.7777777777777778,\"#fb9f3a\"],[0.8888888888888888,\"#fdca26\"],[1.0,\"#f0f921\"]],\"type\":\"heatmap\"}],\"histogram2dcontour\":[{\"colorbar\":{\"outlinewidth\":0,\"ticks\":\"\"},\"colorscale\":[[0.0,\"#0d0887\"],[0.1111111111111111,\"#46039f\"],[0.2222222222222222,\"#7201a8\"],[0.3333333333333333,\"#9c179e\"],[0.4444444444444444,\"#bd3786\"],[0.5555555555555556,\"#d8576b\"],[0.6666666666666666,\"#ed7953\"],[0.7777777777777778,\"#fb9f3a\"],[0.8888888888888888,\"#fdca26\"],[1.0,\"#f0f921\"]],\"type\":\"histogram2dcontour\"}],\"histogram2d\":[{\"colorbar\":{\"outlinewidth\":0,\"ticks\":\"\"},\"colorscale\":[[0.0,\"#0d0887\"],[0.1111111111111111,\"#46039f\"],[0.2222222222222222,\"#7201a8\"],[0.3333333333333333,\"#9c179e\"],[0.4444444444444444,\"#bd3786\"],[0.5555555555555556,\"#d8576b\"],[0.6666666666666666,\"#ed7953\"],[0.7777777777777778,\"#fb9f3a\"],[0.8888888888888888,\"#fdca26\"],[1.0,\"#f0f921\"]],\"type\":\"histogram2d\"}],\"histogram\":[{\"marker\":{\"pattern\":{\"fillmode\":\"overlay\",\"size\":10,\"solidity\":0.2}},\"type\":\"histogram\"}],\"mesh3d\":[{\"colorbar\":{\"outlinewidth\":0,\"ticks\":\"\"},\"type\":\"mesh3d\"}],\"parcoords\":[{\"line\":{\"colorbar\":{\"outlinewidth\":0,\"ticks\":\"\"}},\"type\":\"parcoords\"}],\"pie\":[{\"automargin\":true,\"type\":\"pie\"}],\"scatter3d\":[{\"line\":{\"colorbar\":{\"outlinewidth\":0,\"ticks\":\"\"}},\"marker\":{\"colorbar\":{\"outlinewidth\":0,\"ticks\":\"\"}},\"type\":\"scatter3d\"}],\"scattercarpet\":[{\"marker\":{\"colorbar\":{\"outlinewidth\":0,\"ticks\":\"\"}},\"type\":\"scattercarpet\"}],\"scattergeo\":[{\"marker\":{\"colorbar\":{\"outlinewidth\":0,\"ticks\":\"\"}},\"type\":\"scattergeo\"}],\"scattergl\":[{\"marker\":{\"line\":{\"color\":\"#283442\"}},\"type\":\"scattergl\"}],\"scattermapbox\":[{\"marker\":{\"colorbar\":{\"outlinewidth\":0,\"ticks\":\"\"}},\"type\":\"scattermapbox\"}],\"scatterpolargl\":[{\"marker\":{\"colorbar\":{\"outlinewidth\":0,\"ticks\":\"\"}},\"type\":\"scatterpolargl\"}],\"scatterpolar\":[{\"marker\":{\"colorbar\":{\"outlinewidth\":0,\"ticks\":\"\"}},\"type\":\"scatterpolar\"}],\"scatter\":[{\"marker\":{\"line\":{\"color\":\"#283442\"}},\"type\":\"scatter\"}],\"scatterternary\":[{\"marker\":{\"colorbar\":{\"outlinewidth\":0,\"ticks\":\"\"}},\"type\":\"scatterternary\"}],\"surface\":[{\"colorbar\":{\"outlinewidth\":0,\"ticks\":\"\"},\"colorscale\":[[0.0,\"#0d0887\"],[0.1111111111111111,\"#46039f\"],[0.2222222222222222,\"#7201a8\"],[0.3333333333333333,\"#9c179e\"],[0.4444444444444444,\"#bd3786\"],[0.5555555555555556,\"#d8576b\"],[0.6666666666666666,\"#ed7953\"],[0.7777777777777778,\"#fb9f3a\"],[0.8888888888888888,\"#fdca26\"],[1.0,\"#f0f921\"]],\"type\":\"surface\"}],\"table\":[{\"cells\":{\"fill\":{\"color\":\"#506784\"},\"line\":{\"color\":\"rgb(17,17,17)\"}},\"header\":{\"fill\":{\"color\":\"#2a3f5f\"},\"line\":{\"color\":\"rgb(17,17,17)\"}},\"type\":\"table\"}]},\"layout\":{\"annotationdefaults\":{\"arrowcolor\":\"#f2f5fa\",\"arrowhead\":0,\"arrowwidth\":1},\"autotypenumbers\":\"strict\",\"coloraxis\":{\"colorbar\":{\"outlinewidth\":0,\"ticks\":\"\"}},\"colorscale\":{\"diverging\":[[0,\"#8e0152\"],[0.1,\"#c51b7d\"],[0.2,\"#de77ae\"],[0.3,\"#f1b6da\"],[0.4,\"#fde0ef\"],[0.5,\"#f7f7f7\"],[0.6,\"#e6f5d0\"],[0.7,\"#b8e186\"],[0.8,\"#7fbc41\"],[0.9,\"#4d9221\"],[1,\"#276419\"]],\"sequential\":[[0.0,\"#0d0887\"],[0.1111111111111111,\"#46039f\"],[0.2222222222222222,\"#7201a8\"],[0.3333333333333333,\"#9c179e\"],[0.4444444444444444,\"#bd3786\"],[0.5555555555555556,\"#d8576b\"],[0.6666666666666666,\"#ed7953\"],[0.7777777777777778,\"#fb9f3a\"],[0.8888888888888888,\"#fdca26\"],[1.0,\"#f0f921\"]],\"sequentialminus\":[[0.0,\"#0d0887\"],[0.1111111111111111,\"#46039f\"],[0.2222222222222222,\"#7201a8\"],[0.3333333333333333,\"#9c179e\"],[0.4444444444444444,\"#bd3786\"],[0.5555555555555556,\"#d8576b\"],[0.6666666666666666,\"#ed7953\"],[0.7777777777777778,\"#fb9f3a\"],[0.8888888888888888,\"#fdca26\"],[1.0,\"#f0f921\"]]},\"colorway\":[\"#636efa\",\"#EF553B\",\"#00cc96\",\"#ab63fa\",\"#FFA15A\",\"#19d3f3\",\"#FF6692\",\"#B6E880\",\"#FF97FF\",\"#FECB52\"],\"font\":{\"color\":\"#f2f5fa\"},\"geo\":{\"bgcolor\":\"rgb(17,17,17)\",\"lakecolor\":\"rgb(17,17,17)\",\"landcolor\":\"rgb(17,17,17)\",\"showlakes\":true,\"showland\":true,\"subunitcolor\":\"#506784\"},\"hoverlabel\":{\"align\":\"left\"},\"hovermode\":\"closest\",\"mapbox\":{\"style\":\"dark\"},\"paper_bgcolor\":\"rgb(17,17,17)\",\"plot_bgcolor\":\"rgb(17,17,17)\",\"polar\":{\"angularaxis\":{\"gridcolor\":\"#506784\",\"linecolor\":\"#506784\",\"ticks\":\"\"},\"bgcolor\":\"rgb(17,17,17)\",\"radialaxis\":{\"gridcolor\":\"#506784\",\"linecolor\":\"#506784\",\"ticks\":\"\"}},\"scene\":{\"xaxis\":{\"backgroundcolor\":\"rgb(17,17,17)\",\"gridcolor\":\"#506784\",\"gridwidth\":2,\"linecolor\":\"#506784\",\"showbackground\":true,\"ticks\":\"\",\"zerolinecolor\":\"#C8D4E3\"},\"yaxis\":{\"backgroundcolor\":\"rgb(17,17,17)\",\"gridcolor\":\"#506784\",\"gridwidth\":2,\"linecolor\":\"#506784\",\"showbackground\":true,\"ticks\":\"\",\"zerolinecolor\":\"#C8D4E3\"},\"zaxis\":{\"backgroundcolor\":\"rgb(17,17,17)\",\"gridcolor\":\"#506784\",\"gridwidth\":2,\"linecolor\":\"#506784\",\"showbackground\":true,\"ticks\":\"\",\"zerolinecolor\":\"#C8D4E3\"}},\"shapedefaults\":{\"line\":{\"color\":\"#f2f5fa\"}},\"sliderdefaults\":{\"bgcolor\":\"#C8D4E3\",\"bordercolor\":\"rgb(17,17,17)\",\"borderwidth\":1,\"tickwidth\":0},\"ternary\":{\"aaxis\":{\"gridcolor\":\"#506784\",\"linecolor\":\"#506784\",\"ticks\":\"\"},\"baxis\":{\"gridcolor\":\"#506784\",\"linecolor\":\"#506784\",\"ticks\":\"\"},\"bgcolor\":\"rgb(17,17,17)\",\"caxis\":{\"gridcolor\":\"#506784\",\"linecolor\":\"#506784\",\"ticks\":\"\"}},\"title\":{\"x\":0.05},\"updatemenudefaults\":{\"bgcolor\":\"#506784\",\"borderwidth\":0},\"xaxis\":{\"automargin\":true,\"gridcolor\":\"#283442\",\"linecolor\":\"#506784\",\"ticks\":\"\",\"title\":{\"standoff\":15},\"zerolinecolor\":\"#283442\",\"zerolinewidth\":2},\"yaxis\":{\"automargin\":true,\"gridcolor\":\"#283442\",\"linecolor\":\"#506784\",\"ticks\":\"\",\"title\":{\"standoff\":15},\"zerolinecolor\":\"#283442\",\"zerolinewidth\":2}}},\"title\":{\"text\":\"Insulin DISTRIBUTION\"},\"xaxis\":{\"title\":{\"text\":\"Insulin\"},\"showgrid\":false},\"yaxis\":{\"title\":{\"text\":\"COUNT\"},\"showgrid\":false},\"bargap\":0.05,\"plot_bgcolor\":\"black\",\"paper_bgcolor\":\"black\"},                        {\"responsive\": true}                    ).then(function(){\n",
              "                            \n",
              "var gd = document.getElementById('9e1e67cd-367e-4222-a864-4826ec0948d1');\n",
              "var x = new MutationObserver(function (mutations, observer) {{\n",
              "        var display = window.getComputedStyle(gd).display;\n",
              "        if (!display || display === 'none') {{\n",
              "            console.log([gd, 'removed!']);\n",
              "            Plotly.purge(gd);\n",
              "            observer.disconnect();\n",
              "        }}\n",
              "}});\n",
              "\n",
              "// Listen for the removal of the full notebook cells\n",
              "var notebookContainer = gd.closest('#notebook-container');\n",
              "if (notebookContainer) {{\n",
              "    x.observe(notebookContainer, {childList: true});\n",
              "}}\n",
              "\n",
              "// Listen for the clearing of the current output cell\n",
              "var outputEl = gd.closest('.output');\n",
              "if (outputEl) {{\n",
              "    x.observe(outputEl, {childList: true});\n",
              "}}\n",
              "\n",
              "                        })                };                            </script>        </div>\n",
              "</body>\n",
              "</html>"
            ]
          },
          "metadata": {}
        }
      ]
    },
    {
      "cell_type": "markdown",
      "source": [
        "Trực quan hóa về Nồng độ insulin huyết thanh ảnh hưởng tới bệnh tiểu đường"
      ],
      "metadata": {
        "id": "2cWQTv6-BmXE"
      }
    },
    {
      "cell_type": "code",
      "source": [
        "# Now lets categorize the above histogram by Outcome\n",
        "\n",
        "import plotly.express as px\n",
        "fig = px.histogram(df, x=\"Insulin\", color=\"Outcome\", marginal=\"violin\", hover_data=df.columns,\n",
        "                   title =\"Distribution of CREATININE Insulin Vs Outcome\",\n",
        "                   labels={\"Insulin\": \"Insulin\"},\n",
        "                   template=\"plotly_dark\",\n",
        "                   color_discrete_map={\"0\": \"RebeccaPurple\", \"1\": \"MediumPurple\"})\n",
        "fig.show()"
      ],
      "metadata": {
        "colab": {
          "base_uri": "https://localhost:8080/",
          "height": 542
        },
        "id": "Y0_2nb9w2RZW",
        "outputId": "9f49d718-1747-4e62-f49d-d8c9d8b57f18"
      },
      "execution_count": null,
      "outputs": [
        {
          "output_type": "display_data",
          "data": {
            "text/html": [
              "<html>\n",
              "<head><meta charset=\"utf-8\" /></head>\n",
              "<body>\n",
              "    <div>            <script src=\"https://cdnjs.cloudflare.com/ajax/libs/mathjax/2.7.5/MathJax.js?config=TeX-AMS-MML_SVG\"></script><script type=\"text/javascript\">if (window.MathJax && window.MathJax.Hub && window.MathJax.Hub.Config) {window.MathJax.Hub.Config({SVG: {font: \"STIX-Web\"}});}</script>                <script type=\"text/javascript\">window.PlotlyConfig = {MathJaxConfig: 'local'};</script>\n",
              "        <script charset=\"utf-8\" src=\"https://cdn.plot.ly/plotly-2.24.1.min.js\"></script>                <div id=\"fc691a70-96dc-4bb3-b3d1-c58df5df1d22\" class=\"plotly-graph-div\" style=\"height:525px; width:100%;\"></div>            <script type=\"text/javascript\">                                    window.PLOTLYENV=window.PLOTLYENV || {};                                    if (document.getElementById(\"fc691a70-96dc-4bb3-b3d1-c58df5df1d22\")) {                    Plotly.newPlot(                        \"fc691a70-96dc-4bb3-b3d1-c58df5df1d22\",                        [{\"alignmentgroup\":\"True\",\"bingroup\":\"x\",\"hovertemplate\":\"Outcome=1\\u003cbr\\u003eInsulin=%{x}\\u003cbr\\u003ecount=%{y}\\u003cextra\\u003e\\u003c\\u002fextra\\u003e\",\"legendgroup\":\"1\",\"marker\":{\"color\":\"#00cc96\",\"pattern\":{\"shape\":\"\"}},\"name\":\"1\",\"offsetgroup\":\"1\",\"orientation\":\"v\",\"showlegend\":true,\"x\":[0,0,168,88,543,0,0,846,174,0,231,0,97,0,0,145,115,0,245,0,1,208,241,1,0,302,304,0,0,0,91,0,0,0,112,0,221,0,36,135,496,174,1,0,99,0,98,144,0,169,0,225,0,155,0,0,115,0,156,0,130,130,130,0,0,494,57,114,161,0,0,210,46,98,319,279,0,0,128,176,270,129,0,1,477,1,0,1,370,0,190,1,0,2,176,0,256,0,148,1,2,0,0,1,0,0,0,0,220,73,183,192,360,185,0,135,0,129,179,206,96,0,0,1,0,0,30,156,119,0,1,170,0,0,2,166,0,249,323,0,0,140,465,325,0,0,2,285,1,0,0,0,1,86,0,1,0,577,169,474,0,115,210,277,181,180,1,0,0,1,12,65,0,0,237,1,191,327,0,249,124,146,0,89,0,104,165,0,1,155,214,188,0,226,206,1,274,166,0,0,0,598,0,157,0,2,185,1,127,0,293,192,323,143,0,0,0,2,92,0,146,159,130,538,70,0,231,130,2,0,0,1,0,0,0,2,181,0,126,479,124,1,2,0,1,159,1,394,185,0,127,81,2,119,0,149,2,0,200,0,1,509,2,108,0,0,0,2],\"xaxis\":\"x\",\"yaxis\":\"y\",\"type\":\"histogram\"},{\"alignmentgroup\":\"True\",\"customdata\":[[6.0,147.0,72.0,36.0,33.0,1.11,52.0,1.0],[10.0,182.0,64.0,0.0,23.6,0.41,31.0,1.0],[0.0,137.0,39.0,35.0,45.6,2.49,30.0,1.0],[2.0,79.0,50.0,33.0,30.4,0.23,26.0,1.0],[2.0,196.0,72.0,45.0,29.7,1.8,51.0,1.0],[9.0,124.0,97.0,2.0,0.1,-1.39,52.0,1.0],[9.0,170.0,74.0,0.0,38.4,-0.91,33.0,1.0],[1.0,189.0,60.0,24.0,29.0,0.07,59.0,1.0],[5.0,167.0,72.0,20.0,23.7,-0.29,49.0,1.0],[7.0,100.0,0.0,2.0,31.6,0.56,33.0,1.0],[0.0,119.0,84.0,47.0,46.1,-0.29,30.0,1.0],[6.0,107.0,73.0,0.0,30.7,1.21,32.0,1.0],[2.0,115.0,71.0,31.0,34.8,1.08,31.0,1.0],[7.0,196.0,90.0,0.0,40.4,0.34,41.0,1.0],[8.0,120.0,79.0,34.0,28.8,-1.42,29.0,1.0],[11.0,144.0,92.0,32.0,36.1,1.01,51.0,1.0],[10.0,127.0,69.0,25.0,30.9,1.01,40.0,1.0],[7.0,148.0,76.0,0.0,39.0,0.38,44.0,1.0],[2.0,158.0,74.0,37.0,31.6,1.69,29.0,1.0],[8.0,102.0,76.0,35.0,32.7,0.67,46.0,1.0],[1.0,90.0,69.0,43.0,38.8,1.49,28.0,1.0],[5.0,111.0,71.0,46.0,36.0,1.22,56.0,1.0],[10.0,172.0,110.0,23.0,44.0,1.75,55.0,1.0],[0.0,179.0,66.0,39.0,41.6,0.79,26.0,1.0],[8.0,102.0,67.0,32.0,38.6,-0.12,31.0,1.0],[8.0,175.0,90.0,34.0,33.5,-0.5,59.0,1.0],[10.0,187.0,69.0,38.0,37.9,0.15,43.0,1.0],[6.0,134.0,71.0,0.0,34.0,-0.78,39.0,1.0],[7.0,114.0,67.0,0.0,33.8,1.85,42.0,1.0],[1.0,107.0,90.0,29.0,33.6,0.8,40.0,1.0],[2.0,100.0,66.0,21.0,33.8,0.66,30.0,1.0],[13.0,129.0,90.0,0.0,42.5,0.3,42.0,1.0],[1.0,131.0,1.0,0.0,41.9,-0.49,24.0,1.0],[4.0,136.0,108.0,0.0,50.1,-0.67,36.0,1.0],[14.0,136.0,69.0,32.0,37.9,0.47,44.0,1.0],[4.0,134.0,71.0,0.0,23.9,-0.48,59.0,1.0],[0.0,125.0,90.0,51.0,50.5,0.99,31.0,1.0],[1.0,163.0,71.0,0.0,37.0,1.58,35.0,1.0],[0.0,95.0,84.0,25.0,36.9,2.14,23.0,1.0],[3.0,172.0,71.0,32.0,32.1,-1.38,23.0,1.0],[7.0,154.0,62.0,27.0,31.7,2.65,46.0,1.0],[7.0,160.0,55.0,30.0,30.5,0.64,39.0,1.0],[3.0,147.0,91.0,0.0,30.7,-0.25,61.0,1.0],[7.0,124.0,75.0,0.0,33.5,1.97,39.0,1.0],[1.0,161.0,77.0,58.0,51.9,1.03,25.0,1.0],[0.0,112.0,76.0,0.0,32.2,1.83,23.0,1.0],[1.0,88.0,31.0,41.0,53.7,-1.4,25.0,1.0],[1.0,119.0,88.0,23.0,36.0,-0.44,41.0,1.0],[1.0,105.0,83.0,1.0,27.7,-1.08,61.0,1.0],[3.0,172.0,70.0,15.0,31.1,2.09,32.0,1.0],[10.0,123.0,57.0,0.0,32.5,-0.86,33.0,1.0],[4.0,173.0,62.0,39.0,33.4,-0.16,27.0,1.0],[10.0,108.0,65.0,1.0,32.0,-0.23,41.0,1.0],[9.0,155.0,86.0,29.0,36.0,3.08,43.0,1.0],[7.0,188.0,79.0,1.0,47.8,1.98,42.0,1.0],[7.0,153.0,90.0,44.0,48.8,-0.19,34.0,1.0],[18.0,162.0,71.0,40.0,39.9,-0.73,47.0,1.0],[2.0,132.0,89.0,0.0,31.4,2.49,32.0,1.0],[6.0,103.0,72.0,16.0,31.8,1.47,39.0,1.0],[5.0,102.0,83.0,0.0,31.6,-1.12,36.0,1.0],[6.0,134.0,70.0,22.0,34.9,1.59,29.0,1.0],[8.0,179.0,72.0,42.0,32.9,0.9,36.0,1.0],[0.0,130.0,110.0,45.0,66.4,0.71,27.0,1.0],[4.0,131.0,82.0,1.0,37.2,-0.92,39.0,1.0],[7.0,195.0,67.0,27.0,35.7,0.46,42.0,1.0],[9.0,180.0,69.0,36.0,30.5,0.43,61.0,1.0],[1.0,127.0,98.0,41.0,31.1,2.76,33.0,1.0],[8.0,110.0,76.0,40.0,29.4,0.18,32.0,1.0],[3.0,140.0,81.0,35.0,33.4,0.9,27.0,1.0],[6.0,159.0,66.0,2.0,31.5,0.11,34.0,1.0],[11.0,137.0,0.0,1.0,50.8,-0.72,41.0,1.0],[6.0,157.0,83.0,40.0,39.3,0.14,29.0,1.0],[3.0,108.0,63.0,15.0,22.9,-0.51,22.0,1.0],[5.0,109.0,65.0,44.0,35.2,-0.94,25.0,1.0],[3.0,150.0,61.0,28.0,29.2,1.82,31.0,1.0],[8.0,195.0,77.0,29.0,37.3,2.22,56.0,1.0],[4.0,161.0,105.0,1.0,38.0,0.52,54.0,1.0],[8.0,183.0,83.0,34.0,33.7,-0.5,43.0,1.0],[0.0,139.0,63.0,26.0,43.6,1.36,25.0,1.0],[8.0,111.0,82.0,32.0,33.5,1.46,38.0,1.0],[12.0,151.0,71.0,40.0,41.1,0.34,39.0,1.0],[7.0,111.0,63.0,40.0,36.8,0.27,25.0,1.0],[4.0,85.0,73.0,23.0,27.9,0.25,32.0,1.0],[5.0,112.0,64.0,0.0,38.2,-0.64,43.0,1.0],[1.0,177.0,60.0,30.0,34.3,2.14,22.0,1.0],[0.0,156.0,91.0,1.0,31.5,0.52,66.0,1.0],[3.0,162.0,52.0,37.0,38.1,0.27,24.0,1.0],[4.0,143.0,86.0,1.0,41.4,0.01,20.0,1.0],[6.0,134.0,79.0,36.0,47.2,1.47,47.0,1.0],[4.0,172.0,73.0,0.0,43.6,0.8,26.0,1.0],[8.0,181.0,83.0,22.0,35.0,1.19,52.0,1.0],[0.0,180.0,90.0,27.0,43.7,2.02,21.0,1.0],[9.0,164.0,85.0,21.0,31.0,0.64,31.0,1.0],[3.0,138.0,54.0,0.0,25.7,-0.92,23.0,1.0],[7.0,120.0,50.0,23.0,27.1,1.8,35.0,1.0],[9.0,185.0,84.0,14.0,32.1,0.72,50.0,1.0],[12.0,93.0,62.0,8.0,26.7,1.74,44.0,1.0],[3.0,113.0,64.0,35.0,32.8,0.57,20.0,1.0],[9.0,154.0,76.0,27.0,33.0,3.09,51.0,1.0],[3.0,140.0,2.0,0.0,30.2,2.25,27.0,1.0],[3.0,123.0,62.0,0.0,31.5,0.72,34.0,1.0],[2.0,138.0,0.0,1.0,36.8,-0.15,25.0,1.0],[1.0,149.0,0.0,0.0,27.7,-0.17,29.0,1.0],[10.0,100.0,88.0,37.0,45.6,1.03,36.0,1.0],[9.0,105.0,60.0,23.0,27.5,0.07,31.0,1.0],[0.0,146.0,69.0,1.0,36.4,0.11,28.0,1.0],[6.0,161.0,86.0,0.0,31.2,0.59,46.0,1.0],[1.0,106.0,80.0,2.0,27.0,-0.4,53.0,1.0],[0.0,118.0,85.0,37.0,47.7,2.22,29.0,1.0],[0.0,107.0,64.0,29.0,35.3,1.56,25.0,1.0],[2.0,128.0,78.0,38.0,43.5,2.41,31.0,1.0],[0.0,129.0,49.0,46.0,41.3,0.82,24.0,1.0],[3.0,146.0,71.0,36.0,27.9,1.98,29.0,1.0],[14.0,100.0,79.0,25.0,37.4,1.26,47.0,1.0],[0.0,168.0,0.0,0.0,34.5,0.15,29.0,1.0],[1.0,146.0,58.0,33.0,31.4,0.19,26.0,1.0],[5.0,115.0,97.0,0.0,51.2,0.63,29.0,1.0],[11.0,161.0,67.0,24.0,23.5,0.44,48.0,1.0],[0.0,128.0,68.0,20.0,30.8,2.21,25.0,1.0],[4.0,124.0,69.0,29.0,33.9,3.26,31.0,1.0],[2.0,155.0,73.0,16.0,25.3,-0.47,26.0,1.0],[9.0,110.0,79.0,31.0,37.0,1.77,42.0,1.0],[3.0,182.0,74.0,0.0,30.2,-0.16,28.0,1.0],[5.0,194.0,76.0,0.0,21.5,2.74,60.0,1.0],[3.0,111.0,75.0,31.0,30.8,-0.11,25.0,1.0],[0.0,123.0,71.0,20.0,28.4,0.96,35.0,1.0],[13.0,152.0,90.0,33.0,27.5,1.16,44.0,1.0],[2.0,124.0,64.0,33.0,36.5,1.35,31.0,1.0],[1.0,103.0,87.0,36.0,46.0,0.03,23.0,1.0],[2.0,182.0,0.0,0.0,43.7,-0.51,42.0,1.0],[7.0,114.0,76.0,0.0,29.9,-0.88,44.0,1.0],[8.0,152.0,78.0,34.0,35.9,2.27,34.0,1.0],[6.0,178.0,83.0,0.0,39.7,0.55,42.0,1.0],[4.0,0.0,80.0,31.0,40.4,0.06,38.0,1.0],[7.0,165.0,86.0,0.0,30.5,1.86,48.0,1.0],[0.0,126.0,50.0,41.0,32.3,3.48,30.0,1.0],[12.0,130.0,0.0,29.0,41.1,-0.1,44.0,1.0],[2.0,195.0,76.0,36.0,36.5,2.56,30.0,1.0],[5.0,191.0,63.0,31.0,31.1,1.3,29.0,1.0],[3.0,146.0,79.0,0.0,39.7,-0.86,66.0,1.0],[6.0,125.0,73.0,0.0,24.9,-0.1,29.0,1.0],[3.0,134.0,103.0,27.0,33.7,-0.55,45.0,1.0],[2.0,173.0,84.0,49.0,36.4,2.17,27.0,1.0],[11.0,140.0,82.0,43.0,40.3,-0.49,58.0,1.0],[2.0,156.0,75.0,0.0,48.3,0.35,33.0,1.0],[6.0,115.0,76.0,29.0,32.4,0.72,35.0,1.0],[8.0,105.0,99.0,35.0,43.3,-0.04,46.0,1.0],[7.0,144.0,83.0,26.0,33.0,1.05,56.0,1.0],[5.0,163.0,77.0,0.0,44.7,0.94,27.0,1.0],[4.0,157.0,77.0,1.0,32.1,1.13,32.0,1.0],[0.0,131.0,65.0,40.0,35.0,0.86,22.0,1.0],[3.0,194.0,70.0,29.0,36.2,0.67,25.0,1.0],[5.0,93.0,64.0,1.0,35.5,1.21,31.0,1.0],[5.0,136.0,85.0,41.0,35.7,-1.4,35.0,1.0],[4.0,168.0,63.0,0.0,34.0,-0.58,41.0,1.0],[3.0,114.0,72.0,0.0,28.5,-1.76,46.0,1.0],[8.0,198.0,74.0,0.0,26.3,1.61,39.0,1.0],[1.0,171.0,70.0,48.0,42.2,0.67,28.0,1.0],[0.0,138.0,60.0,33.0,35.3,1.31,21.0,1.0],[2.0,174.0,84.0,32.0,36.3,1.68,23.0,1.0],[4.0,147.0,81.0,31.0,39.3,-0.28,37.0,1.0],[3.0,129.0,63.0,29.0,25.8,0.72,27.0,1.0],[8.0,151.0,77.0,33.0,44.2,-1.46,34.0,1.0],[5.0,183.0,78.0,40.0,34.9,0.56,32.0,1.0],[1.0,182.0,65.0,31.0,34.0,1.44,40.0,1.0],[2.0,95.0,82.0,25.0,35.2,0.02,42.0,1.0],[0.0,143.0,0.0,0.0,43.4,0.54,31.0,1.0],[0.0,189.0,104.0,25.0,35.1,0.83,41.0,1.0],[9.0,109.0,70.0,0.0,31.2,1.42,31.0,1.0],[4.0,119.0,62.0,12.0,31.2,0.23,31.0,1.0],[0.0,181.0,78.0,63.0,59.4,3.68,24.0,1.0],[0.0,104.0,62.0,37.0,33.2,1.17,23.0,1.0],[0.0,133.0,69.0,0.0,28.0,0.63,24.0,1.0],[13.0,175.0,60.0,33.0,33.7,0.47,39.0,1.0],[10.0,149.0,85.0,46.0,37.4,1.45,49.0,1.0],[8.0,121.0,0.0,0.0,29.4,0.88,37.0,1.0],[2.0,104.0,80.0,46.0,32.0,2.24,28.0,1.0],[1.0,158.0,71.0,30.0,36.3,-2.63,34.0,1.0],[0.0,145.0,0.0,0.0,42.9,0.92,31.0,1.0],[0.0,134.0,69.0,41.0,43.4,0.21,24.0,1.0],[4.0,124.0,70.0,18.0,31.1,0.17,45.0,1.0],[8.0,196.0,69.0,34.0,25.3,0.07,55.0,1.0],[5.0,0.0,68.0,40.0,40.1,0.04,40.0,1.0],[0.0,180.0,91.0,23.0,35.0,0.49,36.0,1.0],[12.0,84.0,72.0,32.0,29.3,-0.44,46.0,1.0],[5.0,163.0,70.0,17.0,31.6,0.31,30.0,1.0],[11.0,145.0,88.0,35.0,28.2,2.3,54.0,1.0],[10.0,131.0,69.0,0.0,32.4,1.05,46.0,1.0],[4.0,132.0,1.0,0.0,32.2,2.09,23.0,1.0],[2.0,131.0,92.0,49.0,36.9,1.55,33.0,1.0],[6.0,100.0,74.0,41.0,36.6,1.6,43.0,1.0],[3.0,128.0,71.0,26.0,31.4,0.63,26.0,1.0],[10.0,90.0,84.0,31.0,34.1,2.12,56.0,1.0],[8.0,186.0,90.0,35.0,33.3,-0.48,36.0,1.0],[5.0,188.0,76.0,26.0,43.5,-0.93,54.0,1.0],[5.0,125.0,76.0,0.0,35.2,-2.46,56.0,1.0],[0.0,199.0,66.0,31.0,40.2,-0.1,27.0,1.0],[1.0,121.0,66.0,30.0,32.9,-0.69,31.0,1.0],[2.0,118.0,80.0,0.0,42.9,0.85,20.0,1.0],[2.0,197.0,70.0,99.0,35.1,1.66,63.0,1.0],[1.0,151.0,90.0,46.0,41.7,1.43,21.0,1.0],[7.0,124.0,76.0,24.0,28.8,1.49,52.0,1.0],[8.0,142.0,65.0,0.0,34.9,1.25,41.0,1.0],[4.0,176.0,87.0,29.0,32.3,-0.11,51.0,1.0],[12.0,110.0,84.0,39.0,46.1,1.79,46.0,1.0],[2.0,132.0,80.0,0.0,34.6,0.25,44.0,1.0],[0.0,189.0,82.0,13.0,30.5,2.35,21.0,1.0],[3.0,172.0,73.0,0.0,36.4,0.4,37.0,1.0],[7.0,149.0,77.0,29.0,34.8,0.04,54.0,1.0],[3.0,183.0,1.0,0.0,27.8,-0.52,36.0,1.0],[0.0,179.0,78.0,42.0,39.7,1.83,22.0,1.0],[0.0,174.0,59.0,22.0,33.0,1.83,36.0,1.0],[5.0,166.0,89.0,41.0,35.0,-0.61,42.0,1.0],[11.0,138.0,73.0,26.0,36.7,1.52,50.0,1.0],[11.0,112.0,84.0,25.0,28.9,1.84,51.0,1.0],[0.0,119.0,0.0,0.0,32.5,-2.2,25.0,1.0],[6.0,113.0,62.0,0.0,27.6,1.35,34.0,1.0],[13.0,104.0,73.0,0.0,31.0,1.95,38.0,1.0],[7.0,97.0,76.0,31.0,42.1,0.04,34.0,1.0],[6.0,147.0,80.0,0.0,29.0,-0.03,48.0,1.0],[1.0,167.0,73.0,16.0,24.0,1.7,33.0,1.0],[0.0,179.0,48.0,35.0,37.8,0.85,22.0,1.0],[9.0,136.0,83.0,36.0,26.4,-0.68,44.0,1.0],[4.0,156.0,51.0,28.0,39.2,-1.43,24.0,1.0],[3.0,80.0,82.0,31.0,32.7,0.96,28.0,1.0],[1.0,199.0,75.0,42.0,40.5,0.82,22.0,1.0],[9.0,168.0,107.0,46.0,36.5,1.28,43.0,1.0],[9.0,145.0,80.0,47.0,37.1,-0.29,39.0,1.0],[6.0,115.0,59.0,40.0,33.6,-0.02,39.0,1.0],[5.0,145.0,82.0,17.0,33.3,1.99,69.0,1.0],[9.0,112.0,71.0,28.0,26.7,-0.2,42.0,1.0],[7.0,194.0,70.0,0.0,30.6,1.4,32.0,1.0],[10.0,158.0,84.0,0.0,24.9,1.68,54.0,1.0],[2.0,121.0,52.0,0.0,35.7,0.9,25.0,1.0],[0.0,163.0,76.0,35.0,48.5,-0.13,27.0,1.0],[5.0,124.0,82.0,0.0,31.1,0.97,26.0,1.0],[1.0,145.0,81.0,45.0,45.5,0.36,46.0,1.0],[15.0,159.0,113.0,0.0,41.8,0.28,45.0,1.0],[5.0,130.0,69.0,49.0,39.1,0.51,42.0,1.0],[7.0,141.0,91.0,25.0,30.2,0.63,43.0,1.0],[3.0,168.0,74.0,19.0,29.4,2.01,30.0,1.0],[7.0,126.0,78.0,29.0,28.3,-0.3,50.0,1.0],[2.0,169.0,89.0,29.0,36.0,1.63,53.0,1.0],[10.0,116.0,0.0,0.0,0.2,-1.11,30.0,1.0],[10.0,163.0,77.0,1.0,31.4,-0.04,44.0,1.0],[2.0,93.0,65.0,32.0,37.9,0.61,22.0,1.0],[11.0,128.0,61.0,36.0,41.4,1.39,37.0,1.0],[8.0,187.0,49.0,33.0,33.1,1.5,34.0,1.0],[5.0,173.0,74.0,39.0,35.3,1.27,31.0,1.0],[6.0,97.0,76.0,27.0,37.2,0.99,53.0,1.0],[1.0,148.0,68.0,28.0,29.5,0.37,42.0,1.0],[4.0,132.0,78.0,23.0,26.7,0.23,35.0,1.0],[7.0,121.0,86.0,1.0,29.0,-1.67,21.0,1.0],[2.0,174.0,88.0,36.0,44.0,1.28,22.0,1.0],[0.0,102.0,74.0,0.0,40.7,0.92,41.0,1.0],[11.0,120.0,82.0,38.0,43.3,-0.03,48.0,1.0],[7.0,141.0,94.0,0.0,31.1,0.97,46.0,1.0],[2.0,148.0,94.0,41.0,49.1,0.54,27.0,1.0],[5.0,186.0,69.0,24.0,36.1,0.09,37.0,1.0],[5.0,163.0,61.0,1.0,24.2,0.79,50.0,1.0],[3.0,135.0,68.0,0.0,29.5,0.61,22.0,1.0],[1.0,182.0,88.0,46.0,42.0,1.51,28.0,1.0],[7.0,154.0,77.0,31.0,32.8,1.35,45.0,1.0],[0.0,128.0,87.0,39.0,37.0,2.09,38.0,1.0],[0.0,123.0,72.0,0.0,36.7,1.64,52.0,1.0],[6.0,189.0,92.0,2.0,34.3,-0.11,64.0,1.0],[9.0,171.0,74.0,31.0,44.0,0.86,44.0,1.0],[0.0,126.0,60.0,0.0,31.2,-0.22,47.0,1.0]],\"hovertemplate\":\"Outcome=%{customdata[7]}\\u003cbr\\u003eInsulin=%{x}\\u003cbr\\u003ePregnancies=%{customdata[0]}\\u003cbr\\u003eGlucose=%{customdata[1]}\\u003cbr\\u003eBloodPressure=%{customdata[2]}\\u003cbr\\u003eSkinThickness=%{customdata[3]}\\u003cbr\\u003eBMI=%{customdata[4]}\\u003cbr\\u003eDiabetesPedigreeFunction=%{customdata[5]}\\u003cbr\\u003eAge=%{customdata[6]}\\u003cextra\\u003e\\u003c\\u002fextra\\u003e\",\"legendgroup\":\"1\",\"marker\":{\"color\":\"#00cc96\"},\"name\":\"1\",\"offsetgroup\":\"1\",\"scalegroup\":\"x\",\"showlegend\":false,\"x\":[0,0,168,88,543,0,0,846,174,0,231,0,97,0,0,145,115,0,245,0,1,208,241,1,0,302,304,0,0,0,91,0,0,0,112,0,221,0,36,135,496,174,1,0,99,0,98,144,0,169,0,225,0,155,0,0,115,0,156,0,130,130,130,0,0,494,57,114,161,0,0,210,46,98,319,279,0,0,128,176,270,129,0,1,477,1,0,1,370,0,190,1,0,2,176,0,256,0,148,1,2,0,0,1,0,0,0,0,220,73,183,192,360,185,0,135,0,129,179,206,96,0,0,1,0,0,30,156,119,0,1,170,0,0,2,166,0,249,323,0,0,140,465,325,0,0,2,285,1,0,0,0,1,86,0,1,0,577,169,474,0,115,210,277,181,180,1,0,0,1,12,65,0,0,237,1,191,327,0,249,124,146,0,89,0,104,165,0,1,155,214,188,0,226,206,1,274,166,0,0,0,598,0,157,0,2,185,1,127,0,293,192,323,143,0,0,0,2,92,0,146,159,130,538,70,0,231,130,2,0,0,1,0,0,0,2,181,0,126,479,124,1,2,0,1,159,1,394,185,0,127,81,2,119,0,149,2,0,200,0,1,509,2,108,0,0,0,2],\"xaxis\":\"x2\",\"yaxis\":\"y2\",\"type\":\"violin\"},{\"alignmentgroup\":\"True\",\"bingroup\":\"x\",\"hovertemplate\":\"Outcome=0\\u003cbr\\u003eInsulin=%{x}\\u003cbr\\u003ecount=%{y}\\u003cextra\\u003e\\u003c\\u002fextra\\u003e\",\"legendgroup\":\"0\",\"marker\":{\"color\":\"#ab63fa\",\"pattern\":{\"shape\":\"\"}},\"name\":\"0\",\"offsetgroup\":\"0\",\"orientation\":\"v\",\"showlegend\":true,\"x\":[1,95,0,1,0,0,83,235,0,140,110,1,0,55,0,0,192,0,71,1,1,0,0,1,1,84,37,24,340,0,109,0,141,1,0,128,0,0,38,98,140,270,0,0,0,0,0,0,0,71,2,126,1,72,0,0,175,48,62,228,0,75,64,0,0,40,0,152,0,140,18,36,0,1,1,51,0,100,1,135,96,0,50,140,52,92,0,325,2,0,63,285,0,0,120,1,0,205,0,485,94,134,53,1,106,285,0,0,1,1,78,0,49,56,0,1,0,91,23,0,0,0,96,0,0,0,0,0,43,190,1,86,0,0,0,121,0,190,57,31,0,743,54,37,1,45,1,1,88,194,0,679,402,0,0,0,55,0,0,0,375,130,1,1,67,0,0,55,0,45,1,57,116,1,278,121,155,134,547,51,75,41,1,120,218,0,42,0,105,147,1,148,85,94,63,140,232,0,169,0,66,2,53,0,58,255,1,104,74,0,1,1,106,83,1,76,2,0,0,43,0,55,0,1,292,85,2,67,90,65,96,158,84,76,72,84,3,183,59,109,48,81,196,416,89,275,113,0,0,0,163,1,0,176,309,62,2,0,168,76,76,1,0,148,0,86,61,1,0,0,0,1,1,50,120,68,92,65,95,211,2,104,0,72,61,58,0,49,0,0,105,36,100,141,0,0,1,0,0,1,112,75,1,0,50,125,481,265,1,1,66,0,0,1,0,1,76,192,70,0,81,1,1,169,76,0,211,1,0,86,0,0,327,67,130,1,1,1,81,105,189,0,105,1,65,0,55,2,0,211,57,75,168,66,0,0,105,1,43,117,214,0,0,2,0,78,54,0,87,17,126,126,0,0,45,121,329,63,129,0,0,0,2,0,0,0,141,115,230,0,25,120,1,0,0,0,38,271,181,158,0,0,1,15,160,0,0,116,0,55,0,1,1,0,90,0,182,2,0,65,46,105,0,3,152,441,0,101,106,78,1,134,90,202,0,0,133,190,101,168,0,49,238,0,2,265,45,105,1,204,1,1,182,0,95,0,0,155,0,200,1,101,0,334,386,23,293,0,0,179,0,200,105,1,1,182,1,0,0,167,0,0,120,2,161,95,118,141,104,59,76,0,0,0,17,1,181,0,113,0],\"xaxis\":\"x\",\"yaxis\":\"y\",\"type\":\"histogram\"},{\"alignmentgroup\":\"True\",\"customdata\":[[0.0,84.0,66.0,29.0,24.9,1.49,32.0,0.0],[2.0,89.0,64.0,22.0,26.4,-0.19,21.0,0.0],[5.0,115.0,74.0,0.0,25.6,-1.06,31.0,0.0],[10.0,116.0,2.0,0.0,35.6,0.33,28.0,0.0],[4.0,111.0,93.0,1.0,36.9,1.07,28.0,0.0],[9.0,138.0,79.0,1.0,26.0,0.01,58.0,0.0],[1.0,101.0,30.0,37.0,43.1,0.98,33.0,0.0],[3.0,127.0,88.0,39.0,38.9,0.66,27.0,0.0],[10.0,99.0,83.0,0.0,37.2,0.49,49.0,0.0],[2.0,98.0,67.0,14.0,22.3,0.91,22.0,0.0],[13.0,146.0,81.0,19.0,21.1,0.17,58.0,0.0],[5.0,118.0,92.0,0.0,35.2,1.37,36.0,0.0],[5.0,108.0,77.0,28.0,36.5,0.57,61.0,0.0],[4.0,88.0,57.0,11.0,24.5,-0.73,21.0,0.0],[7.0,91.0,91.0,0.0,18.7,0.62,26.0,0.0],[9.0,122.0,76.0,32.0,28.1,0.78,44.0,0.0],[5.0,103.0,61.0,35.0,24.1,2.84,34.0,0.0],[11.0,136.0,76.0,0.0,33.3,-1.21,34.0,0.0],[2.0,180.0,63.0,26.0,35.6,-0.73,26.0,0.0],[7.0,133.0,85.0,0.0,41.8,2.95,37.0,0.0],[6.0,105.0,93.0,19.0,22.7,1.45,49.0,0.0],[8.0,159.0,64.0,0.0,27.0,3.01,41.0,0.0],[1.0,147.0,55.0,0.0,30.2,1.61,29.0,0.0],[3.0,69.0,69.0,27.0,26.5,-1.18,21.0,0.0],[5.0,106.0,0.0,1.0,0.0,1.13,23.0,0.0],[0.0,103.0,79.0,11.0,18.5,2.51,22.0,0.0],[1.0,103.0,48.0,15.0,24.4,1.04,24.0,0.0],[5.0,87.0,66.0,21.0,24.5,1.06,29.0,0.0],[7.0,150.0,65.0,41.0,34.1,1.25,42.0,0.0],[0.0,73.0,49.0,10.0,23.1,-0.19,21.0,0.0],[0.0,100.0,88.0,61.0,47.3,-0.22,31.0,0.0],[1.0,146.0,82.0,0.0,43.4,1.18,43.0,0.0],[1.0,104.0,63.0,41.0,40.4,0.91,22.0,0.0],[2.0,84.0,0.0,0.0,0.0,-0.34,19.0,0.0],[4.0,42.0,63.0,0.0,24.9,-0.85,35.0,0.0],[1.0,140.0,57.0,32.0,25.9,1.42,26.0,0.0],[5.0,97.0,75.0,26.0,29.4,-0.8,33.0,0.0],[2.0,109.0,93.0,0.0,44.1,-0.04,53.0,0.0],[1.0,95.0,68.0,14.0,20.3,-0.89,24.0,0.0],[5.0,147.0,86.0,26.0,29.9,-0.73,27.0,0.0],[5.0,140.0,66.0,35.0,27.8,1.64,26.0,0.0],[4.0,130.0,87.0,21.0,35.4,1.53,23.0,0.0],[0.0,79.0,74.0,31.0,32.9,-0.53,22.0,0.0],[0.0,1.0,48.0,21.0,24.9,0.36,22.0,0.0],[6.0,62.0,78.0,0.0,32.1,1.25,41.0,0.0],[5.0,94.0,72.0,33.0,36.2,1.4,27.0,0.0],[2.0,111.0,66.0,21.0,23.9,0.44,22.0,0.0],[2.0,112.0,43.0,14.0,20.7,0.31,22.0,0.0],[1.0,73.0,0.0,0.0,0.9,0.48,24.0,0.0],[6.0,84.0,78.0,26.0,29.5,1.06,37.0,0.0],[1.0,100.0,64.0,28.0,25.9,-0.11,22.0,0.0],[3.0,111.0,75.0,30.0,31.3,-0.71,26.0,0.0],[14.0,103.0,71.0,53.0,35.9,0.68,45.0,0.0],[1.0,100.0,67.0,25.0,37.8,1.14,26.0,0.0],[1.0,106.0,68.0,22.0,26.4,-0.43,24.0,0.0],[0.0,77.0,55.0,2.0,19.7,0.56,23.0,0.0],[3.0,122.0,80.0,16.0,30.9,1.74,33.0,0.0],[8.0,80.0,78.0,40.0,46.3,-0.32,41.0,0.0],[3.0,142.0,83.0,18.0,24.2,2.29,21.0,0.0],[7.0,144.0,72.0,27.0,33.6,0.42,39.0,0.0],[4.0,94.0,60.0,28.0,31.5,1.01,23.0,0.0],[0.0,72.0,49.0,19.0,21.6,1.34,21.0,0.0],[6.0,93.0,49.0,29.0,28.9,0.73,24.0,0.0],[2.0,150.0,62.0,1.0,26.0,-0.03,22.0,0.0],[0.0,127.0,96.0,0.0,22.7,0.34,21.0,0.0],[2.0,80.0,71.0,18.0,28.1,0.43,23.0,0.0],[2.0,83.0,67.0,1.0,38.7,-0.6,27.0,0.0],[1.0,127.0,55.0,28.0,28.7,1.68,19.0,0.0],[1.0,96.0,120.0,0.0,21.9,0.25,27.0,0.0],[4.0,145.0,58.0,26.0,29.7,0.76,38.0,0.0],[4.0,83.0,58.0,31.0,34.9,-0.27,25.0,0.0],[0.0,90.0,77.0,34.0,30.9,0.03,24.0,0.0],[4.0,76.0,62.0,1.0,33.7,0.44,25.0,0.0],[4.0,78.0,49.0,0.0,33.4,0.6,26.0,0.0],[4.0,95.0,61.0,23.0,27.1,1.28,22.0,0.0],[4.0,98.0,77.0,14.0,21.2,0.78,22.0,0.0],[6.0,110.0,65.0,40.0,33.7,-1.46,25.0,0.0],[2.0,106.0,76.0,30.0,34.2,1.62,24.0,0.0],[6.0,133.0,82.0,0.0,27.7,-0.87,69.0,0.0],[4.0,120.0,70.0,31.0,41.1,-1.16,29.0,0.0],[3.0,119.0,59.0,35.0,33.5,0.04,24.0,0.0],[8.0,85.0,76.0,31.0,39.0,-0.21,40.0,0.0],[2.0,96.0,70.0,13.0,22.8,0.67,26.0,0.0],[5.0,125.0,59.0,20.0,34.4,1.13,31.0,0.0],[0.0,102.0,71.0,25.0,30.7,-1.79,22.0,0.0],[0.0,92.0,61.0,26.0,28.6,2.8,22.0,0.0],[0.0,130.0,79.0,2.0,29.2,2.13,29.0,0.0],[4.0,107.0,72.0,31.0,36.5,-0.08,28.0,0.0],[4.0,128.0,77.0,0.0,21.6,0.84,56.0,0.0],[4.0,106.0,84.0,31.0,39.5,-0.09,39.0,0.0],[2.0,108.0,50.0,26.0,33.0,1.06,23.0,0.0],[5.0,154.0,61.0,32.0,32.2,0.55,23.0,0.0],[2.0,103.0,74.0,24.0,0.0,0.81,22.0,0.0],[9.0,58.0,79.0,38.0,33.4,-0.82,41.0,0.0],[1.0,106.0,64.0,35.0,30.1,0.52,34.0,0.0],[5.0,148.0,77.0,0.0,32.3,-0.69,67.0,0.0],[0.0,90.0,71.0,16.0,25.5,-1.53,22.0,0.0],[2.0,135.0,72.0,52.0,36.6,0.32,24.0,0.0],[5.0,115.0,64.0,0.0,21.7,2.08,38.0,0.0],[3.0,154.0,82.0,42.0,40.8,0.45,23.0,0.0],[2.0,99.0,52.0,15.0,24.1,-0.51,22.0,0.0],[1.0,110.0,56.0,21.0,23.9,0.74,22.0,0.0],[2.0,88.0,73.0,18.0,28.7,-0.43,22.0,0.0],[3.0,151.0,89.0,38.0,29.8,-1.16,34.0,0.0],[5.0,102.0,73.0,43.0,37.9,-0.64,45.0,0.0],[1.0,114.0,80.0,34.0,43.6,-0.13,28.0,0.0],[3.0,101.0,64.0,23.0,30.6,1.0,21.0,0.0],[4.0,148.0,66.0,25.0,33.5,-0.12,22.0,0.0],[3.0,119.0,68.0,2.0,30.0,1.45,32.0,0.0],[2.0,111.0,66.0,0.0,31.8,0.66,29.0,0.0],[3.0,111.0,89.0,13.0,28.5,0.35,30.0,0.0],[2.0,86.0,0.0,23.0,29.6,0.25,24.0,0.0],[1.0,79.0,60.0,40.0,44.9,0.19,23.0,0.0],[3.0,74.0,63.0,25.0,30.2,0.45,34.0,0.0],[7.0,85.0,78.0,0.0,30.8,0.58,43.0,0.0],[4.0,143.0,78.0,1.0,43.9,0.15,48.0,0.0],[5.0,86.0,81.0,0.0,25.1,0.33,32.0,0.0],[1.0,117.0,64.0,18.0,32.7,-0.53,24.0,0.0],[2.0,0.0,74.0,21.0,27.8,0.14,22.0,0.0],[5.0,75.0,59.0,0.0,27.1,1.01,28.0,0.0],[4.0,141.0,74.0,0.0,26.7,1.0,38.0,0.0],[3.0,111.0,61.0,1.0,22.0,-0.39,20.0,0.0],[9.0,124.0,69.0,44.0,32.3,1.74,41.0,0.0],[8.0,85.0,54.0,20.0,24.0,-0.2,42.0,0.0],[2.0,103.0,58.0,0.0,25.1,0.72,20.0,0.0],[0.0,112.0,81.0,16.0,32.1,0.19,21.0,0.0],[2.0,139.0,81.0,0.0,40.6,0.82,28.0,0.0],[1.0,107.0,69.0,19.0,26.7,1.33,33.0,0.0],[2.0,98.0,68.0,16.0,19.0,-0.63,27.0,0.0],[5.0,103.0,73.0,34.0,36.7,-0.37,54.0,0.0],[6.0,111.0,70.0,27.0,23.2,0.9,27.0,0.0],[3.0,97.0,64.0,28.0,33.7,-1.45,22.0,0.0],[1.0,79.0,61.0,21.0,27.6,1.41,24.0,0.0],[0.0,147.0,83.0,54.0,40.5,-0.04,23.0,0.0],[6.0,178.0,96.0,32.0,34.2,-1.02,61.0,0.0],[7.0,125.0,67.0,30.0,30.4,0.81,31.0,0.0],[7.0,118.0,0.0,0.0,25.6,0.03,39.0,0.0],[9.0,141.0,60.0,34.0,30.0,0.62,61.0,0.0],[1.0,99.0,65.0,16.0,22.3,0.62,25.0,0.0],[0.0,87.0,79.0,26.0,34.8,-0.27,21.0,0.0],[1.0,101.0,76.0,1.0,36.3,0.01,25.0,0.0],[5.0,198.0,70.0,40.0,35.1,1.66,31.0,0.0],[2.0,117.0,80.0,33.0,45.6,-1.36,24.0,0.0],[1.0,78.0,80.0,25.0,23.7,1.62,22.0,0.0],[6.0,123.0,69.0,0.0,35.1,1.57,30.0,0.0],[2.0,75.0,68.0,27.0,29.5,1.35,23.0,0.0],[0.0,105.0,76.0,0.0,16.9,0.95,27.0,0.0],[0.0,92.0,65.0,23.0,29.6,0.37,21.0,0.0],[2.0,90.0,70.0,31.0,32.3,1.46,21.0,0.0],[3.0,147.0,76.0,34.0,36.1,1.06,29.0,0.0],[10.0,123.0,67.0,0.0,31.7,0.59,42.0,0.0],[0.0,167.0,89.0,34.0,51.8,0.29,22.0,0.0],[10.0,125.0,72.0,34.0,34.5,1.02,33.0,0.0],[0.0,112.0,87.0,18.0,30.8,0.29,23.0,0.0],[8.0,108.0,51.0,1.0,31.0,-0.24,42.0,0.0],[1.0,129.0,85.0,0.0,28.4,0.26,26.0,0.0],[1.0,91.0,80.0,15.0,23.1,1.25,24.0,0.0],[0.0,86.0,67.0,33.0,35.1,-0.66,25.0,0.0],[3.0,110.0,55.0,41.0,28.9,2.31,29.0,0.0],[1.0,112.0,65.0,22.0,28.1,1.34,25.0,0.0],[2.0,193.0,49.0,16.0,25.3,-1.25,25.0,0.0],[4.0,192.0,70.0,16.0,30.6,-1.02,34.0,0.0],[4.0,95.0,70.0,30.0,33.6,-0.5,23.0,0.0],[2.0,142.0,80.0,16.0,29.7,-0.17,64.0,0.0],[5.0,95.0,75.0,18.0,33.5,0.52,44.0,0.0],[2.0,129.0,64.0,42.0,40.3,-0.35,24.0,0.0],[0.0,101.0,51.0,1.0,23.9,1.65,20.0,0.0],[3.0,108.0,61.0,30.0,24.7,1.0,21.0,0.0],[4.0,124.0,77.0,0.0,23.0,0.56,39.0,0.0],[1.0,70.0,78.0,50.0,34.9,0.86,19.0,0.0],[12.0,106.0,70.0,0.0,32.8,-0.25,52.0,0.0],[4.0,99.0,70.0,53.0,39.1,0.81,26.0,0.0],[0.0,104.0,62.0,24.0,27.3,0.78,23.0,0.0],[5.0,115.0,74.0,0.0,25.0,-0.29,56.0,0.0],[1.0,107.0,62.0,10.0,26.4,2.24,21.0,0.0],[12.0,129.0,76.0,25.0,35.2,-1.77,40.0,0.0],[8.0,133.0,87.0,14.0,33.0,0.47,35.0,0.0],[5.0,135.0,74.0,25.0,27.4,2.07,51.0,0.0],[3.0,154.0,84.0,44.0,37.5,0.98,33.0,0.0],[3.0,97.0,56.0,18.0,19.3,-0.89,25.0,0.0],[6.0,109.0,70.0,43.0,35.1,-1.49,34.0,0.0],[0.0,78.0,89.0,29.0,35.7,-1.04,20.0,0.0],[0.0,161.0,50.0,1.0,22.2,0.97,66.0,0.0],[5.0,153.0,60.0,32.0,34.5,2.33,30.0,0.0],[2.0,126.0,85.0,30.0,32.2,-0.23,23.0,0.0],[8.0,112.0,73.0,0.0,24.2,1.26,59.0,0.0],[6.0,77.0,83.0,43.0,36.0,-0.82,36.0,0.0],[5.0,150.0,76.0,0.0,23.4,-1.59,38.0,0.0],[2.0,119.0,78.0,37.0,40.5,0.7,28.0,0.0],[1.0,138.0,69.0,14.0,23.9,-1.15,21.0,0.0],[6.0,83.0,65.0,29.0,26.5,0.52,40.0,0.0],[0.0,105.0,69.0,36.0,40.7,0.24,22.0,0.0],[2.0,113.0,51.0,10.0,28.9,0.75,23.0,0.0],[1.0,113.0,66.0,21.0,34.5,0.2,26.0,0.0],[3.0,99.0,79.0,11.0,19.4,-0.13,30.0,0.0],[4.0,115.0,68.0,40.0,37.5,0.19,28.0,0.0],[6.0,129.0,58.0,12.0,27.5,2.08,31.0,0.0],[3.0,113.0,77.0,30.0,35.1,0.65,22.0,0.0],[2.0,158.0,72.0,22.0,25.3,-0.61,23.0,0.0],[10.0,181.0,70.0,0.0,34.9,-1.01,38.0,0.0],[6.0,106.0,70.0,32.0,31.1,-0.23,38.0,0.0],[7.0,119.0,72.0,20.0,22.2,-1.02,46.0,0.0],[1.0,87.0,57.0,16.0,31.8,1.14,25.0,0.0],[11.0,104.0,80.0,0.0,22.8,-0.58,43.0,0.0],[1.0,97.0,60.0,17.0,23.8,-0.73,23.0,0.0],[0.0,164.0,78.0,43.0,47.7,0.93,27.0,0.0],[1.0,116.0,0.0,0.0,35.3,0.34,44.0,0.0],[1.0,131.0,71.0,14.0,25.9,-1.24,22.0,0.0],[0.0,96.0,73.0,22.0,27.8,0.11,36.0,0.0],[2.0,0.0,68.0,36.0,31.7,-0.49,24.0,0.0],[5.0,123.0,88.0,1.0,36.1,0.04,33.0,0.0],[7.0,96.0,71.0,0.0,35.8,0.4,58.0,0.0],[10.0,126.0,88.0,35.0,38.1,0.4,47.0,0.0],[0.0,140.0,45.0,20.0,27.5,0.54,22.0,0.0],[3.0,115.0,1.0,0.0,20.8,0.48,23.0,0.0],[4.0,98.0,61.0,19.0,23.0,0.67,27.0,0.0],[4.0,91.0,81.0,0.0,41.1,-0.99,30.0,0.0],[5.0,138.0,83.0,0.0,30.6,0.73,31.0,0.0],[3.0,61.0,81.0,27.0,35.8,0.16,46.0,0.0],[1.0,90.0,63.0,12.0,26.1,1.18,26.0,0.0],[2.0,92.0,77.0,0.0,41.9,1.96,20.0,0.0],[12.0,88.0,75.0,40.0,35.0,-1.78,49.0,0.0],[4.0,159.0,70.0,0.0,28.0,1.26,64.0,0.0],[5.0,104.0,108.0,37.0,39.6,-0.27,66.0,0.0],[4.0,147.0,72.0,25.0,34.8,-1.34,30.0,0.0],[4.0,99.0,56.0,28.0,34.6,0.3,30.0,0.0],[1.0,101.0,65.0,18.0,22.0,0.06,20.0,0.0],[4.0,82.0,88.0,15.0,26.9,-0.01,23.0,0.0],[1.0,119.0,64.0,24.0,0.2,1.9,22.0,0.0],[0.0,82.0,64.0,22.0,37.0,-1.36,21.0,0.0],[1.0,105.0,57.0,40.0,34.7,-0.98,26.0,0.0],[1.0,122.0,53.0,43.0,35.6,-0.04,27.0,0.0],[0.0,97.0,82.0,15.0,25.0,0.83,23.0,0.0],[2.0,88.0,60.0,37.0,38.2,0.6,23.0,0.0],[0.0,92.0,101.0,40.0,43.0,1.76,34.0,0.0],[0.0,106.0,72.0,28.0,32.1,2.94,24.0,0.0],[0.0,105.0,66.0,21.0,19.6,-1.27,23.0,0.0],[0.0,107.0,61.0,8.0,25.3,2.07,22.0,0.0],[1.0,91.0,63.0,18.0,23.4,0.98,25.0,0.0],[1.0,126.0,69.0,25.0,23.0,0.74,26.0,0.0],[1.0,120.0,53.0,14.0,23.2,-0.12,26.0,0.0],[2.0,100.0,70.0,24.0,30.7,0.41,27.0,0.0],[1.0,100.0,68.0,29.0,32.4,-0.2,42.0,0.0],[1.0,132.0,66.0,15.0,24.5,0.2,20.0,0.0],[4.0,116.0,71.0,13.0,20.8,1.96,37.0,0.0],[2.0,128.0,58.0,23.0,27.5,-0.25,26.0,0.0],[3.0,95.0,56.0,36.0,25.2,0.67,39.0,0.0],[1.0,81.0,71.0,0.0,21.3,1.83,25.0,0.0],[6.0,136.0,61.0,0.0,22.1,-0.23,54.0,0.0],[8.0,73.0,78.0,24.0,32.9,0.63,39.0,0.0],[1.0,125.0,48.0,32.0,42.0,1.54,26.0,0.0],[0.0,101.0,61.0,0.0,22.3,1.55,26.0,0.0],[5.0,102.0,92.0,39.0,36.1,1.11,27.0,0.0],[2.0,112.0,73.0,30.0,34.3,0.02,24.0,0.0],[1.0,142.0,84.0,21.0,41.4,0.47,22.0,0.0],[2.0,143.0,75.0,20.0,25.3,0.0,20.0,0.0],[1.0,97.0,69.0,21.0,27.2,0.67,22.0,0.0],[1.0,82.0,69.0,1.0,18.2,2.25,28.0,0.0],[0.0,119.0,88.0,41.0,45.0,-0.7,27.0,0.0],[3.0,94.0,67.0,19.0,27.5,0.73,21.0,0.0],[0.0,103.0,65.0,46.0,41.6,-1.21,21.0,0.0],[0.0,115.0,64.0,22.0,31.7,-0.03,22.0,0.0],[0.0,94.0,0.0,0.0,0.0,0.44,25.0,0.0],[2.0,134.0,95.0,45.0,41.0,0.15,26.0,0.0],[3.0,99.0,0.0,2.0,23.5,0.93,23.0,0.0],[3.0,89.0,74.0,17.0,30.0,0.4,38.0,0.0],[3.0,79.0,74.0,10.0,29.5,-0.34,22.0,0.0],[2.0,138.0,73.0,2.0,27.2,0.79,28.0,0.0],[0.0,91.0,68.0,9.0,23.2,0.79,36.0,0.0],[12.0,140.0,87.0,33.0,36.6,-0.81,41.0,0.0],[4.0,147.0,75.0,0.0,29.6,0.59,29.0,0.0],[2.0,97.0,70.0,15.0,18.3,-0.35,20.0,0.0],[6.0,106.0,86.0,0.0,37.3,-0.01,30.0,0.0],[2.0,84.0,66.0,23.0,33.5,0.95,22.0,0.0],[4.0,118.0,64.0,28.0,34.4,0.03,25.0,0.0],[3.0,100.0,73.0,13.0,25.9,-0.28,28.0,0.0],[0.0,95.0,80.0,44.0,36.2,0.68,25.0,0.0],[0.0,118.0,73.0,19.0,29.6,1.51,27.0,0.0],[0.0,84.0,64.0,14.0,19.0,2.03,22.0,0.0],[0.0,92.0,68.0,31.0,40.6,1.25,26.0,0.0],[2.0,121.0,1.0,0.0,21.1,0.32,74.0,0.0],[3.0,100.0,53.0,28.0,38.3,0.85,25.0,0.0],[1.0,135.0,53.0,1.0,24.9,0.88,63.0,0.0],[4.0,87.0,68.0,28.0,30.5,0.8,25.0,0.0],[7.0,133.0,75.0,34.0,24.6,-0.79,81.0,0.0],[10.0,120.0,71.0,22.0,21.2,0.69,50.0,0.0],[1.0,70.0,62.0,1.0,20.0,0.78,25.0,0.0],[6.0,75.0,71.0,41.0,34.2,1.19,41.0,0.0],[6.0,88.0,79.0,31.0,28.4,-0.36,36.0,0.0],[10.0,115.0,97.0,0.0,22.6,0.26,34.0,0.0],[0.0,123.0,55.0,14.0,22.4,-0.33,19.0,0.0],[0.0,74.0,52.0,7.0,29.2,0.85,21.0,0.0],[1.0,98.0,65.0,38.0,37.6,1.2,26.0,0.0],[5.0,155.0,77.0,41.0,45.6,0.01,28.0,0.0],[1.0,143.0,83.0,39.0,40.5,-1.3,28.0,0.0],[0.0,137.0,69.0,36.0,31.5,-0.77,24.0,0.0],[0.0,120.0,65.0,28.0,38.1,-0.83,22.0,0.0],[7.0,136.0,90.0,1.0,28.4,0.07,50.0,0.0],[4.0,113.0,62.0,0.0,29.7,1.4,23.0,0.0],[0.0,137.0,84.0,28.0,26.9,1.13,59.0,0.0],[7.0,114.0,76.0,17.0,23.7,0.04,32.0,0.0],[8.0,127.0,74.0,37.0,26.1,0.29,38.0,0.0],[3.0,130.0,85.0,31.0,27.1,-0.37,62.0,0.0],[1.0,123.0,88.0,36.0,35.6,0.24,28.0,0.0],[4.0,86.0,60.0,23.0,27.7,0.36,26.0,0.0],[1.0,83.0,82.0,29.0,38.5,-0.61,24.0,0.0],[1.0,138.0,63.0,40.0,38.6,-0.45,21.0,0.0],[1.0,173.0,81.0,31.0,46.5,1.91,57.0,0.0],[4.0,100.0,71.0,17.0,24.7,0.46,27.0,0.0],[8.0,192.0,79.0,1.0,26.5,1.72,66.0,0.0],[1.0,82.0,65.0,29.0,36.5,0.69,25.0,0.0],[3.0,90.0,89.0,31.0,33.7,0.56,43.0,0.0],[4.0,98.0,69.0,39.0,32.2,-0.54,32.0,0.0],[4.0,80.0,0.0,1.0,0.5,-1.62,22.0,0.0],[5.0,166.0,74.0,1.0,26.7,1.67,65.0,0.0],[6.0,109.0,68.0,1.0,26.2,-0.25,27.0,0.0],[2.0,81.0,72.0,14.0,31.0,1.85,24.0,0.0],[7.0,154.0,75.0,32.0,27.8,0.49,39.0,0.0],[2.0,117.0,92.0,19.0,24.4,1.03,22.0,0.0],[2.0,83.0,71.0,36.0,35.4,1.49,28.0,0.0],[8.0,93.0,63.0,22.0,33.5,1.89,40.0,0.0],[4.0,94.0,78.0,39.0,37.8,-1.48,39.0,0.0],[9.0,74.0,82.0,1.0,34.2,1.02,38.0,0.0],[0.0,131.0,60.0,22.0,30.7,0.62,19.0,0.0],[3.0,85.0,50.0,23.0,30.0,2.51,20.0,0.0],[8.0,119.0,78.0,0.0,24.9,1.5,63.0,0.0],[1.0,141.0,64.0,18.0,22.4,0.58,20.0,0.0],[8.0,91.0,68.0,1.0,25.1,1.16,58.0,0.0],[3.0,89.0,61.0,0.0,26.3,1.26,22.0,0.0],[1.0,98.0,53.0,19.0,24.0,-0.24,23.0,0.0],[7.0,126.0,86.0,1.0,37.9,1.23,51.0,0.0],[14.0,77.0,60.0,0.0,32.8,0.2,41.0,0.0],[6.0,127.0,91.0,7.0,20.7,-0.41,59.0,0.0],[2.0,68.0,70.0,32.0,24.0,0.35,25.0,0.0],[3.0,123.0,80.0,34.0,32.3,1.21,26.0,0.0],[7.0,112.0,0.0,0.0,0.0,1.95,27.0,0.0],[2.0,126.0,58.0,0.0,32.7,-0.65,24.0,0.0],[4.0,88.0,59.0,19.0,22.2,1.69,21.0,0.0],[1.0,98.0,64.0,19.0,17.8,0.84,21.0,0.0],[2.0,116.0,74.0,14.0,25.6,-0.7,22.0,0.0],[0.0,117.0,66.0,32.0,32.5,-0.86,23.0,0.0],[2.0,111.0,65.0,0.0,23.8,0.32,32.0,0.0],[3.0,122.0,60.0,17.0,30.1,2.87,22.0,0.0],[0.0,106.0,76.0,1.0,45.7,1.01,23.0,0.0],[2.0,86.0,64.0,51.0,41.9,3.68,29.0,0.0],[6.0,91.0,0.0,0.0,29.3,-0.72,32.0,0.0],[1.0,78.0,57.0,30.0,35.8,0.2,25.0,0.0],[0.0,103.0,90.0,0.0,29.0,2.38,45.0,0.0],[1.0,58.0,61.0,2.0,21.3,0.12,68.0,0.0],[2.0,127.0,79.0,37.0,35.6,0.65,24.0,0.0],[4.0,84.0,91.0,24.0,39.7,0.29,24.0,0.0],[3.0,88.0,77.0,29.0,33.1,1.77,29.0,0.0],[3.0,132.0,68.0,19.0,33.4,-0.75,28.0,0.0],[2.0,163.0,83.0,41.0,32.8,0.07,51.0,0.0],[4.0,191.0,110.0,32.0,28.6,0.95,36.0,0.0],[1.0,115.0,70.0,28.0,26.3,-2.08,20.0,0.0],[3.0,84.0,69.0,31.0,31.6,1.29,25.0,0.0],[7.0,114.0,87.0,0.0,30.2,0.27,66.0,0.0],[1.0,88.0,61.0,25.0,29.4,-0.07,22.0,0.0],[1.0,81.0,63.0,22.0,37.7,1.25,28.0,0.0],[7.0,123.0,70.0,34.0,25.5,3.01,37.0,0.0],[2.0,98.0,71.0,40.0,37.2,0.27,30.0,0.0],[9.0,111.0,76.0,0.0,27.3,1.58,57.0,0.0],[12.0,101.0,65.0,39.0,45.7,-0.35,43.0,0.0],[12.0,86.0,74.0,1.0,30.7,0.58,36.0,0.0],[0.0,89.0,68.0,35.0,38.4,0.79,24.0,0.0],[4.0,99.0,62.0,19.0,25.9,1.73,33.0,0.0],[0.0,90.0,79.0,0.0,32.4,2.19,26.0,0.0],[2.0,95.0,54.0,14.0,26.2,-0.16,22.0,0.0],[2.0,99.0,73.0,32.0,37.9,0.98,20.0,0.0],[6.0,91.0,61.0,34.0,31.9,-0.8,44.0,0.0],[2.0,154.0,72.0,31.0,31.9,0.0,38.0,0.0],[4.0,80.0,68.0,0.0,31.4,1.88,40.0,0.0],[2.0,129.0,94.0,0.0,22.2,-1.35,22.0,0.0],[4.0,112.0,59.0,32.0,28.7,0.14,22.0,0.0],[2.0,99.0,61.0,16.0,34.7,0.29,20.0,0.0],[2.0,145.0,85.0,31.0,28.7,-0.98,23.0,0.0],[0.0,120.0,44.0,46.0,35.2,0.4,24.0,0.0],[8.0,109.0,45.0,20.0,24.0,0.48,35.0,0.0],[9.0,133.0,70.0,0.0,26.4,-2.05,36.0,0.0],[6.0,106.0,62.0,27.0,25.5,-0.55,27.0,0.0],[11.0,120.0,78.0,16.0,27.2,-1.05,62.0,0.0],[8.0,100.0,76.0,0.0,39.4,0.17,41.0,0.0],[0.0,93.0,57.0,10.0,22.6,1.16,22.0,0.0],[5.0,102.0,65.0,0.0,22.1,-0.3,31.0,0.0],[0.0,73.0,0.0,1.0,21.8,0.51,24.0,0.0],[3.0,113.0,76.0,52.0,40.0,-0.55,24.0,0.0],[2.0,82.0,51.0,20.0,28.2,0.98,25.0,0.0],[5.0,123.0,73.0,45.0,32.7,-0.16,33.0,0.0],[0.0,67.0,77.0,0.0,45.2,-0.23,47.0,0.0],[1.0,90.0,23.0,21.0,28.4,0.19,21.0,0.0],[1.0,109.0,37.0,18.0,22.9,0.67,26.0,0.0],[3.0,108.0,89.0,18.0,26.1,-0.61,24.0,0.0],[6.0,96.0,1.0,1.0,22.4,-0.93,27.0,0.0],[1.0,123.0,74.0,36.0,27.9,0.54,31.0,0.0],[0.0,123.0,62.0,34.0,36.7,1.2,21.0,0.0],[2.0,93.0,62.0,24.0,19.6,1.98,26.0,0.0],[2.0,152.0,81.0,38.0,44.0,-0.61,26.0,0.0],[3.0,112.0,61.0,11.0,22.9,0.07,23.0,0.0],[3.0,106.0,54.0,20.0,30.8,0.71,23.0,0.0],[6.0,106.0,81.0,29.0,32.8,0.9,27.0,0.0],[4.0,108.0,73.0,2.0,27.8,2.13,28.0,0.0],[9.0,119.0,95.0,0.0,27.5,-0.27,30.0,0.0],[2.0,67.0,61.0,13.0,20.8,-0.11,26.0,0.0],[2.0,113.0,85.0,42.0,39.8,-0.07,29.0,0.0],[1.0,93.0,76.0,20.0,21.0,3.18,28.0,0.0],[5.0,183.0,92.0,0.0,42.2,3.03,46.0,0.0],[0.0,94.0,71.0,27.0,43.3,-1.35,21.0,0.0],[3.0,106.0,62.0,1.0,30.9,-0.89,20.0,0.0],[3.0,89.0,88.0,47.0,36.7,0.18,30.0,0.0],[1.0,124.0,69.0,1.0,23.8,0.24,22.0,0.0],[1.0,132.0,77.0,2.0,32.3,-0.08,20.0,0.0],[5.0,129.0,81.0,0.0,31.9,-0.14,45.0,0.0],[3.0,94.0,67.0,24.0,24.4,-0.41,20.0,0.0],[1.0,102.0,77.0,39.0,36.1,-0.49,24.0,0.0],[3.0,111.0,61.0,0.0,26.8,-0.14,23.0,0.0],[0.0,128.0,82.0,17.0,28.4,0.17,22.0,0.0],[10.0,93.0,63.0,0.0,26.7,-0.31,31.0,0.0],[6.0,104.0,74.0,1.0,28.0,0.24,48.0,0.0],[2.0,92.0,76.0,16.0,32.1,0.48,23.0,0.0],[1.0,100.0,74.0,13.0,19.8,0.68,27.0,0.0],[2.0,103.0,87.0,18.0,28.0,2.72,27.0,0.0],[4.0,129.0,70.0,0.0,35.8,2.22,24.0,0.0],[4.0,91.0,0.0,0.0,30.2,-0.63,30.0,0.0],[5.0,103.0,73.0,30.0,27.2,-0.98,27.0,0.0],[0.0,157.0,74.0,35.0,38.6,0.85,29.0,0.0],[1.0,108.0,60.0,25.0,26.7,0.84,23.0,0.0],[1.0,90.0,54.0,26.0,25.8,0.35,23.0,0.0],[1.0,118.0,60.0,25.0,34.9,2.06,28.0,0.0],[4.0,122.0,74.0,40.0,33.7,0.87,28.0,0.0],[4.0,119.0,54.0,0.0,26.7,1.23,26.0,0.0],[0.0,106.0,70.0,29.0,33.9,-0.84,23.0,0.0],[2.0,100.0,59.0,33.0,23.9,-0.78,22.0,0.0],[2.0,120.0,81.0,48.0,39.3,1.53,42.0,0.0],[12.0,129.0,105.0,0.0,39.3,0.14,50.0,0.0],[10.0,162.0,85.0,0.0,27.1,-1.23,54.0,0.0],[2.0,112.0,81.0,45.0,35.7,0.07,24.0,0.0],[7.0,96.0,58.0,33.0,34.4,1.06,43.0,0.0],[10.0,158.0,78.0,30.0,31.0,-0.61,45.0,0.0],[7.0,165.0,68.0,26.0,34.5,1.07,47.0,0.0],[2.0,99.0,57.0,10.0,25.3,-0.72,21.0,0.0],[10.0,70.0,107.0,22.0,37.1,0.27,49.0,0.0],[4.0,124.0,101.0,34.0,58.0,1.7,23.0,0.0],[7.0,91.0,83.0,0.0,34.4,-1.05,67.0,0.0],[0.0,93.0,62.0,0.0,32.6,-2.0,25.0,0.0],[2.0,102.0,59.0,16.0,25.2,-0.53,23.0,0.0],[1.0,55.0,55.0,29.0,23.3,-1.48,24.0,0.0],[0.0,94.0,63.0,39.0,45.8,1.29,23.0,0.0],[5.0,134.0,82.0,2.0,0.3,-0.37,70.0,0.0],[0.0,130.0,74.0,27.0,33.9,0.14,25.0,0.0],[4.0,131.0,63.0,0.0,22.5,0.26,22.0,0.0],[1.0,106.0,50.0,18.0,26.8,0.34,30.0,0.0],[1.0,139.0,74.0,27.0,25.1,1.89,22.0,0.0],[7.0,107.0,79.0,1.0,24.3,-1.72,34.0,0.0],[2.0,121.0,71.0,33.0,38.5,0.88,24.0,0.0],[1.0,91.0,61.0,1.0,23.0,1.76,27.0,0.0],[1.0,100.0,0.0,1.0,24.6,-0.37,22.0,0.0],[4.0,126.0,88.0,12.0,34.4,-0.37,28.0,0.0],[4.0,118.0,71.0,0.0,43.2,1.18,26.0,0.0],[3.0,121.0,77.0,27.0,34.6,0.48,26.0,0.0],[1.0,129.0,0.0,1.0,39.3,-0.63,41.0,0.0],[5.0,108.0,75.0,20.0,28.1,-0.38,27.0,0.0],[6.0,80.0,78.0,37.0,40.1,0.39,27.0,0.0],[2.0,127.0,46.0,22.0,34.4,0.91,22.0,0.0],[4.0,158.0,63.0,13.0,30.9,0.49,23.0,0.0],[4.0,125.0,77.0,27.0,31.1,1.38,39.0,0.0],[0.0,136.0,57.0,21.0,26.8,1.32,20.0,0.0],[2.0,103.0,75.0,1.0,28.2,-0.01,33.0,0.0],[11.0,91.0,73.0,18.0,23.1,0.41,55.0,0.0],[3.0,108.0,60.0,46.0,34.1,0.12,23.0,0.0],[4.0,82.0,86.0,21.0,29.1,1.28,34.0,0.0],[0.0,113.0,65.0,36.0,38.0,-0.74,21.0,0.0],[5.0,117.0,87.0,31.0,38.1,1.47,42.0,0.0],[2.0,109.0,91.0,1.0,33.4,-0.07,44.0,0.0],[2.0,111.0,78.0,40.0,39.5,0.85,39.0,0.0],[2.0,117.0,79.0,29.0,35.7,1.6,24.0,0.0],[0.0,143.0,85.0,26.0,31.9,0.82,22.0,0.0],[0.0,175.0,88.0,0.0,20.5,1.01,22.0,0.0],[0.0,91.0,52.0,2.0,31.3,-0.21,21.0,0.0],[3.0,106.0,57.0,26.0,29.6,2.03,23.0,0.0],[3.0,106.0,75.0,2.0,22.8,0.66,53.0,0.0],[4.0,96.0,63.0,33.0,34.7,2.19,28.0,0.0],[0.0,126.0,89.0,27.0,27.3,1.47,20.0,0.0],[7.0,65.0,73.0,24.0,32.7,-0.01,44.0,0.0],[2.0,100.0,61.0,17.0,37.6,1.38,20.0,0.0],[2.0,103.0,44.0,20.0,31.0,-1.91,26.0,0.0],[0.0,110.0,58.0,21.0,27.7,-0.1,23.0,0.0],[11.0,152.0,88.0,37.0,40.3,0.42,39.0,0.0],[12.0,101.0,86.0,35.0,30.4,0.85,45.0,0.0],[1.0,82.0,74.0,41.0,46.0,1.75,32.0,0.0],[1.0,122.0,80.0,39.0,39.1,-0.92,29.0,0.0],[0.0,108.0,63.0,23.0,26.1,-1.43,24.0,0.0],[6.0,136.0,90.0,42.0,31.5,0.79,38.0,0.0],[1.0,107.0,76.0,0.0,37.0,0.87,26.0,0.0],[1.0,89.0,58.0,25.0,26.6,1.47,20.0,0.0],[11.0,90.0,62.0,0.0,22.8,0.14,32.0,0.0],[9.0,102.0,77.0,51.0,33.2,1.11,60.0,0.0],[1.0,121.0,69.0,25.0,37.8,0.53,25.0,0.0],[5.0,121.0,72.0,23.0,26.3,-0.14,30.0,0.0],[1.0,93.0,70.0,32.0,30.8,1.8,24.0,0.0]],\"hovertemplate\":\"Outcome=%{customdata[7]}\\u003cbr\\u003eInsulin=%{x}\\u003cbr\\u003ePregnancies=%{customdata[0]}\\u003cbr\\u003eGlucose=%{customdata[1]}\\u003cbr\\u003eBloodPressure=%{customdata[2]}\\u003cbr\\u003eSkinThickness=%{customdata[3]}\\u003cbr\\u003eBMI=%{customdata[4]}\\u003cbr\\u003eDiabetesPedigreeFunction=%{customdata[5]}\\u003cbr\\u003eAge=%{customdata[6]}\\u003cextra\\u003e\\u003c\\u002fextra\\u003e\",\"legendgroup\":\"0\",\"marker\":{\"color\":\"#ab63fa\"},\"name\":\"0\",\"offsetgroup\":\"0\",\"scalegroup\":\"x\",\"showlegend\":false,\"x\":[1,95,0,1,0,0,83,235,0,140,110,1,0,55,0,0,192,0,71,1,1,0,0,1,1,84,37,24,340,0,109,0,141,1,0,128,0,0,38,98,140,270,0,0,0,0,0,0,0,71,2,126,1,72,0,0,175,48,62,228,0,75,64,0,0,40,0,152,0,140,18,36,0,1,1,51,0,100,1,135,96,0,50,140,52,92,0,325,2,0,63,285,0,0,120,1,0,205,0,485,94,134,53,1,106,285,0,0,1,1,78,0,49,56,0,1,0,91,23,0,0,0,96,0,0,0,0,0,43,190,1,86,0,0,0,121,0,190,57,31,0,743,54,37,1,45,1,1,88,194,0,679,402,0,0,0,55,0,0,0,375,130,1,1,67,0,0,55,0,45,1,57,116,1,278,121,155,134,547,51,75,41,1,120,218,0,42,0,105,147,1,148,85,94,63,140,232,0,169,0,66,2,53,0,58,255,1,104,74,0,1,1,106,83,1,76,2,0,0,43,0,55,0,1,292,85,2,67,90,65,96,158,84,76,72,84,3,183,59,109,48,81,196,416,89,275,113,0,0,0,163,1,0,176,309,62,2,0,168,76,76,1,0,148,0,86,61,1,0,0,0,1,1,50,120,68,92,65,95,211,2,104,0,72,61,58,0,49,0,0,105,36,100,141,0,0,1,0,0,1,112,75,1,0,50,125,481,265,1,1,66,0,0,1,0,1,76,192,70,0,81,1,1,169,76,0,211,1,0,86,0,0,327,67,130,1,1,1,81,105,189,0,105,1,65,0,55,2,0,211,57,75,168,66,0,0,105,1,43,117,214,0,0,2,0,78,54,0,87,17,126,126,0,0,45,121,329,63,129,0,0,0,2,0,0,0,141,115,230,0,25,120,1,0,0,0,38,271,181,158,0,0,1,15,160,0,0,116,0,55,0,1,1,0,90,0,182,2,0,65,46,105,0,3,152,441,0,101,106,78,1,134,90,202,0,0,133,190,101,168,0,49,238,0,2,265,45,105,1,204,1,1,182,0,95,0,0,155,0,200,1,101,0,334,386,23,293,0,0,179,0,200,105,1,1,182,1,0,0,167,0,0,120,2,161,95,118,141,104,59,76,0,0,0,17,1,181,0,113,0],\"xaxis\":\"x2\",\"yaxis\":\"y2\",\"type\":\"violin\"}],                        {\"template\":{\"data\":{\"barpolar\":[{\"marker\":{\"line\":{\"color\":\"rgb(17,17,17)\",\"width\":0.5},\"pattern\":{\"fillmode\":\"overlay\",\"size\":10,\"solidity\":0.2}},\"type\":\"barpolar\"}],\"bar\":[{\"error_x\":{\"color\":\"#f2f5fa\"},\"error_y\":{\"color\":\"#f2f5fa\"},\"marker\":{\"line\":{\"color\":\"rgb(17,17,17)\",\"width\":0.5},\"pattern\":{\"fillmode\":\"overlay\",\"size\":10,\"solidity\":0.2}},\"type\":\"bar\"}],\"carpet\":[{\"aaxis\":{\"endlinecolor\":\"#A2B1C6\",\"gridcolor\":\"#506784\",\"linecolor\":\"#506784\",\"minorgridcolor\":\"#506784\",\"startlinecolor\":\"#A2B1C6\"},\"baxis\":{\"endlinecolor\":\"#A2B1C6\",\"gridcolor\":\"#506784\",\"linecolor\":\"#506784\",\"minorgridcolor\":\"#506784\",\"startlinecolor\":\"#A2B1C6\"},\"type\":\"carpet\"}],\"choropleth\":[{\"colorbar\":{\"outlinewidth\":0,\"ticks\":\"\"},\"type\":\"choropleth\"}],\"contourcarpet\":[{\"colorbar\":{\"outlinewidth\":0,\"ticks\":\"\"},\"type\":\"contourcarpet\"}],\"contour\":[{\"colorbar\":{\"outlinewidth\":0,\"ticks\":\"\"},\"colorscale\":[[0.0,\"#0d0887\"],[0.1111111111111111,\"#46039f\"],[0.2222222222222222,\"#7201a8\"],[0.3333333333333333,\"#9c179e\"],[0.4444444444444444,\"#bd3786\"],[0.5555555555555556,\"#d8576b\"],[0.6666666666666666,\"#ed7953\"],[0.7777777777777778,\"#fb9f3a\"],[0.8888888888888888,\"#fdca26\"],[1.0,\"#f0f921\"]],\"type\":\"contour\"}],\"heatmapgl\":[{\"colorbar\":{\"outlinewidth\":0,\"ticks\":\"\"},\"colorscale\":[[0.0,\"#0d0887\"],[0.1111111111111111,\"#46039f\"],[0.2222222222222222,\"#7201a8\"],[0.3333333333333333,\"#9c179e\"],[0.4444444444444444,\"#bd3786\"],[0.5555555555555556,\"#d8576b\"],[0.6666666666666666,\"#ed7953\"],[0.7777777777777778,\"#fb9f3a\"],[0.8888888888888888,\"#fdca26\"],[1.0,\"#f0f921\"]],\"type\":\"heatmapgl\"}],\"heatmap\":[{\"colorbar\":{\"outlinewidth\":0,\"ticks\":\"\"},\"colorscale\":[[0.0,\"#0d0887\"],[0.1111111111111111,\"#46039f\"],[0.2222222222222222,\"#7201a8\"],[0.3333333333333333,\"#9c179e\"],[0.4444444444444444,\"#bd3786\"],[0.5555555555555556,\"#d8576b\"],[0.6666666666666666,\"#ed7953\"],[0.7777777777777778,\"#fb9f3a\"],[0.8888888888888888,\"#fdca26\"],[1.0,\"#f0f921\"]],\"type\":\"heatmap\"}],\"histogram2dcontour\":[{\"colorbar\":{\"outlinewidth\":0,\"ticks\":\"\"},\"colorscale\":[[0.0,\"#0d0887\"],[0.1111111111111111,\"#46039f\"],[0.2222222222222222,\"#7201a8\"],[0.3333333333333333,\"#9c179e\"],[0.4444444444444444,\"#bd3786\"],[0.5555555555555556,\"#d8576b\"],[0.6666666666666666,\"#ed7953\"],[0.7777777777777778,\"#fb9f3a\"],[0.8888888888888888,\"#fdca26\"],[1.0,\"#f0f921\"]],\"type\":\"histogram2dcontour\"}],\"histogram2d\":[{\"colorbar\":{\"outlinewidth\":0,\"ticks\":\"\"},\"colorscale\":[[0.0,\"#0d0887\"],[0.1111111111111111,\"#46039f\"],[0.2222222222222222,\"#7201a8\"],[0.3333333333333333,\"#9c179e\"],[0.4444444444444444,\"#bd3786\"],[0.5555555555555556,\"#d8576b\"],[0.6666666666666666,\"#ed7953\"],[0.7777777777777778,\"#fb9f3a\"],[0.8888888888888888,\"#fdca26\"],[1.0,\"#f0f921\"]],\"type\":\"histogram2d\"}],\"histogram\":[{\"marker\":{\"pattern\":{\"fillmode\":\"overlay\",\"size\":10,\"solidity\":0.2}},\"type\":\"histogram\"}],\"mesh3d\":[{\"colorbar\":{\"outlinewidth\":0,\"ticks\":\"\"},\"type\":\"mesh3d\"}],\"parcoords\":[{\"line\":{\"colorbar\":{\"outlinewidth\":0,\"ticks\":\"\"}},\"type\":\"parcoords\"}],\"pie\":[{\"automargin\":true,\"type\":\"pie\"}],\"scatter3d\":[{\"line\":{\"colorbar\":{\"outlinewidth\":0,\"ticks\":\"\"}},\"marker\":{\"colorbar\":{\"outlinewidth\":0,\"ticks\":\"\"}},\"type\":\"scatter3d\"}],\"scattercarpet\":[{\"marker\":{\"colorbar\":{\"outlinewidth\":0,\"ticks\":\"\"}},\"type\":\"scattercarpet\"}],\"scattergeo\":[{\"marker\":{\"colorbar\":{\"outlinewidth\":0,\"ticks\":\"\"}},\"type\":\"scattergeo\"}],\"scattergl\":[{\"marker\":{\"line\":{\"color\":\"#283442\"}},\"type\":\"scattergl\"}],\"scattermapbox\":[{\"marker\":{\"colorbar\":{\"outlinewidth\":0,\"ticks\":\"\"}},\"type\":\"scattermapbox\"}],\"scatterpolargl\":[{\"marker\":{\"colorbar\":{\"outlinewidth\":0,\"ticks\":\"\"}},\"type\":\"scatterpolargl\"}],\"scatterpolar\":[{\"marker\":{\"colorbar\":{\"outlinewidth\":0,\"ticks\":\"\"}},\"type\":\"scatterpolar\"}],\"scatter\":[{\"marker\":{\"line\":{\"color\":\"#283442\"}},\"type\":\"scatter\"}],\"scatterternary\":[{\"marker\":{\"colorbar\":{\"outlinewidth\":0,\"ticks\":\"\"}},\"type\":\"scatterternary\"}],\"surface\":[{\"colorbar\":{\"outlinewidth\":0,\"ticks\":\"\"},\"colorscale\":[[0.0,\"#0d0887\"],[0.1111111111111111,\"#46039f\"],[0.2222222222222222,\"#7201a8\"],[0.3333333333333333,\"#9c179e\"],[0.4444444444444444,\"#bd3786\"],[0.5555555555555556,\"#d8576b\"],[0.6666666666666666,\"#ed7953\"],[0.7777777777777778,\"#fb9f3a\"],[0.8888888888888888,\"#fdca26\"],[1.0,\"#f0f921\"]],\"type\":\"surface\"}],\"table\":[{\"cells\":{\"fill\":{\"color\":\"#506784\"},\"line\":{\"color\":\"rgb(17,17,17)\"}},\"header\":{\"fill\":{\"color\":\"#2a3f5f\"},\"line\":{\"color\":\"rgb(17,17,17)\"}},\"type\":\"table\"}]},\"layout\":{\"annotationdefaults\":{\"arrowcolor\":\"#f2f5fa\",\"arrowhead\":0,\"arrowwidth\":1},\"autotypenumbers\":\"strict\",\"coloraxis\":{\"colorbar\":{\"outlinewidth\":0,\"ticks\":\"\"}},\"colorscale\":{\"diverging\":[[0,\"#8e0152\"],[0.1,\"#c51b7d\"],[0.2,\"#de77ae\"],[0.3,\"#f1b6da\"],[0.4,\"#fde0ef\"],[0.5,\"#f7f7f7\"],[0.6,\"#e6f5d0\"],[0.7,\"#b8e186\"],[0.8,\"#7fbc41\"],[0.9,\"#4d9221\"],[1,\"#276419\"]],\"sequential\":[[0.0,\"#0d0887\"],[0.1111111111111111,\"#46039f\"],[0.2222222222222222,\"#7201a8\"],[0.3333333333333333,\"#9c179e\"],[0.4444444444444444,\"#bd3786\"],[0.5555555555555556,\"#d8576b\"],[0.6666666666666666,\"#ed7953\"],[0.7777777777777778,\"#fb9f3a\"],[0.8888888888888888,\"#fdca26\"],[1.0,\"#f0f921\"]],\"sequentialminus\":[[0.0,\"#0d0887\"],[0.1111111111111111,\"#46039f\"],[0.2222222222222222,\"#7201a8\"],[0.3333333333333333,\"#9c179e\"],[0.4444444444444444,\"#bd3786\"],[0.5555555555555556,\"#d8576b\"],[0.6666666666666666,\"#ed7953\"],[0.7777777777777778,\"#fb9f3a\"],[0.8888888888888888,\"#fdca26\"],[1.0,\"#f0f921\"]]},\"colorway\":[\"#636efa\",\"#EF553B\",\"#00cc96\",\"#ab63fa\",\"#FFA15A\",\"#19d3f3\",\"#FF6692\",\"#B6E880\",\"#FF97FF\",\"#FECB52\"],\"font\":{\"color\":\"#f2f5fa\"},\"geo\":{\"bgcolor\":\"rgb(17,17,17)\",\"lakecolor\":\"rgb(17,17,17)\",\"landcolor\":\"rgb(17,17,17)\",\"showlakes\":true,\"showland\":true,\"subunitcolor\":\"#506784\"},\"hoverlabel\":{\"align\":\"left\"},\"hovermode\":\"closest\",\"mapbox\":{\"style\":\"dark\"},\"paper_bgcolor\":\"rgb(17,17,17)\",\"plot_bgcolor\":\"rgb(17,17,17)\",\"polar\":{\"angularaxis\":{\"gridcolor\":\"#506784\",\"linecolor\":\"#506784\",\"ticks\":\"\"},\"bgcolor\":\"rgb(17,17,17)\",\"radialaxis\":{\"gridcolor\":\"#506784\",\"linecolor\":\"#506784\",\"ticks\":\"\"}},\"scene\":{\"xaxis\":{\"backgroundcolor\":\"rgb(17,17,17)\",\"gridcolor\":\"#506784\",\"gridwidth\":2,\"linecolor\":\"#506784\",\"showbackground\":true,\"ticks\":\"\",\"zerolinecolor\":\"#C8D4E3\"},\"yaxis\":{\"backgroundcolor\":\"rgb(17,17,17)\",\"gridcolor\":\"#506784\",\"gridwidth\":2,\"linecolor\":\"#506784\",\"showbackground\":true,\"ticks\":\"\",\"zerolinecolor\":\"#C8D4E3\"},\"zaxis\":{\"backgroundcolor\":\"rgb(17,17,17)\",\"gridcolor\":\"#506784\",\"gridwidth\":2,\"linecolor\":\"#506784\",\"showbackground\":true,\"ticks\":\"\",\"zerolinecolor\":\"#C8D4E3\"}},\"shapedefaults\":{\"line\":{\"color\":\"#f2f5fa\"}},\"sliderdefaults\":{\"bgcolor\":\"#C8D4E3\",\"bordercolor\":\"rgb(17,17,17)\",\"borderwidth\":1,\"tickwidth\":0},\"ternary\":{\"aaxis\":{\"gridcolor\":\"#506784\",\"linecolor\":\"#506784\",\"ticks\":\"\"},\"baxis\":{\"gridcolor\":\"#506784\",\"linecolor\":\"#506784\",\"ticks\":\"\"},\"bgcolor\":\"rgb(17,17,17)\",\"caxis\":{\"gridcolor\":\"#506784\",\"linecolor\":\"#506784\",\"ticks\":\"\"}},\"title\":{\"x\":0.05},\"updatemenudefaults\":{\"bgcolor\":\"#506784\",\"borderwidth\":0},\"xaxis\":{\"automargin\":true,\"gridcolor\":\"#283442\",\"linecolor\":\"#506784\",\"ticks\":\"\",\"title\":{\"standoff\":15},\"zerolinecolor\":\"#283442\",\"zerolinewidth\":2},\"yaxis\":{\"automargin\":true,\"gridcolor\":\"#283442\",\"linecolor\":\"#506784\",\"ticks\":\"\",\"title\":{\"standoff\":15},\"zerolinecolor\":\"#283442\",\"zerolinewidth\":2}}},\"xaxis\":{\"anchor\":\"y\",\"domain\":[0.0,1.0],\"title\":{\"text\":\"Insulin\"}},\"yaxis\":{\"anchor\":\"x\",\"domain\":[0.0,0.7326],\"title\":{\"text\":\"count\"}},\"xaxis2\":{\"anchor\":\"y2\",\"domain\":[0.0,1.0],\"matches\":\"x\",\"showticklabels\":false,\"showgrid\":true},\"yaxis2\":{\"anchor\":\"x2\",\"domain\":[0.7426,1.0],\"matches\":\"y2\",\"showticklabels\":false,\"showline\":false,\"ticks\":\"\",\"showgrid\":false},\"legend\":{\"title\":{\"text\":\"Outcome\"},\"tracegroupgap\":0},\"title\":{\"text\":\"Distribution of CREATININE Insulin Vs Outcome\"},\"barmode\":\"relative\"},                        {\"responsive\": true}                    ).then(function(){\n",
              "                            \n",
              "var gd = document.getElementById('fc691a70-96dc-4bb3-b3d1-c58df5df1d22');\n",
              "var x = new MutationObserver(function (mutations, observer) {{\n",
              "        var display = window.getComputedStyle(gd).display;\n",
              "        if (!display || display === 'none') {{\n",
              "            console.log([gd, 'removed!']);\n",
              "            Plotly.purge(gd);\n",
              "            observer.disconnect();\n",
              "        }}\n",
              "}});\n",
              "\n",
              "// Listen for the removal of the full notebook cells\n",
              "var notebookContainer = gd.closest('#notebook-container');\n",
              "if (notebookContainer) {{\n",
              "    x.observe(notebookContainer, {childList: true});\n",
              "}}\n",
              "\n",
              "// Listen for the clearing of the current output cell\n",
              "var outputEl = gd.closest('.output');\n",
              "if (outputEl) {{\n",
              "    x.observe(outputEl, {childList: true});\n",
              "}}\n",
              "\n",
              "                        })                };                            </script>        </div>\n",
              "</body>\n",
              "</html>"
            ]
          },
          "metadata": {}
        }
      ]
    },
    {
      "cell_type": "markdown",
      "source": [
        "Biểu đồ về insulin cho thấy sự phân bố không đều giữa các bệnh nhân. Đáng chú ý là những bệnh nhân có mức insulin rất thấp thường nằm trong nhóm có nguy cơ mắc bệnh cao hơn. Điều này ám chỉ rằng nồng độ insulin có thể là một yếu tố then chốt để xác định khả năng mắc bệnh tiểu đường."
      ],
      "metadata": {
        "id": "O50SgJHY27mV"
      }
    },
    {
      "cell_type": "markdown",
      "source": [
        "Trực quan hóa về Chỉ số khối cơ thể(BMI)\n"
      ],
      "metadata": {
        "id": "HS1cB2tWBu7W"
      }
    },
    {
      "cell_type": "code",
      "source": [
        "import plotly.graph_objects as go\n",
        "\n",
        "\n",
        "fig = go.Figure()\n",
        "fig.add_trace(go.Histogram(\n",
        "    x = df['BMI'],\n",
        "    xbins=dict( # bins used for histogram\n",
        "        start=0,\n",
        "        end=199,\n",
        "        size=15\n",
        "    ),\n",
        "    marker_color='#1f77b4',  # Column color\n",
        "    opacity=1\n",
        "))\n",
        "\n",
        "fig.update_layout(\n",
        "    title_text='BMI DISTRIBUTION',\n",
        "    xaxis_title_text='BMI',\n",
        "    yaxis_title_text='COUNT',\n",
        "    bargap=0.05,\n",
        "    xaxis={'showgrid': False},\n",
        "    yaxis={'showgrid': False},\n",
        "    template='plotly_dark',\n",
        "    plot_bgcolor='black',  # Background color\n",
        "    paper_bgcolor='black'  # Paper background color\n",
        ")\n",
        "\n",
        "fig.show()"
      ],
      "metadata": {
        "colab": {
          "base_uri": "https://localhost:8080/",
          "height": 542
        },
        "id": "nTZ09Jyn2zeD",
        "outputId": "07513f93-60a0-49d6-cc90-bdac812b22ed"
      },
      "execution_count": null,
      "outputs": [
        {
          "output_type": "display_data",
          "data": {
            "text/html": [
              "<html>\n",
              "<head><meta charset=\"utf-8\" /></head>\n",
              "<body>\n",
              "    <div>            <script src=\"https://cdnjs.cloudflare.com/ajax/libs/mathjax/2.7.5/MathJax.js?config=TeX-AMS-MML_SVG\"></script><script type=\"text/javascript\">if (window.MathJax && window.MathJax.Hub && window.MathJax.Hub.Config) {window.MathJax.Hub.Config({SVG: {font: \"STIX-Web\"}});}</script>                <script type=\"text/javascript\">window.PlotlyConfig = {MathJaxConfig: 'local'};</script>\n",
              "        <script charset=\"utf-8\" src=\"https://cdn.plot.ly/plotly-2.24.1.min.js\"></script>                <div id=\"a06afc60-c070-43ce-9c8d-962cf420b1d2\" class=\"plotly-graph-div\" style=\"height:525px; width:100%;\"></div>            <script type=\"text/javascript\">                                    window.PLOTLYENV=window.PLOTLYENV || {};                                    if (document.getElementById(\"a06afc60-c070-43ce-9c8d-962cf420b1d2\")) {                    Plotly.newPlot(                        \"a06afc60-c070-43ce-9c8d-962cf420b1d2\",                        [{\"marker\":{\"color\":\"#1f77b4\"},\"opacity\":1,\"x\":[33.0,24.9,23.6,26.4,45.6,25.6,30.4,35.6,29.7,0.1,36.9,38.4,26.0,29.0,23.7,31.6,46.1,30.7,43.1,34.8,38.9,37.2,40.4,28.8,36.1,30.9,39.0,22.3,21.1,35.2,36.5,31.6,24.5,18.7,28.1,24.1,33.3,32.7,38.8,36.0,35.6,41.8,22.7,44.0,27.0,41.6,30.2,26.5,38.6,0.0,18.5,24.4,24.5,33.5,34.1,23.1,37.9,47.3,43.4,40.4,0.0,34.0,24.9,25.9,33.8,29.4,33.6,44.1,20.3,29.9,33.8,27.8,42.5,35.4,32.9,24.9,32.1,36.2,41.9,23.9,20.7,0.9,29.5,25.9,50.1,31.3,35.9,37.8,37.9,26.4,19.7,30.9,46.3,23.9,24.2,33.6,31.5,21.6,28.9,50.5,37.0,26.0,22.7,28.1,38.7,28.7,21.9,29.7,34.9,36.9,32.1,31.7,30.9,33.7,30.5,30.7,33.5,33.4,27.1,21.2,51.9,33.7,34.2,27.7,32.2,53.7,41.1,33.5,36.0,27.7,31.1,32.5,33.4,39.0,22.8,34.4,30.7,28.6,29.2,36.5,21.6,39.5,33.0,32.0,32.2,0.0,33.4,30.1,32.3,25.5,36.6,21.7,36.0,40.8,47.8,48.8,24.1,23.9,28.7,39.9,29.8,37.9,43.6,30.6,31.4,31.8,33.5,30.0,31.8,28.5,31.6,34.9,29.6,44.9,30.2,32.9,30.8,66.4,43.9,37.2,25.1,32.7,27.8,27.1,26.7,35.7,30.5,31.1,29.4,33.4,22.0,32.3,31.5,50.8,24.0,39.3,25.1,22.9,35.2,29.2,32.1,40.6,26.7,19.0,36.7,23.2,37.3,38.0,33.7,33.7,27.6,40.5,34.2,43.6,33.5,41.1,36.8,30.4,27.9,38.2,34.3,31.5,25.6,30.0,22.3,34.8,36.3,38.1,35.1,45.6,41.4,47.2,23.7,35.1,29.5,43.6,35.0,43.7,31.0,16.9,29.6,32.3,25.7,27.1,36.1,32.1,31.7,51.8,34.5,30.8,31.0,28.4,23.1,35.1,26.7,32.8,28.9,28.1,25.3,33.0,30.6,30.2,33.6,29.7,31.5,33.5,36.8,40.3,23.9,27.7,45.6,24.7,23.0,34.9,32.8,39.1,27.5,27.3,25.0,26.4,36.4,35.2,33.0,31.2,27.0,27.4,37.5,47.7,19.3,35.1,35.7,35.3,43.5,41.3,22.2,34.5,27.9,32.2,37.4,24.2,34.5,31.4,36.0,51.2,23.4,40.5,23.5,23.9,30.8,33.9,26.5,40.7,25.3,28.9,37.0,34.5,19.4,30.2,37.5,21.5,27.5,30.8,28.4,27.5,35.1,25.3,36.5,34.9,46.0,31.1,22.2,31.8,43.7,22.8,23.8,47.7,35.3,29.9,35.9,39.7,25.9,27.8,31.7,36.1,35.8,38.1,27.5,20.8,23.0,40.4,41.1,30.6,35.8,26.1,41.9,30.5,32.3,41.1,35.0,36.5,31.1,28.0,39.6,39.7,34.8,34.6,24.9,22.0,26.9,33.7,36.4,0.2,37.0,34.7,35.6,40.3,25.0,38.2,48.3,43.0,32.1,19.6,25.3,23.4,23.0,23.2,32.4,43.3,33.0,30.7,32.4,44.7,24.5,20.8,32.1,27.5,25.2,35.0,21.3,36.2,35.5,22.1,35.7,32.9,34.0,42.0,28.5,22.3,26.3,42.2,36.1,34.3,41.4,25.3,35.3,36.3,27.2,39.3,18.2,25.8,45.0,27.5,41.6,31.7,44.2,34.9,0.0,34.0,41.0,35.2,23.5,30.0,29.5,27.2,23.2,43.4,36.6,29.6,18.3,37.3,35.1,33.5,34.4,31.2,31.2,59.4,25.9,36.2,33.2,29.6,19.0,28.0,40.6,21.1,38.3,33.7,24.9,30.5,37.4,24.6,21.2,20.0,34.2,28.4,22.6,22.4,29.2,37.6,29.4,45.6,40.5,31.5,38.1,28.4,29.7,26.9,32.0,23.7,26.1,27.1,36.3,35.6,27.7,38.5,42.9,43.4,38.6,46.5,24.7,26.5,36.5,33.7,32.2,31.1,0.5,26.7,26.2,31.0,25.3,27.8,24.4,35.4,40.1,33.5,37.8,34.2,35.0,30.7,30.0,24.9,29.3,22.4,25.1,26.3,24.0,31.6,28.2,37.9,32.8,20.7,24.0,32.3,0.0,32.4,32.7,22.2,17.8,25.6,32.5,23.8,30.1,45.7,41.9,29.3,35.8,32.2,29.0,21.3,35.6,36.9,36.6,31.4,34.1,39.7,33.1,33.3,43.5,33.4,32.8,28.6,26.3,31.6,30.2,29.4,37.7,25.5,37.2,27.3,45.7,30.7,35.2,40.2,38.4,25.9,32.4,26.2,37.9,31.9,31.9,32.9,31.4,22.2,28.7,34.7,28.7,35.2,24.0,42.9,26.4,35.1,41.7,25.5,27.2,39.4,28.8,22.6,34.9,22.1,32.3,21.8,46.1,40.0,34.6,28.2,32.7,30.5,45.2,28.4,36.4,22.9,26.1,22.4,27.9,34.8,27.8,36.7,39.7,19.6,44.0,22.9,30.8,33.0,35.0,32.8,36.7,27.8,27.5,20.8,28.9,32.5,39.8,21.0,42.2,43.3,30.9,36.7,23.8,32.3,31.9,24.4,27.6,36.1,26.8,28.4,26.7,31.0,28.0,32.1,42.1,19.8,28.0,35.8,29.0,30.2,27.2,38.6,24.0,37.8,26.4,26.7,25.8,34.9,33.7,26.7,33.9,39.2,23.9,39.3,39.3,32.7,27.1,40.5,36.5,37.1,33.6,35.7,33.3,26.7,34.4,31.0,34.5,25.3,37.1,58.0,34.4,30.6,24.9,32.6,35.7,25.2,23.3,48.5,45.8,31.1,0.3,33.9,22.5,26.8,25.1,45.5,24.3,41.8,38.5,39.1,23.0,30.2,29.4,24.6,34.4,43.2,34.6,28.3,36.0,39.3,28.1,40.1,0.2,34.4,31.4,37.9,30.9,31.1,41.4,26.8,28.2,33.1,35.3,23.1,34.1,37.2,29.1,38.0,29.5,38.1,33.4,39.5,35.7,31.9,20.5,31.3,26.7,29.0,44.0,29.6,22.8,34.7,27.3,32.7,37.6,40.7,43.3,31.0,27.7,31.1,40.3,30.4,49.1,46.0,36.1,24.2,29.5,39.1,26.1,42.0,32.8,37.0,31.5,36.7,37.0,34.3,26.6,44.0,22.8,33.2,37.8,26.3,31.2,30.8],\"xbins\":{\"end\":199,\"size\":15,\"start\":0},\"type\":\"histogram\"}],                        {\"template\":{\"data\":{\"barpolar\":[{\"marker\":{\"line\":{\"color\":\"rgb(17,17,17)\",\"width\":0.5},\"pattern\":{\"fillmode\":\"overlay\",\"size\":10,\"solidity\":0.2}},\"type\":\"barpolar\"}],\"bar\":[{\"error_x\":{\"color\":\"#f2f5fa\"},\"error_y\":{\"color\":\"#f2f5fa\"},\"marker\":{\"line\":{\"color\":\"rgb(17,17,17)\",\"width\":0.5},\"pattern\":{\"fillmode\":\"overlay\",\"size\":10,\"solidity\":0.2}},\"type\":\"bar\"}],\"carpet\":[{\"aaxis\":{\"endlinecolor\":\"#A2B1C6\",\"gridcolor\":\"#506784\",\"linecolor\":\"#506784\",\"minorgridcolor\":\"#506784\",\"startlinecolor\":\"#A2B1C6\"},\"baxis\":{\"endlinecolor\":\"#A2B1C6\",\"gridcolor\":\"#506784\",\"linecolor\":\"#506784\",\"minorgridcolor\":\"#506784\",\"startlinecolor\":\"#A2B1C6\"},\"type\":\"carpet\"}],\"choropleth\":[{\"colorbar\":{\"outlinewidth\":0,\"ticks\":\"\"},\"type\":\"choropleth\"}],\"contourcarpet\":[{\"colorbar\":{\"outlinewidth\":0,\"ticks\":\"\"},\"type\":\"contourcarpet\"}],\"contour\":[{\"colorbar\":{\"outlinewidth\":0,\"ticks\":\"\"},\"colorscale\":[[0.0,\"#0d0887\"],[0.1111111111111111,\"#46039f\"],[0.2222222222222222,\"#7201a8\"],[0.3333333333333333,\"#9c179e\"],[0.4444444444444444,\"#bd3786\"],[0.5555555555555556,\"#d8576b\"],[0.6666666666666666,\"#ed7953\"],[0.7777777777777778,\"#fb9f3a\"],[0.8888888888888888,\"#fdca26\"],[1.0,\"#f0f921\"]],\"type\":\"contour\"}],\"heatmapgl\":[{\"colorbar\":{\"outlinewidth\":0,\"ticks\":\"\"},\"colorscale\":[[0.0,\"#0d0887\"],[0.1111111111111111,\"#46039f\"],[0.2222222222222222,\"#7201a8\"],[0.3333333333333333,\"#9c179e\"],[0.4444444444444444,\"#bd3786\"],[0.5555555555555556,\"#d8576b\"],[0.6666666666666666,\"#ed7953\"],[0.7777777777777778,\"#fb9f3a\"],[0.8888888888888888,\"#fdca26\"],[1.0,\"#f0f921\"]],\"type\":\"heatmapgl\"}],\"heatmap\":[{\"colorbar\":{\"outlinewidth\":0,\"ticks\":\"\"},\"colorscale\":[[0.0,\"#0d0887\"],[0.1111111111111111,\"#46039f\"],[0.2222222222222222,\"#7201a8\"],[0.3333333333333333,\"#9c179e\"],[0.4444444444444444,\"#bd3786\"],[0.5555555555555556,\"#d8576b\"],[0.6666666666666666,\"#ed7953\"],[0.7777777777777778,\"#fb9f3a\"],[0.8888888888888888,\"#fdca26\"],[1.0,\"#f0f921\"]],\"type\":\"heatmap\"}],\"histogram2dcontour\":[{\"colorbar\":{\"outlinewidth\":0,\"ticks\":\"\"},\"colorscale\":[[0.0,\"#0d0887\"],[0.1111111111111111,\"#46039f\"],[0.2222222222222222,\"#7201a8\"],[0.3333333333333333,\"#9c179e\"],[0.4444444444444444,\"#bd3786\"],[0.5555555555555556,\"#d8576b\"],[0.6666666666666666,\"#ed7953\"],[0.7777777777777778,\"#fb9f3a\"],[0.8888888888888888,\"#fdca26\"],[1.0,\"#f0f921\"]],\"type\":\"histogram2dcontour\"}],\"histogram2d\":[{\"colorbar\":{\"outlinewidth\":0,\"ticks\":\"\"},\"colorscale\":[[0.0,\"#0d0887\"],[0.1111111111111111,\"#46039f\"],[0.2222222222222222,\"#7201a8\"],[0.3333333333333333,\"#9c179e\"],[0.4444444444444444,\"#bd3786\"],[0.5555555555555556,\"#d8576b\"],[0.6666666666666666,\"#ed7953\"],[0.7777777777777778,\"#fb9f3a\"],[0.8888888888888888,\"#fdca26\"],[1.0,\"#f0f921\"]],\"type\":\"histogram2d\"}],\"histogram\":[{\"marker\":{\"pattern\":{\"fillmode\":\"overlay\",\"size\":10,\"solidity\":0.2}},\"type\":\"histogram\"}],\"mesh3d\":[{\"colorbar\":{\"outlinewidth\":0,\"ticks\":\"\"},\"type\":\"mesh3d\"}],\"parcoords\":[{\"line\":{\"colorbar\":{\"outlinewidth\":0,\"ticks\":\"\"}},\"type\":\"parcoords\"}],\"pie\":[{\"automargin\":true,\"type\":\"pie\"}],\"scatter3d\":[{\"line\":{\"colorbar\":{\"outlinewidth\":0,\"ticks\":\"\"}},\"marker\":{\"colorbar\":{\"outlinewidth\":0,\"ticks\":\"\"}},\"type\":\"scatter3d\"}],\"scattercarpet\":[{\"marker\":{\"colorbar\":{\"outlinewidth\":0,\"ticks\":\"\"}},\"type\":\"scattercarpet\"}],\"scattergeo\":[{\"marker\":{\"colorbar\":{\"outlinewidth\":0,\"ticks\":\"\"}},\"type\":\"scattergeo\"}],\"scattergl\":[{\"marker\":{\"line\":{\"color\":\"#283442\"}},\"type\":\"scattergl\"}],\"scattermapbox\":[{\"marker\":{\"colorbar\":{\"outlinewidth\":0,\"ticks\":\"\"}},\"type\":\"scattermapbox\"}],\"scatterpolargl\":[{\"marker\":{\"colorbar\":{\"outlinewidth\":0,\"ticks\":\"\"}},\"type\":\"scatterpolargl\"}],\"scatterpolar\":[{\"marker\":{\"colorbar\":{\"outlinewidth\":0,\"ticks\":\"\"}},\"type\":\"scatterpolar\"}],\"scatter\":[{\"marker\":{\"line\":{\"color\":\"#283442\"}},\"type\":\"scatter\"}],\"scatterternary\":[{\"marker\":{\"colorbar\":{\"outlinewidth\":0,\"ticks\":\"\"}},\"type\":\"scatterternary\"}],\"surface\":[{\"colorbar\":{\"outlinewidth\":0,\"ticks\":\"\"},\"colorscale\":[[0.0,\"#0d0887\"],[0.1111111111111111,\"#46039f\"],[0.2222222222222222,\"#7201a8\"],[0.3333333333333333,\"#9c179e\"],[0.4444444444444444,\"#bd3786\"],[0.5555555555555556,\"#d8576b\"],[0.6666666666666666,\"#ed7953\"],[0.7777777777777778,\"#fb9f3a\"],[0.8888888888888888,\"#fdca26\"],[1.0,\"#f0f921\"]],\"type\":\"surface\"}],\"table\":[{\"cells\":{\"fill\":{\"color\":\"#506784\"},\"line\":{\"color\":\"rgb(17,17,17)\"}},\"header\":{\"fill\":{\"color\":\"#2a3f5f\"},\"line\":{\"color\":\"rgb(17,17,17)\"}},\"type\":\"table\"}]},\"layout\":{\"annotationdefaults\":{\"arrowcolor\":\"#f2f5fa\",\"arrowhead\":0,\"arrowwidth\":1},\"autotypenumbers\":\"strict\",\"coloraxis\":{\"colorbar\":{\"outlinewidth\":0,\"ticks\":\"\"}},\"colorscale\":{\"diverging\":[[0,\"#8e0152\"],[0.1,\"#c51b7d\"],[0.2,\"#de77ae\"],[0.3,\"#f1b6da\"],[0.4,\"#fde0ef\"],[0.5,\"#f7f7f7\"],[0.6,\"#e6f5d0\"],[0.7,\"#b8e186\"],[0.8,\"#7fbc41\"],[0.9,\"#4d9221\"],[1,\"#276419\"]],\"sequential\":[[0.0,\"#0d0887\"],[0.1111111111111111,\"#46039f\"],[0.2222222222222222,\"#7201a8\"],[0.3333333333333333,\"#9c179e\"],[0.4444444444444444,\"#bd3786\"],[0.5555555555555556,\"#d8576b\"],[0.6666666666666666,\"#ed7953\"],[0.7777777777777778,\"#fb9f3a\"],[0.8888888888888888,\"#fdca26\"],[1.0,\"#f0f921\"]],\"sequentialminus\":[[0.0,\"#0d0887\"],[0.1111111111111111,\"#46039f\"],[0.2222222222222222,\"#7201a8\"],[0.3333333333333333,\"#9c179e\"],[0.4444444444444444,\"#bd3786\"],[0.5555555555555556,\"#d8576b\"],[0.6666666666666666,\"#ed7953\"],[0.7777777777777778,\"#fb9f3a\"],[0.8888888888888888,\"#fdca26\"],[1.0,\"#f0f921\"]]},\"colorway\":[\"#636efa\",\"#EF553B\",\"#00cc96\",\"#ab63fa\",\"#FFA15A\",\"#19d3f3\",\"#FF6692\",\"#B6E880\",\"#FF97FF\",\"#FECB52\"],\"font\":{\"color\":\"#f2f5fa\"},\"geo\":{\"bgcolor\":\"rgb(17,17,17)\",\"lakecolor\":\"rgb(17,17,17)\",\"landcolor\":\"rgb(17,17,17)\",\"showlakes\":true,\"showland\":true,\"subunitcolor\":\"#506784\"},\"hoverlabel\":{\"align\":\"left\"},\"hovermode\":\"closest\",\"mapbox\":{\"style\":\"dark\"},\"paper_bgcolor\":\"rgb(17,17,17)\",\"plot_bgcolor\":\"rgb(17,17,17)\",\"polar\":{\"angularaxis\":{\"gridcolor\":\"#506784\",\"linecolor\":\"#506784\",\"ticks\":\"\"},\"bgcolor\":\"rgb(17,17,17)\",\"radialaxis\":{\"gridcolor\":\"#506784\",\"linecolor\":\"#506784\",\"ticks\":\"\"}},\"scene\":{\"xaxis\":{\"backgroundcolor\":\"rgb(17,17,17)\",\"gridcolor\":\"#506784\",\"gridwidth\":2,\"linecolor\":\"#506784\",\"showbackground\":true,\"ticks\":\"\",\"zerolinecolor\":\"#C8D4E3\"},\"yaxis\":{\"backgroundcolor\":\"rgb(17,17,17)\",\"gridcolor\":\"#506784\",\"gridwidth\":2,\"linecolor\":\"#506784\",\"showbackground\":true,\"ticks\":\"\",\"zerolinecolor\":\"#C8D4E3\"},\"zaxis\":{\"backgroundcolor\":\"rgb(17,17,17)\",\"gridcolor\":\"#506784\",\"gridwidth\":2,\"linecolor\":\"#506784\",\"showbackground\":true,\"ticks\":\"\",\"zerolinecolor\":\"#C8D4E3\"}},\"shapedefaults\":{\"line\":{\"color\":\"#f2f5fa\"}},\"sliderdefaults\":{\"bgcolor\":\"#C8D4E3\",\"bordercolor\":\"rgb(17,17,17)\",\"borderwidth\":1,\"tickwidth\":0},\"ternary\":{\"aaxis\":{\"gridcolor\":\"#506784\",\"linecolor\":\"#506784\",\"ticks\":\"\"},\"baxis\":{\"gridcolor\":\"#506784\",\"linecolor\":\"#506784\",\"ticks\":\"\"},\"bgcolor\":\"rgb(17,17,17)\",\"caxis\":{\"gridcolor\":\"#506784\",\"linecolor\":\"#506784\",\"ticks\":\"\"}},\"title\":{\"x\":0.05},\"updatemenudefaults\":{\"bgcolor\":\"#506784\",\"borderwidth\":0},\"xaxis\":{\"automargin\":true,\"gridcolor\":\"#283442\",\"linecolor\":\"#506784\",\"ticks\":\"\",\"title\":{\"standoff\":15},\"zerolinecolor\":\"#283442\",\"zerolinewidth\":2},\"yaxis\":{\"automargin\":true,\"gridcolor\":\"#283442\",\"linecolor\":\"#506784\",\"ticks\":\"\",\"title\":{\"standoff\":15},\"zerolinecolor\":\"#283442\",\"zerolinewidth\":2}}},\"title\":{\"text\":\"BMI DISTRIBUTION\"},\"xaxis\":{\"title\":{\"text\":\"BMI\"},\"showgrid\":false},\"yaxis\":{\"title\":{\"text\":\"COUNT\"},\"showgrid\":false},\"bargap\":0.05,\"plot_bgcolor\":\"black\",\"paper_bgcolor\":\"black\"},                        {\"responsive\": true}                    ).then(function(){\n",
              "                            \n",
              "var gd = document.getElementById('a06afc60-c070-43ce-9c8d-962cf420b1d2');\n",
              "var x = new MutationObserver(function (mutations, observer) {{\n",
              "        var display = window.getComputedStyle(gd).display;\n",
              "        if (!display || display === 'none') {{\n",
              "            console.log([gd, 'removed!']);\n",
              "            Plotly.purge(gd);\n",
              "            observer.disconnect();\n",
              "        }}\n",
              "}});\n",
              "\n",
              "// Listen for the removal of the full notebook cells\n",
              "var notebookContainer = gd.closest('#notebook-container');\n",
              "if (notebookContainer) {{\n",
              "    x.observe(notebookContainer, {childList: true});\n",
              "}}\n",
              "\n",
              "// Listen for the clearing of the current output cell\n",
              "var outputEl = gd.closest('.output');\n",
              "if (outputEl) {{\n",
              "    x.observe(outputEl, {childList: true});\n",
              "}}\n",
              "\n",
              "                        })                };                            </script>        </div>\n",
              "</body>\n",
              "</html>"
            ]
          },
          "metadata": {}
        }
      ]
    },
    {
      "cell_type": "markdown",
      "source": [
        "Trực quan hóa về Chỉ số khối cơ thể(BMI) ảnh hưởng tới bệnh tiểu đường"
      ],
      "metadata": {
        "id": "EDRlDLe1Bv4s"
      }
    },
    {
      "cell_type": "code",
      "source": [
        "# Now lets categorize the above histogram by Outcome\n",
        "\n",
        "import plotly.express as px\n",
        "fig = px.histogram(df, x=\"BMI\", color=\"Outcome\", marginal=\"violin\", hover_data=df.columns,\n",
        "                   title =\"Distribution of CREATININE BMI Vs Outcome\",\n",
        "                   labels={\"BMI\": \"BMI\"},\n",
        "                   template=\"plotly_dark\",\n",
        "                   color_discrete_map={\"0\": \"RebeccaPurple\", \"1\": \"MediumPurple\"})\n",
        "fig.show()"
      ],
      "metadata": {
        "colab": {
          "base_uri": "https://localhost:8080/",
          "height": 542
        },
        "id": "yTwKOs-22xGP",
        "outputId": "7e6827ba-cfa7-46bc-bd40-205a3294368d"
      },
      "execution_count": null,
      "outputs": [
        {
          "output_type": "display_data",
          "data": {
            "text/html": [
              "<html>\n",
              "<head><meta charset=\"utf-8\" /></head>\n",
              "<body>\n",
              "    <div>            <script src=\"https://cdnjs.cloudflare.com/ajax/libs/mathjax/2.7.5/MathJax.js?config=TeX-AMS-MML_SVG\"></script><script type=\"text/javascript\">if (window.MathJax && window.MathJax.Hub && window.MathJax.Hub.Config) {window.MathJax.Hub.Config({SVG: {font: \"STIX-Web\"}});}</script>                <script type=\"text/javascript\">window.PlotlyConfig = {MathJaxConfig: 'local'};</script>\n",
              "        <script charset=\"utf-8\" src=\"https://cdn.plot.ly/plotly-2.24.1.min.js\"></script>                <div id=\"0089c138-e931-4a9d-8f20-27c4956ef4cb\" class=\"plotly-graph-div\" style=\"height:525px; width:100%;\"></div>            <script type=\"text/javascript\">                                    window.PLOTLYENV=window.PLOTLYENV || {};                                    if (document.getElementById(\"0089c138-e931-4a9d-8f20-27c4956ef4cb\")) {                    Plotly.newPlot(                        \"0089c138-e931-4a9d-8f20-27c4956ef4cb\",                        [{\"alignmentgroup\":\"True\",\"bingroup\":\"x\",\"hovertemplate\":\"Outcome=1\\u003cbr\\u003eBMI=%{x}\\u003cbr\\u003ecount=%{y}\\u003cextra\\u003e\\u003c\\u002fextra\\u003e\",\"legendgroup\":\"1\",\"marker\":{\"color\":\"#00cc96\",\"pattern\":{\"shape\":\"\"}},\"name\":\"1\",\"offsetgroup\":\"1\",\"orientation\":\"v\",\"showlegend\":true,\"x\":[33.0,23.6,45.6,30.4,29.7,0.1,38.4,29.0,23.7,31.6,46.1,30.7,34.8,40.4,28.8,36.1,30.9,39.0,31.6,32.7,38.8,36.0,44.0,41.6,38.6,33.5,37.9,34.0,33.8,33.6,33.8,42.5,41.9,50.1,37.9,23.9,50.5,37.0,36.9,32.1,31.7,30.5,30.7,33.5,51.9,32.2,53.7,36.0,27.7,31.1,32.5,33.4,32.0,36.0,47.8,48.8,39.9,31.4,31.8,31.6,34.9,32.9,66.4,37.2,35.7,30.5,31.1,29.4,33.4,31.5,50.8,39.3,22.9,35.2,29.2,37.3,38.0,33.7,43.6,33.5,41.1,36.8,27.9,38.2,34.3,31.5,38.1,41.4,47.2,43.6,35.0,43.7,31.0,25.7,27.1,32.1,26.7,32.8,33.0,30.2,31.5,36.8,27.7,45.6,27.5,36.4,31.2,27.0,47.7,35.3,43.5,41.3,27.9,37.4,34.5,31.4,51.2,23.5,30.8,33.9,25.3,37.0,30.2,21.5,30.8,28.4,27.5,36.5,46.0,43.7,29.9,35.9,39.7,40.4,30.5,32.3,41.1,36.5,31.1,39.7,24.9,33.7,36.4,40.3,48.3,32.4,43.3,33.0,44.7,32.1,35.0,36.2,35.5,35.7,34.0,28.5,26.3,42.2,35.3,36.3,39.3,25.8,44.2,34.9,34.0,35.2,43.4,35.1,31.2,31.2,59.4,33.2,28.0,33.7,37.4,29.4,32.0,36.3,42.9,43.4,31.1,25.3,40.1,35.0,29.3,31.6,28.2,32.4,32.2,36.9,36.6,31.4,34.1,33.3,43.5,35.2,40.2,32.9,42.9,35.1,41.7,28.8,34.9,32.3,46.1,34.6,30.5,36.4,34.8,27.8,39.7,33.0,35.0,36.7,28.9,32.5,27.6,31.0,42.1,29.0,24.0,37.8,26.4,39.2,32.7,40.5,36.5,37.1,33.6,33.3,26.7,30.6,24.9,35.7,48.5,31.1,45.5,41.8,39.1,30.2,29.4,28.3,36.0,0.2,31.4,37.9,41.4,33.1,35.3,37.2,29.5,26.7,29.0,44.0,40.7,43.3,31.1,49.1,36.1,24.2,29.5,42.0,32.8,37.0,36.7,34.3,44.0,31.2],\"xaxis\":\"x\",\"yaxis\":\"y\",\"type\":\"histogram\"},{\"alignmentgroup\":\"True\",\"customdata\":[[6.0,147.0,72.0,36.0,0.0,1.11,52.0,1.0],[10.0,182.0,64.0,0.0,0.0,0.41,31.0,1.0],[0.0,137.0,39.0,35.0,168.0,2.49,30.0,1.0],[2.0,79.0,50.0,33.0,88.0,0.23,26.0,1.0],[2.0,196.0,72.0,45.0,543.0,1.8,51.0,1.0],[9.0,124.0,97.0,2.0,0.0,-1.39,52.0,1.0],[9.0,170.0,74.0,0.0,0.0,-0.91,33.0,1.0],[1.0,189.0,60.0,24.0,846.0,0.07,59.0,1.0],[5.0,167.0,72.0,20.0,174.0,-0.29,49.0,1.0],[7.0,100.0,0.0,2.0,0.0,0.56,33.0,1.0],[0.0,119.0,84.0,47.0,231.0,-0.29,30.0,1.0],[6.0,107.0,73.0,0.0,0.0,1.21,32.0,1.0],[2.0,115.0,71.0,31.0,97.0,1.08,31.0,1.0],[7.0,196.0,90.0,0.0,0.0,0.34,41.0,1.0],[8.0,120.0,79.0,34.0,0.0,-1.42,29.0,1.0],[11.0,144.0,92.0,32.0,145.0,1.01,51.0,1.0],[10.0,127.0,69.0,25.0,115.0,1.01,40.0,1.0],[7.0,148.0,76.0,0.0,0.0,0.38,44.0,1.0],[2.0,158.0,74.0,37.0,245.0,1.69,29.0,1.0],[8.0,102.0,76.0,35.0,0.0,0.67,46.0,1.0],[1.0,90.0,69.0,43.0,1.0,1.49,28.0,1.0],[5.0,111.0,71.0,46.0,208.0,1.22,56.0,1.0],[10.0,172.0,110.0,23.0,241.0,1.75,55.0,1.0],[0.0,179.0,66.0,39.0,1.0,0.79,26.0,1.0],[8.0,102.0,67.0,32.0,0.0,-0.12,31.0,1.0],[8.0,175.0,90.0,34.0,302.0,-0.5,59.0,1.0],[10.0,187.0,69.0,38.0,304.0,0.15,43.0,1.0],[6.0,134.0,71.0,0.0,0.0,-0.78,39.0,1.0],[7.0,114.0,67.0,0.0,0.0,1.85,42.0,1.0],[1.0,107.0,90.0,29.0,0.0,0.8,40.0,1.0],[2.0,100.0,66.0,21.0,91.0,0.66,30.0,1.0],[13.0,129.0,90.0,0.0,0.0,0.3,42.0,1.0],[1.0,131.0,1.0,0.0,0.0,-0.49,24.0,1.0],[4.0,136.0,108.0,0.0,0.0,-0.67,36.0,1.0],[14.0,136.0,69.0,32.0,112.0,0.47,44.0,1.0],[4.0,134.0,71.0,0.0,0.0,-0.48,59.0,1.0],[0.0,125.0,90.0,51.0,221.0,0.99,31.0,1.0],[1.0,163.0,71.0,0.0,0.0,1.58,35.0,1.0],[0.0,95.0,84.0,25.0,36.0,2.14,23.0,1.0],[3.0,172.0,71.0,32.0,135.0,-1.38,23.0,1.0],[7.0,154.0,62.0,27.0,496.0,2.65,46.0,1.0],[7.0,160.0,55.0,30.0,174.0,0.64,39.0,1.0],[3.0,147.0,91.0,0.0,1.0,-0.25,61.0,1.0],[7.0,124.0,75.0,0.0,0.0,1.97,39.0,1.0],[1.0,161.0,77.0,58.0,99.0,1.03,25.0,1.0],[0.0,112.0,76.0,0.0,0.0,1.83,23.0,1.0],[1.0,88.0,31.0,41.0,98.0,-1.4,25.0,1.0],[1.0,119.0,88.0,23.0,144.0,-0.44,41.0,1.0],[1.0,105.0,83.0,1.0,0.0,-1.08,61.0,1.0],[3.0,172.0,70.0,15.0,169.0,2.09,32.0,1.0],[10.0,123.0,57.0,0.0,0.0,-0.86,33.0,1.0],[4.0,173.0,62.0,39.0,225.0,-0.16,27.0,1.0],[10.0,108.0,65.0,1.0,0.0,-0.23,41.0,1.0],[9.0,155.0,86.0,29.0,155.0,3.08,43.0,1.0],[7.0,188.0,79.0,1.0,0.0,1.98,42.0,1.0],[7.0,153.0,90.0,44.0,0.0,-0.19,34.0,1.0],[18.0,162.0,71.0,40.0,115.0,-0.73,47.0,1.0],[2.0,132.0,89.0,0.0,0.0,2.49,32.0,1.0],[6.0,103.0,72.0,16.0,156.0,1.47,39.0,1.0],[5.0,102.0,83.0,0.0,0.0,-1.12,36.0,1.0],[6.0,134.0,70.0,22.0,130.0,1.59,29.0,1.0],[8.0,179.0,72.0,42.0,130.0,0.9,36.0,1.0],[0.0,130.0,110.0,45.0,130.0,0.71,27.0,1.0],[4.0,131.0,82.0,1.0,0.0,-0.92,39.0,1.0],[7.0,195.0,67.0,27.0,0.0,0.46,42.0,1.0],[9.0,180.0,69.0,36.0,494.0,0.43,61.0,1.0],[1.0,127.0,98.0,41.0,57.0,2.76,33.0,1.0],[8.0,110.0,76.0,40.0,114.0,0.18,32.0,1.0],[3.0,140.0,81.0,35.0,161.0,0.9,27.0,1.0],[6.0,159.0,66.0,2.0,0.0,0.11,34.0,1.0],[11.0,137.0,0.0,1.0,0.0,-0.72,41.0,1.0],[6.0,157.0,83.0,40.0,210.0,0.14,29.0,1.0],[3.0,108.0,63.0,15.0,46.0,-0.51,22.0,1.0],[5.0,109.0,65.0,44.0,98.0,-0.94,25.0,1.0],[3.0,150.0,61.0,28.0,319.0,1.82,31.0,1.0],[8.0,195.0,77.0,29.0,279.0,2.22,56.0,1.0],[4.0,161.0,105.0,1.0,0.0,0.52,54.0,1.0],[8.0,183.0,83.0,34.0,0.0,-0.5,43.0,1.0],[0.0,139.0,63.0,26.0,128.0,1.36,25.0,1.0],[8.0,111.0,82.0,32.0,176.0,1.46,38.0,1.0],[12.0,151.0,71.0,40.0,270.0,0.34,39.0,1.0],[7.0,111.0,63.0,40.0,129.0,0.27,25.0,1.0],[4.0,85.0,73.0,23.0,0.0,0.25,32.0,1.0],[5.0,112.0,64.0,0.0,1.0,-0.64,43.0,1.0],[1.0,177.0,60.0,30.0,477.0,2.14,22.0,1.0],[0.0,156.0,91.0,1.0,1.0,0.52,66.0,1.0],[3.0,162.0,52.0,37.0,0.0,0.27,24.0,1.0],[4.0,143.0,86.0,1.0,1.0,0.01,20.0,1.0],[6.0,134.0,79.0,36.0,370.0,1.47,47.0,1.0],[4.0,172.0,73.0,0.0,0.0,0.8,26.0,1.0],[8.0,181.0,83.0,22.0,190.0,1.19,52.0,1.0],[0.0,180.0,90.0,27.0,1.0,2.02,21.0,1.0],[9.0,164.0,85.0,21.0,0.0,0.64,31.0,1.0],[3.0,138.0,54.0,0.0,2.0,-0.92,23.0,1.0],[7.0,120.0,50.0,23.0,176.0,1.8,35.0,1.0],[9.0,185.0,84.0,14.0,0.0,0.72,50.0,1.0],[12.0,93.0,62.0,8.0,256.0,1.74,44.0,1.0],[3.0,113.0,64.0,35.0,0.0,0.57,20.0,1.0],[9.0,154.0,76.0,27.0,148.0,3.09,51.0,1.0],[3.0,140.0,2.0,0.0,1.0,2.25,27.0,1.0],[3.0,123.0,62.0,0.0,2.0,0.72,34.0,1.0],[2.0,138.0,0.0,1.0,0.0,-0.15,25.0,1.0],[1.0,149.0,0.0,0.0,0.0,-0.17,29.0,1.0],[10.0,100.0,88.0,37.0,1.0,1.03,36.0,1.0],[9.0,105.0,60.0,23.0,0.0,0.07,31.0,1.0],[0.0,146.0,69.0,1.0,0.0,0.11,28.0,1.0],[6.0,161.0,86.0,0.0,0.0,0.59,46.0,1.0],[1.0,106.0,80.0,2.0,0.0,-0.4,53.0,1.0],[0.0,118.0,85.0,37.0,220.0,2.22,29.0,1.0],[0.0,107.0,64.0,29.0,73.0,1.56,25.0,1.0],[2.0,128.0,78.0,38.0,183.0,2.41,31.0,1.0],[0.0,129.0,49.0,46.0,192.0,0.82,24.0,1.0],[3.0,146.0,71.0,36.0,360.0,1.98,29.0,1.0],[14.0,100.0,79.0,25.0,185.0,1.26,47.0,1.0],[0.0,168.0,0.0,0.0,0.0,0.15,29.0,1.0],[1.0,146.0,58.0,33.0,135.0,0.19,26.0,1.0],[5.0,115.0,97.0,0.0,0.0,0.63,29.0,1.0],[11.0,161.0,67.0,24.0,129.0,0.44,48.0,1.0],[0.0,128.0,68.0,20.0,179.0,2.21,25.0,1.0],[4.0,124.0,69.0,29.0,206.0,3.26,31.0,1.0],[2.0,155.0,73.0,16.0,96.0,-0.47,26.0,1.0],[9.0,110.0,79.0,31.0,0.0,1.77,42.0,1.0],[3.0,182.0,74.0,0.0,0.0,-0.16,28.0,1.0],[5.0,194.0,76.0,0.0,1.0,2.74,60.0,1.0],[3.0,111.0,75.0,31.0,0.0,-0.11,25.0,1.0],[0.0,123.0,71.0,20.0,0.0,0.96,35.0,1.0],[13.0,152.0,90.0,33.0,30.0,1.16,44.0,1.0],[2.0,124.0,64.0,33.0,156.0,1.35,31.0,1.0],[1.0,103.0,87.0,36.0,119.0,0.03,23.0,1.0],[2.0,182.0,0.0,0.0,0.0,-0.51,42.0,1.0],[7.0,114.0,76.0,0.0,1.0,-0.88,44.0,1.0],[8.0,152.0,78.0,34.0,170.0,2.27,34.0,1.0],[6.0,178.0,83.0,0.0,0.0,0.55,42.0,1.0],[4.0,0.0,80.0,31.0,0.0,0.06,38.0,1.0],[7.0,165.0,86.0,0.0,2.0,1.86,48.0,1.0],[0.0,126.0,50.0,41.0,166.0,3.48,30.0,1.0],[12.0,130.0,0.0,29.0,0.0,-0.1,44.0,1.0],[2.0,195.0,76.0,36.0,249.0,2.56,30.0,1.0],[5.0,191.0,63.0,31.0,323.0,1.3,29.0,1.0],[3.0,146.0,79.0,0.0,0.0,-0.86,66.0,1.0],[6.0,125.0,73.0,0.0,0.0,-0.1,29.0,1.0],[3.0,134.0,103.0,27.0,140.0,-0.55,45.0,1.0],[2.0,173.0,84.0,49.0,465.0,2.17,27.0,1.0],[11.0,140.0,82.0,43.0,325.0,-0.49,58.0,1.0],[2.0,156.0,75.0,0.0,0.0,0.35,33.0,1.0],[6.0,115.0,76.0,29.0,0.0,0.72,35.0,1.0],[8.0,105.0,99.0,35.0,2.0,-0.04,46.0,1.0],[7.0,144.0,83.0,26.0,285.0,1.05,56.0,1.0],[5.0,163.0,77.0,0.0,1.0,0.94,27.0,1.0],[4.0,157.0,77.0,1.0,0.0,1.13,32.0,1.0],[0.0,131.0,65.0,40.0,0.0,0.86,22.0,1.0],[3.0,194.0,70.0,29.0,0.0,0.67,25.0,1.0],[5.0,93.0,64.0,1.0,1.0,1.21,31.0,1.0],[5.0,136.0,85.0,41.0,86.0,-1.4,35.0,1.0],[4.0,168.0,63.0,0.0,0.0,-0.58,41.0,1.0],[3.0,114.0,72.0,0.0,1.0,-1.76,46.0,1.0],[8.0,198.0,74.0,0.0,0.0,1.61,39.0,1.0],[1.0,171.0,70.0,48.0,577.0,0.67,28.0,1.0],[0.0,138.0,60.0,33.0,169.0,1.31,21.0,1.0],[2.0,174.0,84.0,32.0,474.0,1.68,23.0,1.0],[4.0,147.0,81.0,31.0,0.0,-0.28,37.0,1.0],[3.0,129.0,63.0,29.0,115.0,0.72,27.0,1.0],[8.0,151.0,77.0,33.0,210.0,-1.46,34.0,1.0],[5.0,183.0,78.0,40.0,277.0,0.56,32.0,1.0],[1.0,182.0,65.0,31.0,181.0,1.44,40.0,1.0],[2.0,95.0,82.0,25.0,180.0,0.02,42.0,1.0],[0.0,143.0,0.0,0.0,1.0,0.54,31.0,1.0],[0.0,189.0,104.0,25.0,0.0,0.83,41.0,1.0],[9.0,109.0,70.0,0.0,0.0,1.42,31.0,1.0],[4.0,119.0,62.0,12.0,1.0,0.23,31.0,1.0],[0.0,181.0,78.0,63.0,12.0,3.68,24.0,1.0],[0.0,104.0,62.0,37.0,65.0,1.17,23.0,1.0],[0.0,133.0,69.0,0.0,0.0,0.63,24.0,1.0],[13.0,175.0,60.0,33.0,0.0,0.47,39.0,1.0],[10.0,149.0,85.0,46.0,237.0,1.45,49.0,1.0],[8.0,121.0,0.0,0.0,1.0,0.88,37.0,1.0],[2.0,104.0,80.0,46.0,191.0,2.24,28.0,1.0],[1.0,158.0,71.0,30.0,327.0,-2.63,34.0,1.0],[0.0,145.0,0.0,0.0,0.0,0.92,31.0,1.0],[0.0,134.0,69.0,41.0,249.0,0.21,24.0,1.0],[4.0,124.0,70.0,18.0,124.0,0.17,45.0,1.0],[8.0,196.0,69.0,34.0,146.0,0.07,55.0,1.0],[5.0,0.0,68.0,40.0,0.0,0.04,40.0,1.0],[0.0,180.0,91.0,23.0,89.0,0.49,36.0,1.0],[12.0,84.0,72.0,32.0,0.0,-0.44,46.0,1.0],[5.0,163.0,70.0,17.0,104.0,0.31,30.0,1.0],[11.0,145.0,88.0,35.0,165.0,2.3,54.0,1.0],[10.0,131.0,69.0,0.0,0.0,1.05,46.0,1.0],[4.0,132.0,1.0,0.0,1.0,2.09,23.0,1.0],[2.0,131.0,92.0,49.0,155.0,1.55,33.0,1.0],[6.0,100.0,74.0,41.0,214.0,1.6,43.0,1.0],[3.0,128.0,71.0,26.0,188.0,0.63,26.0,1.0],[10.0,90.0,84.0,31.0,0.0,2.12,56.0,1.0],[8.0,186.0,90.0,35.0,226.0,-0.48,36.0,1.0],[5.0,188.0,76.0,26.0,206.0,-0.93,54.0,1.0],[5.0,125.0,76.0,0.0,1.0,-2.46,56.0,1.0],[0.0,199.0,66.0,31.0,274.0,-0.1,27.0,1.0],[1.0,121.0,66.0,30.0,166.0,-0.69,31.0,1.0],[2.0,118.0,80.0,0.0,0.0,0.85,20.0,1.0],[2.0,197.0,70.0,99.0,0.0,1.66,63.0,1.0],[1.0,151.0,90.0,46.0,0.0,1.43,21.0,1.0],[7.0,124.0,76.0,24.0,598.0,1.49,52.0,1.0],[8.0,142.0,65.0,0.0,0.0,1.25,41.0,1.0],[4.0,176.0,87.0,29.0,157.0,-0.11,51.0,1.0],[12.0,110.0,84.0,39.0,0.0,1.79,46.0,1.0],[2.0,132.0,80.0,0.0,2.0,0.25,44.0,1.0],[0.0,189.0,82.0,13.0,185.0,2.35,21.0,1.0],[3.0,172.0,73.0,0.0,1.0,0.4,37.0,1.0],[7.0,149.0,77.0,29.0,127.0,0.04,54.0,1.0],[3.0,183.0,1.0,0.0,0.0,-0.52,36.0,1.0],[0.0,179.0,78.0,42.0,293.0,1.83,22.0,1.0],[0.0,174.0,59.0,22.0,192.0,1.83,36.0,1.0],[5.0,166.0,89.0,41.0,323.0,-0.61,42.0,1.0],[11.0,138.0,73.0,26.0,143.0,1.52,50.0,1.0],[11.0,112.0,84.0,25.0,0.0,1.84,51.0,1.0],[0.0,119.0,0.0,0.0,0.0,-2.2,25.0,1.0],[6.0,113.0,62.0,0.0,0.0,1.35,34.0,1.0],[13.0,104.0,73.0,0.0,2.0,1.95,38.0,1.0],[7.0,97.0,76.0,31.0,92.0,0.04,34.0,1.0],[6.0,147.0,80.0,0.0,0.0,-0.03,48.0,1.0],[1.0,167.0,73.0,16.0,146.0,1.7,33.0,1.0],[0.0,179.0,48.0,35.0,159.0,0.85,22.0,1.0],[9.0,136.0,83.0,36.0,130.0,-0.68,44.0,1.0],[4.0,156.0,51.0,28.0,538.0,-1.43,24.0,1.0],[3.0,80.0,82.0,31.0,70.0,0.96,28.0,1.0],[1.0,199.0,75.0,42.0,0.0,0.82,22.0,1.0],[9.0,168.0,107.0,46.0,231.0,1.28,43.0,1.0],[9.0,145.0,80.0,47.0,130.0,-0.29,39.0,1.0],[6.0,115.0,59.0,40.0,2.0,-0.02,39.0,1.0],[5.0,145.0,82.0,17.0,0.0,1.99,69.0,1.0],[9.0,112.0,71.0,28.0,0.0,-0.2,42.0,1.0],[7.0,194.0,70.0,0.0,1.0,1.4,32.0,1.0],[10.0,158.0,84.0,0.0,0.0,1.68,54.0,1.0],[2.0,121.0,52.0,0.0,0.0,0.9,25.0,1.0],[0.0,163.0,76.0,35.0,0.0,-0.13,27.0,1.0],[5.0,124.0,82.0,0.0,2.0,0.97,26.0,1.0],[1.0,145.0,81.0,45.0,181.0,0.36,46.0,1.0],[15.0,159.0,113.0,0.0,0.0,0.28,45.0,1.0],[5.0,130.0,69.0,49.0,126.0,0.51,42.0,1.0],[7.0,141.0,91.0,25.0,479.0,0.63,43.0,1.0],[3.0,168.0,74.0,19.0,124.0,2.01,30.0,1.0],[7.0,126.0,78.0,29.0,1.0,-0.3,50.0,1.0],[2.0,169.0,89.0,29.0,2.0,1.63,53.0,1.0],[10.0,116.0,0.0,0.0,0.0,-1.11,30.0,1.0],[10.0,163.0,77.0,1.0,1.0,-0.04,44.0,1.0],[2.0,93.0,65.0,32.0,159.0,0.61,22.0,1.0],[11.0,128.0,61.0,36.0,1.0,1.39,37.0,1.0],[8.0,187.0,49.0,33.0,394.0,1.5,34.0,1.0],[5.0,173.0,74.0,39.0,185.0,1.27,31.0,1.0],[6.0,97.0,76.0,27.0,0.0,0.99,53.0,1.0],[1.0,148.0,68.0,28.0,127.0,0.37,42.0,1.0],[4.0,132.0,78.0,23.0,81.0,0.23,35.0,1.0],[7.0,121.0,86.0,1.0,2.0,-1.67,21.0,1.0],[2.0,174.0,88.0,36.0,119.0,1.28,22.0,1.0],[0.0,102.0,74.0,0.0,0.0,0.92,41.0,1.0],[11.0,120.0,82.0,38.0,149.0,-0.03,48.0,1.0],[7.0,141.0,94.0,0.0,2.0,0.97,46.0,1.0],[2.0,148.0,94.0,41.0,0.0,0.54,27.0,1.0],[5.0,186.0,69.0,24.0,200.0,0.09,37.0,1.0],[5.0,163.0,61.0,1.0,0.0,0.79,50.0,1.0],[3.0,135.0,68.0,0.0,1.0,0.61,22.0,1.0],[1.0,182.0,88.0,46.0,509.0,1.51,28.0,1.0],[7.0,154.0,77.0,31.0,2.0,1.35,45.0,1.0],[0.0,128.0,87.0,39.0,108.0,2.09,38.0,1.0],[0.0,123.0,72.0,0.0,0.0,1.64,52.0,1.0],[6.0,189.0,92.0,2.0,0.0,-0.11,64.0,1.0],[9.0,171.0,74.0,31.0,0.0,0.86,44.0,1.0],[0.0,126.0,60.0,0.0,2.0,-0.22,47.0,1.0]],\"hovertemplate\":\"Outcome=%{customdata[7]}\\u003cbr\\u003eBMI=%{x}\\u003cbr\\u003ePregnancies=%{customdata[0]}\\u003cbr\\u003eGlucose=%{customdata[1]}\\u003cbr\\u003eBloodPressure=%{customdata[2]}\\u003cbr\\u003eSkinThickness=%{customdata[3]}\\u003cbr\\u003eInsulin=%{customdata[4]}\\u003cbr\\u003eDiabetesPedigreeFunction=%{customdata[5]}\\u003cbr\\u003eAge=%{customdata[6]}\\u003cextra\\u003e\\u003c\\u002fextra\\u003e\",\"legendgroup\":\"1\",\"marker\":{\"color\":\"#00cc96\"},\"name\":\"1\",\"offsetgroup\":\"1\",\"scalegroup\":\"x\",\"showlegend\":false,\"x\":[33.0,23.6,45.6,30.4,29.7,0.1,38.4,29.0,23.7,31.6,46.1,30.7,34.8,40.4,28.8,36.1,30.9,39.0,31.6,32.7,38.8,36.0,44.0,41.6,38.6,33.5,37.9,34.0,33.8,33.6,33.8,42.5,41.9,50.1,37.9,23.9,50.5,37.0,36.9,32.1,31.7,30.5,30.7,33.5,51.9,32.2,53.7,36.0,27.7,31.1,32.5,33.4,32.0,36.0,47.8,48.8,39.9,31.4,31.8,31.6,34.9,32.9,66.4,37.2,35.7,30.5,31.1,29.4,33.4,31.5,50.8,39.3,22.9,35.2,29.2,37.3,38.0,33.7,43.6,33.5,41.1,36.8,27.9,38.2,34.3,31.5,38.1,41.4,47.2,43.6,35.0,43.7,31.0,25.7,27.1,32.1,26.7,32.8,33.0,30.2,31.5,36.8,27.7,45.6,27.5,36.4,31.2,27.0,47.7,35.3,43.5,41.3,27.9,37.4,34.5,31.4,51.2,23.5,30.8,33.9,25.3,37.0,30.2,21.5,30.8,28.4,27.5,36.5,46.0,43.7,29.9,35.9,39.7,40.4,30.5,32.3,41.1,36.5,31.1,39.7,24.9,33.7,36.4,40.3,48.3,32.4,43.3,33.0,44.7,32.1,35.0,36.2,35.5,35.7,34.0,28.5,26.3,42.2,35.3,36.3,39.3,25.8,44.2,34.9,34.0,35.2,43.4,35.1,31.2,31.2,59.4,33.2,28.0,33.7,37.4,29.4,32.0,36.3,42.9,43.4,31.1,25.3,40.1,35.0,29.3,31.6,28.2,32.4,32.2,36.9,36.6,31.4,34.1,33.3,43.5,35.2,40.2,32.9,42.9,35.1,41.7,28.8,34.9,32.3,46.1,34.6,30.5,36.4,34.8,27.8,39.7,33.0,35.0,36.7,28.9,32.5,27.6,31.0,42.1,29.0,24.0,37.8,26.4,39.2,32.7,40.5,36.5,37.1,33.6,33.3,26.7,30.6,24.9,35.7,48.5,31.1,45.5,41.8,39.1,30.2,29.4,28.3,36.0,0.2,31.4,37.9,41.4,33.1,35.3,37.2,29.5,26.7,29.0,44.0,40.7,43.3,31.1,49.1,36.1,24.2,29.5,42.0,32.8,37.0,36.7,34.3,44.0,31.2],\"xaxis\":\"x2\",\"yaxis\":\"y2\",\"type\":\"violin\"},{\"alignmentgroup\":\"True\",\"bingroup\":\"x\",\"hovertemplate\":\"Outcome=0\\u003cbr\\u003eBMI=%{x}\\u003cbr\\u003ecount=%{y}\\u003cextra\\u003e\\u003c\\u002fextra\\u003e\",\"legendgroup\":\"0\",\"marker\":{\"color\":\"#ab63fa\",\"pattern\":{\"shape\":\"\"}},\"name\":\"0\",\"offsetgroup\":\"0\",\"orientation\":\"v\",\"showlegend\":true,\"x\":[24.9,26.4,25.6,35.6,36.9,26.0,43.1,38.9,37.2,22.3,21.1,35.2,36.5,24.5,18.7,28.1,24.1,33.3,35.6,41.8,22.7,27.0,30.2,26.5,0.0,18.5,24.4,24.5,34.1,23.1,47.3,43.4,40.4,0.0,24.9,25.9,29.4,44.1,20.3,29.9,27.8,35.4,32.9,24.9,32.1,36.2,23.9,20.7,0.9,29.5,25.9,31.3,35.9,37.8,26.4,19.7,30.9,46.3,24.2,33.6,31.5,21.6,28.9,26.0,22.7,28.1,38.7,28.7,21.9,29.7,34.9,30.9,33.7,33.4,27.1,21.2,33.7,34.2,27.7,41.1,33.5,39.0,22.8,34.4,30.7,28.6,29.2,36.5,21.6,39.5,33.0,32.2,0.0,33.4,30.1,32.3,25.5,36.6,21.7,40.8,24.1,23.9,28.7,29.8,37.9,43.6,30.6,33.5,30.0,31.8,28.5,29.6,44.9,30.2,30.8,43.9,25.1,32.7,27.8,27.1,26.7,22.0,32.3,24.0,25.1,32.1,40.6,26.7,19.0,36.7,23.2,33.7,27.6,40.5,34.2,30.4,25.6,30.0,22.3,34.8,36.3,35.1,45.6,23.7,35.1,29.5,16.9,29.6,32.3,36.1,31.7,51.8,34.5,30.8,31.0,28.4,23.1,35.1,28.9,28.1,25.3,30.6,33.6,29.7,33.5,40.3,23.9,24.7,23.0,34.9,32.8,39.1,27.3,25.0,26.4,35.2,33.0,27.4,37.5,19.3,35.1,35.7,22.2,34.5,32.2,24.2,36.0,23.4,40.5,23.9,26.5,40.7,28.9,34.5,19.4,37.5,27.5,35.1,25.3,34.9,31.1,22.2,31.8,22.8,23.8,47.7,35.3,25.9,27.8,31.7,36.1,35.8,38.1,27.5,20.8,23.0,41.1,30.6,35.8,26.1,41.9,35.0,28.0,39.6,34.8,34.6,22.0,26.9,0.2,37.0,34.7,35.6,25.0,38.2,43.0,32.1,19.6,25.3,23.4,23.0,23.2,30.7,32.4,24.5,20.8,27.5,25.2,21.3,22.1,32.9,42.0,22.3,36.1,34.3,41.4,25.3,27.2,18.2,45.0,27.5,41.6,31.7,0.0,41.0,23.5,30.0,29.5,27.2,23.2,36.6,29.6,18.3,37.3,33.5,34.4,25.9,36.2,29.6,19.0,40.6,21.1,38.3,24.9,30.5,24.6,21.2,20.0,34.2,28.4,22.6,22.4,29.2,37.6,45.6,40.5,31.5,38.1,28.4,29.7,26.9,23.7,26.1,27.1,35.6,27.7,38.5,38.6,46.5,24.7,26.5,36.5,33.7,32.2,0.5,26.7,26.2,31.0,27.8,24.4,35.4,33.5,37.8,34.2,30.7,30.0,24.9,22.4,25.1,26.3,24.0,37.9,32.8,20.7,24.0,32.3,0.0,32.7,22.2,17.8,25.6,32.5,23.8,30.1,45.7,41.9,29.3,35.8,29.0,21.3,35.6,39.7,33.1,33.4,32.8,28.6,26.3,31.6,30.2,29.4,37.7,25.5,37.2,27.3,45.7,30.7,38.4,25.9,32.4,26.2,37.9,31.9,31.9,31.4,22.2,28.7,34.7,28.7,35.2,24.0,26.4,25.5,27.2,39.4,22.6,22.1,21.8,40.0,28.2,32.7,45.2,28.4,22.9,26.1,22.4,27.9,36.7,19.6,44.0,22.9,30.8,32.8,27.8,27.5,20.8,39.8,21.0,42.2,43.3,30.9,36.7,23.8,32.3,31.9,24.4,36.1,26.8,28.4,26.7,28.0,32.1,19.8,28.0,35.8,30.2,27.2,38.6,26.7,25.8,34.9,33.7,26.7,33.9,23.9,39.3,39.3,27.1,35.7,34.4,31.0,34.5,25.3,37.1,58.0,34.4,32.6,25.2,23.3,45.8,0.3,33.9,22.5,26.8,25.1,24.3,38.5,23.0,24.6,34.4,43.2,34.6,39.3,28.1,40.1,34.4,30.9,31.1,26.8,28.2,23.1,34.1,29.1,38.0,38.1,33.4,39.5,35.7,31.9,20.5,31.3,29.6,22.8,34.7,27.3,32.7,37.6,31.0,27.7,40.3,30.4,46.0,39.1,26.1,31.5,37.0,26.6,22.8,33.2,37.8,26.3,30.8],\"xaxis\":\"x\",\"yaxis\":\"y\",\"type\":\"histogram\"},{\"alignmentgroup\":\"True\",\"customdata\":[[0.0,84.0,66.0,29.0,1.0,1.49,32.0,0.0],[2.0,89.0,64.0,22.0,95.0,-0.19,21.0,0.0],[5.0,115.0,74.0,0.0,0.0,-1.06,31.0,0.0],[10.0,116.0,2.0,0.0,1.0,0.33,28.0,0.0],[4.0,111.0,93.0,1.0,0.0,1.07,28.0,0.0],[9.0,138.0,79.0,1.0,0.0,0.01,58.0,0.0],[1.0,101.0,30.0,37.0,83.0,0.98,33.0,0.0],[3.0,127.0,88.0,39.0,235.0,0.66,27.0,0.0],[10.0,99.0,83.0,0.0,0.0,0.49,49.0,0.0],[2.0,98.0,67.0,14.0,140.0,0.91,22.0,0.0],[13.0,146.0,81.0,19.0,110.0,0.17,58.0,0.0],[5.0,118.0,92.0,0.0,1.0,1.37,36.0,0.0],[5.0,108.0,77.0,28.0,0.0,0.57,61.0,0.0],[4.0,88.0,57.0,11.0,55.0,-0.73,21.0,0.0],[7.0,91.0,91.0,0.0,0.0,0.62,26.0,0.0],[9.0,122.0,76.0,32.0,0.0,0.78,44.0,0.0],[5.0,103.0,61.0,35.0,192.0,2.84,34.0,0.0],[11.0,136.0,76.0,0.0,0.0,-1.21,34.0,0.0],[2.0,180.0,63.0,26.0,71.0,-0.73,26.0,0.0],[7.0,133.0,85.0,0.0,1.0,2.95,37.0,0.0],[6.0,105.0,93.0,19.0,1.0,1.45,49.0,0.0],[8.0,159.0,64.0,0.0,0.0,3.01,41.0,0.0],[1.0,147.0,55.0,0.0,0.0,1.61,29.0,0.0],[3.0,69.0,69.0,27.0,1.0,-1.18,21.0,0.0],[5.0,106.0,0.0,1.0,1.0,1.13,23.0,0.0],[0.0,103.0,79.0,11.0,84.0,2.51,22.0,0.0],[1.0,103.0,48.0,15.0,37.0,1.04,24.0,0.0],[5.0,87.0,66.0,21.0,24.0,1.06,29.0,0.0],[7.0,150.0,65.0,41.0,340.0,1.25,42.0,0.0],[0.0,73.0,49.0,10.0,0.0,-0.19,21.0,0.0],[0.0,100.0,88.0,61.0,109.0,-0.22,31.0,0.0],[1.0,146.0,82.0,0.0,0.0,1.18,43.0,0.0],[1.0,104.0,63.0,41.0,141.0,0.91,22.0,0.0],[2.0,84.0,0.0,0.0,1.0,-0.34,19.0,0.0],[4.0,42.0,63.0,0.0,0.0,-0.85,35.0,0.0],[1.0,140.0,57.0,32.0,128.0,1.42,26.0,0.0],[5.0,97.0,75.0,26.0,0.0,-0.8,33.0,0.0],[2.0,109.0,93.0,0.0,0.0,-0.04,53.0,0.0],[1.0,95.0,68.0,14.0,38.0,-0.89,24.0,0.0],[5.0,147.0,86.0,26.0,98.0,-0.73,27.0,0.0],[5.0,140.0,66.0,35.0,140.0,1.64,26.0,0.0],[4.0,130.0,87.0,21.0,270.0,1.53,23.0,0.0],[0.0,79.0,74.0,31.0,0.0,-0.53,22.0,0.0],[0.0,1.0,48.0,21.0,0.0,0.36,22.0,0.0],[6.0,62.0,78.0,0.0,0.0,1.25,41.0,0.0],[5.0,94.0,72.0,33.0,0.0,1.4,27.0,0.0],[2.0,111.0,66.0,21.0,0.0,0.44,22.0,0.0],[2.0,112.0,43.0,14.0,0.0,0.31,22.0,0.0],[1.0,73.0,0.0,0.0,0.0,0.48,24.0,0.0],[6.0,84.0,78.0,26.0,71.0,1.06,37.0,0.0],[1.0,100.0,64.0,28.0,2.0,-0.11,22.0,0.0],[3.0,111.0,75.0,30.0,126.0,-0.71,26.0,0.0],[14.0,103.0,71.0,53.0,1.0,0.68,45.0,0.0],[1.0,100.0,67.0,25.0,72.0,1.14,26.0,0.0],[1.0,106.0,68.0,22.0,0.0,-0.43,24.0,0.0],[0.0,77.0,55.0,2.0,0.0,0.56,23.0,0.0],[3.0,122.0,80.0,16.0,175.0,1.74,33.0,0.0],[8.0,80.0,78.0,40.0,48.0,-0.32,41.0,0.0],[3.0,142.0,83.0,18.0,62.0,2.29,21.0,0.0],[7.0,144.0,72.0,27.0,228.0,0.42,39.0,0.0],[4.0,94.0,60.0,28.0,0.0,1.01,23.0,0.0],[0.0,72.0,49.0,19.0,75.0,1.34,21.0,0.0],[6.0,93.0,49.0,29.0,64.0,0.73,24.0,0.0],[2.0,150.0,62.0,1.0,0.0,-0.03,22.0,0.0],[0.0,127.0,96.0,0.0,0.0,0.34,21.0,0.0],[2.0,80.0,71.0,18.0,40.0,0.43,23.0,0.0],[2.0,83.0,67.0,1.0,0.0,-0.6,27.0,0.0],[1.0,127.0,55.0,28.0,152.0,1.68,19.0,0.0],[1.0,96.0,120.0,0.0,0.0,0.25,27.0,0.0],[4.0,145.0,58.0,26.0,140.0,0.76,38.0,0.0],[4.0,83.0,58.0,31.0,18.0,-0.27,25.0,0.0],[0.0,90.0,77.0,34.0,36.0,0.03,24.0,0.0],[4.0,76.0,62.0,1.0,0.0,0.44,25.0,0.0],[4.0,78.0,49.0,0.0,1.0,0.6,26.0,0.0],[4.0,95.0,61.0,23.0,1.0,1.28,22.0,0.0],[4.0,98.0,77.0,14.0,51.0,0.78,22.0,0.0],[6.0,110.0,65.0,40.0,0.0,-1.46,25.0,0.0],[2.0,106.0,76.0,30.0,100.0,1.62,24.0,0.0],[6.0,133.0,82.0,0.0,1.0,-0.87,69.0,0.0],[4.0,120.0,70.0,31.0,135.0,-1.16,29.0,0.0],[3.0,119.0,59.0,35.0,96.0,0.04,24.0,0.0],[8.0,85.0,76.0,31.0,0.0,-0.21,40.0,0.0],[2.0,96.0,70.0,13.0,50.0,0.67,26.0,0.0],[5.0,125.0,59.0,20.0,140.0,1.13,31.0,0.0],[0.0,102.0,71.0,25.0,52.0,-1.79,22.0,0.0],[0.0,92.0,61.0,26.0,92.0,2.8,22.0,0.0],[0.0,130.0,79.0,2.0,0.0,2.13,29.0,0.0],[4.0,107.0,72.0,31.0,325.0,-0.08,28.0,0.0],[4.0,128.0,77.0,0.0,2.0,0.84,56.0,0.0],[4.0,106.0,84.0,31.0,0.0,-0.09,39.0,0.0],[2.0,108.0,50.0,26.0,63.0,1.06,23.0,0.0],[5.0,154.0,61.0,32.0,285.0,0.55,23.0,0.0],[2.0,103.0,74.0,24.0,0.0,0.81,22.0,0.0],[9.0,58.0,79.0,38.0,0.0,-0.82,41.0,0.0],[1.0,106.0,64.0,35.0,120.0,0.52,34.0,0.0],[5.0,148.0,77.0,0.0,1.0,-0.69,67.0,0.0],[0.0,90.0,71.0,16.0,0.0,-1.53,22.0,0.0],[2.0,135.0,72.0,52.0,205.0,0.32,24.0,0.0],[5.0,115.0,64.0,0.0,0.0,2.08,38.0,0.0],[3.0,154.0,82.0,42.0,485.0,0.45,23.0,0.0],[2.0,99.0,52.0,15.0,94.0,-0.51,22.0,0.0],[1.0,110.0,56.0,21.0,134.0,0.74,22.0,0.0],[2.0,88.0,73.0,18.0,53.0,-0.43,22.0,0.0],[3.0,151.0,89.0,38.0,1.0,-1.16,34.0,0.0],[5.0,102.0,73.0,43.0,106.0,-0.64,45.0,0.0],[1.0,114.0,80.0,34.0,285.0,-0.13,28.0,0.0],[3.0,101.0,64.0,23.0,0.0,1.0,21.0,0.0],[4.0,148.0,66.0,25.0,0.0,-0.12,22.0,0.0],[3.0,119.0,68.0,2.0,1.0,1.45,32.0,0.0],[2.0,111.0,66.0,0.0,1.0,0.66,29.0,0.0],[3.0,111.0,89.0,13.0,78.0,0.35,30.0,0.0],[2.0,86.0,0.0,23.0,0.0,0.25,24.0,0.0],[1.0,79.0,60.0,40.0,49.0,0.19,23.0,0.0],[3.0,74.0,63.0,25.0,56.0,0.45,34.0,0.0],[7.0,85.0,78.0,0.0,0.0,0.58,43.0,0.0],[4.0,143.0,78.0,1.0,1.0,0.15,48.0,0.0],[5.0,86.0,81.0,0.0,0.0,0.33,32.0,0.0],[1.0,117.0,64.0,18.0,91.0,-0.53,24.0,0.0],[2.0,0.0,74.0,21.0,23.0,0.14,22.0,0.0],[5.0,75.0,59.0,0.0,0.0,1.01,28.0,0.0],[4.0,141.0,74.0,0.0,0.0,1.0,38.0,0.0],[3.0,111.0,61.0,1.0,0.0,-0.39,20.0,0.0],[9.0,124.0,69.0,44.0,96.0,1.74,41.0,0.0],[8.0,85.0,54.0,20.0,0.0,-0.2,42.0,0.0],[2.0,103.0,58.0,0.0,0.0,0.72,20.0,0.0],[0.0,112.0,81.0,16.0,0.0,0.19,21.0,0.0],[2.0,139.0,81.0,0.0,0.0,0.82,28.0,0.0],[1.0,107.0,69.0,19.0,0.0,1.33,33.0,0.0],[2.0,98.0,68.0,16.0,43.0,-0.63,27.0,0.0],[5.0,103.0,73.0,34.0,190.0,-0.37,54.0,0.0],[6.0,111.0,70.0,27.0,1.0,0.9,27.0,0.0],[3.0,97.0,64.0,28.0,86.0,-1.45,22.0,0.0],[1.0,79.0,61.0,21.0,0.0,1.41,24.0,0.0],[0.0,147.0,83.0,54.0,0.0,-0.04,23.0,0.0],[6.0,178.0,96.0,32.0,0.0,-1.02,61.0,0.0],[7.0,125.0,67.0,30.0,121.0,0.81,31.0,0.0],[7.0,118.0,0.0,0.0,0.0,0.03,39.0,0.0],[9.0,141.0,60.0,34.0,190.0,0.62,61.0,0.0],[1.0,99.0,65.0,16.0,57.0,0.62,25.0,0.0],[0.0,87.0,79.0,26.0,31.0,-0.27,21.0,0.0],[1.0,101.0,76.0,1.0,0.0,0.01,25.0,0.0],[5.0,198.0,70.0,40.0,743.0,1.66,31.0,0.0],[2.0,117.0,80.0,33.0,54.0,-1.36,24.0,0.0],[1.0,78.0,80.0,25.0,37.0,1.62,22.0,0.0],[6.0,123.0,69.0,0.0,1.0,1.57,30.0,0.0],[2.0,75.0,68.0,27.0,45.0,1.35,23.0,0.0],[0.0,105.0,76.0,0.0,1.0,0.95,27.0,0.0],[0.0,92.0,65.0,23.0,1.0,0.37,21.0,0.0],[2.0,90.0,70.0,31.0,88.0,1.46,21.0,0.0],[3.0,147.0,76.0,34.0,194.0,1.06,29.0,0.0],[10.0,123.0,67.0,0.0,0.0,0.59,42.0,0.0],[0.0,167.0,89.0,34.0,679.0,0.29,22.0,0.0],[10.0,125.0,72.0,34.0,402.0,1.02,33.0,0.0],[0.0,112.0,87.0,18.0,0.0,0.29,23.0,0.0],[8.0,108.0,51.0,1.0,0.0,-0.24,42.0,0.0],[1.0,129.0,85.0,0.0,0.0,0.26,26.0,0.0],[1.0,91.0,80.0,15.0,55.0,1.25,24.0,0.0],[0.0,86.0,67.0,33.0,0.0,-0.66,25.0,0.0],[3.0,110.0,55.0,41.0,0.0,2.31,29.0,0.0],[1.0,112.0,65.0,22.0,0.0,1.34,25.0,0.0],[2.0,193.0,49.0,16.0,375.0,-1.25,25.0,0.0],[4.0,192.0,70.0,16.0,130.0,-1.02,34.0,0.0],[4.0,95.0,70.0,30.0,1.0,-0.5,23.0,0.0],[2.0,142.0,80.0,16.0,1.0,-0.17,64.0,0.0],[5.0,95.0,75.0,18.0,67.0,0.52,44.0,0.0],[2.0,129.0,64.0,42.0,0.0,-0.35,24.0,0.0],[0.0,101.0,51.0,1.0,0.0,1.65,20.0,0.0],[3.0,108.0,61.0,30.0,55.0,1.0,21.0,0.0],[4.0,124.0,77.0,0.0,0.0,0.56,39.0,0.0],[1.0,70.0,78.0,50.0,45.0,0.86,19.0,0.0],[12.0,106.0,70.0,0.0,1.0,-0.25,52.0,0.0],[4.0,99.0,70.0,53.0,57.0,0.81,26.0,0.0],[0.0,104.0,62.0,24.0,116.0,0.78,23.0,0.0],[5.0,115.0,74.0,0.0,1.0,-0.29,56.0,0.0],[1.0,107.0,62.0,10.0,278.0,2.24,21.0,0.0],[12.0,129.0,76.0,25.0,121.0,-1.77,40.0,0.0],[8.0,133.0,87.0,14.0,155.0,0.47,35.0,0.0],[5.0,135.0,74.0,25.0,134.0,2.07,51.0,0.0],[3.0,154.0,84.0,44.0,547.0,0.98,33.0,0.0],[3.0,97.0,56.0,18.0,51.0,-0.89,25.0,0.0],[6.0,109.0,70.0,43.0,75.0,-1.49,34.0,0.0],[0.0,78.0,89.0,29.0,41.0,-1.04,20.0,0.0],[0.0,161.0,50.0,1.0,1.0,0.97,66.0,0.0],[5.0,153.0,60.0,32.0,120.0,2.33,30.0,0.0],[2.0,126.0,85.0,30.0,218.0,-0.23,23.0,0.0],[8.0,112.0,73.0,0.0,0.0,1.26,59.0,0.0],[6.0,77.0,83.0,43.0,42.0,-0.82,36.0,0.0],[5.0,150.0,76.0,0.0,0.0,-1.59,38.0,0.0],[2.0,119.0,78.0,37.0,105.0,0.7,28.0,0.0],[1.0,138.0,69.0,14.0,147.0,-1.15,21.0,0.0],[6.0,83.0,65.0,29.0,1.0,0.52,40.0,0.0],[0.0,105.0,69.0,36.0,148.0,0.24,22.0,0.0],[2.0,113.0,51.0,10.0,85.0,0.75,23.0,0.0],[1.0,113.0,66.0,21.0,94.0,0.2,26.0,0.0],[3.0,99.0,79.0,11.0,63.0,-0.13,30.0,0.0],[4.0,115.0,68.0,40.0,140.0,0.19,28.0,0.0],[6.0,129.0,58.0,12.0,232.0,2.08,31.0,0.0],[3.0,113.0,77.0,30.0,0.0,0.65,22.0,0.0],[2.0,158.0,72.0,22.0,169.0,-0.61,23.0,0.0],[10.0,181.0,70.0,0.0,0.0,-1.01,38.0,0.0],[6.0,106.0,70.0,32.0,66.0,-0.23,38.0,0.0],[7.0,119.0,72.0,20.0,2.0,-1.02,46.0,0.0],[1.0,87.0,57.0,16.0,53.0,1.14,25.0,0.0],[11.0,104.0,80.0,0.0,0.0,-0.58,43.0,0.0],[1.0,97.0,60.0,17.0,58.0,-0.73,23.0,0.0],[0.0,164.0,78.0,43.0,255.0,0.93,27.0,0.0],[1.0,116.0,0.0,0.0,1.0,0.34,44.0,0.0],[1.0,131.0,71.0,14.0,104.0,-1.24,22.0,0.0],[0.0,96.0,73.0,22.0,74.0,0.11,36.0,0.0],[2.0,0.0,68.0,36.0,0.0,-0.49,24.0,0.0],[5.0,123.0,88.0,1.0,1.0,0.04,33.0,0.0],[7.0,96.0,71.0,0.0,1.0,0.4,58.0,0.0],[10.0,126.0,88.0,35.0,106.0,0.4,47.0,0.0],[0.0,140.0,45.0,20.0,83.0,0.54,22.0,0.0],[3.0,115.0,1.0,0.0,1.0,0.48,23.0,0.0],[4.0,98.0,61.0,19.0,76.0,0.67,27.0,0.0],[4.0,91.0,81.0,0.0,2.0,-0.99,30.0,0.0],[5.0,138.0,83.0,0.0,0.0,0.73,31.0,0.0],[3.0,61.0,81.0,27.0,0.0,0.16,46.0,0.0],[1.0,90.0,63.0,12.0,43.0,1.18,26.0,0.0],[2.0,92.0,77.0,0.0,0.0,1.96,20.0,0.0],[12.0,88.0,75.0,40.0,55.0,-1.78,49.0,0.0],[4.0,159.0,70.0,0.0,0.0,1.26,64.0,0.0],[5.0,104.0,108.0,37.0,1.0,-0.27,66.0,0.0],[4.0,147.0,72.0,25.0,292.0,-1.34,30.0,0.0],[4.0,99.0,56.0,28.0,85.0,0.3,30.0,0.0],[1.0,101.0,65.0,18.0,2.0,0.06,20.0,0.0],[4.0,82.0,88.0,15.0,67.0,-0.01,23.0,0.0],[1.0,119.0,64.0,24.0,90.0,1.9,22.0,0.0],[0.0,82.0,64.0,22.0,65.0,-1.36,21.0,0.0],[1.0,105.0,57.0,40.0,96.0,-0.98,26.0,0.0],[1.0,122.0,53.0,43.0,158.0,-0.04,27.0,0.0],[0.0,97.0,82.0,15.0,84.0,0.83,23.0,0.0],[2.0,88.0,60.0,37.0,76.0,0.6,23.0,0.0],[0.0,92.0,101.0,40.0,72.0,1.76,34.0,0.0],[0.0,106.0,72.0,28.0,84.0,2.94,24.0,0.0],[0.0,105.0,66.0,21.0,3.0,-1.27,23.0,0.0],[0.0,107.0,61.0,8.0,183.0,2.07,22.0,0.0],[1.0,91.0,63.0,18.0,59.0,0.98,25.0,0.0],[1.0,126.0,69.0,25.0,109.0,0.74,26.0,0.0],[1.0,120.0,53.0,14.0,48.0,-0.12,26.0,0.0],[2.0,100.0,70.0,24.0,81.0,0.41,27.0,0.0],[1.0,100.0,68.0,29.0,196.0,-0.2,42.0,0.0],[1.0,132.0,66.0,15.0,416.0,0.2,20.0,0.0],[4.0,116.0,71.0,13.0,89.0,1.96,37.0,0.0],[2.0,128.0,58.0,23.0,275.0,-0.25,26.0,0.0],[3.0,95.0,56.0,36.0,113.0,0.67,39.0,0.0],[1.0,81.0,71.0,0.0,0.0,1.83,25.0,0.0],[6.0,136.0,61.0,0.0,0.0,-0.23,54.0,0.0],[8.0,73.0,78.0,24.0,0.0,0.63,39.0,0.0],[1.0,125.0,48.0,32.0,163.0,1.54,26.0,0.0],[0.0,101.0,61.0,0.0,1.0,1.55,26.0,0.0],[5.0,102.0,92.0,39.0,0.0,1.11,27.0,0.0],[2.0,112.0,73.0,30.0,176.0,0.02,24.0,0.0],[1.0,142.0,84.0,21.0,309.0,0.47,22.0,0.0],[2.0,143.0,75.0,20.0,62.0,0.0,20.0,0.0],[1.0,97.0,69.0,21.0,2.0,0.67,22.0,0.0],[1.0,82.0,69.0,1.0,0.0,2.25,28.0,0.0],[0.0,119.0,88.0,41.0,168.0,-0.7,27.0,0.0],[3.0,94.0,67.0,19.0,76.0,0.73,21.0,0.0],[0.0,103.0,65.0,46.0,76.0,-1.21,21.0,0.0],[0.0,115.0,64.0,22.0,1.0,-0.03,22.0,0.0],[0.0,94.0,0.0,0.0,0.0,0.44,25.0,0.0],[2.0,134.0,95.0,45.0,148.0,0.15,26.0,0.0],[3.0,99.0,0.0,2.0,0.0,0.93,23.0,0.0],[3.0,89.0,74.0,17.0,86.0,0.4,38.0,0.0],[3.0,79.0,74.0,10.0,61.0,-0.34,22.0,0.0],[2.0,138.0,73.0,2.0,1.0,0.79,28.0,0.0],[0.0,91.0,68.0,9.0,0.0,0.79,36.0,0.0],[12.0,140.0,87.0,33.0,0.0,-0.81,41.0,0.0],[4.0,147.0,75.0,0.0,0.0,0.59,29.0,0.0],[2.0,97.0,70.0,15.0,1.0,-0.35,20.0,0.0],[6.0,106.0,86.0,0.0,1.0,-0.01,30.0,0.0],[2.0,84.0,66.0,23.0,50.0,0.95,22.0,0.0],[4.0,118.0,64.0,28.0,120.0,0.03,25.0,0.0],[3.0,100.0,73.0,13.0,68.0,-0.28,28.0,0.0],[0.0,95.0,80.0,44.0,92.0,0.68,25.0,0.0],[0.0,118.0,73.0,19.0,65.0,1.51,27.0,0.0],[0.0,84.0,64.0,14.0,95.0,2.03,22.0,0.0],[0.0,92.0,68.0,31.0,211.0,1.25,26.0,0.0],[2.0,121.0,1.0,0.0,2.0,0.32,74.0,0.0],[3.0,100.0,53.0,28.0,104.0,0.85,25.0,0.0],[1.0,135.0,53.0,1.0,0.0,0.88,63.0,0.0],[4.0,87.0,68.0,28.0,72.0,0.8,25.0,0.0],[7.0,133.0,75.0,34.0,61.0,-0.79,81.0,0.0],[10.0,120.0,71.0,22.0,58.0,0.69,50.0,0.0],[1.0,70.0,62.0,1.0,0.0,0.78,25.0,0.0],[6.0,75.0,71.0,41.0,49.0,1.19,41.0,0.0],[6.0,88.0,79.0,31.0,0.0,-0.36,36.0,0.0],[10.0,115.0,97.0,0.0,0.0,0.26,34.0,0.0],[0.0,123.0,55.0,14.0,105.0,-0.33,19.0,0.0],[0.0,74.0,52.0,7.0,36.0,0.85,21.0,0.0],[1.0,98.0,65.0,38.0,100.0,1.2,26.0,0.0],[5.0,155.0,77.0,41.0,141.0,0.01,28.0,0.0],[1.0,143.0,83.0,39.0,0.0,-1.3,28.0,0.0],[0.0,137.0,69.0,36.0,0.0,-0.77,24.0,0.0],[0.0,120.0,65.0,28.0,1.0,-0.83,22.0,0.0],[7.0,136.0,90.0,1.0,0.0,0.07,50.0,0.0],[4.0,113.0,62.0,0.0,0.0,1.4,23.0,0.0],[0.0,137.0,84.0,28.0,1.0,1.13,59.0,0.0],[7.0,114.0,76.0,17.0,112.0,0.04,32.0,0.0],[8.0,127.0,74.0,37.0,75.0,0.29,38.0,0.0],[3.0,130.0,85.0,31.0,1.0,-0.37,62.0,0.0],[1.0,123.0,88.0,36.0,0.0,0.24,28.0,0.0],[4.0,86.0,60.0,23.0,50.0,0.36,26.0,0.0],[1.0,83.0,82.0,29.0,125.0,-0.61,24.0,0.0],[1.0,138.0,63.0,40.0,481.0,-0.45,21.0,0.0],[1.0,173.0,81.0,31.0,265.0,1.91,57.0,0.0],[4.0,100.0,71.0,17.0,1.0,0.46,27.0,0.0],[8.0,192.0,79.0,1.0,1.0,1.72,66.0,0.0],[1.0,82.0,65.0,29.0,66.0,0.69,25.0,0.0],[3.0,90.0,89.0,31.0,0.0,0.56,43.0,0.0],[4.0,98.0,69.0,39.0,0.0,-0.54,32.0,0.0],[4.0,80.0,0.0,1.0,1.0,-1.62,22.0,0.0],[5.0,166.0,74.0,1.0,0.0,1.67,65.0,0.0],[6.0,109.0,68.0,1.0,1.0,-0.25,27.0,0.0],[2.0,81.0,72.0,14.0,76.0,1.85,24.0,0.0],[7.0,154.0,75.0,32.0,192.0,0.49,39.0,0.0],[2.0,117.0,92.0,19.0,70.0,1.03,22.0,0.0],[2.0,83.0,71.0,36.0,0.0,1.49,28.0,0.0],[8.0,93.0,63.0,22.0,81.0,1.89,40.0,0.0],[4.0,94.0,78.0,39.0,1.0,-1.48,39.0,0.0],[9.0,74.0,82.0,1.0,1.0,1.02,38.0,0.0],[0.0,131.0,60.0,22.0,169.0,0.62,19.0,0.0],[3.0,85.0,50.0,23.0,76.0,2.51,20.0,0.0],[8.0,119.0,78.0,0.0,0.0,1.5,63.0,0.0],[1.0,141.0,64.0,18.0,211.0,0.58,20.0,0.0],[8.0,91.0,68.0,1.0,1.0,1.16,58.0,0.0],[3.0,89.0,61.0,0.0,0.0,1.26,22.0,0.0],[1.0,98.0,53.0,19.0,86.0,-0.24,23.0,0.0],[7.0,126.0,86.0,1.0,0.0,1.23,51.0,0.0],[14.0,77.0,60.0,0.0,0.0,0.2,41.0,0.0],[6.0,127.0,91.0,7.0,327.0,-0.41,59.0,0.0],[2.0,68.0,70.0,32.0,67.0,0.35,25.0,0.0],[3.0,123.0,80.0,34.0,130.0,1.21,26.0,0.0],[7.0,112.0,0.0,0.0,1.0,1.95,27.0,0.0],[2.0,126.0,58.0,0.0,1.0,-0.65,24.0,0.0],[4.0,88.0,59.0,19.0,1.0,1.69,21.0,0.0],[1.0,98.0,64.0,19.0,81.0,0.84,21.0,0.0],[2.0,116.0,74.0,14.0,105.0,-0.7,22.0,0.0],[0.0,117.0,66.0,32.0,189.0,-0.86,23.0,0.0],[2.0,111.0,65.0,0.0,0.0,0.32,32.0,0.0],[3.0,122.0,60.0,17.0,105.0,2.87,22.0,0.0],[0.0,106.0,76.0,1.0,1.0,1.01,23.0,0.0],[2.0,86.0,64.0,51.0,65.0,3.68,29.0,0.0],[6.0,91.0,0.0,0.0,0.0,-0.72,32.0,0.0],[1.0,78.0,57.0,30.0,55.0,0.2,25.0,0.0],[0.0,103.0,90.0,0.0,2.0,2.38,45.0,0.0],[1.0,58.0,61.0,2.0,0.0,0.12,68.0,0.0],[2.0,127.0,79.0,37.0,211.0,0.65,24.0,0.0],[4.0,84.0,91.0,24.0,57.0,0.29,24.0,0.0],[3.0,88.0,77.0,29.0,75.0,1.77,29.0,0.0],[3.0,132.0,68.0,19.0,168.0,-0.75,28.0,0.0],[2.0,163.0,83.0,41.0,66.0,0.07,51.0,0.0],[4.0,191.0,110.0,32.0,0.0,0.95,36.0,0.0],[1.0,115.0,70.0,28.0,0.0,-2.08,20.0,0.0],[3.0,84.0,69.0,31.0,105.0,1.29,25.0,0.0],[7.0,114.0,87.0,0.0,1.0,0.27,66.0,0.0],[1.0,88.0,61.0,25.0,43.0,-0.07,22.0,0.0],[1.0,81.0,63.0,22.0,117.0,1.25,28.0,0.0],[7.0,123.0,70.0,34.0,214.0,3.01,37.0,0.0],[2.0,98.0,71.0,40.0,0.0,0.27,30.0,0.0],[9.0,111.0,76.0,0.0,0.0,1.58,57.0,0.0],[12.0,101.0,65.0,39.0,2.0,-0.35,43.0,0.0],[12.0,86.0,74.0,1.0,0.0,0.58,36.0,0.0],[0.0,89.0,68.0,35.0,78.0,0.79,24.0,0.0],[4.0,99.0,62.0,19.0,54.0,1.73,33.0,0.0],[0.0,90.0,79.0,0.0,0.0,2.19,26.0,0.0],[2.0,95.0,54.0,14.0,87.0,-0.16,22.0,0.0],[2.0,99.0,73.0,32.0,17.0,0.98,20.0,0.0],[6.0,91.0,61.0,34.0,126.0,-0.8,44.0,0.0],[2.0,154.0,72.0,31.0,126.0,0.0,38.0,0.0],[4.0,80.0,68.0,0.0,0.0,1.88,40.0,0.0],[2.0,129.0,94.0,0.0,0.0,-1.35,22.0,0.0],[4.0,112.0,59.0,32.0,45.0,0.14,22.0,0.0],[2.0,99.0,61.0,16.0,121.0,0.29,20.0,0.0],[2.0,145.0,85.0,31.0,329.0,-0.98,23.0,0.0],[0.0,120.0,44.0,46.0,63.0,0.4,24.0,0.0],[8.0,109.0,45.0,20.0,129.0,0.48,35.0,0.0],[9.0,133.0,70.0,0.0,0.0,-2.05,36.0,0.0],[6.0,106.0,62.0,27.0,0.0,-0.55,27.0,0.0],[11.0,120.0,78.0,16.0,0.0,-1.05,62.0,0.0],[8.0,100.0,76.0,0.0,2.0,0.17,41.0,0.0],[0.0,93.0,57.0,10.0,0.0,1.16,22.0,0.0],[5.0,102.0,65.0,0.0,0.0,-0.3,31.0,0.0],[0.0,73.0,0.0,1.0,0.0,0.51,24.0,0.0],[3.0,113.0,76.0,52.0,141.0,-0.55,24.0,0.0],[2.0,82.0,51.0,20.0,115.0,0.98,25.0,0.0],[5.0,123.0,73.0,45.0,230.0,-0.16,33.0,0.0],[0.0,67.0,77.0,0.0,0.0,-0.23,47.0,0.0],[1.0,90.0,23.0,21.0,25.0,0.19,21.0,0.0],[1.0,109.0,37.0,18.0,120.0,0.67,26.0,0.0],[3.0,108.0,89.0,18.0,1.0,-0.61,24.0,0.0],[6.0,96.0,1.0,1.0,0.0,-0.93,27.0,0.0],[1.0,123.0,74.0,36.0,0.0,0.54,31.0,0.0],[0.0,123.0,62.0,34.0,0.0,1.2,21.0,0.0],[2.0,93.0,62.0,24.0,38.0,1.98,26.0,0.0],[2.0,152.0,81.0,38.0,271.0,-0.61,26.0,0.0],[3.0,112.0,61.0,11.0,181.0,0.07,23.0,0.0],[3.0,106.0,54.0,20.0,158.0,0.71,23.0,0.0],[6.0,106.0,81.0,29.0,0.0,0.9,27.0,0.0],[4.0,108.0,73.0,2.0,0.0,2.13,28.0,0.0],[9.0,119.0,95.0,0.0,1.0,-0.27,30.0,0.0],[2.0,67.0,61.0,13.0,15.0,-0.11,26.0,0.0],[2.0,113.0,85.0,42.0,160.0,-0.07,29.0,0.0],[1.0,93.0,76.0,20.0,0.0,3.18,28.0,0.0],[5.0,183.0,92.0,0.0,0.0,3.03,46.0,0.0],[0.0,94.0,71.0,27.0,116.0,-1.35,21.0,0.0],[3.0,106.0,62.0,1.0,0.0,-0.89,20.0,0.0],[3.0,89.0,88.0,47.0,55.0,0.18,30.0,0.0],[1.0,124.0,69.0,1.0,0.0,0.24,22.0,0.0],[1.0,132.0,77.0,2.0,1.0,-0.08,20.0,0.0],[5.0,129.0,81.0,0.0,1.0,-0.14,45.0,0.0],[3.0,94.0,67.0,24.0,0.0,-0.41,20.0,0.0],[1.0,102.0,77.0,39.0,90.0,-0.49,24.0,0.0],[3.0,111.0,61.0,0.0,0.0,-0.14,23.0,0.0],[0.0,128.0,82.0,17.0,182.0,0.17,22.0,0.0],[10.0,93.0,63.0,0.0,2.0,-0.31,31.0,0.0],[6.0,104.0,74.0,1.0,0.0,0.24,48.0,0.0],[2.0,92.0,76.0,16.0,65.0,0.48,23.0,0.0],[1.0,100.0,74.0,13.0,46.0,0.68,27.0,0.0],[2.0,103.0,87.0,18.0,105.0,2.72,27.0,0.0],[4.0,129.0,70.0,0.0,0.0,2.22,24.0,0.0],[4.0,91.0,0.0,0.0,3.0,-0.63,30.0,0.0],[5.0,103.0,73.0,30.0,152.0,-0.98,27.0,0.0],[0.0,157.0,74.0,35.0,441.0,0.85,29.0,0.0],[1.0,108.0,60.0,25.0,0.0,0.84,23.0,0.0],[1.0,90.0,54.0,26.0,101.0,0.35,23.0,0.0],[1.0,118.0,60.0,25.0,106.0,2.06,28.0,0.0],[4.0,122.0,74.0,40.0,78.0,0.87,28.0,0.0],[4.0,119.0,54.0,0.0,1.0,1.23,26.0,0.0],[0.0,106.0,70.0,29.0,134.0,-0.84,23.0,0.0],[2.0,100.0,59.0,33.0,90.0,-0.78,22.0,0.0],[2.0,120.0,81.0,48.0,202.0,1.53,42.0,0.0],[12.0,129.0,105.0,0.0,0.0,0.14,50.0,0.0],[10.0,162.0,85.0,0.0,0.0,-1.23,54.0,0.0],[2.0,112.0,81.0,45.0,133.0,0.07,24.0,0.0],[7.0,96.0,58.0,33.0,190.0,1.06,43.0,0.0],[10.0,158.0,78.0,30.0,101.0,-0.61,45.0,0.0],[7.0,165.0,68.0,26.0,168.0,1.07,47.0,0.0],[2.0,99.0,57.0,10.0,0.0,-0.72,21.0,0.0],[10.0,70.0,107.0,22.0,49.0,0.27,49.0,0.0],[4.0,124.0,101.0,34.0,238.0,1.7,23.0,0.0],[7.0,91.0,83.0,0.0,0.0,-1.05,67.0,0.0],[0.0,93.0,62.0,0.0,2.0,-2.0,25.0,0.0],[2.0,102.0,59.0,16.0,265.0,-0.53,23.0,0.0],[1.0,55.0,55.0,29.0,45.0,-1.48,24.0,0.0],[0.0,94.0,63.0,39.0,105.0,1.29,23.0,0.0],[5.0,134.0,82.0,2.0,1.0,-0.37,70.0,0.0],[0.0,130.0,74.0,27.0,204.0,0.14,25.0,0.0],[4.0,131.0,63.0,0.0,1.0,0.26,22.0,0.0],[1.0,106.0,50.0,18.0,1.0,0.34,30.0,0.0],[1.0,139.0,74.0,27.0,182.0,1.89,22.0,0.0],[7.0,107.0,79.0,1.0,0.0,-1.72,34.0,0.0],[2.0,121.0,71.0,33.0,95.0,0.88,24.0,0.0],[1.0,91.0,61.0,1.0,0.0,1.76,27.0,0.0],[1.0,100.0,0.0,1.0,0.0,-0.37,22.0,0.0],[4.0,126.0,88.0,12.0,155.0,-0.37,28.0,0.0],[4.0,118.0,71.0,0.0,0.0,1.18,26.0,0.0],[3.0,121.0,77.0,27.0,200.0,0.48,26.0,0.0],[1.0,129.0,0.0,1.0,1.0,-0.63,41.0,0.0],[5.0,108.0,75.0,20.0,101.0,-0.38,27.0,0.0],[6.0,80.0,78.0,37.0,0.0,0.39,27.0,0.0],[2.0,127.0,46.0,22.0,334.0,0.91,22.0,0.0],[4.0,158.0,63.0,13.0,386.0,0.49,23.0,0.0],[4.0,125.0,77.0,27.0,23.0,1.38,39.0,0.0],[0.0,136.0,57.0,21.0,293.0,1.32,20.0,0.0],[2.0,103.0,75.0,1.0,0.0,-0.01,33.0,0.0],[11.0,91.0,73.0,18.0,0.0,0.41,55.0,0.0],[3.0,108.0,60.0,46.0,179.0,0.12,23.0,0.0],[4.0,82.0,86.0,21.0,0.0,1.28,34.0,0.0],[0.0,113.0,65.0,36.0,200.0,-0.74,21.0,0.0],[5.0,117.0,87.0,31.0,105.0,1.47,42.0,0.0],[2.0,109.0,91.0,1.0,1.0,-0.07,44.0,0.0],[2.0,111.0,78.0,40.0,1.0,0.85,39.0,0.0],[2.0,117.0,79.0,29.0,182.0,1.6,24.0,0.0],[0.0,143.0,85.0,26.0,1.0,0.82,22.0,0.0],[0.0,175.0,88.0,0.0,0.0,1.01,22.0,0.0],[0.0,91.0,52.0,2.0,0.0,-0.21,21.0,0.0],[3.0,106.0,57.0,26.0,167.0,2.03,23.0,0.0],[3.0,106.0,75.0,2.0,0.0,0.66,53.0,0.0],[4.0,96.0,63.0,33.0,0.0,2.19,28.0,0.0],[0.0,126.0,89.0,27.0,120.0,1.47,20.0,0.0],[7.0,65.0,73.0,24.0,2.0,-0.01,44.0,0.0],[2.0,100.0,61.0,17.0,161.0,1.38,20.0,0.0],[2.0,103.0,44.0,20.0,95.0,-1.91,26.0,0.0],[0.0,110.0,58.0,21.0,118.0,-0.1,23.0,0.0],[11.0,152.0,88.0,37.0,141.0,0.42,39.0,0.0],[12.0,101.0,86.0,35.0,104.0,0.85,45.0,0.0],[1.0,82.0,74.0,41.0,59.0,1.75,32.0,0.0],[1.0,122.0,80.0,39.0,76.0,-0.92,29.0,0.0],[0.0,108.0,63.0,23.0,0.0,-1.43,24.0,0.0],[6.0,136.0,90.0,42.0,0.0,0.79,38.0,0.0],[1.0,107.0,76.0,0.0,0.0,0.87,26.0,0.0],[1.0,89.0,58.0,25.0,17.0,1.47,20.0,0.0],[11.0,90.0,62.0,0.0,1.0,0.14,32.0,0.0],[9.0,102.0,77.0,51.0,181.0,1.11,60.0,0.0],[1.0,121.0,69.0,25.0,0.0,0.53,25.0,0.0],[5.0,121.0,72.0,23.0,113.0,-0.14,30.0,0.0],[1.0,93.0,70.0,32.0,0.0,1.8,24.0,0.0]],\"hovertemplate\":\"Outcome=%{customdata[7]}\\u003cbr\\u003eBMI=%{x}\\u003cbr\\u003ePregnancies=%{customdata[0]}\\u003cbr\\u003eGlucose=%{customdata[1]}\\u003cbr\\u003eBloodPressure=%{customdata[2]}\\u003cbr\\u003eSkinThickness=%{customdata[3]}\\u003cbr\\u003eInsulin=%{customdata[4]}\\u003cbr\\u003eDiabetesPedigreeFunction=%{customdata[5]}\\u003cbr\\u003eAge=%{customdata[6]}\\u003cextra\\u003e\\u003c\\u002fextra\\u003e\",\"legendgroup\":\"0\",\"marker\":{\"color\":\"#ab63fa\"},\"name\":\"0\",\"offsetgroup\":\"0\",\"scalegroup\":\"x\",\"showlegend\":false,\"x\":[24.9,26.4,25.6,35.6,36.9,26.0,43.1,38.9,37.2,22.3,21.1,35.2,36.5,24.5,18.7,28.1,24.1,33.3,35.6,41.8,22.7,27.0,30.2,26.5,0.0,18.5,24.4,24.5,34.1,23.1,47.3,43.4,40.4,0.0,24.9,25.9,29.4,44.1,20.3,29.9,27.8,35.4,32.9,24.9,32.1,36.2,23.9,20.7,0.9,29.5,25.9,31.3,35.9,37.8,26.4,19.7,30.9,46.3,24.2,33.6,31.5,21.6,28.9,26.0,22.7,28.1,38.7,28.7,21.9,29.7,34.9,30.9,33.7,33.4,27.1,21.2,33.7,34.2,27.7,41.1,33.5,39.0,22.8,34.4,30.7,28.6,29.2,36.5,21.6,39.5,33.0,32.2,0.0,33.4,30.1,32.3,25.5,36.6,21.7,40.8,24.1,23.9,28.7,29.8,37.9,43.6,30.6,33.5,30.0,31.8,28.5,29.6,44.9,30.2,30.8,43.9,25.1,32.7,27.8,27.1,26.7,22.0,32.3,24.0,25.1,32.1,40.6,26.7,19.0,36.7,23.2,33.7,27.6,40.5,34.2,30.4,25.6,30.0,22.3,34.8,36.3,35.1,45.6,23.7,35.1,29.5,16.9,29.6,32.3,36.1,31.7,51.8,34.5,30.8,31.0,28.4,23.1,35.1,28.9,28.1,25.3,30.6,33.6,29.7,33.5,40.3,23.9,24.7,23.0,34.9,32.8,39.1,27.3,25.0,26.4,35.2,33.0,27.4,37.5,19.3,35.1,35.7,22.2,34.5,32.2,24.2,36.0,23.4,40.5,23.9,26.5,40.7,28.9,34.5,19.4,37.5,27.5,35.1,25.3,34.9,31.1,22.2,31.8,22.8,23.8,47.7,35.3,25.9,27.8,31.7,36.1,35.8,38.1,27.5,20.8,23.0,41.1,30.6,35.8,26.1,41.9,35.0,28.0,39.6,34.8,34.6,22.0,26.9,0.2,37.0,34.7,35.6,25.0,38.2,43.0,32.1,19.6,25.3,23.4,23.0,23.2,30.7,32.4,24.5,20.8,27.5,25.2,21.3,22.1,32.9,42.0,22.3,36.1,34.3,41.4,25.3,27.2,18.2,45.0,27.5,41.6,31.7,0.0,41.0,23.5,30.0,29.5,27.2,23.2,36.6,29.6,18.3,37.3,33.5,34.4,25.9,36.2,29.6,19.0,40.6,21.1,38.3,24.9,30.5,24.6,21.2,20.0,34.2,28.4,22.6,22.4,29.2,37.6,45.6,40.5,31.5,38.1,28.4,29.7,26.9,23.7,26.1,27.1,35.6,27.7,38.5,38.6,46.5,24.7,26.5,36.5,33.7,32.2,0.5,26.7,26.2,31.0,27.8,24.4,35.4,33.5,37.8,34.2,30.7,30.0,24.9,22.4,25.1,26.3,24.0,37.9,32.8,20.7,24.0,32.3,0.0,32.7,22.2,17.8,25.6,32.5,23.8,30.1,45.7,41.9,29.3,35.8,29.0,21.3,35.6,39.7,33.1,33.4,32.8,28.6,26.3,31.6,30.2,29.4,37.7,25.5,37.2,27.3,45.7,30.7,38.4,25.9,32.4,26.2,37.9,31.9,31.9,31.4,22.2,28.7,34.7,28.7,35.2,24.0,26.4,25.5,27.2,39.4,22.6,22.1,21.8,40.0,28.2,32.7,45.2,28.4,22.9,26.1,22.4,27.9,36.7,19.6,44.0,22.9,30.8,32.8,27.8,27.5,20.8,39.8,21.0,42.2,43.3,30.9,36.7,23.8,32.3,31.9,24.4,36.1,26.8,28.4,26.7,28.0,32.1,19.8,28.0,35.8,30.2,27.2,38.6,26.7,25.8,34.9,33.7,26.7,33.9,23.9,39.3,39.3,27.1,35.7,34.4,31.0,34.5,25.3,37.1,58.0,34.4,32.6,25.2,23.3,45.8,0.3,33.9,22.5,26.8,25.1,24.3,38.5,23.0,24.6,34.4,43.2,34.6,39.3,28.1,40.1,34.4,30.9,31.1,26.8,28.2,23.1,34.1,29.1,38.0,38.1,33.4,39.5,35.7,31.9,20.5,31.3,29.6,22.8,34.7,27.3,32.7,37.6,31.0,27.7,40.3,30.4,46.0,39.1,26.1,31.5,37.0,26.6,22.8,33.2,37.8,26.3,30.8],\"xaxis\":\"x2\",\"yaxis\":\"y2\",\"type\":\"violin\"}],                        {\"template\":{\"data\":{\"barpolar\":[{\"marker\":{\"line\":{\"color\":\"rgb(17,17,17)\",\"width\":0.5},\"pattern\":{\"fillmode\":\"overlay\",\"size\":10,\"solidity\":0.2}},\"type\":\"barpolar\"}],\"bar\":[{\"error_x\":{\"color\":\"#f2f5fa\"},\"error_y\":{\"color\":\"#f2f5fa\"},\"marker\":{\"line\":{\"color\":\"rgb(17,17,17)\",\"width\":0.5},\"pattern\":{\"fillmode\":\"overlay\",\"size\":10,\"solidity\":0.2}},\"type\":\"bar\"}],\"carpet\":[{\"aaxis\":{\"endlinecolor\":\"#A2B1C6\",\"gridcolor\":\"#506784\",\"linecolor\":\"#506784\",\"minorgridcolor\":\"#506784\",\"startlinecolor\":\"#A2B1C6\"},\"baxis\":{\"endlinecolor\":\"#A2B1C6\",\"gridcolor\":\"#506784\",\"linecolor\":\"#506784\",\"minorgridcolor\":\"#506784\",\"startlinecolor\":\"#A2B1C6\"},\"type\":\"carpet\"}],\"choropleth\":[{\"colorbar\":{\"outlinewidth\":0,\"ticks\":\"\"},\"type\":\"choropleth\"}],\"contourcarpet\":[{\"colorbar\":{\"outlinewidth\":0,\"ticks\":\"\"},\"type\":\"contourcarpet\"}],\"contour\":[{\"colorbar\":{\"outlinewidth\":0,\"ticks\":\"\"},\"colorscale\":[[0.0,\"#0d0887\"],[0.1111111111111111,\"#46039f\"],[0.2222222222222222,\"#7201a8\"],[0.3333333333333333,\"#9c179e\"],[0.4444444444444444,\"#bd3786\"],[0.5555555555555556,\"#d8576b\"],[0.6666666666666666,\"#ed7953\"],[0.7777777777777778,\"#fb9f3a\"],[0.8888888888888888,\"#fdca26\"],[1.0,\"#f0f921\"]],\"type\":\"contour\"}],\"heatmapgl\":[{\"colorbar\":{\"outlinewidth\":0,\"ticks\":\"\"},\"colorscale\":[[0.0,\"#0d0887\"],[0.1111111111111111,\"#46039f\"],[0.2222222222222222,\"#7201a8\"],[0.3333333333333333,\"#9c179e\"],[0.4444444444444444,\"#bd3786\"],[0.5555555555555556,\"#d8576b\"],[0.6666666666666666,\"#ed7953\"],[0.7777777777777778,\"#fb9f3a\"],[0.8888888888888888,\"#fdca26\"],[1.0,\"#f0f921\"]],\"type\":\"heatmapgl\"}],\"heatmap\":[{\"colorbar\":{\"outlinewidth\":0,\"ticks\":\"\"},\"colorscale\":[[0.0,\"#0d0887\"],[0.1111111111111111,\"#46039f\"],[0.2222222222222222,\"#7201a8\"],[0.3333333333333333,\"#9c179e\"],[0.4444444444444444,\"#bd3786\"],[0.5555555555555556,\"#d8576b\"],[0.6666666666666666,\"#ed7953\"],[0.7777777777777778,\"#fb9f3a\"],[0.8888888888888888,\"#fdca26\"],[1.0,\"#f0f921\"]],\"type\":\"heatmap\"}],\"histogram2dcontour\":[{\"colorbar\":{\"outlinewidth\":0,\"ticks\":\"\"},\"colorscale\":[[0.0,\"#0d0887\"],[0.1111111111111111,\"#46039f\"],[0.2222222222222222,\"#7201a8\"],[0.3333333333333333,\"#9c179e\"],[0.4444444444444444,\"#bd3786\"],[0.5555555555555556,\"#d8576b\"],[0.6666666666666666,\"#ed7953\"],[0.7777777777777778,\"#fb9f3a\"],[0.8888888888888888,\"#fdca26\"],[1.0,\"#f0f921\"]],\"type\":\"histogram2dcontour\"}],\"histogram2d\":[{\"colorbar\":{\"outlinewidth\":0,\"ticks\":\"\"},\"colorscale\":[[0.0,\"#0d0887\"],[0.1111111111111111,\"#46039f\"],[0.2222222222222222,\"#7201a8\"],[0.3333333333333333,\"#9c179e\"],[0.4444444444444444,\"#bd3786\"],[0.5555555555555556,\"#d8576b\"],[0.6666666666666666,\"#ed7953\"],[0.7777777777777778,\"#fb9f3a\"],[0.8888888888888888,\"#fdca26\"],[1.0,\"#f0f921\"]],\"type\":\"histogram2d\"}],\"histogram\":[{\"marker\":{\"pattern\":{\"fillmode\":\"overlay\",\"size\":10,\"solidity\":0.2}},\"type\":\"histogram\"}],\"mesh3d\":[{\"colorbar\":{\"outlinewidth\":0,\"ticks\":\"\"},\"type\":\"mesh3d\"}],\"parcoords\":[{\"line\":{\"colorbar\":{\"outlinewidth\":0,\"ticks\":\"\"}},\"type\":\"parcoords\"}],\"pie\":[{\"automargin\":true,\"type\":\"pie\"}],\"scatter3d\":[{\"line\":{\"colorbar\":{\"outlinewidth\":0,\"ticks\":\"\"}},\"marker\":{\"colorbar\":{\"outlinewidth\":0,\"ticks\":\"\"}},\"type\":\"scatter3d\"}],\"scattercarpet\":[{\"marker\":{\"colorbar\":{\"outlinewidth\":0,\"ticks\":\"\"}},\"type\":\"scattercarpet\"}],\"scattergeo\":[{\"marker\":{\"colorbar\":{\"outlinewidth\":0,\"ticks\":\"\"}},\"type\":\"scattergeo\"}],\"scattergl\":[{\"marker\":{\"line\":{\"color\":\"#283442\"}},\"type\":\"scattergl\"}],\"scattermapbox\":[{\"marker\":{\"colorbar\":{\"outlinewidth\":0,\"ticks\":\"\"}},\"type\":\"scattermapbox\"}],\"scatterpolargl\":[{\"marker\":{\"colorbar\":{\"outlinewidth\":0,\"ticks\":\"\"}},\"type\":\"scatterpolargl\"}],\"scatterpolar\":[{\"marker\":{\"colorbar\":{\"outlinewidth\":0,\"ticks\":\"\"}},\"type\":\"scatterpolar\"}],\"scatter\":[{\"marker\":{\"line\":{\"color\":\"#283442\"}},\"type\":\"scatter\"}],\"scatterternary\":[{\"marker\":{\"colorbar\":{\"outlinewidth\":0,\"ticks\":\"\"}},\"type\":\"scatterternary\"}],\"surface\":[{\"colorbar\":{\"outlinewidth\":0,\"ticks\":\"\"},\"colorscale\":[[0.0,\"#0d0887\"],[0.1111111111111111,\"#46039f\"],[0.2222222222222222,\"#7201a8\"],[0.3333333333333333,\"#9c179e\"],[0.4444444444444444,\"#bd3786\"],[0.5555555555555556,\"#d8576b\"],[0.6666666666666666,\"#ed7953\"],[0.7777777777777778,\"#fb9f3a\"],[0.8888888888888888,\"#fdca26\"],[1.0,\"#f0f921\"]],\"type\":\"surface\"}],\"table\":[{\"cells\":{\"fill\":{\"color\":\"#506784\"},\"line\":{\"color\":\"rgb(17,17,17)\"}},\"header\":{\"fill\":{\"color\":\"#2a3f5f\"},\"line\":{\"color\":\"rgb(17,17,17)\"}},\"type\":\"table\"}]},\"layout\":{\"annotationdefaults\":{\"arrowcolor\":\"#f2f5fa\",\"arrowhead\":0,\"arrowwidth\":1},\"autotypenumbers\":\"strict\",\"coloraxis\":{\"colorbar\":{\"outlinewidth\":0,\"ticks\":\"\"}},\"colorscale\":{\"diverging\":[[0,\"#8e0152\"],[0.1,\"#c51b7d\"],[0.2,\"#de77ae\"],[0.3,\"#f1b6da\"],[0.4,\"#fde0ef\"],[0.5,\"#f7f7f7\"],[0.6,\"#e6f5d0\"],[0.7,\"#b8e186\"],[0.8,\"#7fbc41\"],[0.9,\"#4d9221\"],[1,\"#276419\"]],\"sequential\":[[0.0,\"#0d0887\"],[0.1111111111111111,\"#46039f\"],[0.2222222222222222,\"#7201a8\"],[0.3333333333333333,\"#9c179e\"],[0.4444444444444444,\"#bd3786\"],[0.5555555555555556,\"#d8576b\"],[0.6666666666666666,\"#ed7953\"],[0.7777777777777778,\"#fb9f3a\"],[0.8888888888888888,\"#fdca26\"],[1.0,\"#f0f921\"]],\"sequentialminus\":[[0.0,\"#0d0887\"],[0.1111111111111111,\"#46039f\"],[0.2222222222222222,\"#7201a8\"],[0.3333333333333333,\"#9c179e\"],[0.4444444444444444,\"#bd3786\"],[0.5555555555555556,\"#d8576b\"],[0.6666666666666666,\"#ed7953\"],[0.7777777777777778,\"#fb9f3a\"],[0.8888888888888888,\"#fdca26\"],[1.0,\"#f0f921\"]]},\"colorway\":[\"#636efa\",\"#EF553B\",\"#00cc96\",\"#ab63fa\",\"#FFA15A\",\"#19d3f3\",\"#FF6692\",\"#B6E880\",\"#FF97FF\",\"#FECB52\"],\"font\":{\"color\":\"#f2f5fa\"},\"geo\":{\"bgcolor\":\"rgb(17,17,17)\",\"lakecolor\":\"rgb(17,17,17)\",\"landcolor\":\"rgb(17,17,17)\",\"showlakes\":true,\"showland\":true,\"subunitcolor\":\"#506784\"},\"hoverlabel\":{\"align\":\"left\"},\"hovermode\":\"closest\",\"mapbox\":{\"style\":\"dark\"},\"paper_bgcolor\":\"rgb(17,17,17)\",\"plot_bgcolor\":\"rgb(17,17,17)\",\"polar\":{\"angularaxis\":{\"gridcolor\":\"#506784\",\"linecolor\":\"#506784\",\"ticks\":\"\"},\"bgcolor\":\"rgb(17,17,17)\",\"radialaxis\":{\"gridcolor\":\"#506784\",\"linecolor\":\"#506784\",\"ticks\":\"\"}},\"scene\":{\"xaxis\":{\"backgroundcolor\":\"rgb(17,17,17)\",\"gridcolor\":\"#506784\",\"gridwidth\":2,\"linecolor\":\"#506784\",\"showbackground\":true,\"ticks\":\"\",\"zerolinecolor\":\"#C8D4E3\"},\"yaxis\":{\"backgroundcolor\":\"rgb(17,17,17)\",\"gridcolor\":\"#506784\",\"gridwidth\":2,\"linecolor\":\"#506784\",\"showbackground\":true,\"ticks\":\"\",\"zerolinecolor\":\"#C8D4E3\"},\"zaxis\":{\"backgroundcolor\":\"rgb(17,17,17)\",\"gridcolor\":\"#506784\",\"gridwidth\":2,\"linecolor\":\"#506784\",\"showbackground\":true,\"ticks\":\"\",\"zerolinecolor\":\"#C8D4E3\"}},\"shapedefaults\":{\"line\":{\"color\":\"#f2f5fa\"}},\"sliderdefaults\":{\"bgcolor\":\"#C8D4E3\",\"bordercolor\":\"rgb(17,17,17)\",\"borderwidth\":1,\"tickwidth\":0},\"ternary\":{\"aaxis\":{\"gridcolor\":\"#506784\",\"linecolor\":\"#506784\",\"ticks\":\"\"},\"baxis\":{\"gridcolor\":\"#506784\",\"linecolor\":\"#506784\",\"ticks\":\"\"},\"bgcolor\":\"rgb(17,17,17)\",\"caxis\":{\"gridcolor\":\"#506784\",\"linecolor\":\"#506784\",\"ticks\":\"\"}},\"title\":{\"x\":0.05},\"updatemenudefaults\":{\"bgcolor\":\"#506784\",\"borderwidth\":0},\"xaxis\":{\"automargin\":true,\"gridcolor\":\"#283442\",\"linecolor\":\"#506784\",\"ticks\":\"\",\"title\":{\"standoff\":15},\"zerolinecolor\":\"#283442\",\"zerolinewidth\":2},\"yaxis\":{\"automargin\":true,\"gridcolor\":\"#283442\",\"linecolor\":\"#506784\",\"ticks\":\"\",\"title\":{\"standoff\":15},\"zerolinecolor\":\"#283442\",\"zerolinewidth\":2}}},\"xaxis\":{\"anchor\":\"y\",\"domain\":[0.0,1.0],\"title\":{\"text\":\"BMI\"}},\"yaxis\":{\"anchor\":\"x\",\"domain\":[0.0,0.7326],\"title\":{\"text\":\"count\"}},\"xaxis2\":{\"anchor\":\"y2\",\"domain\":[0.0,1.0],\"matches\":\"x\",\"showticklabels\":false,\"showgrid\":true},\"yaxis2\":{\"anchor\":\"x2\",\"domain\":[0.7426,1.0],\"matches\":\"y2\",\"showticklabels\":false,\"showline\":false,\"ticks\":\"\",\"showgrid\":false},\"legend\":{\"title\":{\"text\":\"Outcome\"},\"tracegroupgap\":0},\"title\":{\"text\":\"Distribution of CREATININE BMI Vs Outcome\"},\"barmode\":\"relative\"},                        {\"responsive\": true}                    ).then(function(){\n",
              "                            \n",
              "var gd = document.getElementById('0089c138-e931-4a9d-8f20-27c4956ef4cb');\n",
              "var x = new MutationObserver(function (mutations, observer) {{\n",
              "        var display = window.getComputedStyle(gd).display;\n",
              "        if (!display || display === 'none') {{\n",
              "            console.log([gd, 'removed!']);\n",
              "            Plotly.purge(gd);\n",
              "            observer.disconnect();\n",
              "        }}\n",
              "}});\n",
              "\n",
              "// Listen for the removal of the full notebook cells\n",
              "var notebookContainer = gd.closest('#notebook-container');\n",
              "if (notebookContainer) {{\n",
              "    x.observe(notebookContainer, {childList: true});\n",
              "}}\n",
              "\n",
              "// Listen for the clearing of the current output cell\n",
              "var outputEl = gd.closest('.output');\n",
              "if (outputEl) {{\n",
              "    x.observe(outputEl, {childList: true});\n",
              "}}\n",
              "\n",
              "                        })                };                            </script>        </div>\n",
              "</body>\n",
              "</html>"
            ]
          },
          "metadata": {}
        }
      ]
    },
    {
      "cell_type": "markdown",
      "source": [
        "Cuối cùng, khi xem xét chỉ số BMI, biểu đồ cho thấy chỉ số này có ảnh hưởng lớn đến khả năng mắc bệnh. Đặc biệt, những người có BMI từ 30 đến 40 chiếm tỷ lệ cao trong nhóm mắc bệnh tiểu đường, nhấn mạnh mối quan hệ giữa cân nặng và nguy cơ phát triển bệnh tiểu đường."
      ],
      "metadata": {
        "id": "D_cuuNKz2-lw"
      }
    }
  ]
}
